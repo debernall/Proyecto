{
 "cells": [
  {
   "cell_type": "code",
   "execution_count": 1,
   "metadata": {
    "id": "4eju-gEvhbH6"
   },
   "outputs": [],
   "source": [
    "import pandas as pd\n",
    "import numpy as np\n",
    "import matplotlib.pyplot as plt\n",
    "import seaborn as sns\n",
    "import plotly.express as px\n",
    "import plotly.graph_objects as go\n",
    "from plotly.subplots import make_subplots"
   ]
  },
  {
   "cell_type": "code",
   "execution_count": 2,
   "metadata": {
    "colab": {
     "base_uri": "https://localhost:8080/",
     "height": 423
    },
    "id": "3a3PjHehlD7q",
    "outputId": "17e74193-f36c-40ff-ef08-cf43fd0e9d7f"
   },
   "outputs": [
    {
     "data": {
      "text/html": [
       "<div>\n",
       "<style scoped>\n",
       "    .dataframe tbody tr th:only-of-type {\n",
       "        vertical-align: middle;\n",
       "    }\n",
       "\n",
       "    .dataframe tbody tr th {\n",
       "        vertical-align: top;\n",
       "    }\n",
       "\n",
       "    .dataframe thead th {\n",
       "        text-align: right;\n",
       "    }\n",
       "</style>\n",
       "<table border=\"1\" class=\"dataframe\">\n",
       "  <thead>\n",
       "    <tr style=\"text-align: right;\">\n",
       "      <th></th>\n",
       "      <th>CodSta</th>\n",
       "      <th>Date</th>\n",
       "      <th>Pressure</th>\n",
       "      <th>Sta</th>\n",
       "      <th>Dept</th>\n",
       "      <th>City</th>\n",
       "      <th>Lat</th>\n",
       "      <th>Long</th>\n",
       "    </tr>\n",
       "  </thead>\n",
       "  <tbody>\n",
       "    <tr>\n",
       "      <th>0</th>\n",
       "      <td>36015020</td>\n",
       "      <td>2017-10-03 06:00:00</td>\n",
       "      <td>992.500000</td>\n",
       "      <td>275</td>\n",
       "      <td>CASANARE</td>\n",
       "      <td>PAZ DE ARIPORO</td>\n",
       "      <td>5.816</td>\n",
       "      <td>-71.420</td>\n",
       "    </tr>\n",
       "    <tr>\n",
       "      <th>1</th>\n",
       "      <td>21195190</td>\n",
       "      <td>2014-02-14 05:00:00</td>\n",
       "      <td>785.200012</td>\n",
       "      <td>74</td>\n",
       "      <td>CUNDINAMARCA</td>\n",
       "      <td>PASCA</td>\n",
       "      <td>4.310</td>\n",
       "      <td>-74.312</td>\n",
       "    </tr>\n",
       "    <tr>\n",
       "      <th>2</th>\n",
       "      <td>21015050</td>\n",
       "      <td>2013-09-27 18:00:00</td>\n",
       "      <td>805.299988</td>\n",
       "      <td>48</td>\n",
       "      <td>HUILA</td>\n",
       "      <td>SAN AGUSTÍN</td>\n",
       "      <td>1.926</td>\n",
       "      <td>-76.428</td>\n",
       "    </tr>\n",
       "    <tr>\n",
       "      <th>3</th>\n",
       "      <td>21115010</td>\n",
       "      <td>2005-11-28 10:00:00</td>\n",
       "      <td>958.500000</td>\n",
       "      <td>62</td>\n",
       "      <td>HUILA</td>\n",
       "      <td>VILLAVIEJA</td>\n",
       "      <td>3.234</td>\n",
       "      <td>-75.168</td>\n",
       "    </tr>\n",
       "    <tr>\n",
       "      <th>4</th>\n",
       "      <td>28035060</td>\n",
       "      <td>2008-04-08 04:00:00</td>\n",
       "      <td>988.700012</td>\n",
       "      <td>230</td>\n",
       "      <td>CESAR</td>\n",
       "      <td>VALLEDUPAR</td>\n",
       "      <td>10.464</td>\n",
       "      <td>-73.248</td>\n",
       "    </tr>\n",
       "    <tr>\n",
       "      <th>...</th>\n",
       "      <td>...</td>\n",
       "      <td>...</td>\n",
       "      <td>...</td>\n",
       "      <td>...</td>\n",
       "      <td>...</td>\n",
       "      <td>...</td>\n",
       "      <td>...</td>\n",
       "      <td>...</td>\n",
       "    </tr>\n",
       "    <tr>\n",
       "      <th>22611003</th>\n",
       "      <td>48015050</td>\n",
       "      <td>2024-10-16 23:04:00</td>\n",
       "      <td>1000.500000</td>\n",
       "      <td>290</td>\n",
       "      <td>AMAZONAS</td>\n",
       "      <td>LETICIA</td>\n",
       "      <td>-4.194</td>\n",
       "      <td>-69.941</td>\n",
       "    </tr>\n",
       "    <tr>\n",
       "      <th>22611004</th>\n",
       "      <td>48015050</td>\n",
       "      <td>2024-10-16 09:08:00</td>\n",
       "      <td>1004.099976</td>\n",
       "      <td>290</td>\n",
       "      <td>AMAZONAS</td>\n",
       "      <td>LETICIA</td>\n",
       "      <td>-4.194</td>\n",
       "      <td>-69.941</td>\n",
       "    </tr>\n",
       "    <tr>\n",
       "      <th>22611005</th>\n",
       "      <td>16015501</td>\n",
       "      <td>2024-10-16 19:02:00</td>\n",
       "      <td>972.900024</td>\n",
       "      <td>37</td>\n",
       "      <td>NORTE DE SANTANDER</td>\n",
       "      <td>CÚCUTA</td>\n",
       "      <td>7.931</td>\n",
       "      <td>-72.510</td>\n",
       "    </tr>\n",
       "    <tr>\n",
       "      <th>22611006</th>\n",
       "      <td>48015040</td>\n",
       "      <td>2024-10-16 22:40:00</td>\n",
       "      <td>997.400024</td>\n",
       "      <td>289</td>\n",
       "      <td>AMAZONAS</td>\n",
       "      <td>PUERTO NARIÑO</td>\n",
       "      <td>-3.780</td>\n",
       "      <td>-70.363</td>\n",
       "    </tr>\n",
       "    <tr>\n",
       "      <th>22611007</th>\n",
       "      <td>11175000</td>\n",
       "      <td>2024-10-16 14:00:00</td>\n",
       "      <td>1006.000000</td>\n",
       "      <td>10</td>\n",
       "      <td>CHOCÓ</td>\n",
       "      <td>EL ATRATO</td>\n",
       "      <td>5.529</td>\n",
       "      <td>-76.634</td>\n",
       "    </tr>\n",
       "  </tbody>\n",
       "</table>\n",
       "<p>22611008 rows × 8 columns</p>\n",
       "</div>"
      ],
      "text/plain": [
       "            CodSta                Date     Pressure  Sta                Dept  \\\n",
       "0         36015020 2017-10-03 06:00:00   992.500000  275            CASANARE   \n",
       "1         21195190 2014-02-14 05:00:00   785.200012   74        CUNDINAMARCA   \n",
       "2         21015050 2013-09-27 18:00:00   805.299988   48               HUILA   \n",
       "3         21115010 2005-11-28 10:00:00   958.500000   62               HUILA   \n",
       "4         28035060 2008-04-08 04:00:00   988.700012  230               CESAR   \n",
       "...            ...                 ...          ...  ...                 ...   \n",
       "22611003  48015050 2024-10-16 23:04:00  1000.500000  290            AMAZONAS   \n",
       "22611004  48015050 2024-10-16 09:08:00  1004.099976  290            AMAZONAS   \n",
       "22611005  16015501 2024-10-16 19:02:00   972.900024   37  NORTE DE SANTANDER   \n",
       "22611006  48015040 2024-10-16 22:40:00   997.400024  289            AMAZONAS   \n",
       "22611007  11175000 2024-10-16 14:00:00  1006.000000   10               CHOCÓ   \n",
       "\n",
       "                    City     Lat    Long  \n",
       "0         PAZ DE ARIPORO   5.816 -71.420  \n",
       "1                  PASCA   4.310 -74.312  \n",
       "2            SAN AGUSTÍN   1.926 -76.428  \n",
       "3             VILLAVIEJA   3.234 -75.168  \n",
       "4             VALLEDUPAR  10.464 -73.248  \n",
       "...                  ...     ...     ...  \n",
       "22611003         LETICIA  -4.194 -69.941  \n",
       "22611004         LETICIA  -4.194 -69.941  \n",
       "22611005          CÚCUTA   7.931 -72.510  \n",
       "22611006   PUERTO NARIÑO  -3.780 -70.363  \n",
       "22611007       EL ATRATO   5.529 -76.634  \n",
       "\n",
       "[22611008 rows x 8 columns]"
      ]
     },
     "execution_count": 2,
     "metadata": {},
     "output_type": "execute_result"
    }
   ],
   "source": [
    "df = pd.read_parquet('../pressure.parquet')\n",
    "df"
   ]
  },
  {
   "cell_type": "code",
   "execution_count": 3,
   "metadata": {},
   "outputs": [
    {
     "data": {
      "text/html": [
       "<div>\n",
       "<style scoped>\n",
       "    .dataframe tbody tr th:only-of-type {\n",
       "        vertical-align: middle;\n",
       "    }\n",
       "\n",
       "    .dataframe tbody tr th {\n",
       "        vertical-align: top;\n",
       "    }\n",
       "\n",
       "    .dataframe thead th {\n",
       "        text-align: right;\n",
       "    }\n",
       "</style>\n",
       "<table border=\"1\" class=\"dataframe\">\n",
       "  <thead>\n",
       "    <tr style=\"text-align: right;\">\n",
       "      <th></th>\n",
       "      <th>CodSta</th>\n",
       "      <th>Date</th>\n",
       "      <th>Pressure</th>\n",
       "      <th>Sta</th>\n",
       "      <th>Dept</th>\n",
       "      <th>City</th>\n",
       "      <th>Lat</th>\n",
       "      <th>Long</th>\n",
       "    </tr>\n",
       "  </thead>\n",
       "  <tbody>\n",
       "    <tr>\n",
       "      <th>0</th>\n",
       "      <td>36015020</td>\n",
       "      <td>2017-10-03 06:00:00</td>\n",
       "      <td>992.500000</td>\n",
       "      <td>275</td>\n",
       "      <td>CASANARE</td>\n",
       "      <td>PAZ DE ARIPORO</td>\n",
       "      <td>5.816</td>\n",
       "      <td>-71.420</td>\n",
       "    </tr>\n",
       "    <tr>\n",
       "      <th>1</th>\n",
       "      <td>21195190</td>\n",
       "      <td>2014-02-14 05:00:00</td>\n",
       "      <td>785.200012</td>\n",
       "      <td>74</td>\n",
       "      <td>CUNDINAMARCA</td>\n",
       "      <td>PASCA</td>\n",
       "      <td>4.310</td>\n",
       "      <td>-74.312</td>\n",
       "    </tr>\n",
       "    <tr>\n",
       "      <th>2</th>\n",
       "      <td>21015050</td>\n",
       "      <td>2013-09-27 18:00:00</td>\n",
       "      <td>805.299988</td>\n",
       "      <td>48</td>\n",
       "      <td>HUILA</td>\n",
       "      <td>SAN AGUSTÍN</td>\n",
       "      <td>1.926</td>\n",
       "      <td>-76.428</td>\n",
       "    </tr>\n",
       "    <tr>\n",
       "      <th>3</th>\n",
       "      <td>21115010</td>\n",
       "      <td>2005-11-28 10:00:00</td>\n",
       "      <td>958.500000</td>\n",
       "      <td>62</td>\n",
       "      <td>HUILA</td>\n",
       "      <td>VILLAVIEJA</td>\n",
       "      <td>3.234</td>\n",
       "      <td>-75.168</td>\n",
       "    </tr>\n",
       "    <tr>\n",
       "      <th>4</th>\n",
       "      <td>28035060</td>\n",
       "      <td>2008-04-08 04:00:00</td>\n",
       "      <td>988.700012</td>\n",
       "      <td>230</td>\n",
       "      <td>CESAR</td>\n",
       "      <td>VALLEDUPAR</td>\n",
       "      <td>10.464</td>\n",
       "      <td>-73.248</td>\n",
       "    </tr>\n",
       "    <tr>\n",
       "      <th>...</th>\n",
       "      <td>...</td>\n",
       "      <td>...</td>\n",
       "      <td>...</td>\n",
       "      <td>...</td>\n",
       "      <td>...</td>\n",
       "      <td>...</td>\n",
       "      <td>...</td>\n",
       "      <td>...</td>\n",
       "    </tr>\n",
       "    <tr>\n",
       "      <th>22611003</th>\n",
       "      <td>48015050</td>\n",
       "      <td>2024-10-16 23:04:00</td>\n",
       "      <td>1000.500000</td>\n",
       "      <td>290</td>\n",
       "      <td>AMAZONAS</td>\n",
       "      <td>LETICIA</td>\n",
       "      <td>-4.194</td>\n",
       "      <td>-69.941</td>\n",
       "    </tr>\n",
       "    <tr>\n",
       "      <th>22611004</th>\n",
       "      <td>48015050</td>\n",
       "      <td>2024-10-16 09:08:00</td>\n",
       "      <td>1004.099976</td>\n",
       "      <td>290</td>\n",
       "      <td>AMAZONAS</td>\n",
       "      <td>LETICIA</td>\n",
       "      <td>-4.194</td>\n",
       "      <td>-69.941</td>\n",
       "    </tr>\n",
       "    <tr>\n",
       "      <th>22611005</th>\n",
       "      <td>16015501</td>\n",
       "      <td>2024-10-16 19:02:00</td>\n",
       "      <td>972.900024</td>\n",
       "      <td>37</td>\n",
       "      <td>NORTE DE SANTANDER</td>\n",
       "      <td>CÚCUTA</td>\n",
       "      <td>7.931</td>\n",
       "      <td>-72.510</td>\n",
       "    </tr>\n",
       "    <tr>\n",
       "      <th>22611006</th>\n",
       "      <td>48015040</td>\n",
       "      <td>2024-10-16 22:40:00</td>\n",
       "      <td>997.400024</td>\n",
       "      <td>289</td>\n",
       "      <td>AMAZONAS</td>\n",
       "      <td>PUERTO NARIÑO</td>\n",
       "      <td>-3.780</td>\n",
       "      <td>-70.363</td>\n",
       "    </tr>\n",
       "    <tr>\n",
       "      <th>22611007</th>\n",
       "      <td>11175000</td>\n",
       "      <td>2024-10-16 14:00:00</td>\n",
       "      <td>1006.000000</td>\n",
       "      <td>10</td>\n",
       "      <td>CHOCÓ</td>\n",
       "      <td>EL ATRATO</td>\n",
       "      <td>5.529</td>\n",
       "      <td>-76.634</td>\n",
       "    </tr>\n",
       "  </tbody>\n",
       "</table>\n",
       "<p>22611008 rows × 8 columns</p>\n",
       "</div>"
      ],
      "text/plain": [
       "            CodSta                Date     Pressure  Sta                Dept  \\\n",
       "0         36015020 2017-10-03 06:00:00   992.500000  275            CASANARE   \n",
       "1         21195190 2014-02-14 05:00:00   785.200012   74        CUNDINAMARCA   \n",
       "2         21015050 2013-09-27 18:00:00   805.299988   48               HUILA   \n",
       "3         21115010 2005-11-28 10:00:00   958.500000   62               HUILA   \n",
       "4         28035060 2008-04-08 04:00:00   988.700012  230               CESAR   \n",
       "...            ...                 ...          ...  ...                 ...   \n",
       "22611003  48015050 2024-10-16 23:04:00  1000.500000  290            AMAZONAS   \n",
       "22611004  48015050 2024-10-16 09:08:00  1004.099976  290            AMAZONAS   \n",
       "22611005  16015501 2024-10-16 19:02:00   972.900024   37  NORTE DE SANTANDER   \n",
       "22611006  48015040 2024-10-16 22:40:00   997.400024  289            AMAZONAS   \n",
       "22611007  11175000 2024-10-16 14:00:00  1006.000000   10               CHOCÓ   \n",
       "\n",
       "                    City     Lat    Long  \n",
       "0         PAZ DE ARIPORO   5.816 -71.420  \n",
       "1                  PASCA   4.310 -74.312  \n",
       "2            SAN AGUSTÍN   1.926 -76.428  \n",
       "3             VILLAVIEJA   3.234 -75.168  \n",
       "4             VALLEDUPAR  10.464 -73.248  \n",
       "...                  ...     ...     ...  \n",
       "22611003         LETICIA  -4.194 -69.941  \n",
       "22611004         LETICIA  -4.194 -69.941  \n",
       "22611005          CÚCUTA   7.931 -72.510  \n",
       "22611006   PUERTO NARIÑO  -3.780 -70.363  \n",
       "22611007       EL ATRATO   5.529 -76.634  \n",
       "\n",
       "[22611008 rows x 8 columns]"
      ]
     },
     "execution_count": 3,
     "metadata": {},
     "output_type": "execute_result"
    }
   ],
   "source": [
    "df['Date'] = pd.to_datetime(df['Date'],format='%m/%d/%Y %I:%M:%S %p')\n",
    "df"
   ]
  },
  {
   "cell_type": "code",
   "execution_count": null,
   "metadata": {
    "colab": {
     "base_uri": "https://localhost:8080/"
    },
    "id": "24OQVmrPlTNr",
    "outputId": "3c7d5804-6f4e-4b41-ffae-5161954284fb"
   },
   "outputs": [],
   "source": [
    "df.info()"
   ]
  },
  {
   "cell_type": "code",
   "execution_count": null,
   "metadata": {
    "colab": {
     "base_uri": "https://localhost:8080/",
     "height": 300
    },
    "id": "kAFsUxhLlWNv",
    "outputId": "d719c463-23e2-4f46-bf2f-be9f823e4155"
   },
   "outputs": [],
   "source": [
    "df.describe()"
   ]
  },
  {
   "cell_type": "code",
   "execution_count": null,
   "metadata": {
    "colab": {
     "base_uri": "https://localhost:8080/",
     "height": 335
    },
    "id": "wAVCnJEqlrKB",
    "outputId": "5f67930f-74d4-4087-ae0b-90865a656554"
   },
   "outputs": [],
   "source": [
    "df.isna().sum()"
   ]
  },
  {
   "cell_type": "code",
   "execution_count": null,
   "metadata": {
    "colab": {
     "base_uri": "https://localhost:8080/",
     "height": 335
    },
    "id": "rqkBEpkSlsP8",
    "outputId": "13f14a5d-afe5-40ce-9b4f-292b66fa50b6"
   },
   "outputs": [],
   "source": [
    "df.nunique()"
   ]
  },
  {
   "cell_type": "code",
   "execution_count": null,
   "metadata": {
    "colab": {
     "base_uri": "https://localhost:8080/"
    },
    "id": "MSWmOBk3mA-N",
    "outputId": "e5368257-fa78-455a-c009-1574a797f1c2"
   },
   "outputs": [],
   "source": [
    "df.duplicated().sum()"
   ]
  },
  {
   "cell_type": "code",
   "execution_count": null,
   "metadata": {
    "colab": {
     "base_uri": "https://localhost:8080/",
     "height": 423
    },
    "id": "iBTljDu9peQZ",
    "outputId": "9168fd32-0660-41b5-f0db-9c80dd2889d6"
   },
   "outputs": [],
   "source": [
    "duplicados = df[df.duplicated()].sort_values(by='Date', ascending=True).reset_index(drop=True)\n",
    "duplicados"
   ]
  },
  {
   "cell_type": "code",
   "execution_count": 4,
   "metadata": {
    "colab": {
     "base_uri": "https://localhost:8080/",
     "height": 423
    },
    "id": "qSwE6WjCKmJc",
    "outputId": "38451429-b1aa-4261-aefb-fa9d398982e4"
   },
   "outputs": [
    {
     "data": {
      "text/html": [
       "<div>\n",
       "<style scoped>\n",
       "    .dataframe tbody tr th:only-of-type {\n",
       "        vertical-align: middle;\n",
       "    }\n",
       "\n",
       "    .dataframe tbody tr th {\n",
       "        vertical-align: top;\n",
       "    }\n",
       "\n",
       "    .dataframe thead th {\n",
       "        text-align: right;\n",
       "    }\n",
       "</style>\n",
       "<table border=\"1\" class=\"dataframe\">\n",
       "  <thead>\n",
       "    <tr style=\"text-align: right;\">\n",
       "      <th></th>\n",
       "      <th>CodSta</th>\n",
       "      <th>Date</th>\n",
       "      <th>Pressure</th>\n",
       "      <th>Sta</th>\n",
       "      <th>Dept</th>\n",
       "      <th>City</th>\n",
       "      <th>Lat</th>\n",
       "      <th>Long</th>\n",
       "    </tr>\n",
       "  </thead>\n",
       "  <tbody>\n",
       "    <tr>\n",
       "      <th>0</th>\n",
       "      <td>57015010</td>\n",
       "      <td>2001-03-15 23:29:00</td>\n",
       "      <td>1131.900024</td>\n",
       "      <td>323</td>\n",
       "      <td>VALLE DEL CAUCA</td>\n",
       "      <td>BUENAVENTURA</td>\n",
       "      <td>4.096</td>\n",
       "      <td>-81.609</td>\n",
       "    </tr>\n",
       "    <tr>\n",
       "      <th>1</th>\n",
       "      <td>57015010</td>\n",
       "      <td>2001-03-24 18:00:00</td>\n",
       "      <td>1131.199951</td>\n",
       "      <td>323</td>\n",
       "      <td>VALLE DEL CAUCA</td>\n",
       "      <td>BUENAVENTURA</td>\n",
       "      <td>4.096</td>\n",
       "      <td>-81.609</td>\n",
       "    </tr>\n",
       "    <tr>\n",
       "      <th>2</th>\n",
       "      <td>57015010</td>\n",
       "      <td>2001-03-26 06:16:00</td>\n",
       "      <td>1131.699951</td>\n",
       "      <td>323</td>\n",
       "      <td>VALLE DEL CAUCA</td>\n",
       "      <td>BUENAVENTURA</td>\n",
       "      <td>4.096</td>\n",
       "      <td>-81.609</td>\n",
       "    </tr>\n",
       "    <tr>\n",
       "      <th>3</th>\n",
       "      <td>57015010</td>\n",
       "      <td>2001-04-05 13:03:00</td>\n",
       "      <td>1132.099976</td>\n",
       "      <td>323</td>\n",
       "      <td>VALLE DEL CAUCA</td>\n",
       "      <td>BUENAVENTURA</td>\n",
       "      <td>4.096</td>\n",
       "      <td>-81.609</td>\n",
       "    </tr>\n",
       "    <tr>\n",
       "      <th>4</th>\n",
       "      <td>57015010</td>\n",
       "      <td>2001-04-10 07:48:00</td>\n",
       "      <td>1131.500000</td>\n",
       "      <td>323</td>\n",
       "      <td>VALLE DEL CAUCA</td>\n",
       "      <td>BUENAVENTURA</td>\n",
       "      <td>4.096</td>\n",
       "      <td>-81.609</td>\n",
       "    </tr>\n",
       "    <tr>\n",
       "      <th>...</th>\n",
       "      <td>...</td>\n",
       "      <td>...</td>\n",
       "      <td>...</td>\n",
       "      <td>...</td>\n",
       "      <td>...</td>\n",
       "      <td>...</td>\n",
       "      <td>...</td>\n",
       "      <td>...</td>\n",
       "    </tr>\n",
       "    <tr>\n",
       "      <th>22611003</th>\n",
       "      <td>52055230</td>\n",
       "      <td>2024-10-16 23:58:00</td>\n",
       "      <td>718.099976</td>\n",
       "      <td>306</td>\n",
       "      <td>NARIÑO</td>\n",
       "      <td>ALDANA</td>\n",
       "      <td>0.857</td>\n",
       "      <td>-77.678</td>\n",
       "    </tr>\n",
       "    <tr>\n",
       "      <th>22611004</th>\n",
       "      <td>48015040</td>\n",
       "      <td>2024-10-16 23:58:00</td>\n",
       "      <td>996.400024</td>\n",
       "      <td>289</td>\n",
       "      <td>AMAZONAS</td>\n",
       "      <td>PUERTO NARIÑO</td>\n",
       "      <td>-3.780</td>\n",
       "      <td>-70.363</td>\n",
       "    </tr>\n",
       "    <tr>\n",
       "      <th>22611005</th>\n",
       "      <td>52055230</td>\n",
       "      <td>2024-10-16 23:58:00</td>\n",
       "      <td>718.099976</td>\n",
       "      <td>306</td>\n",
       "      <td>NARIÑO</td>\n",
       "      <td>ALDANA</td>\n",
       "      <td>0.857</td>\n",
       "      <td>-77.678</td>\n",
       "    </tr>\n",
       "    <tr>\n",
       "      <th>22611006</th>\n",
       "      <td>48015040</td>\n",
       "      <td>2024-10-16 23:59:00</td>\n",
       "      <td>996.400024</td>\n",
       "      <td>289</td>\n",
       "      <td>AMAZONAS</td>\n",
       "      <td>PUERTO NARIÑO</td>\n",
       "      <td>-3.780</td>\n",
       "      <td>-70.363</td>\n",
       "    </tr>\n",
       "    <tr>\n",
       "      <th>22611007</th>\n",
       "      <td>48015040</td>\n",
       "      <td>2024-10-16 23:59:00</td>\n",
       "      <td>996.400024</td>\n",
       "      <td>289</td>\n",
       "      <td>AMAZONAS</td>\n",
       "      <td>PUERTO NARIÑO</td>\n",
       "      <td>-3.780</td>\n",
       "      <td>-70.363</td>\n",
       "    </tr>\n",
       "  </tbody>\n",
       "</table>\n",
       "<p>22611008 rows × 8 columns</p>\n",
       "</div>"
      ],
      "text/plain": [
       "            CodSta                Date     Pressure  Sta             Dept  \\\n",
       "0         57015010 2001-03-15 23:29:00  1131.900024  323  VALLE DEL CAUCA   \n",
       "1         57015010 2001-03-24 18:00:00  1131.199951  323  VALLE DEL CAUCA   \n",
       "2         57015010 2001-03-26 06:16:00  1131.699951  323  VALLE DEL CAUCA   \n",
       "3         57015010 2001-04-05 13:03:00  1132.099976  323  VALLE DEL CAUCA   \n",
       "4         57015010 2001-04-10 07:48:00  1131.500000  323  VALLE DEL CAUCA   \n",
       "...            ...                 ...          ...  ...              ...   \n",
       "22611003  52055230 2024-10-16 23:58:00   718.099976  306           NARIÑO   \n",
       "22611004  48015040 2024-10-16 23:58:00   996.400024  289         AMAZONAS   \n",
       "22611005  52055230 2024-10-16 23:58:00   718.099976  306           NARIÑO   \n",
       "22611006  48015040 2024-10-16 23:59:00   996.400024  289         AMAZONAS   \n",
       "22611007  48015040 2024-10-16 23:59:00   996.400024  289         AMAZONAS   \n",
       "\n",
       "                   City    Lat    Long  \n",
       "0          BUENAVENTURA  4.096 -81.609  \n",
       "1          BUENAVENTURA  4.096 -81.609  \n",
       "2          BUENAVENTURA  4.096 -81.609  \n",
       "3          BUENAVENTURA  4.096 -81.609  \n",
       "4          BUENAVENTURA  4.096 -81.609  \n",
       "...                 ...    ...     ...  \n",
       "22611003         ALDANA  0.857 -77.678  \n",
       "22611004  PUERTO NARIÑO -3.780 -70.363  \n",
       "22611005         ALDANA  0.857 -77.678  \n",
       "22611006  PUERTO NARIÑO -3.780 -70.363  \n",
       "22611007  PUERTO NARIÑO -3.780 -70.363  \n",
       "\n",
       "[22611008 rows x 8 columns]"
      ]
     },
     "execution_count": 4,
     "metadata": {},
     "output_type": "execute_result"
    }
   ],
   "source": [
    "df = df.sort_values(by='Date', ascending=True).reset_index(drop=True)\n",
    "df"
   ]
  },
  {
   "cell_type": "code",
   "execution_count": 5,
   "metadata": {
    "id": "KRl3lINZ4iNE"
   },
   "outputs": [
    {
     "name": "stdout",
     "output_type": "stream",
     "text": [
      "<class 'pandas.core.frame.DataFrame'>\n",
      "RangeIndex: 22611008 entries, 0 to 22611007\n",
      "Data columns (total 8 columns):\n",
      " #   Column    Dtype         \n",
      "---  ------    -----         \n",
      " 0   CodSta    uint64        \n",
      " 1   Date      datetime64[ns]\n",
      " 2   Pressure  float32       \n",
      " 3   Sta       int64         \n",
      " 4   Dept      object        \n",
      " 5   City      object        \n",
      " 6   Lat       float64       \n",
      " 7   Long      float64       \n",
      "dtypes: datetime64[ns](1), float32(1), float64(2), int64(1), object(2), uint64(1)\n",
      "memory usage: 1.3+ GB\n"
     ]
    }
   ],
   "source": [
    "df[['Dept', 'City']] = df[['Dept', 'City']].astype(str)\n",
    "df.info()"
   ]
  },
  {
   "cell_type": "code",
   "execution_count": null,
   "metadata": {
    "colab": {
     "base_uri": "https://localhost:8080/",
     "height": 478
    },
    "id": "4JlU22CgYsaM",
    "outputId": "5d54aae8-8628-4c11-8758-ef3f2fd96a1b"
   },
   "outputs": [],
   "source": [
    "result = (df.groupby([df['Date'].dt.year, 'Dept', 'City','CodSta'],observed=True)\n",
    "          .size()\n",
    "          .reset_index(name='Observations')\n",
    "          .query('Observations > 1')\n",
    "          .sort_values('Date'))\n",
    "result"
   ]
  },
  {
   "cell_type": "code",
   "execution_count": null,
   "metadata": {
    "colab": {
     "base_uri": "https://localhost:8080/",
     "height": 143
    },
    "id": "DeK2fjxkP-D-",
    "outputId": "852df16a-9f8d-436c-f8c7-b4d638692b4b"
   },
   "outputs": [],
   "source": [
    "result_2004 = result[result['Date'] == 2004]\n",
    "result_2004"
   ]
  },
  {
   "cell_type": "code",
   "execution_count": null,
   "metadata": {
    "colab": {
     "base_uri": "https://localhost:8080/",
     "height": 868
    },
    "id": "CsFZUMr6Y0cC",
    "outputId": "53ddec24-7749-44ed-b52c-e50e50c43780"
   },
   "outputs": [],
   "source": [
    "print(\"\\nResumen por año:\")\n",
    "result.groupby('Date')['Observations'].agg(['count', 'sum'])"
   ]
  },
  {
   "cell_type": "code",
   "execution_count": null,
   "metadata": {
    "colab": {
     "base_uri": "https://localhost:8080/",
     "height": 708
    },
    "id": "b2G5ePvRfK-g",
    "outputId": "6a70daef-6a23-43ce-ef5a-01acb7acd707"
   },
   "outputs": [],
   "source": [
    "Dept = 'BOGOTÁ, D.C.'\n",
    "Y = 2024\n",
    "df['Year'] = df['Date'].dt.year\n",
    "df_filtrado = df.loc[(df['Dept'] == Dept) & (df['Year'] == Y), ['Dept','City', 'Date', 'Pressure', 'CodSta']].copy()\n",
    "df_filtrado"
   ]
  },
  {
   "cell_type": "code",
   "execution_count": null,
   "metadata": {
    "colab": {
     "base_uri": "https://localhost:8080/",
     "height": 708
    },
    "id": "9LgUJFXGgWCR",
    "outputId": "7add840b-027e-4808-ef06-1fe0a0509d92"
   },
   "outputs": [],
   "source": [
    "df_filtrado['Date_only'] = df_filtrado['Date'].dt.date\n",
    "df_filtrado['Hour'] = df_filtrado['Date'].dt.hour\n",
    "\n",
    "def get_interval(hour):\n",
    "    if 0 <= hour < 6:\n",
    "        return '06'\n",
    "    elif 6 <= hour < 12:\n",
    "        return '12'\n",
    "    elif 12 <= hour < 18:\n",
    "        return '18'\n",
    "    elif 18 <= hour < 24:\n",
    "        return '00'\n",
    "\n",
    "df_filtrado['Interval'] = df_filtrado['Hour'].apply(get_interval)\n",
    "df_filtrado"
   ]
  },
  {
   "cell_type": "code",
   "execution_count": null,
   "metadata": {
    "colab": {
     "base_uri": "https://localhost:8080/",
     "height": 478
    },
    "id": "aXLidy-pjCJg",
    "outputId": "1791dcd6-7ce8-4610-a462-90bb2476dc11"
   },
   "outputs": [],
   "source": [
    "df_avg = df_filtrado.groupby(['CodSta','Dept', 'City', 'Date_only', 'Interval']).agg(\n",
    "    AvgPressure=('Pressure', 'mean')).reset_index()\n",
    "df_avg"
   ]
  },
  {
   "cell_type": "code",
   "execution_count": null,
   "metadata": {
    "colab": {
     "base_uri": "https://localhost:8080/",
     "height": 708
    },
    "id": "PoeQ89Hhk5H-",
    "outputId": "88b5dc77-0c6c-4927-faea-803816a04c6e"
   },
   "outputs": [],
   "source": [
    "df_pivot = df_avg.pivot(index=['CodSta','Dept','City', 'Date_only'], columns='Interval', values='AvgPressure').reset_index()\n",
    "df_pivot.columns.name = None\n",
    "df_pivot.rename(columns={'Date_only': 'Date'}, inplace=True)\n",
    "\n",
    "df_pivot"
   ]
  },
  {
   "cell_type": "code",
   "execution_count": null,
   "metadata": {
    "colab": {
     "base_uri": "https://localhost:8080/",
     "height": 478
    },
    "id": "KOS2vW9dp-bq",
    "outputId": "c435a03c-2c2f-4b69-82c4-719fc6501696"
   },
   "outputs": [],
   "source": [
    "Dept = 'VALLE DEL CAUCA'\n",
    "Y = 2010\n",
    "\n",
    "df['Year'] = df['Date'].dt.year\n",
    "df_filtrado = df.loc[(df['Dept'] == Dept) & (df['Year'] == Y), ['Dept','City', 'Date', 'Pressure', 'CodSta']].copy()\n",
    "\n",
    "df_filtrado['Date_only'] = df_filtrado['Date'].dt.date\n",
    "df_filtrado['Hour'] = df_filtrado['Date'].dt.hour\n",
    "\n",
    "def get_interval(hour):\n",
    "    if (0 <= hour) and (hour < 6):\n",
    "        return '06'\n",
    "    elif (6 <= hour) and (hour < 12):\n",
    "        return '12'\n",
    "    elif (12 <= hour) and (hour < 18):\n",
    "        return '18'\n",
    "    elif (18 <= hour) and (hour < 24):\n",
    "        return '00'\n",
    "\n",
    "df_filtrado['Interval'] = df_filtrado['Hour'].apply(get_interval)\n",
    "df_avg = df_filtrado.groupby(['CodSta','Dept', 'City', 'Date_only', 'Interval'],observed=True).agg(\n",
    "    AvgPressure=('Pressure', 'mean')).reset_index()\n",
    "\n",
    "df_pivot = df_avg.pivot(index=['CodSta','Dept', 'City', 'Date_only'], columns='Interval', values='AvgPressure').reset_index()\n",
    "df_pivot.columns.name = None\n",
    "df_pivot.rename(columns={'Date_only': 'Date'}, inplace=True)\n",
    "\n",
    "df_pivot"
   ]
  },
  {
   "cell_type": "code",
   "execution_count": null,
   "metadata": {},
   "outputs": [],
   "source": [
    "df_pivot[['CodSta','City']].drop_duplicates()"
   ]
  },
  {
   "cell_type": "code",
   "execution_count": null,
   "metadata": {},
   "outputs": [],
   "source": [
    "fechas_por_ciudad = df_avg.groupby('City').agg({'CodSta':'count'}).reset_index()\n",
    "\n",
    "fechas_por_ciudad"
   ]
  },
  {
   "cell_type": "code",
   "execution_count": null,
   "metadata": {},
   "outputs": [],
   "source": [
    "fechas_por_ciudad = df_avg.groupby('CodSta')['Date_only'].nunique().reset_index()\n",
    "fechas_por_ciudad = fechas_por_ciudad.rename(columns={'Date_only': 'Cantidad_Fechas_Unicas'})\n",
    "fechas_por_ciudad = fechas_por_ciudad.sort_values('Cantidad_Fechas_Unicas', ascending=False)\n",
    "\n",
    "fechas_por_ciudad"
   ]
  },
  {
   "cell_type": "code",
   "execution_count": null,
   "metadata": {},
   "outputs": [],
   "source": [
    "suma_total = fechas_por_ciudad['Cantidad_Fechas_Unicas'].sum()\n",
    "suma_total"
   ]
  },
  {
   "cell_type": "code",
   "execution_count": null,
   "metadata": {},
   "outputs": [],
   "source": [
    "df_pivot.info()"
   ]
  },
  {
   "cell_type": "code",
   "execution_count": null,
   "metadata": {},
   "outputs": [],
   "source": [
    "df_pivot.describe()"
   ]
  },
  {
   "cell_type": "code",
   "execution_count": null,
   "metadata": {
    "colab": {
     "base_uri": "https://localhost:8080/",
     "height": 1000
    },
    "id": "46_268uUQmA-",
    "outputId": "aadf0312-cda5-4b9f-87f9-4504c2f7fbba"
   },
   "outputs": [],
   "source": [
    "Dept = 'NARIÑO'\n",
    "Y = 2004\n",
    "\n",
    "df['Year'] = df['Date'].dt.year\n",
    "df_filtrado = df.loc[(df['Dept'] == Dept) & (df['Year'] == Y), ['Dept','City', 'Date', 'Pressure', 'CodSta']].copy()\n",
    "\n",
    "df_filtrado['Date_only'] = df_filtrado['Date'].dt.date\n",
    "df_filtrado['Hour'] = df_filtrado['Date'].dt.hour\n",
    "\n",
    "def get_interval(hour):\n",
    "    if (0 <= hour) and (hour < 6):\n",
    "        return '00'\n",
    "    elif (6 <= hour) and (hour < 12):\n",
    "        return '06'\n",
    "    elif (12 <= hour) and (hour < 18):\n",
    "        return '12'\n",
    "    elif (18 <= hour) and (hour < 24):\n",
    "        return '18'\n",
    "\n",
    "df_filtrado['Interval'] = df_filtrado['Hour'].apply(get_interval)\n",
    "df_avg = df_filtrado.groupby(['CodSta','Dept', 'City', 'Date_only', 'Interval'],observed=True).agg(\n",
    "    AvgPressure=('Pressure', 'mean')).reset_index()\n",
    "\n",
    "df4 = df_avg.pivot(index=['CodSta','Dept', 'City', 'Date_only'], columns='Interval', values='AvgPressure').reset_index()\n",
    "df4.columns.name = None\n",
    "df4.rename(columns={'Date_only': 'Date'}, inplace=True)\n",
    "\n",
    "df4"
   ]
  },
  {
   "cell_type": "code",
   "execution_count": null,
   "metadata": {
    "colab": {
     "base_uri": "https://localhost:8080/",
     "height": 1000
    },
    "id": "RS0JDbwxQmfG",
    "outputId": "8d85d121-4003-4b8f-f549-637f1fd62f44"
   },
   "outputs": [],
   "source": [
    "Dept = 'VALLE DEL CAUCA'\n",
    "Y = 2004\n",
    "\n",
    "df['Year'] = df['Date'].dt.year\n",
    "df_filtrado = df.loc[(df['Dept'] == Dept) & (df['Year'] == Y), ['Dept','City', 'Date', 'Pressure', 'CodSta']].copy()\n",
    "\n",
    "df_filtrado['Date_only'] = df_filtrado['Date'].dt.date\n",
    "df_filtrado['Hour'] = df_filtrado['Date'].dt.hour\n",
    "\n",
    "def get_interval(hour):\n",
    "    if (0 <= hour) and (hour < 6):\n",
    "        return '00'\n",
    "    elif (6 <= hour) and (hour < 12):\n",
    "        return '06'\n",
    "    elif (12 <= hour) and (hour < 18):\n",
    "        return '12'\n",
    "    elif (18 <= hour) and (hour < 24):\n",
    "        return '18'\n",
    "\n",
    "df_filtrado['Interval'] = df_filtrado['Hour'].apply(get_interval)\n",
    "df_avg = df_filtrado.groupby(['CodSta','Dept', 'City', 'Date_only', 'Interval'],observed=True).agg(\n",
    "    AvgPressure=('Pressure', 'mean')).reset_index()\n",
    "\n",
    "df1 = df_avg.pivot(index=['CodSta','Dept', 'City', 'Date_only'], columns='Interval', values='AvgPressure').reset_index()\n",
    "df1.columns.name = None\n",
    "df1.rename(columns={'Date_only': 'Date'}, inplace=True)\n",
    "\n",
    "df1"
   ]
  },
  {
   "cell_type": "code",
   "execution_count": null,
   "metadata": {
    "colab": {
     "base_uri": "https://localhost:8080/",
     "height": 229
    },
    "id": "6mGOXwY_Qm1G",
    "outputId": "30abf97f-27de-439c-85bb-9698eddbbe76"
   },
   "outputs": [],
   "source": [
    "Dept = 'VALLE DEL CAUCA'\n",
    "Y = 2003\n",
    "\n",
    "df['Year'] = df['Date'].dt.year\n",
    "df_filtrado = df.loc[(df['Dept'] == Dept) & (df['Year'] == Y), ['Dept','City', 'Date', 'Pressure', 'CodSta']].copy()\n",
    "\n",
    "df_filtrado['Date_only'] = df_filtrado['Date'].dt.date\n",
    "df_filtrado['Hour'] = df_filtrado['Date'].dt.hour\n",
    "\n",
    "def get_interval(hour):\n",
    "    if (0 <= hour) and (hour < 6):\n",
    "        return '00'\n",
    "    elif (6 <= hour) and (hour < 12):\n",
    "        return '06'\n",
    "    elif (12 <= hour) and (hour < 18):\n",
    "        return '12'\n",
    "    elif (18 <= hour) and (hour < 24):\n",
    "        return '18'\n",
    "\n",
    "df_filtrado['Interval'] = df_filtrado['Hour'].apply(get_interval)\n",
    "df_avg = df_filtrado.groupby(['CodSta','Dept', 'City', 'Date_only', 'Interval'],observed=True).agg(\n",
    "    AvgPressure=('Pressure', 'mean')).reset_index()\n",
    "\n",
    "df2 = df_avg.pivot(index=['CodSta','Dept', 'City', 'Date_only'], columns='Interval', values='AvgPressure').reset_index()\n",
    "df2.columns.name = None\n",
    "df2.rename(columns={'Date_only': 'Date'}, inplace=True)\n",
    "\n",
    "df2"
   ]
  },
  {
   "cell_type": "code",
   "execution_count": null,
   "metadata": {
    "colab": {
     "base_uri": "https://localhost:8080/",
     "height": 478
    },
    "id": "XrOg2-84QnPz",
    "outputId": "aae0aaca-de94-48c0-b57c-6f42ca6a8d30"
   },
   "outputs": [],
   "source": [
    "Dept = 'BOGOTÁ, D.C.'\n",
    "Y = 2004\n",
    "\n",
    "df['Year'] = df['Date'].dt.year\n",
    "df_filtrado = df.loc[(df['Dept'] == Dept) & (df['Year'] == Y), ['Dept','City', 'Date', 'Pressure', 'CodSta']].copy()\n",
    "\n",
    "df_filtrado['Date_only'] = df_filtrado['Date'].dt.date\n",
    "df_filtrado['Hour'] = df_filtrado['Date'].dt.hour\n",
    "\n",
    "def get_interval(hour):\n",
    "    if (0 <= hour) and (hour < 6):\n",
    "        return '00'\n",
    "    elif (6 <= hour) and (hour < 12):\n",
    "        return '06'\n",
    "    elif (12 <= hour) and (hour < 18):\n",
    "        return '12'\n",
    "    elif (18 <= hour) and (hour < 24):\n",
    "        return '18'\n",
    "\n",
    "df_filtrado['Interval'] = df_filtrado['Hour'].apply(get_interval)\n",
    "df_avg = df_filtrado.groupby(['CodSta','Dept', 'City', 'Date_only', 'Interval'],observed=True).agg(\n",
    "    AvgPressure=('Pressure', 'mean')).reset_index()\n",
    "\n",
    "df3 = df_avg.pivot(index=['CodSta','Dept', 'City', 'Date_only'], columns='Interval', values='AvgPressure').reset_index()\n",
    "df3.columns.name = None\n",
    "df3.rename(columns={'Date_only': 'Date'}, inplace=True)\n",
    "\n",
    "df3"
   ]
  },
  {
   "cell_type": "code",
   "execution_count": null,
   "metadata": {
    "colab": {
     "base_uri": "https://localhost:8080/",
     "height": 423
    },
    "id": "0B6aOQ0LO3io",
    "outputId": "5d1488c0-6765-42a1-ef4f-b8ae9d888d57"
   },
   "outputs": [],
   "source": [
    "lista_dfs = [df1, df2, df3, df4]\n",
    "\n",
    "df_final = pd.concat(lista_dfs, axis=0, ignore_index=True)\n",
    "columnas = ['CodSta', 'Dept', 'City', 'Date', '00','06','12', '18']\n",
    "df_final = df_final[columnas]\n",
    "    \n",
    "df_final = df_final.sort_values('Date',ascending=True)\n",
    "df_final"
   ]
  },
  {
   "cell_type": "code",
   "execution_count": null,
   "metadata": {},
   "outputs": [],
   "source": [
    "df_final.info()"
   ]
  },
  {
   "cell_type": "code",
   "execution_count": null,
   "metadata": {},
   "outputs": [],
   "source": [
    "df_final.describe()"
   ]
  },
  {
   "cell_type": "code",
   "execution_count": 13,
   "metadata": {},
   "outputs": [],
   "source": [
    "def get_interval(hour):\n",
    "    if (0 <= hour) and (hour < 6):\n",
    "        return '06'\n",
    "    elif (6 <= hour) and (hour < 12):\n",
    "        return '12'\n",
    "    elif (12 <= hour) and (hour < 18):\n",
    "        return '18'\n",
    "    elif (18 <= hour) and (hour < 24):\n",
    "        return '00'\n",
    "\n",
    "df_filtrado = df[['Dept', 'City', 'Date', 'Pressure', 'CodSta']].copy()\n",
    "df_filtrado['Date_only'] = df_filtrado['Date'].dt.date\n",
    "df_filtrado['Hour'] = df_filtrado['Date'].dt.hour\n",
    "df_filtrado['Interval'] = df_filtrado['Hour'].apply(get_interval)\n",
    "\n",
    "df_avg = df_filtrado.groupby(['CodSta', 'Dept', 'City', 'Date_only', 'Interval'], observed=True).agg(\n",
    "        AvgPressure=('Pressure', 'mean')).reset_index()\n",
    "    \n",
    "df_final = df_avg.pivot(index=['CodSta', 'Dept', 'City', 'Date_only'], \n",
    "                            columns='Interval', values='AvgPressure').reset_index()\n",
    "df_final.columns.name = None\n",
    "df_final.rename(columns={'Date_only': 'Date'}, inplace=True)\n",
    "    \n",
    "\n",
    "df_final = df_final.sort_values(['Dept','City','CodSta','Date'], ascending=True)\n",
    "\n",
    "df_final"
   ]
  },
  {
   "cell_type": "code",
   "execution_count": 12,
   "metadata": {},
   "outputs": [],
   "source": [
    "df_final.to_parquet('../finalpresion.parquet')"
   ]
  }
 ],
 "metadata": {
  "colab": {
   "provenance": []
  },
  "kernelspec": {
   "display_name": "base",
   "language": "python",
   "name": "python3"
  },
  "language_info": {
   "codemirror_mode": {
    "name": "ipython",
    "version": 3
   },
   "file_extension": ".py",
   "mimetype": "text/x-python",
   "name": "python",
   "nbconvert_exporter": "python",
   "pygments_lexer": "ipython3",
   "version": "3.12.4"
  }
 },
 "nbformat": 4,
 "nbformat_minor": 0
}
