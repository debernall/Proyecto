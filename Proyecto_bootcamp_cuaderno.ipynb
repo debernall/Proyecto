{
  "cells": [
    {
      "cell_type": "markdown",
      "metadata": {
        "colab_type": "text",
        "id": "view-in-github"
      },
      "source": [
        "<a href=\"https://colab.research.google.com/github/debernall/Proyecto/blob/main/Proyecto_bootcamp_cuaderno.ipynb\" target=\"_parent\"><img src=\"https://colab.research.google.com/assets/colab-badge.svg\" alt=\"Open In Colab\"/></a>"
      ]
    },
    {
      "cell_type": "markdown",
      "metadata": {},
      "source": [
        "### Introducción"
      ]
    },
    {
      "cell_type": "markdown",
      "metadata": {
        "id": "DY1m9lao8YgX"
      },
      "source": [
        "# Proyecto Lluvia"
      ]
    },
    {
      "cell_type": "markdown",
      "metadata": {},
      "source": []
    },
    {
      "cell_type": "code",
      "execution_count": 1,
      "metadata": {
        "id": "W-RRQrHv8Ygd",
        "notebookRunGroups": {
          "groupValue": "2"
        },
        "outputId": "1ae74537-53c6-4a15-bf1a-402f6897f26a"
      },
      "outputs": [],
      "source": [
        "import numpy as np\n",
        "import matplotlib.pyplot as plt\n",
        "import pandas as pd\n",
        "import re\n",
        "import os"
      ]
    },
    {
      "cell_type": "code",
      "execution_count": 2,
      "metadata": {},
      "outputs": [],
      "source": [
        "import plotly.express as pex\n",
        "from plotly.subplots import make_subplots\n",
        "import plotly.graph_objects as go"
      ]
    },
    {
      "cell_type": "markdown",
      "metadata": {},
      "source": [
        "*Sistema de archivos*\n",
        "\n",
        "    ./\n",
        "    \n",
        "    ./Proyecto/\n",
        "        ./Proyecto/Proyecto_bootcamp_cuaderno.ipynb\n",
        "\n",
        "    ./Datasets/\n",
        "        ./Datasets/...... .csv\n",
        "    \n",
        "    ./CleanDatasets/\n",
        "        ./CleanDatasets/.....  .parquet\n"
      ]
    },
    {
      "cell_type": "markdown",
      "metadata": {
        "notebookRunGroups": {
          "groupValue": "1"
        }
      },
      "source": [
        "# Limpieza de archivos precipitaciones - conversión a parquet"
      ]
    },
    {
      "cell_type": "markdown",
      "metadata": {},
      "source": [
        "### Primera exploración"
      ]
    },
    {
      "cell_type": "markdown",
      "metadata": {},
      "source": [
        "Se importa el primer documento previo a la limpieza. Se inicia con el archivo de menor tamaño. Todos los datos corresponden a precipitación y tienen la misma unidad de medida."
      ]
    },
    {
      "cell_type": "code",
      "execution_count": 28,
      "metadata": {
        "notebookRunGroups": {
          "groupValue": "2"
        }
      },
      "outputs": [
        {
          "data": {
            "text/html": [
              "<div>\n",
              "<style scoped>\n",
              "    .dataframe tbody tr th:only-of-type {\n",
              "        vertical-align: middle;\n",
              "    }\n",
              "\n",
              "    .dataframe tbody tr th {\n",
              "        vertical-align: top;\n",
              "    }\n",
              "\n",
              "    .dataframe thead th {\n",
              "        text-align: right;\n",
              "    }\n",
              "</style>\n",
              "<table border=\"1\" class=\"dataframe\">\n",
              "  <thead>\n",
              "    <tr style=\"text-align: right;\">\n",
              "      <th></th>\n",
              "      <th>CodigoEstacion</th>\n",
              "      <th>CodigoSensor</th>\n",
              "      <th>FechaObservacion</th>\n",
              "      <th>ValorObservado</th>\n",
              "      <th>NombreEstacion</th>\n",
              "      <th>Departamento</th>\n",
              "      <th>Municipio</th>\n",
              "      <th>ZonaHidrografica</th>\n",
              "      <th>Latitud</th>\n",
              "      <th>Longitud</th>\n",
              "      <th>DescripcionSensor</th>\n",
              "      <th>UnidadMedida</th>\n",
              "    </tr>\n",
              "  </thead>\n",
              "  <tbody>\n",
              "    <tr>\n",
              "      <th>0</th>\n",
              "      <td>42077020</td>\n",
              "      <td>240</td>\n",
              "      <td>11/01/2023 07:30:00 PM</td>\n",
              "      <td>0.2</td>\n",
              "      <td>MITU</td>\n",
              "      <td>VAUPES</td>\n",
              "      <td>MITÚ</td>\n",
              "      <td>VAUPES</td>\n",
              "      <td>1.26</td>\n",
              "      <td>-70.24</td>\n",
              "      <td>PRECIPITACIÓN</td>\n",
              "      <td>mm</td>\n",
              "    </tr>\n",
              "    <tr>\n",
              "      <th>1</th>\n",
              "      <td>42077020</td>\n",
              "      <td>240</td>\n",
              "      <td>11/01/2023 11:10:00 PM</td>\n",
              "      <td>0.0</td>\n",
              "      <td>MITU</td>\n",
              "      <td>VAUPES</td>\n",
              "      <td>MITÚ</td>\n",
              "      <td>VAUPES</td>\n",
              "      <td>1.26</td>\n",
              "      <td>-70.24</td>\n",
              "      <td>PRECIPITACIÓN</td>\n",
              "      <td>mm</td>\n",
              "    </tr>\n",
              "    <tr>\n",
              "      <th>2</th>\n",
              "      <td>42077020</td>\n",
              "      <td>240</td>\n",
              "      <td>11/01/2023 03:10:00 PM</td>\n",
              "      <td>0.0</td>\n",
              "      <td>MITU</td>\n",
              "      <td>VAUPES</td>\n",
              "      <td>MITÚ</td>\n",
              "      <td>VAUPES</td>\n",
              "      <td>1.26</td>\n",
              "      <td>-70.24</td>\n",
              "      <td>PRECIPITACIÓN</td>\n",
              "      <td>mm</td>\n",
              "    </tr>\n",
              "    <tr>\n",
              "      <th>3</th>\n",
              "      <td>42077020</td>\n",
              "      <td>240</td>\n",
              "      <td>11/01/2023 09:30:00 PM</td>\n",
              "      <td>0.0</td>\n",
              "      <td>MITU</td>\n",
              "      <td>VAUPES</td>\n",
              "      <td>MITÚ</td>\n",
              "      <td>VAUPES</td>\n",
              "      <td>1.26</td>\n",
              "      <td>-70.24</td>\n",
              "      <td>PRECIPITACIÓN</td>\n",
              "      <td>mm</td>\n",
              "    </tr>\n",
              "    <tr>\n",
              "      <th>4</th>\n",
              "      <td>42077020</td>\n",
              "      <td>240</td>\n",
              "      <td>11/01/2023 05:40:00 PM</td>\n",
              "      <td>0.0</td>\n",
              "      <td>MITU</td>\n",
              "      <td>VAUPES</td>\n",
              "      <td>MITÚ</td>\n",
              "      <td>VAUPES</td>\n",
              "      <td>1.26</td>\n",
              "      <td>-70.24</td>\n",
              "      <td>PRECIPITACIÓN</td>\n",
              "      <td>mm</td>\n",
              "    </tr>\n",
              "    <tr>\n",
              "      <th>...</th>\n",
              "      <td>...</td>\n",
              "      <td>...</td>\n",
              "      <td>...</td>\n",
              "      <td>...</td>\n",
              "      <td>...</td>\n",
              "      <td>...</td>\n",
              "      <td>...</td>\n",
              "      <td>...</td>\n",
              "      <td>...</td>\n",
              "      <td>...</td>\n",
              "      <td>...</td>\n",
              "      <td>...</td>\n",
              "    </tr>\n",
              "    <tr>\n",
              "      <th>9147</th>\n",
              "      <td>42077020</td>\n",
              "      <td>240</td>\n",
              "      <td>06/22/2024 02:20:00 AM</td>\n",
              "      <td>0.0</td>\n",
              "      <td>MITU</td>\n",
              "      <td>VAUPES</td>\n",
              "      <td>MITÚ</td>\n",
              "      <td>VAUPES</td>\n",
              "      <td>1.26</td>\n",
              "      <td>-70.24</td>\n",
              "      <td>PRECIPITACIÓN</td>\n",
              "      <td>mm</td>\n",
              "    </tr>\n",
              "    <tr>\n",
              "      <th>9148</th>\n",
              "      <td>42077020</td>\n",
              "      <td>240</td>\n",
              "      <td>06/22/2024 01:30:00 AM</td>\n",
              "      <td>0.0</td>\n",
              "      <td>MITU</td>\n",
              "      <td>VAUPES</td>\n",
              "      <td>MITÚ</td>\n",
              "      <td>VAUPES</td>\n",
              "      <td>1.26</td>\n",
              "      <td>-70.24</td>\n",
              "      <td>PRECIPITACIÓN</td>\n",
              "      <td>mm</td>\n",
              "    </tr>\n",
              "    <tr>\n",
              "      <th>9149</th>\n",
              "      <td>42077020</td>\n",
              "      <td>240</td>\n",
              "      <td>06/22/2024 01:40:00 AM</td>\n",
              "      <td>0.0</td>\n",
              "      <td>MITU</td>\n",
              "      <td>VAUPES</td>\n",
              "      <td>MITÚ</td>\n",
              "      <td>VAUPES</td>\n",
              "      <td>1.26</td>\n",
              "      <td>-70.24</td>\n",
              "      <td>PRECIPITACIÓN</td>\n",
              "      <td>mm</td>\n",
              "    </tr>\n",
              "    <tr>\n",
              "      <th>9150</th>\n",
              "      <td>42077020</td>\n",
              "      <td>240</td>\n",
              "      <td>06/22/2024 01:20:00 AM</td>\n",
              "      <td>0.0</td>\n",
              "      <td>MITU</td>\n",
              "      <td>VAUPES</td>\n",
              "      <td>MITÚ</td>\n",
              "      <td>VAUPES</td>\n",
              "      <td>1.26</td>\n",
              "      <td>-70.24</td>\n",
              "      <td>PRECIPITACIÓN</td>\n",
              "      <td>mm</td>\n",
              "    </tr>\n",
              "    <tr>\n",
              "      <th>9151</th>\n",
              "      <td>42077020</td>\n",
              "      <td>240</td>\n",
              "      <td>06/22/2024 02:00:00 AM</td>\n",
              "      <td>0.0</td>\n",
              "      <td>MITU</td>\n",
              "      <td>VAUPES</td>\n",
              "      <td>MITÚ</td>\n",
              "      <td>VAUPES</td>\n",
              "      <td>1.26</td>\n",
              "      <td>-70.24</td>\n",
              "      <td>PRECIPITACIÓN</td>\n",
              "      <td>mm</td>\n",
              "    </tr>\n",
              "  </tbody>\n",
              "</table>\n",
              "<p>9152 rows × 12 columns</p>\n",
              "</div>"
            ],
            "text/plain": [
              "      CodigoEstacion  CodigoSensor        FechaObservacion  ValorObservado  \\\n",
              "0           42077020           240  11/01/2023 07:30:00 PM             0.2   \n",
              "1           42077020           240  11/01/2023 11:10:00 PM             0.0   \n",
              "2           42077020           240  11/01/2023 03:10:00 PM             0.0   \n",
              "3           42077020           240  11/01/2023 09:30:00 PM             0.0   \n",
              "4           42077020           240  11/01/2023 05:40:00 PM             0.0   \n",
              "...              ...           ...                     ...             ...   \n",
              "9147        42077020           240  06/22/2024 02:20:00 AM             0.0   \n",
              "9148        42077020           240  06/22/2024 01:30:00 AM             0.0   \n",
              "9149        42077020           240  06/22/2024 01:40:00 AM             0.0   \n",
              "9150        42077020           240  06/22/2024 01:20:00 AM             0.0   \n",
              "9151        42077020           240  06/22/2024 02:00:00 AM             0.0   \n",
              "\n",
              "     NombreEstacion Departamento Municipio ZonaHidrografica  Latitud  \\\n",
              "0              MITU       VAUPES      MITÚ           VAUPES     1.26   \n",
              "1              MITU       VAUPES      MITÚ           VAUPES     1.26   \n",
              "2              MITU       VAUPES      MITÚ           VAUPES     1.26   \n",
              "3              MITU       VAUPES      MITÚ           VAUPES     1.26   \n",
              "4              MITU       VAUPES      MITÚ           VAUPES     1.26   \n",
              "...             ...          ...       ...              ...      ...   \n",
              "9147           MITU       VAUPES      MITÚ           VAUPES     1.26   \n",
              "9148           MITU       VAUPES      MITÚ           VAUPES     1.26   \n",
              "9149           MITU       VAUPES      MITÚ           VAUPES     1.26   \n",
              "9150           MITU       VAUPES      MITÚ           VAUPES     1.26   \n",
              "9151           MITU       VAUPES      MITÚ           VAUPES     1.26   \n",
              "\n",
              "      Longitud DescripcionSensor UnidadMedida  \n",
              "0       -70.24     PRECIPITACIÓN           mm  \n",
              "1       -70.24     PRECIPITACIÓN           mm  \n",
              "2       -70.24     PRECIPITACIÓN           mm  \n",
              "3       -70.24     PRECIPITACIÓN           mm  \n",
              "4       -70.24     PRECIPITACIÓN           mm  \n",
              "...        ...               ...          ...  \n",
              "9147    -70.24     PRECIPITACIÓN           mm  \n",
              "9148    -70.24     PRECIPITACIÓN           mm  \n",
              "9149    -70.24     PRECIPITACIÓN           mm  \n",
              "9150    -70.24     PRECIPITACIÓN           mm  \n",
              "9151    -70.24     PRECIPITACIÓN           mm  \n",
              "\n",
              "[9152 rows x 12 columns]"
            ]
          },
          "execution_count": 28,
          "metadata": {},
          "output_type": "execute_result"
        }
      ],
      "source": [
        "df = pd.read_csv('../Datasets/Precipitaci_n_20241016(vaupes).csv',\n",
        "                 sep=',',\n",
        "                 #nrows=10\n",
        "                 )\n",
        "df"
      ]
    },
    {
      "cell_type": "markdown",
      "metadata": {},
      "source": [
        "En la siguiente celda se imprime un pequeño resumen. Es importante resaltar que no hay datos nulos y la necesidad de cambiar el formato de cada columna por uno mas adecuado que reduzca el tamaño del dataframe."
      ]
    },
    {
      "cell_type": "code",
      "execution_count": 29,
      "metadata": {},
      "outputs": [
        {
          "name": "stdout",
          "output_type": "stream",
          "text": [
            "<class 'pandas.core.frame.DataFrame'>\n",
            "RangeIndex: 9152 entries, 0 to 9151\n",
            "Data columns (total 12 columns):\n",
            " #   Column             Non-Null Count  Dtype  \n",
            "---  ------             --------------  -----  \n",
            " 0   CodigoEstacion     9152 non-null   int64  \n",
            " 1   CodigoSensor       9152 non-null   int64  \n",
            " 2   FechaObservacion   9152 non-null   object \n",
            " 3   ValorObservado     9152 non-null   float64\n",
            " 4   NombreEstacion     9152 non-null   object \n",
            " 5   Departamento       9152 non-null   object \n",
            " 6   Municipio          9152 non-null   object \n",
            " 7   ZonaHidrografica   9152 non-null   object \n",
            " 8   Latitud            9152 non-null   float64\n",
            " 9   Longitud           9152 non-null   float64\n",
            " 10  DescripcionSensor  9152 non-null   object \n",
            " 11  UnidadMedida       9152 non-null   object \n",
            "dtypes: float64(3), int64(2), object(7)\n",
            "memory usage: 858.1+ KB\n"
          ]
        }
      ],
      "source": [
        "size_0=df.memory_usage(deep=True).sum()\n",
        "df.info()"
      ]
    },
    {
      "cell_type": "markdown",
      "metadata": {},
      "source": [
        "### Vaupes"
      ]
    },
    {
      "cell_type": "markdown",
      "metadata": {},
      "source": [
        "Se importa nuevamente el archivo csv, seleccionando las columnas relevantes y eligiendo un formato adeacuado para cada columna."
      ]
    },
    {
      "cell_type": "code",
      "execution_count": 30,
      "metadata": {},
      "outputs": [
        {
          "data": {
            "text/html": [
              "<div>\n",
              "<style scoped>\n",
              "    .dataframe tbody tr th:only-of-type {\n",
              "        vertical-align: middle;\n",
              "    }\n",
              "\n",
              "    .dataframe tbody tr th {\n",
              "        vertical-align: top;\n",
              "    }\n",
              "\n",
              "    .dataframe thead th {\n",
              "        text-align: right;\n",
              "    }\n",
              "</style>\n",
              "<table border=\"1\" class=\"dataframe\">\n",
              "  <thead>\n",
              "    <tr style=\"text-align: right;\">\n",
              "      <th></th>\n",
              "      <th>CodigoEstacion</th>\n",
              "      <th>CodigoSensor</th>\n",
              "      <th>FechaObservacion</th>\n",
              "      <th>ValorObservado</th>\n",
              "      <th>NombreEstacion</th>\n",
              "      <th>Departamento</th>\n",
              "      <th>Municipio</th>\n",
              "      <th>ZonaHidrografica</th>\n",
              "      <th>Latitud</th>\n",
              "      <th>Longitud</th>\n",
              "    </tr>\n",
              "  </thead>\n",
              "  <tbody>\n",
              "    <tr>\n",
              "      <th>0</th>\n",
              "      <td>0042077020</td>\n",
              "      <td>0240</td>\n",
              "      <td>11/01/2023 07:30:00 PM</td>\n",
              "      <td>0.2</td>\n",
              "      <td>MITU</td>\n",
              "      <td>VAUPES</td>\n",
              "      <td>MITÚ</td>\n",
              "      <td>VAUPES</td>\n",
              "      <td>1.26</td>\n",
              "      <td>-70.24</td>\n",
              "    </tr>\n",
              "    <tr>\n",
              "      <th>1</th>\n",
              "      <td>0042077020</td>\n",
              "      <td>0240</td>\n",
              "      <td>11/01/2023 11:10:00 PM</td>\n",
              "      <td>0.0</td>\n",
              "      <td>MITU</td>\n",
              "      <td>VAUPES</td>\n",
              "      <td>MITÚ</td>\n",
              "      <td>VAUPES</td>\n",
              "      <td>1.26</td>\n",
              "      <td>-70.24</td>\n",
              "    </tr>\n",
              "    <tr>\n",
              "      <th>2</th>\n",
              "      <td>0042077020</td>\n",
              "      <td>0240</td>\n",
              "      <td>11/01/2023 03:10:00 PM</td>\n",
              "      <td>0.0</td>\n",
              "      <td>MITU</td>\n",
              "      <td>VAUPES</td>\n",
              "      <td>MITÚ</td>\n",
              "      <td>VAUPES</td>\n",
              "      <td>1.26</td>\n",
              "      <td>-70.24</td>\n",
              "    </tr>\n",
              "    <tr>\n",
              "      <th>3</th>\n",
              "      <td>0042077020</td>\n",
              "      <td>0240</td>\n",
              "      <td>11/01/2023 09:30:00 PM</td>\n",
              "      <td>0.0</td>\n",
              "      <td>MITU</td>\n",
              "      <td>VAUPES</td>\n",
              "      <td>MITÚ</td>\n",
              "      <td>VAUPES</td>\n",
              "      <td>1.26</td>\n",
              "      <td>-70.24</td>\n",
              "    </tr>\n",
              "    <tr>\n",
              "      <th>4</th>\n",
              "      <td>0042077020</td>\n",
              "      <td>0240</td>\n",
              "      <td>11/01/2023 05:40:00 PM</td>\n",
              "      <td>0.0</td>\n",
              "      <td>MITU</td>\n",
              "      <td>VAUPES</td>\n",
              "      <td>MITÚ</td>\n",
              "      <td>VAUPES</td>\n",
              "      <td>1.26</td>\n",
              "      <td>-70.24</td>\n",
              "    </tr>\n",
              "    <tr>\n",
              "      <th>...</th>\n",
              "      <td>...</td>\n",
              "      <td>...</td>\n",
              "      <td>...</td>\n",
              "      <td>...</td>\n",
              "      <td>...</td>\n",
              "      <td>...</td>\n",
              "      <td>...</td>\n",
              "      <td>...</td>\n",
              "      <td>...</td>\n",
              "      <td>...</td>\n",
              "    </tr>\n",
              "    <tr>\n",
              "      <th>9147</th>\n",
              "      <td>0042077020</td>\n",
              "      <td>0240</td>\n",
              "      <td>06/22/2024 02:20:00 AM</td>\n",
              "      <td>0.0</td>\n",
              "      <td>MITU</td>\n",
              "      <td>VAUPES</td>\n",
              "      <td>MITÚ</td>\n",
              "      <td>VAUPES</td>\n",
              "      <td>1.26</td>\n",
              "      <td>-70.24</td>\n",
              "    </tr>\n",
              "    <tr>\n",
              "      <th>9148</th>\n",
              "      <td>0042077020</td>\n",
              "      <td>0240</td>\n",
              "      <td>06/22/2024 01:30:00 AM</td>\n",
              "      <td>0.0</td>\n",
              "      <td>MITU</td>\n",
              "      <td>VAUPES</td>\n",
              "      <td>MITÚ</td>\n",
              "      <td>VAUPES</td>\n",
              "      <td>1.26</td>\n",
              "      <td>-70.24</td>\n",
              "    </tr>\n",
              "    <tr>\n",
              "      <th>9149</th>\n",
              "      <td>0042077020</td>\n",
              "      <td>0240</td>\n",
              "      <td>06/22/2024 01:40:00 AM</td>\n",
              "      <td>0.0</td>\n",
              "      <td>MITU</td>\n",
              "      <td>VAUPES</td>\n",
              "      <td>MITÚ</td>\n",
              "      <td>VAUPES</td>\n",
              "      <td>1.26</td>\n",
              "      <td>-70.24</td>\n",
              "    </tr>\n",
              "    <tr>\n",
              "      <th>9150</th>\n",
              "      <td>0042077020</td>\n",
              "      <td>0240</td>\n",
              "      <td>06/22/2024 01:20:00 AM</td>\n",
              "      <td>0.0</td>\n",
              "      <td>MITU</td>\n",
              "      <td>VAUPES</td>\n",
              "      <td>MITÚ</td>\n",
              "      <td>VAUPES</td>\n",
              "      <td>1.26</td>\n",
              "      <td>-70.24</td>\n",
              "    </tr>\n",
              "    <tr>\n",
              "      <th>9151</th>\n",
              "      <td>0042077020</td>\n",
              "      <td>0240</td>\n",
              "      <td>06/22/2024 02:00:00 AM</td>\n",
              "      <td>0.0</td>\n",
              "      <td>MITU</td>\n",
              "      <td>VAUPES</td>\n",
              "      <td>MITÚ</td>\n",
              "      <td>VAUPES</td>\n",
              "      <td>1.26</td>\n",
              "      <td>-70.24</td>\n",
              "    </tr>\n",
              "  </tbody>\n",
              "</table>\n",
              "<p>9152 rows × 10 columns</p>\n",
              "</div>"
            ],
            "text/plain": [
              "     CodigoEstacion CodigoSensor        FechaObservacion  ValorObservado  \\\n",
              "0        0042077020         0240  11/01/2023 07:30:00 PM             0.2   \n",
              "1        0042077020         0240  11/01/2023 11:10:00 PM             0.0   \n",
              "2        0042077020         0240  11/01/2023 03:10:00 PM             0.0   \n",
              "3        0042077020         0240  11/01/2023 09:30:00 PM             0.0   \n",
              "4        0042077020         0240  11/01/2023 05:40:00 PM             0.0   \n",
              "...             ...          ...                     ...             ...   \n",
              "9147     0042077020         0240  06/22/2024 02:20:00 AM             0.0   \n",
              "9148     0042077020         0240  06/22/2024 01:30:00 AM             0.0   \n",
              "9149     0042077020         0240  06/22/2024 01:40:00 AM             0.0   \n",
              "9150     0042077020         0240  06/22/2024 01:20:00 AM             0.0   \n",
              "9151     0042077020         0240  06/22/2024 02:00:00 AM             0.0   \n",
              "\n",
              "     NombreEstacion Departamento Municipio ZonaHidrografica Latitud Longitud  \n",
              "0              MITU       VAUPES      MITÚ           VAUPES    1.26   -70.24  \n",
              "1              MITU       VAUPES      MITÚ           VAUPES    1.26   -70.24  \n",
              "2              MITU       VAUPES      MITÚ           VAUPES    1.26   -70.24  \n",
              "3              MITU       VAUPES      MITÚ           VAUPES    1.26   -70.24  \n",
              "4              MITU       VAUPES      MITÚ           VAUPES    1.26   -70.24  \n",
              "...             ...          ...       ...              ...     ...      ...  \n",
              "9147           MITU       VAUPES      MITÚ           VAUPES    1.26   -70.24  \n",
              "9148           MITU       VAUPES      MITÚ           VAUPES    1.26   -70.24  \n",
              "9149           MITU       VAUPES      MITÚ           VAUPES    1.26   -70.24  \n",
              "9150           MITU       VAUPES      MITÚ           VAUPES    1.26   -70.24  \n",
              "9151           MITU       VAUPES      MITÚ           VAUPES    1.26   -70.24  \n",
              "\n",
              "[9152 rows x 10 columns]"
            ]
          },
          "execution_count": 30,
          "metadata": {},
          "output_type": "execute_result"
        }
      ],
      "source": [
        "df = pd.read_csv('../Datasets/Precipitaci_n_20241016(vaupes).csv',\n",
        "                 sep=',',\n",
        "                 usecols= [0,1,2,3,4,5,6,7,8,9],\n",
        "                 dtype={0:'category',1:'category',2:'str',3:'float32',4:'category',5:'category',6:'category',7:'category',8:'category',9:'category'}\n",
        "                 )\n",
        "df"
      ]
    },
    {
      "cell_type": "code",
      "execution_count": 31,
      "metadata": {},
      "outputs": [
        {
          "name": "stdout",
          "output_type": "stream",
          "text": [
            "<class 'pandas.core.frame.DataFrame'>\n",
            "RangeIndex: 9152 entries, 0 to 9151\n",
            "Data columns (total 10 columns):\n",
            " #   Column            Non-Null Count  Dtype   \n",
            "---  ------            --------------  -----   \n",
            " 0   CodigoEstacion    9152 non-null   category\n",
            " 1   CodigoSensor      9152 non-null   category\n",
            " 2   FechaObservacion  9152 non-null   object  \n",
            " 3   ValorObservado    9152 non-null   float32 \n",
            " 4   NombreEstacion    9152 non-null   category\n",
            " 5   Departamento      9152 non-null   category\n",
            " 6   Municipio         9152 non-null   category\n",
            " 7   ZonaHidrografica  9152 non-null   category\n",
            " 8   Latitud           9152 non-null   category\n",
            " 9   Longitud          9152 non-null   category\n",
            "dtypes: category(8), float32(1), object(1)\n",
            "memory usage: 178.9+ KB\n"
          ]
        }
      ],
      "source": [
        "df.info()"
      ]
    },
    {
      "cell_type": "markdown",
      "metadata": {},
      "source": [
        "Se muestra una comparación entre el tamaño del dataframe tras el cambio de formato a las columnas"
      ]
    },
    {
      "cell_type": "code",
      "execution_count": 32,
      "metadata": {},
      "outputs": [
        {
          "name": "stdout",
          "output_type": "stream",
          "text": [
            "0.1759772734217371\n"
          ]
        }
      ],
      "source": [
        "size_f=df.memory_usage(deep=True).sum()\n",
        "print(size_f/size_0)"
      ]
    },
    {
      "cell_type": "markdown",
      "metadata": {},
      "source": [
        "**Formato de fecha**"
      ]
    },
    {
      "cell_type": "code",
      "execution_count": 33,
      "metadata": {},
      "outputs": [],
      "source": [
        "df['FechaObservacion'] = pd.to_datetime(df['FechaObservacion'], format='%m/%d/%Y %H:%M:%S %p')"
      ]
    },
    {
      "cell_type": "code",
      "execution_count": 34,
      "metadata": {},
      "outputs": [
        {
          "name": "stdout",
          "output_type": "stream",
          "text": [
            "<class 'pandas.core.frame.DataFrame'>\n",
            "RangeIndex: 9152 entries, 0 to 9151\n",
            "Data columns (total 10 columns):\n",
            " #   Column            Non-Null Count  Dtype         \n",
            "---  ------            --------------  -----         \n",
            " 0   CodigoEstacion    9152 non-null   category      \n",
            " 1   CodigoSensor      9152 non-null   category      \n",
            " 2   FechaObservacion  9152 non-null   datetime64[ns]\n",
            " 3   ValorObservado    9152 non-null   float32       \n",
            " 4   NombreEstacion    9152 non-null   category      \n",
            " 5   Departamento      9152 non-null   category      \n",
            " 6   Municipio         9152 non-null   category      \n",
            " 7   ZonaHidrografica  9152 non-null   category      \n",
            " 8   Latitud           9152 non-null   category      \n",
            " 9   Longitud          9152 non-null   category      \n",
            "dtypes: category(8), datetime64[ns](1), float32(1)\n",
            "memory usage: 178.9 KB\n"
          ]
        }
      ],
      "source": [
        "df.info()"
      ]
    },
    {
      "cell_type": "code",
      "execution_count": 35,
      "metadata": {},
      "outputs": [],
      "source": [
        "df.to_parquet('../CleanDatasets/rain_vaupes.parquet')"
      ]
    },
    {
      "cell_type": "code",
      "execution_count": 8,
      "metadata": {},
      "outputs": [
        {
          "name": "stdout",
          "output_type": "stream",
          "text": [
            "['amazonas', 'antioquia', 'arauca', 'atlantico1', 'atlantico2', 'bogota1', 'bogota2', 'bogota3', 'bolivar1', 'bolivar2', 'boyaca', 'caldas', 'caqueta1', 'caqueta2', 'casanare', 'cauca', 'cesar', 'choco', 'choco1', 'cordoba1', 'cordoba2', 'cundinamarca', 'guainia', 'guajira', 'guaviare', 'huila', 'magdalena', 'meta', 'narino', 'narino1', 'nill', 'norte_de_santander', 'putumayo', 'quindio', 'risaralda', 'sanandres1', 'sanandres2', 'sanandres3', 'sanandres4', 'santander', 'sucre', 'tolima', 'valle_del_cauca', 'vaupes', 'vaupes1', 'vichada']\n"
          ]
        }
      ],
      "source": [
        "namesFiles = os.listdir('../Datasets')\n",
        "namesFiles = [re.findall(r'\\((\\w*)\\)',x)[0] for x in namesFiles]\n",
        "print(namesFiles)"
      ]
    },
    {
      "cell_type": "markdown",
      "metadata": {},
      "source": [
        "### Caquetá"
      ]
    },
    {
      "cell_type": "markdown",
      "metadata": {},
      "source": [
        "Tener en cuenta que la información sobre caquetá está almacenada en dos archivos"
      ]
    },
    {
      "cell_type": "markdown",
      "metadata": {},
      "source": [
        "#### Caquetá 2"
      ]
    },
    {
      "cell_type": "code",
      "execution_count": 9,
      "metadata": {},
      "outputs": [
        {
          "data": {
            "text/plain": [
              "'../Datasets/Precipitaci_n_20241016(caqueta2).csv'"
            ]
          },
          "execution_count": 9,
          "metadata": {},
          "output_type": "execute_result"
        }
      ],
      "source": [
        "nameFile = '../Datasets/Precipitaci_n_20241016('+ namesFiles[13] +').csv'\n",
        "nameFile"
      ]
    },
    {
      "cell_type": "code",
      "execution_count": 38,
      "metadata": {},
      "outputs": [
        {
          "data": {
            "text/html": [
              "<div>\n",
              "<style scoped>\n",
              "    .dataframe tbody tr th:only-of-type {\n",
              "        vertical-align: middle;\n",
              "    }\n",
              "\n",
              "    .dataframe tbody tr th {\n",
              "        vertical-align: top;\n",
              "    }\n",
              "\n",
              "    .dataframe thead th {\n",
              "        text-align: right;\n",
              "    }\n",
              "</style>\n",
              "<table border=\"1\" class=\"dataframe\">\n",
              "  <thead>\n",
              "    <tr style=\"text-align: right;\">\n",
              "      <th></th>\n",
              "      <th>CodigoEstacion</th>\n",
              "      <th>CodigoSensor</th>\n",
              "      <th>FechaObservacion</th>\n",
              "      <th>ValorObservado</th>\n",
              "      <th>NombreEstacion</th>\n",
              "      <th>Departamento</th>\n",
              "      <th>Municipio</th>\n",
              "      <th>ZonaHidrografica</th>\n",
              "      <th>Latitud</th>\n",
              "      <th>Longitud</th>\n",
              "    </tr>\n",
              "  </thead>\n",
              "  <tbody>\n",
              "    <tr>\n",
              "      <th>0</th>\n",
              "      <td>0044055010</td>\n",
              "      <td>0240</td>\n",
              "      <td>2023-09-13 01:50:00</td>\n",
              "      <td>0.0</td>\n",
              "      <td>TRES ESQUINAS</td>\n",
              "      <td>CAQUETÁ</td>\n",
              "      <td>SOLANO</td>\n",
              "      <td>CAQUETÁ</td>\n",
              "      <td>0.7375</td>\n",
              "      <td>-75.23611111</td>\n",
              "    </tr>\n",
              "    <tr>\n",
              "      <th>1</th>\n",
              "      <td>0044035501</td>\n",
              "      <td>0240</td>\n",
              "      <td>2023-09-18 06:30:00</td>\n",
              "      <td>0.0</td>\n",
              "      <td>PAUJIL</td>\n",
              "      <td>CAQUETÁ</td>\n",
              "      <td>EL PAUJIL</td>\n",
              "      <td>CAQUETÁ</td>\n",
              "      <td>1.57381944</td>\n",
              "      <td>-75.3402</td>\n",
              "    </tr>\n",
              "    <tr>\n",
              "      <th>2</th>\n",
              "      <td>0044035501</td>\n",
              "      <td>0240</td>\n",
              "      <td>2023-09-19 07:50:00</td>\n",
              "      <td>0.0</td>\n",
              "      <td>PAUJIL</td>\n",
              "      <td>CAQUETÁ</td>\n",
              "      <td>EL PAUJIL</td>\n",
              "      <td>CAQUETÁ</td>\n",
              "      <td>1.57381944</td>\n",
              "      <td>-75.3402</td>\n",
              "    </tr>\n",
              "    <tr>\n",
              "      <th>3</th>\n",
              "      <td>0044035501</td>\n",
              "      <td>0240</td>\n",
              "      <td>2023-09-19 07:30:00</td>\n",
              "      <td>0.0</td>\n",
              "      <td>PAUJIL</td>\n",
              "      <td>CAQUETÁ</td>\n",
              "      <td>EL PAUJIL</td>\n",
              "      <td>CAQUETÁ</td>\n",
              "      <td>1.57381944</td>\n",
              "      <td>-75.3402</td>\n",
              "    </tr>\n",
              "    <tr>\n",
              "      <th>4</th>\n",
              "      <td>0044035501</td>\n",
              "      <td>0240</td>\n",
              "      <td>2023-09-18 09:20:00</td>\n",
              "      <td>0.0</td>\n",
              "      <td>PAUJIL</td>\n",
              "      <td>CAQUETÁ</td>\n",
              "      <td>EL PAUJIL</td>\n",
              "      <td>CAQUETÁ</td>\n",
              "      <td>1.57381944</td>\n",
              "      <td>-75.3402</td>\n",
              "    </tr>\n",
              "    <tr>\n",
              "      <th>...</th>\n",
              "      <td>...</td>\n",
              "      <td>...</td>\n",
              "      <td>...</td>\n",
              "      <td>...</td>\n",
              "      <td>...</td>\n",
              "      <td>...</td>\n",
              "      <td>...</td>\n",
              "      <td>...</td>\n",
              "      <td>...</td>\n",
              "      <td>...</td>\n",
              "    </tr>\n",
              "    <tr>\n",
              "      <th>14541</th>\n",
              "      <td>0044055010</td>\n",
              "      <td>0240</td>\n",
              "      <td>2024-06-12 02:30:00</td>\n",
              "      <td>0.0</td>\n",
              "      <td>TRES ESQUINAS</td>\n",
              "      <td>CAQUETÁ</td>\n",
              "      <td>SOLANO</td>\n",
              "      <td>CAQUETÁ</td>\n",
              "      <td>0.7375</td>\n",
              "      <td>-75.23611111</td>\n",
              "    </tr>\n",
              "    <tr>\n",
              "      <th>14542</th>\n",
              "      <td>0044055010</td>\n",
              "      <td>0240</td>\n",
              "      <td>2024-06-12 06:30:00</td>\n",
              "      <td>0.0</td>\n",
              "      <td>TRES ESQUINAS</td>\n",
              "      <td>CAQUETÁ</td>\n",
              "      <td>SOLANO</td>\n",
              "      <td>CAQUETÁ</td>\n",
              "      <td>0.7375</td>\n",
              "      <td>-75.23611111</td>\n",
              "    </tr>\n",
              "    <tr>\n",
              "      <th>14543</th>\n",
              "      <td>0044055010</td>\n",
              "      <td>0240</td>\n",
              "      <td>2024-06-12 12:50:00</td>\n",
              "      <td>0.0</td>\n",
              "      <td>TRES ESQUINAS</td>\n",
              "      <td>CAQUETÁ</td>\n",
              "      <td>SOLANO</td>\n",
              "      <td>CAQUETÁ</td>\n",
              "      <td>0.7375</td>\n",
              "      <td>-75.23611111</td>\n",
              "    </tr>\n",
              "    <tr>\n",
              "      <th>14544</th>\n",
              "      <td>0044055010</td>\n",
              "      <td>0240</td>\n",
              "      <td>2024-06-12 02:10:00</td>\n",
              "      <td>0.0</td>\n",
              "      <td>TRES ESQUINAS</td>\n",
              "      <td>CAQUETÁ</td>\n",
              "      <td>SOLANO</td>\n",
              "      <td>CAQUETÁ</td>\n",
              "      <td>0.7375</td>\n",
              "      <td>-75.23611111</td>\n",
              "    </tr>\n",
              "    <tr>\n",
              "      <th>14545</th>\n",
              "      <td>0044055010</td>\n",
              "      <td>0240</td>\n",
              "      <td>2024-06-12 07:40:00</td>\n",
              "      <td>0.0</td>\n",
              "      <td>TRES ESQUINAS</td>\n",
              "      <td>CAQUETÁ</td>\n",
              "      <td>SOLANO</td>\n",
              "      <td>CAQUETÁ</td>\n",
              "      <td>0.7375</td>\n",
              "      <td>-75.23611111</td>\n",
              "    </tr>\n",
              "  </tbody>\n",
              "</table>\n",
              "<p>14546 rows × 10 columns</p>\n",
              "</div>"
            ],
            "text/plain": [
              "      CodigoEstacion CodigoSensor    FechaObservacion  ValorObservado  \\\n",
              "0         0044055010         0240 2023-09-13 01:50:00             0.0   \n",
              "1         0044035501         0240 2023-09-18 06:30:00             0.0   \n",
              "2         0044035501         0240 2023-09-19 07:50:00             0.0   \n",
              "3         0044035501         0240 2023-09-19 07:30:00             0.0   \n",
              "4         0044035501         0240 2023-09-18 09:20:00             0.0   \n",
              "...              ...          ...                 ...             ...   \n",
              "14541     0044055010         0240 2024-06-12 02:30:00             0.0   \n",
              "14542     0044055010         0240 2024-06-12 06:30:00             0.0   \n",
              "14543     0044055010         0240 2024-06-12 12:50:00             0.0   \n",
              "14544     0044055010         0240 2024-06-12 02:10:00             0.0   \n",
              "14545     0044055010         0240 2024-06-12 07:40:00             0.0   \n",
              "\n",
              "      NombreEstacion Departamento  Municipio ZonaHidrografica     Latitud  \\\n",
              "0      TRES ESQUINAS      CAQUETÁ     SOLANO          CAQUETÁ      0.7375   \n",
              "1             PAUJIL      CAQUETÁ  EL PAUJIL          CAQUETÁ  1.57381944   \n",
              "2             PAUJIL      CAQUETÁ  EL PAUJIL          CAQUETÁ  1.57381944   \n",
              "3             PAUJIL      CAQUETÁ  EL PAUJIL          CAQUETÁ  1.57381944   \n",
              "4             PAUJIL      CAQUETÁ  EL PAUJIL          CAQUETÁ  1.57381944   \n",
              "...              ...          ...        ...              ...         ...   \n",
              "14541  TRES ESQUINAS      CAQUETÁ     SOLANO          CAQUETÁ      0.7375   \n",
              "14542  TRES ESQUINAS      CAQUETÁ     SOLANO          CAQUETÁ      0.7375   \n",
              "14543  TRES ESQUINAS      CAQUETÁ     SOLANO          CAQUETÁ      0.7375   \n",
              "14544  TRES ESQUINAS      CAQUETÁ     SOLANO          CAQUETÁ      0.7375   \n",
              "14545  TRES ESQUINAS      CAQUETÁ     SOLANO          CAQUETÁ      0.7375   \n",
              "\n",
              "           Longitud  \n",
              "0      -75.23611111  \n",
              "1          -75.3402  \n",
              "2          -75.3402  \n",
              "3          -75.3402  \n",
              "4          -75.3402  \n",
              "...             ...  \n",
              "14541  -75.23611111  \n",
              "14542  -75.23611111  \n",
              "14543  -75.23611111  \n",
              "14544  -75.23611111  \n",
              "14545  -75.23611111  \n",
              "\n",
              "[14546 rows x 10 columns]"
            ]
          },
          "execution_count": 38,
          "metadata": {},
          "output_type": "execute_result"
        }
      ],
      "source": [
        "df_caqueta2 = pd.read_csv(nameFile,\n",
        "                 sep=',',\n",
        "                 usecols= [0,1,2,3,4,5,6,7,8,9],\n",
        "                 dtype={0:'category',1:'category',2:'str',3:'float32',4:'category',5:'category',6:'category',7:'category',8:'category',9:'category'}\n",
        "                 )\n",
        "df_caqueta2['FechaObservacion'] = pd.to_datetime(df_caqueta2['FechaObservacion'], format='%m/%d/%Y %H:%M:%S %p')\n",
        "df_caqueta2"
      ]
    },
    {
      "cell_type": "markdown",
      "metadata": {},
      "source": [
        "La siguiente celda imprimirá la cantidad de valores de nulos"
      ]
    },
    {
      "cell_type": "code",
      "execution_count": 39,
      "metadata": {},
      "outputs": [
        {
          "name": "stdout",
          "output_type": "stream",
          "text": [
            "0\n"
          ]
        }
      ],
      "source": [
        "nulls = df_caqueta2.count(axis=1).sum()\n",
        "size = df_caqueta2.shape[0]*df_caqueta2.shape[1]\n",
        "print(size-nulls)"
      ]
    },
    {
      "cell_type": "markdown",
      "metadata": {},
      "source": [
        "De nuevo se observa que el archivo tiene un tamaño menor y que los diferentes formatos son aplicados correctamente a cada columna"
      ]
    },
    {
      "cell_type": "code",
      "execution_count": 40,
      "metadata": {},
      "outputs": [
        {
          "name": "stdout",
          "output_type": "stream",
          "text": [
            "<class 'pandas.core.frame.DataFrame'>\n",
            "RangeIndex: 14546 entries, 0 to 14545\n",
            "Data columns (total 10 columns):\n",
            " #   Column            Non-Null Count  Dtype         \n",
            "---  ------            --------------  -----         \n",
            " 0   CodigoEstacion    14546 non-null  category      \n",
            " 1   CodigoSensor      14546 non-null  category      \n",
            " 2   FechaObservacion  14546 non-null  datetime64[ns]\n",
            " 3   ValorObservado    14546 non-null  float32       \n",
            " 4   NombreEstacion    14546 non-null  category      \n",
            " 5   Departamento      14546 non-null  category      \n",
            " 6   Municipio         14546 non-null  category      \n",
            " 7   ZonaHidrografica  14546 non-null  category      \n",
            " 8   Latitud           14546 non-null  category      \n",
            " 9   Longitud          14546 non-null  category      \n",
            "dtypes: category(8), datetime64[ns](1), float32(1)\n",
            "memory usage: 285.1 KB\n"
          ]
        }
      ],
      "source": [
        "df_caqueta2.info()\n",
        "#df_caqueta2.describe()"
      ]
    },
    {
      "cell_type": "markdown",
      "metadata": {},
      "source": [
        "### Todos los departamentos"
      ]
    },
    {
      "cell_type": "code",
      "execution_count": 7,
      "metadata": {},
      "outputs": [
        {
          "name": "stdout",
          "output_type": "stream",
          "text": [
            "['amazonas', 'antioquia', 'arauca', 'atlantico1', 'atlantico2', 'bogota1', 'bogota2', 'bogota3', 'bolivar1', 'bolivar2', 'boyaca', 'caldas', 'caqueta1', 'caqueta2', 'casanare', 'cauca', 'cesar', 'choco', 'choco1', 'cordoba1', 'cordoba2', 'cundinamarca', 'guainia', 'guajira', 'guaviare', 'huila', 'magdalena', 'meta', 'narino', 'narino1', 'nill', 'norte_de_santander', 'putumayo', 'quindio', 'risaralda', 'sanandres1', 'sanandres2', 'sanandres3', 'sanandres4', 'santander', 'sucre', 'tolima', 'valle_del_cauca', 'vaupes', 'vaupes1', 'vichada']\n",
            "46\n"
          ]
        }
      ],
      "source": [
        "print(namesFiles)\n",
        "print(len(namesFiles))"
      ]
    },
    {
      "cell_type": "code",
      "execution_count": 42,
      "metadata": {},
      "outputs": [],
      "source": [
        "for name in namesFiles[:]:\n",
        "    nameFile = '../Datasets/Precipitaci_n_20241016('+ name +').csv'\n",
        "    df_dept = pd.read_csv(nameFile,\n",
        "                 sep=',',\n",
        "                 usecols= [0,1,2,3,4,5,6,7,8,9],\n",
        "                 dtype={0:'category',1:'category',2:'str',3:'float32',4:'category',5:'category',6:'category',7:'category',8:'category',9:'category'}\n",
        "                 )\n",
        "    df_dept['FechaObservacion'] = pd.to_datetime(df_dept['FechaObservacion'], format='%m/%d/%Y %H:%M:%S %p')\n",
        "    nulls = df_dept.count(axis=1).sum()\n",
        "    size = df_dept.shape[0]*df_dept.shape[1]\n",
        "    if nulls-size != 0:\n",
        "        print(f'{nulls-size} nulls in {name}, parquet file can not created')\n",
        "    else:\n",
        "        df_dept.to_parquet(f'../CleanDatasets/rain_{name}.parquet')\n"
      ]
    },
    {
      "cell_type": "markdown",
      "metadata": {},
      "source": [
        "# Consolidación de archivos"
      ]
    },
    {
      "cell_type": "markdown",
      "metadata": {},
      "source": [
        "Se requiere un conjunto de datos que contiene la información de las estaciones de monitoreo.\n",
        "\n",
        "A continuación se listan los archivos de la segunda carpeta que contiene los datasets:\n",
        "\n",
        "    - Catálogo nacional de estaciones (Contine el listado de las estaciones)\n",
        "    - Datos de estaciones IDEAM y terceros (Contiene mediciones de diversas estaciones propias y externas al IDEAM)\n",
        "    - Datos hidrometeorológicos (Mediciones de temperatura)\n",
        "    - Presión atmosférica  "
      ]
    },
    {
      "cell_type": "code",
      "execution_count": 6,
      "metadata": {},
      "outputs": [
        {
          "name": "stdout",
          "output_type": "stream",
          "text": [
            "['Cat_logo_Nacional_de_Estaciones_del_IDEAM_20241017.csv', 'Datos_de_Estaciones_de_IDEAM_y_de_Terceros_20241017.csv', 'Datos_Hidrometeorol_gicos_Crudos_-_Red_de_Estaciones_IDEAM___Temperatura_20241017(0).csv', 'Datos_Hidrometeorol_gicos_Crudos_-_Red_de_Estaciones_IDEAM___Temperatura_20241017(1).csv', 'Datos_Hidrometeorol_gicos_Crudos_-_Red_de_Estaciones_IDEAM___Temperatura_20241017(2).csv', 'Datos_Hidrometeorol_gicos_Crudos_-_Red_de_Estaciones_IDEAM___Temperatura_20241017(3).csv', 'Datos_Hidrometeorol_gicos_Crudos_-_Red_de_Estaciones_IDEAM___Temperatura_20241017(4).csv', 'Presi_n_Atmosf_rica_20241017.csv']\n"
          ]
        }
      ],
      "source": [
        "namesFiles2 = os.listdir('../Datasets2')\n",
        "namesFiles2 = [x for x in namesFiles2]\n",
        "print(namesFiles2)"
      ]
    },
    {
      "cell_type": "markdown",
      "metadata": {},
      "source": [
        "### Limpieza *DATOS ESTACIONES IDEAM*"
      ]
    },
    {
      "cell_type": "markdown",
      "metadata": {},
      "source": [
        "La ruta de acceso al archivo de Datos estaciones IDEAM es f'../Datasets2/{namesFiles2[1]}'"
      ]
    },
    {
      "cell_type": "code",
      "execution_count": 14,
      "metadata": {},
      "outputs": [
        {
          "data": {
            "text/html": [
              "<div>\n",
              "<style scoped>\n",
              "    .dataframe tbody tr th:only-of-type {\n",
              "        vertical-align: middle;\n",
              "    }\n",
              "\n",
              "    .dataframe tbody tr th {\n",
              "        vertical-align: top;\n",
              "    }\n",
              "\n",
              "    .dataframe thead th {\n",
              "        text-align: right;\n",
              "    }\n",
              "</style>\n",
              "<table border=\"1\" class=\"dataframe\">\n",
              "  <thead>\n",
              "    <tr style=\"text-align: right;\">\n",
              "      <th></th>\n",
              "      <th>CodigoEstacion</th>\n",
              "      <th>CodigoSensor</th>\n",
              "      <th>FechaObservacion</th>\n",
              "      <th>ValorObservado</th>\n",
              "      <th>NombreEstacion</th>\n",
              "      <th>Departamento</th>\n",
              "      <th>Municipio</th>\n",
              "      <th>ZonaHidrografica</th>\n",
              "      <th>Latitud</th>\n",
              "      <th>Longitud</th>\n",
              "      <th>DescripcionSensor</th>\n",
              "      <th>UnidadMedida</th>\n",
              "      <th>Entidad</th>\n",
              "    </tr>\n",
              "  </thead>\n",
              "  <tbody>\n",
              "    <tr>\n",
              "      <th>0</th>\n",
              "      <td>2120500204</td>\n",
              "      <td>69</td>\n",
              "      <td>10/15/2024 09:04:00 PM</td>\n",
              "      <td>15.8</td>\n",
              "      <td>IDEAM PUENTE ARANDA</td>\n",
              "      <td>BOGOTÁ</td>\n",
              "      <td>BOGOTÁ D.C</td>\n",
              "      <td>ALTO MAGDALENA</td>\n",
              "      <td>4.621556</td>\n",
              "      <td>-74.104709</td>\n",
              "      <td>TEMPERATURA DEL AIRE MÁXIMA A 2 m</td>\n",
              "      <td>°C</td>\n",
              "      <td>INSTITUTO DE HIDROLOGIA METEOROLOGIA Y ESTUDIO...</td>\n",
              "    </tr>\n",
              "    <tr>\n",
              "      <th>1</th>\n",
              "      <td>2120500204</td>\n",
              "      <td>70</td>\n",
              "      <td>10/15/2024 09:59:00 PM</td>\n",
              "      <td>15.5</td>\n",
              "      <td>IDEAM PUENTE ARANDA</td>\n",
              "      <td>BOGOTÁ</td>\n",
              "      <td>BOGOTÁ D.C</td>\n",
              "      <td>ALTO MAGDALENA</td>\n",
              "      <td>4.621556</td>\n",
              "      <td>-74.104709</td>\n",
              "      <td>TEMPERATURA MÍNIMA DEL AIRE A 2 m</td>\n",
              "      <td>°C</td>\n",
              "      <td>INSTITUTO DE HIDROLOGIA METEOROLOGIA Y ESTUDIO...</td>\n",
              "    </tr>\n",
              "    <tr>\n",
              "      <th>2</th>\n",
              "      <td>2120500204</td>\n",
              "      <td>69</td>\n",
              "      <td>10/15/2024 10:25:00 PM</td>\n",
              "      <td>15.7</td>\n",
              "      <td>IDEAM PUENTE ARANDA</td>\n",
              "      <td>BOGOTÁ</td>\n",
              "      <td>BOGOTÁ D.C</td>\n",
              "      <td>ALTO MAGDALENA</td>\n",
              "      <td>4.621556</td>\n",
              "      <td>-74.104709</td>\n",
              "      <td>TEMPERATURA DEL AIRE MÁXIMA A 2 m</td>\n",
              "      <td>°C</td>\n",
              "      <td>INSTITUTO DE HIDROLOGIA METEOROLOGIA Y ESTUDIO...</td>\n",
              "    </tr>\n",
              "  </tbody>\n",
              "</table>\n",
              "</div>"
            ],
            "text/plain": [
              "   CodigoEstacion  CodigoSensor        FechaObservacion  ValorObservado  \\\n",
              "0      2120500204            69  10/15/2024 09:04:00 PM            15.8   \n",
              "1      2120500204            70  10/15/2024 09:59:00 PM            15.5   \n",
              "2      2120500204            69  10/15/2024 10:25:00 PM            15.7   \n",
              "\n",
              "        NombreEstacion Departamento   Municipio ZonaHidrografica   Latitud  \\\n",
              "0  IDEAM PUENTE ARANDA       BOGOTÁ  BOGOTÁ D.C   ALTO MAGDALENA  4.621556   \n",
              "1  IDEAM PUENTE ARANDA       BOGOTÁ  BOGOTÁ D.C   ALTO MAGDALENA  4.621556   \n",
              "2  IDEAM PUENTE ARANDA       BOGOTÁ  BOGOTÁ D.C   ALTO MAGDALENA  4.621556   \n",
              "\n",
              "    Longitud                  DescripcionSensor UnidadMedida  \\\n",
              "0 -74.104709  TEMPERATURA DEL AIRE MÁXIMA A 2 m           °C   \n",
              "1 -74.104709  TEMPERATURA MÍNIMA DEL AIRE A 2 m           °C   \n",
              "2 -74.104709  TEMPERATURA DEL AIRE MÁXIMA A 2 m           °C   \n",
              "\n",
              "                                             Entidad  \n",
              "0  INSTITUTO DE HIDROLOGIA METEOROLOGIA Y ESTUDIO...  \n",
              "1  INSTITUTO DE HIDROLOGIA METEOROLOGIA Y ESTUDIO...  \n",
              "2  INSTITUTO DE HIDROLOGIA METEOROLOGIA Y ESTUDIO...  "
            ]
          },
          "execution_count": 14,
          "metadata": {},
          "output_type": "execute_result"
        }
      ],
      "source": [
        "df_estaciones = pd.read_csv(f'../Datasets2/{namesFiles2[1]}',\n",
        "                            sep=',',\n",
        "                            nrows=3\n",
        ")\n",
        "df_estaciones"
      ]
    },
    {
      "cell_type": "code",
      "execution_count": 16,
      "metadata": {},
      "outputs": [
        {
          "name": "stdout",
          "output_type": "stream",
          "text": [
            "<class 'pandas.core.frame.DataFrame'>\n",
            "RangeIndex: 202642 entries, 0 to 202641\n",
            "Data columns (total 13 columns):\n",
            " #   Column             Non-Null Count   Dtype   \n",
            "---  ------             --------------   -----   \n",
            " 0   CodigoEstacion     202642 non-null  category\n",
            " 1   CodigoSensor       202642 non-null  category\n",
            " 2   FechaObservacion   202642 non-null  object  \n",
            " 3   ValorObservado     202642 non-null  float32 \n",
            " 4   NombreEstacion     202642 non-null  category\n",
            " 5   Departamento       202642 non-null  category\n",
            " 6   Municipio          202642 non-null  category\n",
            " 7   ZonaHidrografica   202642 non-null  category\n",
            " 8   Latitud            202642 non-null  category\n",
            " 9   Longitud           202642 non-null  category\n",
            " 10  DescripcionSensor  202642 non-null  category\n",
            " 11  UnidadMedida       202642 non-null  category\n",
            " 12  Entidad            202642 non-null  category\n",
            "dtypes: category(11), float32(1), object(1)\n",
            "memory usage: 5.3+ MB\n"
          ]
        }
      ],
      "source": [
        "df_estaciones = pd.read_csv(f'../Datasets2/{namesFiles2[1]}',\n",
        "                            sep=',',\n",
        "                            dtype={0:'category',1:'category',2:'str',3:'float32',4:'category',5:'category',6:'category',7:'category',8:'category',9:'category',10:'category',11:'category',12:'category'}\n",
        "                            #nrows=3\n",
        ")\n",
        "df_estaciones.info()"
      ]
    },
    {
      "cell_type": "markdown",
      "metadata": {},
      "source": [
        "Se evidencia que no hay valores nulos. Hacemos una conversión a formato de fecha y almacenamos el archivo en formato .parquet"
      ]
    },
    {
      "cell_type": "code",
      "execution_count": 22,
      "metadata": {},
      "outputs": [
        {
          "name": "stdout",
          "output_type": "stream",
          "text": [
            "<class 'pandas.core.frame.DataFrame'>\n",
            "RangeIndex: 202642 entries, 0 to 202641\n",
            "Data columns (total 13 columns):\n",
            " #   Column             Non-Null Count   Dtype         \n",
            "---  ------             --------------   -----         \n",
            " 0   CodigoEstacion     202642 non-null  category      \n",
            " 1   CodigoSensor       202642 non-null  category      \n",
            " 2   FechaObservacion   202642 non-null  datetime64[ns]\n",
            " 3   ValorObservado     202642 non-null  float32       \n",
            " 4   NombreEstacion     202642 non-null  category      \n",
            " 5   Departamento       202642 non-null  category      \n",
            " 6   Municipio          202642 non-null  category      \n",
            " 7   ZonaHidrografica   202642 non-null  category      \n",
            " 8   Latitud            202642 non-null  category      \n",
            " 9   Longitud           202642 non-null  category      \n",
            " 10  DescripcionSensor  202642 non-null  category      \n",
            " 11  UnidadMedida       202642 non-null  category      \n",
            " 12  Entidad            202642 non-null  category      \n",
            "dtypes: category(11), datetime64[ns](1), float32(1)\n",
            "memory usage: 5.3 MB\n"
          ]
        }
      ],
      "source": [
        "df_estaciones['FechaObservacion'] = pd.to_datetime(df_estaciones['FechaObservacion'], format='%m/%d/%Y %H:%M:%S %p')\n",
        "df_estaciones.info()"
      ]
    },
    {
      "cell_type": "code",
      "execution_count": 24,
      "metadata": {},
      "outputs": [],
      "source": [
        "df_estaciones.to_parquet('../CleanDatasets2/estaciones.parquet')"
      ]
    },
    {
      "cell_type": "markdown",
      "metadata": {},
      "source": [
        "### Limpieza *DATOS PRESIÓN ATMOSFÉRICA*"
      ]
    },
    {
      "cell_type": "code",
      "execution_count": 25,
      "metadata": {},
      "outputs": [
        {
          "data": {
            "text/plain": [
              "['Cat_logo_Nacional_de_Estaciones_del_IDEAM_20241017.csv',\n",
              " 'Datos_de_Estaciones_de_IDEAM_y_de_Terceros_20241017.csv',\n",
              " 'Datos_Hidrometeorol_gicos_Crudos_-_Red_de_Estaciones_IDEAM___Temperatura_20241017(0).csv',\n",
              " 'Datos_Hidrometeorol_gicos_Crudos_-_Red_de_Estaciones_IDEAM___Temperatura_20241017(1).csv',\n",
              " 'Datos_Hidrometeorol_gicos_Crudos_-_Red_de_Estaciones_IDEAM___Temperatura_20241017(2).csv',\n",
              " 'Datos_Hidrometeorol_gicos_Crudos_-_Red_de_Estaciones_IDEAM___Temperatura_20241017(3).csv',\n",
              " 'Datos_Hidrometeorol_gicos_Crudos_-_Red_de_Estaciones_IDEAM___Temperatura_20241017(4).csv',\n",
              " 'Presi_n_Atmosf_rica_20241017.csv']"
            ]
          },
          "execution_count": 25,
          "metadata": {},
          "output_type": "execute_result"
        }
      ],
      "source": [
        "namesFiles2"
      ]
    },
    {
      "cell_type": "markdown",
      "metadata": {},
      "source": [
        "La ruta de acceso a los datos de presión atmosférica es: f '../Datasets2/{namesFiles2[-1]}']"
      ]
    },
    {
      "cell_type": "code",
      "execution_count": 27,
      "metadata": {},
      "outputs": [
        {
          "data": {
            "text/html": [
              "<div>\n",
              "<style scoped>\n",
              "    .dataframe tbody tr th:only-of-type {\n",
              "        vertical-align: middle;\n",
              "    }\n",
              "\n",
              "    .dataframe tbody tr th {\n",
              "        vertical-align: top;\n",
              "    }\n",
              "\n",
              "    .dataframe thead th {\n",
              "        text-align: right;\n",
              "    }\n",
              "</style>\n",
              "<table border=\"1\" class=\"dataframe\">\n",
              "  <thead>\n",
              "    <tr style=\"text-align: right;\">\n",
              "      <th></th>\n",
              "      <th>CodigoEstacion</th>\n",
              "      <th>CodigoSensor</th>\n",
              "      <th>FechaObservacion</th>\n",
              "      <th>ValorObservado</th>\n",
              "      <th>NombreEstacion</th>\n",
              "      <th>Departamento</th>\n",
              "      <th>Municipio</th>\n",
              "      <th>ZonaHidrografica</th>\n",
              "      <th>Latitud</th>\n",
              "      <th>Longitud</th>\n",
              "      <th>DescripcionSensor</th>\n",
              "      <th>UnidadMedida</th>\n",
              "    </tr>\n",
              "  </thead>\n",
              "  <tbody>\n",
              "    <tr>\n",
              "      <th>0</th>\n",
              "      <td>36015020</td>\n",
              "      <td>255</td>\n",
              "      <td>10/03/2017 06:00:00 AM</td>\n",
              "      <td>992.5</td>\n",
              "      <td>EL DIAMANTE - AUT</td>\n",
              "      <td>CASANARE</td>\n",
              "      <td>PAZ DE ARIPORO</td>\n",
              "      <td>META</td>\n",
              "      <td>5.816194</td>\n",
              "      <td>-71.419833</td>\n",
              "      <td>Presión Atmosferica (1h)</td>\n",
              "      <td>HPa</td>\n",
              "    </tr>\n",
              "    <tr>\n",
              "      <th>1</th>\n",
              "      <td>21195190</td>\n",
              "      <td>255</td>\n",
              "      <td>02/14/2014 05:00:00 AM</td>\n",
              "      <td>785.2</td>\n",
              "      <td>PASCA - AUT</td>\n",
              "      <td>CUNDINAMARCA</td>\n",
              "      <td>PASCA</td>\n",
              "      <td>ALTO MAGDALENA</td>\n",
              "      <td>4.310111</td>\n",
              "      <td>-74.311750</td>\n",
              "      <td>Presión Atmosferica (1h)</td>\n",
              "      <td>HPa</td>\n",
              "    </tr>\n",
              "    <tr>\n",
              "      <th>2</th>\n",
              "      <td>21015050</td>\n",
              "      <td>255</td>\n",
              "      <td>09/27/2013 06:00:00 PM</td>\n",
              "      <td>805.3</td>\n",
              "      <td>PURACE  - AUT</td>\n",
              "      <td>HUILA</td>\n",
              "      <td>SAN AGUSTÍN</td>\n",
              "      <td>ALTO MAGDALENA</td>\n",
              "      <td>1.925917</td>\n",
              "      <td>-76.427556</td>\n",
              "      <td>Presión Atmosferica (1h)</td>\n",
              "      <td>HPa</td>\n",
              "    </tr>\n",
              "  </tbody>\n",
              "</table>\n",
              "</div>"
            ],
            "text/plain": [
              "   CodigoEstacion  CodigoSensor        FechaObservacion  ValorObservado  \\\n",
              "0        36015020           255  10/03/2017 06:00:00 AM           992.5   \n",
              "1        21195190           255  02/14/2014 05:00:00 AM           785.2   \n",
              "2        21015050           255  09/27/2013 06:00:00 PM           805.3   \n",
              "\n",
              "      NombreEstacion  Departamento       Municipio ZonaHidrografica   Latitud  \\\n",
              "0  EL DIAMANTE - AUT      CASANARE  PAZ DE ARIPORO             META  5.816194   \n",
              "1        PASCA - AUT  CUNDINAMARCA           PASCA   ALTO MAGDALENA  4.310111   \n",
              "2      PURACE  - AUT         HUILA     SAN AGUSTÍN   ALTO MAGDALENA  1.925917   \n",
              "\n",
              "    Longitud         DescripcionSensor UnidadMedida  \n",
              "0 -71.419833  Presión Atmosferica (1h)          HPa  \n",
              "1 -74.311750  Presión Atmosferica (1h)          HPa  \n",
              "2 -76.427556  Presión Atmosferica (1h)          HPa  "
            ]
          },
          "execution_count": 27,
          "metadata": {},
          "output_type": "execute_result"
        }
      ],
      "source": [
        "df_presion = pd.read_csv(\n",
        "                        f'../Datasets2/{namesFiles2[-1]}',\n",
        "                        sep=',',\n",
        "                        nrows=3\n",
        ")\n",
        "df_presion"
      ]
    },
    {
      "cell_type": "code",
      "execution_count": 28,
      "metadata": {},
      "outputs": [
        {
          "name": "stdout",
          "output_type": "stream",
          "text": [
            "<class 'pandas.core.frame.DataFrame'>\n",
            "RangeIndex: 22611008 entries, 0 to 22611007\n",
            "Data columns (total 12 columns):\n",
            " #   Column             Dtype   \n",
            "---  ------             -----   \n",
            " 0   CodigoEstacion     category\n",
            " 1   CodigoSensor       category\n",
            " 2   FechaObservacion   object  \n",
            " 3   ValorObservado     float32 \n",
            " 4   NombreEstacion     category\n",
            " 5   Departamento       category\n",
            " 6   Municipio          category\n",
            " 7   ZonaHidrografica   category\n",
            " 8   Latitud            category\n",
            " 9   Longitud           category\n",
            " 10  DescripcionSensor  category\n",
            " 11  UnidadMedida       category\n",
            "dtypes: category(10), float32(1), object(1)\n",
            "memory usage: 582.3+ MB\n"
          ]
        }
      ],
      "source": [
        "df_presion = pd.read_csv(\n",
        "                        f'../Datasets2/{namesFiles2[-1]}',\n",
        "                        sep=',',\n",
        "                        dtype={0:'category',1:'category',2:'str',3:'float32',4:'category',5:'category',6:'category',7:'category',8:'category',9:'category',10:'category',11:'category'}\n",
        ")\n",
        "df_presion.info()"
      ]
    },
    {
      "cell_type": "code",
      "execution_count": 30,
      "metadata": {},
      "outputs": [
        {
          "data": {
            "text/html": [
              "<div>\n",
              "<style scoped>\n",
              "    .dataframe tbody tr th:only-of-type {\n",
              "        vertical-align: middle;\n",
              "    }\n",
              "\n",
              "    .dataframe tbody tr th {\n",
              "        vertical-align: top;\n",
              "    }\n",
              "\n",
              "    .dataframe thead th {\n",
              "        text-align: right;\n",
              "    }\n",
              "</style>\n",
              "<table border=\"1\" class=\"dataframe\">\n",
              "  <thead>\n",
              "    <tr style=\"text-align: right;\">\n",
              "      <th></th>\n",
              "      <th>CodigoEstacion</th>\n",
              "      <th>CodigoSensor</th>\n",
              "      <th>FechaObservacion</th>\n",
              "      <th>ValorObservado</th>\n",
              "      <th>NombreEstacion</th>\n",
              "      <th>Departamento</th>\n",
              "      <th>Municipio</th>\n",
              "      <th>ZonaHidrografica</th>\n",
              "      <th>Latitud</th>\n",
              "      <th>Longitud</th>\n",
              "      <th>DescripcionSensor</th>\n",
              "      <th>UnidadMedida</th>\n",
              "    </tr>\n",
              "  </thead>\n",
              "  <tbody>\n",
              "    <tr>\n",
              "      <th>0</th>\n",
              "      <td>0036015020</td>\n",
              "      <td>0255</td>\n",
              "      <td>2017-10-03 06:00:00</td>\n",
              "      <td>992.500000</td>\n",
              "      <td>EL DIAMANTE - AUT</td>\n",
              "      <td>CASANARE</td>\n",
              "      <td>PAZ DE ARIPORO</td>\n",
              "      <td>META</td>\n",
              "      <td>5.816194444</td>\n",
              "      <td>-71.41983333</td>\n",
              "      <td>Presión Atmosferica (1h)</td>\n",
              "      <td>HPa</td>\n",
              "    </tr>\n",
              "    <tr>\n",
              "      <th>1</th>\n",
              "      <td>0021195190</td>\n",
              "      <td>0255</td>\n",
              "      <td>2014-02-14 05:00:00</td>\n",
              "      <td>785.200012</td>\n",
              "      <td>PASCA - AUT</td>\n",
              "      <td>CUNDINAMARCA</td>\n",
              "      <td>PASCA</td>\n",
              "      <td>ALTO MAGDALENA</td>\n",
              "      <td>4.310111111</td>\n",
              "      <td>-74.31175</td>\n",
              "      <td>Presión Atmosferica (1h)</td>\n",
              "      <td>HPa</td>\n",
              "    </tr>\n",
              "    <tr>\n",
              "      <th>2</th>\n",
              "      <td>0021015050</td>\n",
              "      <td>0255</td>\n",
              "      <td>2013-09-27 06:00:00</td>\n",
              "      <td>805.299988</td>\n",
              "      <td>PURACE  - AUT</td>\n",
              "      <td>HUILA</td>\n",
              "      <td>SAN AGUSTÍN</td>\n",
              "      <td>ALTO MAGDALENA</td>\n",
              "      <td>1.925916667</td>\n",
              "      <td>-76.42755556</td>\n",
              "      <td>Presión Atmosferica (1h)</td>\n",
              "      <td>HPa</td>\n",
              "    </tr>\n",
              "    <tr>\n",
              "      <th>3</th>\n",
              "      <td>0021115010</td>\n",
              "      <td>0255</td>\n",
              "      <td>2005-11-28 10:00:00</td>\n",
              "      <td>958.500000</td>\n",
              "      <td>DESIERTO TATACOA</td>\n",
              "      <td>HUILA</td>\n",
              "      <td>VILLAVIEJA</td>\n",
              "      <td>ALTO MAGDALENA</td>\n",
              "      <td>3.234</td>\n",
              "      <td>-75.168</td>\n",
              "      <td>Presión Atmosferica (1h)</td>\n",
              "      <td>HPa</td>\n",
              "    </tr>\n",
              "    <tr>\n",
              "      <th>4</th>\n",
              "      <td>0028035060</td>\n",
              "      <td>0255</td>\n",
              "      <td>2008-04-08 04:00:00</td>\n",
              "      <td>988.700012</td>\n",
              "      <td>FEDEARROZ - AUT</td>\n",
              "      <td>CESAR</td>\n",
              "      <td>VALLEDUPAR</td>\n",
              "      <td>CESAR</td>\n",
              "      <td>10.46361111</td>\n",
              "      <td>-73.24805556</td>\n",
              "      <td>Presión Atmosferica (1h)</td>\n",
              "      <td>HPa</td>\n",
              "    </tr>\n",
              "    <tr>\n",
              "      <th>...</th>\n",
              "      <td>...</td>\n",
              "      <td>...</td>\n",
              "      <td>...</td>\n",
              "      <td>...</td>\n",
              "      <td>...</td>\n",
              "      <td>...</td>\n",
              "      <td>...</td>\n",
              "      <td>...</td>\n",
              "      <td>...</td>\n",
              "      <td>...</td>\n",
              "      <td>...</td>\n",
              "      <td>...</td>\n",
              "    </tr>\n",
              "    <tr>\n",
              "      <th>22611003</th>\n",
              "      <td>0048015050</td>\n",
              "      <td>0258</td>\n",
              "      <td>2024-10-16 11:04:00</td>\n",
              "      <td>1000.500000</td>\n",
              "      <td>AEROPUERTO VASQUEZ COBO</td>\n",
              "      <td>AMAZONAS</td>\n",
              "      <td>LETICIA</td>\n",
              "      <td>AMAZONAS - DIRECTOS</td>\n",
              "      <td>-4.193861111</td>\n",
              "      <td>-69.94091667</td>\n",
              "      <td>GPRS - PRESIÓN ATMOSFÉRICA</td>\n",
              "      <td>hPA</td>\n",
              "    </tr>\n",
              "    <tr>\n",
              "      <th>22611004</th>\n",
              "      <td>0048015050</td>\n",
              "      <td>0258</td>\n",
              "      <td>2024-10-16 09:08:00</td>\n",
              "      <td>1004.099976</td>\n",
              "      <td>AEROPUERTO VASQUEZ COBO</td>\n",
              "      <td>AMAZONAS</td>\n",
              "      <td>LETICIA</td>\n",
              "      <td>AMAZONAS - DIRECTOS</td>\n",
              "      <td>-4.193861111</td>\n",
              "      <td>-69.94091667</td>\n",
              "      <td>GPRS - PRESIÓN ATMOSFÉRICA</td>\n",
              "      <td>hPA</td>\n",
              "    </tr>\n",
              "    <tr>\n",
              "      <th>22611005</th>\n",
              "      <td>0016015501</td>\n",
              "      <td>0258</td>\n",
              "      <td>2024-10-16 07:02:00</td>\n",
              "      <td>972.900024</td>\n",
              "      <td>AEROPUERTO CAMILO DAZA</td>\n",
              "      <td>NORTE DE SANTANDER</td>\n",
              "      <td>CÚCUTA</td>\n",
              "      <td>CATATUMBO</td>\n",
              "      <td>7.93028</td>\n",
              "      <td>-72.50917</td>\n",
              "      <td>GPRS - PRESIÓN ATMOSFÉRICA</td>\n",
              "      <td>hPA</td>\n",
              "    </tr>\n",
              "    <tr>\n",
              "      <th>22611006</th>\n",
              "      <td>0048015040</td>\n",
              "      <td>0255</td>\n",
              "      <td>2024-10-16 10:40:00</td>\n",
              "      <td>997.400024</td>\n",
              "      <td>PUERTO NARIÑO</td>\n",
              "      <td>AMAZONAS</td>\n",
              "      <td>PUERTO NARIÑO</td>\n",
              "      <td>AMAZONAS - DIRECTOS</td>\n",
              "      <td>-3.780305556</td>\n",
              "      <td>-70.36263889</td>\n",
              "      <td>PRESIÓN ATMOSFÉRICA</td>\n",
              "      <td>hPa</td>\n",
              "    </tr>\n",
              "    <tr>\n",
              "      <th>22611007</th>\n",
              "      <td>0011175000</td>\n",
              "      <td>0255</td>\n",
              "      <td>2024-10-16 02:00:00</td>\n",
              "      <td>1006.000000</td>\n",
              "      <td>ATRATO</td>\n",
              "      <td>CHOCO</td>\n",
              "      <td>CÉRTEGUI</td>\n",
              "      <td>ATRATO - DARIÉN</td>\n",
              "      <td>5.585776</td>\n",
              "      <td>-76.649978</td>\n",
              "      <td>PRESIÓN ATMOSFÉRICA</td>\n",
              "      <td>hPa</td>\n",
              "    </tr>\n",
              "  </tbody>\n",
              "</table>\n",
              "<p>22611008 rows × 12 columns</p>\n",
              "</div>"
            ],
            "text/plain": [
              "         CodigoEstacion CodigoSensor    FechaObservacion  ValorObservado  \\\n",
              "0            0036015020         0255 2017-10-03 06:00:00      992.500000   \n",
              "1            0021195190         0255 2014-02-14 05:00:00      785.200012   \n",
              "2            0021015050         0255 2013-09-27 06:00:00      805.299988   \n",
              "3            0021115010         0255 2005-11-28 10:00:00      958.500000   \n",
              "4            0028035060         0255 2008-04-08 04:00:00      988.700012   \n",
              "...                 ...          ...                 ...             ...   \n",
              "22611003     0048015050         0258 2024-10-16 11:04:00     1000.500000   \n",
              "22611004     0048015050         0258 2024-10-16 09:08:00     1004.099976   \n",
              "22611005     0016015501         0258 2024-10-16 07:02:00      972.900024   \n",
              "22611006     0048015040         0255 2024-10-16 10:40:00      997.400024   \n",
              "22611007     0011175000         0255 2024-10-16 02:00:00     1006.000000   \n",
              "\n",
              "                   NombreEstacion        Departamento       Municipio  \\\n",
              "0               EL DIAMANTE - AUT            CASANARE  PAZ DE ARIPORO   \n",
              "1                     PASCA - AUT        CUNDINAMARCA           PASCA   \n",
              "2                   PURACE  - AUT               HUILA     SAN AGUSTÍN   \n",
              "3                DESIERTO TATACOA               HUILA      VILLAVIEJA   \n",
              "4                 FEDEARROZ - AUT               CESAR      VALLEDUPAR   \n",
              "...                           ...                 ...             ...   \n",
              "22611003  AEROPUERTO VASQUEZ COBO            AMAZONAS         LETICIA   \n",
              "22611004  AEROPUERTO VASQUEZ COBO            AMAZONAS         LETICIA   \n",
              "22611005   AEROPUERTO CAMILO DAZA  NORTE DE SANTANDER          CÚCUTA   \n",
              "22611006            PUERTO NARIÑO            AMAZONAS   PUERTO NARIÑO   \n",
              "22611007                   ATRATO               CHOCO        CÉRTEGUI   \n",
              "\n",
              "             ZonaHidrografica       Latitud      Longitud  \\\n",
              "0                        META   5.816194444  -71.41983333   \n",
              "1              ALTO MAGDALENA   4.310111111     -74.31175   \n",
              "2              ALTO MAGDALENA   1.925916667  -76.42755556   \n",
              "3              ALTO MAGDALENA         3.234       -75.168   \n",
              "4                       CESAR   10.46361111  -73.24805556   \n",
              "...                       ...           ...           ...   \n",
              "22611003  AMAZONAS - DIRECTOS  -4.193861111  -69.94091667   \n",
              "22611004  AMAZONAS - DIRECTOS  -4.193861111  -69.94091667   \n",
              "22611005            CATATUMBO       7.93028     -72.50917   \n",
              "22611006  AMAZONAS - DIRECTOS  -3.780305556  -70.36263889   \n",
              "22611007      ATRATO - DARIÉN      5.585776    -76.649978   \n",
              "\n",
              "                   DescripcionSensor UnidadMedida  \n",
              "0           Presión Atmosferica (1h)          HPa  \n",
              "1           Presión Atmosferica (1h)          HPa  \n",
              "2           Presión Atmosferica (1h)          HPa  \n",
              "3           Presión Atmosferica (1h)          HPa  \n",
              "4           Presión Atmosferica (1h)          HPa  \n",
              "...                              ...          ...  \n",
              "22611003  GPRS - PRESIÓN ATMOSFÉRICA          hPA  \n",
              "22611004  GPRS - PRESIÓN ATMOSFÉRICA          hPA  \n",
              "22611005  GPRS - PRESIÓN ATMOSFÉRICA          hPA  \n",
              "22611006         PRESIÓN ATMOSFÉRICA          hPa  \n",
              "22611007         PRESIÓN ATMOSFÉRICA          hPa  \n",
              "\n",
              "[22611008 rows x 12 columns]"
            ]
          },
          "execution_count": 30,
          "metadata": {},
          "output_type": "execute_result"
        }
      ],
      "source": [
        "df_presion['FechaObservacion'] = pd.to_datetime(df_presion['FechaObservacion'],format='%m/%d/%Y %H:%M:%S %p')\n",
        "df_presion"
      ]
    },
    {
      "cell_type": "code",
      "execution_count": 32,
      "metadata": {},
      "outputs": [
        {
          "data": {
            "text/plain": [
              "CodigoEstacion       22611008\n",
              "CodigoSensor         22611008\n",
              "FechaObservacion     22611008\n",
              "ValorObservado       22611008\n",
              "NombreEstacion       22611008\n",
              "Departamento         22611008\n",
              "Municipio            22611008\n",
              "ZonaHidrografica     22611008\n",
              "Latitud              22611008\n",
              "Longitud             22611008\n",
              "DescripcionSensor    22611008\n",
              "UnidadMedida         22611008\n",
              "dtype: int64"
            ]
          },
          "execution_count": 32,
          "metadata": {},
          "output_type": "execute_result"
        }
      ],
      "source": [
        "df_presion.count()"
      ]
    },
    {
      "cell_type": "markdown",
      "metadata": {},
      "source": [
        "Se observa con la función .count() que el tamaño de valores no nulos es igual al índice del rango del dataframe encontrado en la celda anterior."
      ]
    },
    {
      "cell_type": "code",
      "execution_count": 33,
      "metadata": {},
      "outputs": [],
      "source": [
        "df_presion.to_parquet('../CleanDatasets2/presion.parquet')"
      ]
    },
    {
      "cell_type": "markdown",
      "metadata": {},
      "source": [
        "### Limpieza *DATOS TEMPERATURA*"
      ]
    },
    {
      "cell_type": "markdown",
      "metadata": {},
      "source": [
        "Los datos de temperatura se distribuyen en 5 archivos csv distintos, todos con las mismas columnas. La ruta de acceso a los archivos es \n",
        "\n",
        "- '../Datasets2/Datos_Hidrometeorol_gicos_Crudos_-_Red_de_Estaciones_IDEAM___Temperatura_20241017(*)' Donde * es un valor entre 0 y 4"
      ]
    },
    {
      "cell_type": "code",
      "execution_count": 7,
      "metadata": {},
      "outputs": [
        {
          "data": {
            "text/plain": [
              "['Datos_Hidrometeorol_gicos_Crudos_-_Red_de_Estaciones_IDEAM___Temperatura_20241017(0).csv',\n",
              " 'Datos_Hidrometeorol_gicos_Crudos_-_Red_de_Estaciones_IDEAM___Temperatura_20241017(1).csv',\n",
              " 'Datos_Hidrometeorol_gicos_Crudos_-_Red_de_Estaciones_IDEAM___Temperatura_20241017(2).csv',\n",
              " 'Datos_Hidrometeorol_gicos_Crudos_-_Red_de_Estaciones_IDEAM___Temperatura_20241017(3).csv',\n",
              " 'Datos_Hidrometeorol_gicos_Crudos_-_Red_de_Estaciones_IDEAM___Temperatura_20241017(4).csv']"
            ]
          },
          "execution_count": 7,
          "metadata": {},
          "output_type": "execute_result"
        }
      ],
      "source": [
        "namesFiles2[2:-1]"
      ]
    },
    {
      "cell_type": "code",
      "execution_count": 37,
      "metadata": {},
      "outputs": [
        {
          "data": {
            "text/html": [
              "<div>\n",
              "<style scoped>\n",
              "    .dataframe tbody tr th:only-of-type {\n",
              "        vertical-align: middle;\n",
              "    }\n",
              "\n",
              "    .dataframe tbody tr th {\n",
              "        vertical-align: top;\n",
              "    }\n",
              "\n",
              "    .dataframe thead th {\n",
              "        text-align: right;\n",
              "    }\n",
              "</style>\n",
              "<table border=\"1\" class=\"dataframe\">\n",
              "  <thead>\n",
              "    <tr style=\"text-align: right;\">\n",
              "      <th></th>\n",
              "      <th>CodigoEstacion</th>\n",
              "      <th>CodigoSensor</th>\n",
              "      <th>FechaObservacion</th>\n",
              "      <th>ValorObservado</th>\n",
              "      <th>NombreEstacion</th>\n",
              "      <th>Departamento</th>\n",
              "      <th>Municipio</th>\n",
              "      <th>ZonaHidrografica</th>\n",
              "      <th>Latitud</th>\n",
              "      <th>Longitud</th>\n",
              "      <th>DescripcionSensor</th>\n",
              "      <th>UnidadMedida</th>\n",
              "    </tr>\n",
              "  </thead>\n",
              "  <tbody>\n",
              "    <tr>\n",
              "      <th>0</th>\n",
              "      <td>48015050</td>\n",
              "      <td>71</td>\n",
              "      <td>01/04/2024 09:58:00 PM</td>\n",
              "      <td>21.1</td>\n",
              "      <td>AEROPUERTO VASQUEZ COBO</td>\n",
              "      <td>AMAZONAS</td>\n",
              "      <td>LETICIA</td>\n",
              "      <td>AMAZONAS - DIRECTOS</td>\n",
              "      <td>-4.193861</td>\n",
              "      <td>-69.940917</td>\n",
              "      <td>GPRS - TEMPERATURA DEL AIRE A 2 m</td>\n",
              "      <td>°C</td>\n",
              "    </tr>\n",
              "    <tr>\n",
              "      <th>1</th>\n",
              "      <td>15065180</td>\n",
              "      <td>71</td>\n",
              "      <td>01/04/2024 07:46:00 PM</td>\n",
              "      <td>22.3</td>\n",
              "      <td>AEROPUERTO ALM. PADILLA -</td>\n",
              "      <td>LA GUAJIRA</td>\n",
              "      <td>RIOHACHA</td>\n",
              "      <td>CARIBE - GUAJIRA</td>\n",
              "      <td>11.528444</td>\n",
              "      <td>-72.917722</td>\n",
              "      <td>GPRS - TEMPERATURA DEL AIRE A 2 m</td>\n",
              "      <td>°C</td>\n",
              "    </tr>\n",
              "    <tr>\n",
              "      <th>2</th>\n",
              "      <td>3502500135</td>\n",
              "      <td>71</td>\n",
              "      <td>01/04/2024 03:56:00 AM</td>\n",
              "      <td>17.0</td>\n",
              "      <td>GUAYABETAL POLLO OLIMPICO</td>\n",
              "      <td>CUNDINAMARCA</td>\n",
              "      <td>GUAYABETAL</td>\n",
              "      <td>META</td>\n",
              "      <td>4.225530</td>\n",
              "      <td>-73.814810</td>\n",
              "      <td>GPRS - TEMPERATURA DEL AIRE A 2 m</td>\n",
              "      <td>°C</td>\n",
              "    </tr>\n",
              "  </tbody>\n",
              "</table>\n",
              "</div>"
            ],
            "text/plain": [
              "   CodigoEstacion  CodigoSensor        FechaObservacion  ValorObservado  \\\n",
              "0        48015050            71  01/04/2024 09:58:00 PM            21.1   \n",
              "1        15065180            71  01/04/2024 07:46:00 PM            22.3   \n",
              "2      3502500135            71  01/04/2024 03:56:00 AM            17.0   \n",
              "\n",
              "              NombreEstacion  Departamento   Municipio     ZonaHidrografica  \\\n",
              "0    AEROPUERTO VASQUEZ COBO      AMAZONAS     LETICIA  AMAZONAS - DIRECTOS   \n",
              "1  AEROPUERTO ALM. PADILLA -    LA GUAJIRA    RIOHACHA     CARIBE - GUAJIRA   \n",
              "2  GUAYABETAL POLLO OLIMPICO  CUNDINAMARCA  GUAYABETAL                 META   \n",
              "\n",
              "     Latitud   Longitud                  DescripcionSensor UnidadMedida  \n",
              "0  -4.193861 -69.940917  GPRS - TEMPERATURA DEL AIRE A 2 m           °C  \n",
              "1  11.528444 -72.917722  GPRS - TEMPERATURA DEL AIRE A 2 m           °C  \n",
              "2   4.225530 -73.814810  GPRS - TEMPERATURA DEL AIRE A 2 m           °C  "
            ]
          },
          "execution_count": 37,
          "metadata": {},
          "output_type": "execute_result"
        }
      ],
      "source": [
        "df_temp = pd.read_csv(\n",
        "                        f'../Datasets2/{namesFiles2[2]}',\n",
        "                        sep=',',\n",
        "                        nrows=3\n",
        ")\n",
        "df_temp"
      ]
    },
    {
      "cell_type": "code",
      "execution_count": 48,
      "metadata": {},
      "outputs": [
        {
          "data": {
            "text/html": [
              "<div>\n",
              "<style scoped>\n",
              "    .dataframe tbody tr th:only-of-type {\n",
              "        vertical-align: middle;\n",
              "    }\n",
              "\n",
              "    .dataframe tbody tr th {\n",
              "        vertical-align: top;\n",
              "    }\n",
              "\n",
              "    .dataframe thead th {\n",
              "        text-align: right;\n",
              "    }\n",
              "</style>\n",
              "<table border=\"1\" class=\"dataframe\">\n",
              "  <thead>\n",
              "    <tr style=\"text-align: right;\">\n",
              "      <th></th>\n",
              "      <th>CodigoEstacion</th>\n",
              "      <th>CodigoSensor</th>\n",
              "      <th>FechaObservacion</th>\n",
              "      <th>ValorObservado</th>\n",
              "      <th>NombreEstacion</th>\n",
              "      <th>Departamento</th>\n",
              "      <th>Municipio</th>\n",
              "      <th>ZonaHidrografica</th>\n",
              "      <th>Latitud</th>\n",
              "      <th>Longitud</th>\n",
              "      <th>DescripcionSensor</th>\n",
              "      <th>UnidadMedida</th>\n",
              "    </tr>\n",
              "  </thead>\n",
              "  <tbody>\n",
              "    <tr>\n",
              "      <th>0</th>\n",
              "      <td>0048015050</td>\n",
              "      <td>0071</td>\n",
              "      <td>01/04/2024 09:58:00 PM</td>\n",
              "      <td>21.100000</td>\n",
              "      <td>AEROPUERTO VASQUEZ COBO</td>\n",
              "      <td>AMAZONAS</td>\n",
              "      <td>LETICIA</td>\n",
              "      <td>AMAZONAS - DIRECTOS</td>\n",
              "      <td>-4.19386111</td>\n",
              "      <td>-69.94091667</td>\n",
              "      <td>GPRS - TEMPERATURA DEL AIRE A 2 m</td>\n",
              "      <td>°C</td>\n",
              "    </tr>\n",
              "    <tr>\n",
              "      <th>1</th>\n",
              "      <td>0015065180</td>\n",
              "      <td>0071</td>\n",
              "      <td>01/04/2024 07:46:00 PM</td>\n",
              "      <td>22.299999</td>\n",
              "      <td>AEROPUERTO ALM. PADILLA -</td>\n",
              "      <td>LA GUAJIRA</td>\n",
              "      <td>RIOHACHA</td>\n",
              "      <td>CARIBE - GUAJIRA</td>\n",
              "      <td>11.5284444</td>\n",
              "      <td>-72.91772222</td>\n",
              "      <td>GPRS - TEMPERATURA DEL AIRE A 2 m</td>\n",
              "      <td>°C</td>\n",
              "    </tr>\n",
              "    <tr>\n",
              "      <th>2</th>\n",
              "      <td>3502500135</td>\n",
              "      <td>0071</td>\n",
              "      <td>01/04/2024 03:56:00 AM</td>\n",
              "      <td>17.000000</td>\n",
              "      <td>GUAYABETAL POLLO OLIMPICO</td>\n",
              "      <td>CUNDINAMARCA</td>\n",
              "      <td>GUAYABETAL</td>\n",
              "      <td>META</td>\n",
              "      <td>4.22553</td>\n",
              "      <td>-73.81481</td>\n",
              "      <td>GPRS - TEMPERATURA DEL AIRE A 2 m</td>\n",
              "      <td>°C</td>\n",
              "    </tr>\n",
              "    <tr>\n",
              "      <th>3</th>\n",
              "      <td>0016015501</td>\n",
              "      <td>0071</td>\n",
              "      <td>01/04/2024 04:30:00 PM</td>\n",
              "      <td>28.500000</td>\n",
              "      <td>AEROPUERTO CAMILO DAZA</td>\n",
              "      <td>NORTE DE SANTANDER</td>\n",
              "      <td>CÚCUTA</td>\n",
              "      <td>CATATUMBO</td>\n",
              "      <td>7.93028</td>\n",
              "      <td>-72.50917</td>\n",
              "      <td>GPRS - TEMPERATURA DEL AIRE A 2 m</td>\n",
              "      <td>°C</td>\n",
              "    </tr>\n",
              "    <tr>\n",
              "      <th>4</th>\n",
              "      <td>0026125710</td>\n",
              "      <td>0071</td>\n",
              "      <td>01/04/2024 06:58:00 AM</td>\n",
              "      <td>20.900000</td>\n",
              "      <td>AEROPUERTO MATECANA</td>\n",
              "      <td>RISARALDA</td>\n",
              "      <td>PEREIRA</td>\n",
              "      <td>CAUCA</td>\n",
              "      <td>4.812675</td>\n",
              "      <td>-75.73951944</td>\n",
              "      <td>GPRS - TEMPERATURA DEL AIRE A 2 m</td>\n",
              "      <td>°C</td>\n",
              "    </tr>\n",
              "    <tr>\n",
              "      <th>...</th>\n",
              "      <td>...</td>\n",
              "      <td>...</td>\n",
              "      <td>...</td>\n",
              "      <td>...</td>\n",
              "      <td>...</td>\n",
              "      <td>...</td>\n",
              "      <td>...</td>\n",
              "      <td>...</td>\n",
              "      <td>...</td>\n",
              "      <td>...</td>\n",
              "      <td>...</td>\n",
              "      <td>...</td>\n",
              "    </tr>\n",
              "    <tr>\n",
              "      <th>4101303</th>\n",
              "      <td>0015015050</td>\n",
              "      <td>0071</td>\n",
              "      <td>10/16/2024 10:08:00 AM</td>\n",
              "      <td>29.700001</td>\n",
              "      <td>AEROPUERTO SIMON BOLIVAR</td>\n",
              "      <td>MAGDALENA</td>\n",
              "      <td>SANTA MARTA</td>\n",
              "      <td>CARIBE - GUAJIRA</td>\n",
              "      <td>11.1146944</td>\n",
              "      <td>-74.231027778</td>\n",
              "      <td>GPRS - TEMPERATURA DEL AIRE A 2 m</td>\n",
              "      <td>°C</td>\n",
              "    </tr>\n",
              "    <tr>\n",
              "      <th>4101304</th>\n",
              "      <td>0026125710</td>\n",
              "      <td>0071</td>\n",
              "      <td>10/16/2024 05:32:00 AM</td>\n",
              "      <td>18.500000</td>\n",
              "      <td>AEROPUERTO MATECANA</td>\n",
              "      <td>RISARALDA</td>\n",
              "      <td>PEREIRA</td>\n",
              "      <td>CAUCA</td>\n",
              "      <td>4.812675</td>\n",
              "      <td>-75.739519444</td>\n",
              "      <td>GPRS - TEMPERATURA DEL AIRE A 2 m</td>\n",
              "      <td>°C</td>\n",
              "    </tr>\n",
              "    <tr>\n",
              "      <th>4101305</th>\n",
              "      <td>0015015050</td>\n",
              "      <td>0071</td>\n",
              "      <td>10/16/2024 07:20:00 PM</td>\n",
              "      <td>28.000000</td>\n",
              "      <td>AEROPUERTO SIMON BOLIVAR</td>\n",
              "      <td>MAGDALENA</td>\n",
              "      <td>SANTA MARTA</td>\n",
              "      <td>CARIBE - GUAJIRA</td>\n",
              "      <td>11.1146944</td>\n",
              "      <td>-74.231027778</td>\n",
              "      <td>GPRS - TEMPERATURA DEL AIRE A 2 m</td>\n",
              "      <td>°C</td>\n",
              "    </tr>\n",
              "    <tr>\n",
              "      <th>4101306</th>\n",
              "      <td>0017015010</td>\n",
              "      <td>0071</td>\n",
              "      <td>10/16/2024 01:04:00 PM</td>\n",
              "      <td>26.900000</td>\n",
              "      <td>AEROPUERTO SESQUICENTENARIO</td>\n",
              "      <td>ARCHIPIELAGO DE SAN ANDRES PROVIDENCIA Y SANTA...</td>\n",
              "      <td>SAN ANDRÉS</td>\n",
              "      <td>ISLAS CARIBE</td>\n",
              "      <td>12.587849</td>\n",
              "      <td>-81.701117</td>\n",
              "      <td>GPRS - TEMPERATURA DEL AIRE A 2 m</td>\n",
              "      <td>°C</td>\n",
              "    </tr>\n",
              "    <tr>\n",
              "      <th>4101307</th>\n",
              "      <td>0015015050</td>\n",
              "      <td>0071</td>\n",
              "      <td>10/16/2024 02:26:00 PM</td>\n",
              "      <td>31.100000</td>\n",
              "      <td>AEROPUERTO SIMON BOLIVAR</td>\n",
              "      <td>MAGDALENA</td>\n",
              "      <td>SANTA MARTA</td>\n",
              "      <td>CARIBE - GUAJIRA</td>\n",
              "      <td>11.1146944</td>\n",
              "      <td>-74.231027778</td>\n",
              "      <td>GPRS - TEMPERATURA DEL AIRE A 2 m</td>\n",
              "      <td>°C</td>\n",
              "    </tr>\n",
              "  </tbody>\n",
              "</table>\n",
              "<p>4101308 rows × 12 columns</p>\n",
              "</div>"
            ],
            "text/plain": [
              "        CodigoEstacion CodigoSensor        FechaObservacion  ValorObservado  \\\n",
              "0           0048015050         0071  01/04/2024 09:58:00 PM       21.100000   \n",
              "1           0015065180         0071  01/04/2024 07:46:00 PM       22.299999   \n",
              "2           3502500135         0071  01/04/2024 03:56:00 AM       17.000000   \n",
              "3           0016015501         0071  01/04/2024 04:30:00 PM       28.500000   \n",
              "4           0026125710         0071  01/04/2024 06:58:00 AM       20.900000   \n",
              "...                ...          ...                     ...             ...   \n",
              "4101303     0015015050         0071  10/16/2024 10:08:00 AM       29.700001   \n",
              "4101304     0026125710         0071  10/16/2024 05:32:00 AM       18.500000   \n",
              "4101305     0015015050         0071  10/16/2024 07:20:00 PM       28.000000   \n",
              "4101306     0017015010         0071  10/16/2024 01:04:00 PM       26.900000   \n",
              "4101307     0015015050         0071  10/16/2024 02:26:00 PM       31.100000   \n",
              "\n",
              "                      NombreEstacion  \\\n",
              "0            AEROPUERTO VASQUEZ COBO   \n",
              "1          AEROPUERTO ALM. PADILLA -   \n",
              "2          GUAYABETAL POLLO OLIMPICO   \n",
              "3             AEROPUERTO CAMILO DAZA   \n",
              "4                AEROPUERTO MATECANA   \n",
              "...                              ...   \n",
              "4101303     AEROPUERTO SIMON BOLIVAR   \n",
              "4101304          AEROPUERTO MATECANA   \n",
              "4101305     AEROPUERTO SIMON BOLIVAR   \n",
              "4101306  AEROPUERTO SESQUICENTENARIO   \n",
              "4101307     AEROPUERTO SIMON BOLIVAR   \n",
              "\n",
              "                                              Departamento    Municipio  \\\n",
              "0                                                 AMAZONAS      LETICIA   \n",
              "1                                               LA GUAJIRA     RIOHACHA   \n",
              "2                                             CUNDINAMARCA   GUAYABETAL   \n",
              "3                                       NORTE DE SANTANDER       CÚCUTA   \n",
              "4                                                RISARALDA      PEREIRA   \n",
              "...                                                    ...          ...   \n",
              "4101303                                          MAGDALENA  SANTA MARTA   \n",
              "4101304                                          RISARALDA      PEREIRA   \n",
              "4101305                                          MAGDALENA  SANTA MARTA   \n",
              "4101306  ARCHIPIELAGO DE SAN ANDRES PROVIDENCIA Y SANTA...   SAN ANDRÉS   \n",
              "4101307                                          MAGDALENA  SANTA MARTA   \n",
              "\n",
              "            ZonaHidrografica      Latitud       Longitud  \\\n",
              "0        AMAZONAS - DIRECTOS  -4.19386111   -69.94091667   \n",
              "1           CARIBE - GUAJIRA   11.5284444   -72.91772222   \n",
              "2                       META      4.22553      -73.81481   \n",
              "3                  CATATUMBO      7.93028      -72.50917   \n",
              "4                      CAUCA     4.812675   -75.73951944   \n",
              "...                      ...          ...            ...   \n",
              "4101303     CARIBE - GUAJIRA   11.1146944  -74.231027778   \n",
              "4101304                CAUCA     4.812675  -75.739519444   \n",
              "4101305     CARIBE - GUAJIRA   11.1146944  -74.231027778   \n",
              "4101306         ISLAS CARIBE    12.587849     -81.701117   \n",
              "4101307     CARIBE - GUAJIRA   11.1146944  -74.231027778   \n",
              "\n",
              "                         DescripcionSensor UnidadMedida  \n",
              "0        GPRS - TEMPERATURA DEL AIRE A 2 m           °C  \n",
              "1        GPRS - TEMPERATURA DEL AIRE A 2 m           °C  \n",
              "2        GPRS - TEMPERATURA DEL AIRE A 2 m           °C  \n",
              "3        GPRS - TEMPERATURA DEL AIRE A 2 m           °C  \n",
              "4        GPRS - TEMPERATURA DEL AIRE A 2 m           °C  \n",
              "...                                    ...          ...  \n",
              "4101303  GPRS - TEMPERATURA DEL AIRE A 2 m           °C  \n",
              "4101304  GPRS - TEMPERATURA DEL AIRE A 2 m           °C  \n",
              "4101305  GPRS - TEMPERATURA DEL AIRE A 2 m           °C  \n",
              "4101306  GPRS - TEMPERATURA DEL AIRE A 2 m           °C  \n",
              "4101307  GPRS - TEMPERATURA DEL AIRE A 2 m           °C  \n",
              "\n",
              "[4101308 rows x 12 columns]"
            ]
          },
          "execution_count": 48,
          "metadata": {},
          "output_type": "execute_result"
        }
      ],
      "source": [
        "df_temp = pd.read_csv(\n",
        "                        f'../Datasets2/{namesFiles2[2]}',\n",
        "                        sep=',',\n",
        "                        dtype= {0:'category',1:'category',2:'str',3:'float32',4:'category',5:'category',6:'category',7:'category',8:'category',9:'category',10:'category',11:'category'}         \n",
        "                    )\n",
        "df_temp"
      ]
    },
    {
      "cell_type": "code",
      "execution_count": 49,
      "metadata": {},
      "outputs": [
        {
          "name": "stdout",
          "output_type": "stream",
          "text": [
            "<class 'pandas.core.frame.DataFrame'>\n",
            "RangeIndex: 4101308 entries, 0 to 4101307\n",
            "Data columns (total 12 columns):\n",
            " #   Column             Dtype   \n",
            "---  ------             -----   \n",
            " 0   CodigoEstacion     category\n",
            " 1   CodigoSensor       category\n",
            " 2   FechaObservacion   object  \n",
            " 3   ValorObservado     float32 \n",
            " 4   NombreEstacion     category\n",
            " 5   Departamento       category\n",
            " 6   Municipio          category\n",
            " 7   ZonaHidrografica   category\n",
            " 8   Latitud            category\n",
            " 9   Longitud           category\n",
            " 10  DescripcionSensor  category\n",
            " 11  UnidadMedida       category\n",
            "dtypes: category(10), float32(1), object(1)\n",
            "memory usage: 86.1+ MB\n"
          ]
        }
      ],
      "source": [
        "df_temp.info()"
      ]
    },
    {
      "cell_type": "code",
      "execution_count": 50,
      "metadata": {},
      "outputs": [
        {
          "name": "stdout",
          "output_type": "stream",
          "text": [
            "<class 'pandas.core.frame.DataFrame'>\n",
            "RangeIndex: 4101308 entries, 0 to 4101307\n",
            "Data columns (total 12 columns):\n",
            " #   Column             Dtype         \n",
            "---  ------             -----         \n",
            " 0   CodigoEstacion     category      \n",
            " 1   CodigoSensor       category      \n",
            " 2   FechaObservacion   datetime64[ns]\n",
            " 3   ValorObservado     float32       \n",
            " 4   NombreEstacion     category      \n",
            " 5   Departamento       category      \n",
            " 6   Municipio          category      \n",
            " 7   ZonaHidrografica   category      \n",
            " 8   Latitud            category      \n",
            " 9   Longitud           category      \n",
            " 10  DescripcionSensor  category      \n",
            " 11  UnidadMedida       category      \n",
            "dtypes: category(10), datetime64[ns](1), float32(1)\n",
            "memory usage: 86.1 MB\n"
          ]
        }
      ],
      "source": [
        "df_temp['FechaObservacion'] = pd.to_datetime(df_temp['FechaObservacion'], format='%m/%d/%Y %H:%M:%S %p')\n",
        "df_temp.info()"
      ]
    },
    {
      "cell_type": "code",
      "execution_count": 51,
      "metadata": {},
      "outputs": [],
      "source": [
        "df_temp.to_parquet('../CleanDatasets2/Temp_0.parquet')"
      ]
    },
    {
      "cell_type": "code",
      "execution_count": 8,
      "metadata": {},
      "outputs": [],
      "source": [
        "index_temp = 1\n",
        "for i in namesFiles2[3:-1]:\n",
        "    df_temp = pd.read_csv(\n",
        "                        f'../Datasets2/{i}',\n",
        "                        sep=',',\n",
        "                        dtype= {0:'category',1:'category',2:'str',3:'float32',4:'category',5:'category',6:'category',7:'category',8:'category',9:'category',10:'category',11:'category'}         \n",
        "                    )\n",
        "    df_temp['FechaObservacion'] = pd.to_datetime(df_temp['FechaObservacion'], format='%m/%d/%Y %H:%M:%S %p')\n",
        "    df_temp.to_parquet(f'../CleanDatasets2/Temp_{str(index_temp)}.parquet')\n",
        "    index_temp += 1"
      ]
    },
    {
      "cell_type": "markdown",
      "metadata": {},
      "source": [
        "# Análisis exploratorio de datos"
      ]
    },
    {
      "cell_type": "code",
      "execution_count": 2,
      "metadata": {},
      "outputs": [
        {
          "data": {
            "text/html": [
              "<div>\n",
              "<style scoped>\n",
              "    .dataframe tbody tr th:only-of-type {\n",
              "        vertical-align: middle;\n",
              "    }\n",
              "\n",
              "    .dataframe tbody tr th {\n",
              "        vertical-align: top;\n",
              "    }\n",
              "\n",
              "    .dataframe thead th {\n",
              "        text-align: right;\n",
              "    }\n",
              "</style>\n",
              "<table border=\"1\" class=\"dataframe\">\n",
              "  <thead>\n",
              "    <tr style=\"text-align: right;\">\n",
              "      <th></th>\n",
              "      <th>CodigoEstacion</th>\n",
              "      <th>CodigoSensor</th>\n",
              "      <th>FechaObservacion</th>\n",
              "      <th>ValorObservado</th>\n",
              "      <th>NombreEstacion</th>\n",
              "      <th>Departamento</th>\n",
              "      <th>Municipio</th>\n",
              "      <th>ZonaHidrografica</th>\n",
              "      <th>Latitud</th>\n",
              "      <th>Longitud</th>\n",
              "    </tr>\n",
              "  </thead>\n",
              "  <tbody>\n",
              "    <tr>\n",
              "      <th>0</th>\n",
              "      <td>0023125160</td>\n",
              "      <td>0240</td>\n",
              "      <td>2009-10-07 02:10:00</td>\n",
              "      <td>0.1</td>\n",
              "      <td>SAN PABLO DE BORBUR  - AUT</td>\n",
              "      <td>BOYACÁ</td>\n",
              "      <td>SAN PABLO DE BORBUR</td>\n",
              "      <td>MEDIO MAGDALENA</td>\n",
              "      <td>5.647027778</td>\n",
              "      <td>-74.07130556</td>\n",
              "    </tr>\n",
              "    <tr>\n",
              "      <th>1</th>\n",
              "      <td>0024035410</td>\n",
              "      <td>0240</td>\n",
              "      <td>2012-12-17 03:10:00</td>\n",
              "      <td>0.0</td>\n",
              "      <td>SOGAMOSO - AUT</td>\n",
              "      <td>BOYACÁ</td>\n",
              "      <td>SOGAMOSO</td>\n",
              "      <td>SOGAMOSO</td>\n",
              "      <td>5.753333333</td>\n",
              "      <td>-72.91115278</td>\n",
              "    </tr>\n",
              "    <tr>\n",
              "      <th>2</th>\n",
              "      <td>0023125501</td>\n",
              "      <td>0240</td>\n",
              "      <td>2019-03-21 07:10:00</td>\n",
              "      <td>0.0</td>\n",
              "      <td>PAUNA  - AUT</td>\n",
              "      <td>BOYACÁ</td>\n",
              "      <td>PAUNA</td>\n",
              "      <td>MEDIO MAGDALENA</td>\n",
              "      <td>5.657130556</td>\n",
              "      <td>-73.96032778</td>\n",
              "    </tr>\n",
              "    <tr>\n",
              "      <th>3</th>\n",
              "      <td>0035085070</td>\n",
              "      <td>0240</td>\n",
              "      <td>2018-07-28 02:30:00</td>\n",
              "      <td>0.0</td>\n",
              "      <td>SANTA MARIA - AUT</td>\n",
              "      <td>BOYACÁ</td>\n",
              "      <td>SANTA MARÍA</td>\n",
              "      <td>META</td>\n",
              "      <td>4.84125</td>\n",
              "      <td>-73.25669444</td>\n",
              "    </tr>\n",
              "    <tr>\n",
              "      <th>4</th>\n",
              "      <td>0024035410</td>\n",
              "      <td>0240</td>\n",
              "      <td>2018-01-20 05:37:00</td>\n",
              "      <td>0.0</td>\n",
              "      <td>SOGAMOSO - AUT</td>\n",
              "      <td>BOYACÁ</td>\n",
              "      <td>SOGAMOSO</td>\n",
              "      <td>SOGAMOSO</td>\n",
              "      <td>5.753333333</td>\n",
              "      <td>-72.91115278</td>\n",
              "    </tr>\n",
              "    <tr>\n",
              "      <th>...</th>\n",
              "      <td>...</td>\n",
              "      <td>...</td>\n",
              "      <td>...</td>\n",
              "      <td>...</td>\n",
              "      <td>...</td>\n",
              "      <td>...</td>\n",
              "      <td>...</td>\n",
              "      <td>...</td>\n",
              "      <td>...</td>\n",
              "      <td>...</td>\n",
              "    </tr>\n",
              "    <tr>\n",
              "      <th>13730165</th>\n",
              "      <td>0024035340</td>\n",
              "      <td>0257</td>\n",
              "      <td>2024-10-15 12:52:00</td>\n",
              "      <td>0.0</td>\n",
              "      <td>AEROPUERTO A LLERAS C</td>\n",
              "      <td>BOYACÁ</td>\n",
              "      <td>SOGAMOSO</td>\n",
              "      <td>SOGAMOSO</td>\n",
              "      <td>5.676944444</td>\n",
              "      <td>-72.96791667</td>\n",
              "    </tr>\n",
              "    <tr>\n",
              "      <th>13730166</th>\n",
              "      <td>2403000117</td>\n",
              "      <td>0257</td>\n",
              "      <td>2024-10-15 09:44:00</td>\n",
              "      <td>0.0</td>\n",
              "      <td>PM LA LAGUNA</td>\n",
              "      <td>BOYACÁ</td>\n",
              "      <td>GUACAMAYAS</td>\n",
              "      <td>SOGAMOSO</td>\n",
              "      <td>6.447166667</td>\n",
              "      <td>-72.497694444</td>\n",
              "    </tr>\n",
              "    <tr>\n",
              "      <th>13730167</th>\n",
              "      <td>0035217090</td>\n",
              "      <td>0240</td>\n",
              "      <td>2024-10-15 02:40:00</td>\n",
              "      <td>0.0</td>\n",
              "      <td>LABRANZA GRANDE</td>\n",
              "      <td>BOYACÁ</td>\n",
              "      <td>LABRANZAGRANDE</td>\n",
              "      <td>META</td>\n",
              "      <td>5.566916667</td>\n",
              "      <td>-72.58355556</td>\n",
              "    </tr>\n",
              "    <tr>\n",
              "      <th>13730168</th>\n",
              "      <td>2403700149</td>\n",
              "      <td>0240</td>\n",
              "      <td>2024-10-15 03:40:00</td>\n",
              "      <td>0.0</td>\n",
              "      <td>PUENTE LA RAMADA</td>\n",
              "      <td>BOYACÁ</td>\n",
              "      <td>CHISCAS</td>\n",
              "      <td>SOGAMOSO</td>\n",
              "      <td>6.5607</td>\n",
              "      <td>-72.5012</td>\n",
              "    </tr>\n",
              "    <tr>\n",
              "      <th>13730169</th>\n",
              "      <td>0024035340</td>\n",
              "      <td>0257</td>\n",
              "      <td>2024-10-15 09:36:00</td>\n",
              "      <td>0.0</td>\n",
              "      <td>AEROPUERTO A LLERAS C</td>\n",
              "      <td>BOYACÁ</td>\n",
              "      <td>SOGAMOSO</td>\n",
              "      <td>SOGAMOSO</td>\n",
              "      <td>5.676944444</td>\n",
              "      <td>-72.96791667</td>\n",
              "    </tr>\n",
              "  </tbody>\n",
              "</table>\n",
              "<p>13730170 rows × 10 columns</p>\n",
              "</div>"
            ],
            "text/plain": [
              "         CodigoEstacion CodigoSensor    FechaObservacion  ValorObservado  \\\n",
              "0            0023125160         0240 2009-10-07 02:10:00             0.1   \n",
              "1            0024035410         0240 2012-12-17 03:10:00             0.0   \n",
              "2            0023125501         0240 2019-03-21 07:10:00             0.0   \n",
              "3            0035085070         0240 2018-07-28 02:30:00             0.0   \n",
              "4            0024035410         0240 2018-01-20 05:37:00             0.0   \n",
              "...                 ...          ...                 ...             ...   \n",
              "13730165     0024035340         0257 2024-10-15 12:52:00             0.0   \n",
              "13730166     2403000117         0257 2024-10-15 09:44:00             0.0   \n",
              "13730167     0035217090         0240 2024-10-15 02:40:00             0.0   \n",
              "13730168     2403700149         0240 2024-10-15 03:40:00             0.0   \n",
              "13730169     0024035340         0257 2024-10-15 09:36:00             0.0   \n",
              "\n",
              "                      NombreEstacion Departamento            Municipio  \\\n",
              "0         SAN PABLO DE BORBUR  - AUT       BOYACÁ  SAN PABLO DE BORBUR   \n",
              "1                     SOGAMOSO - AUT       BOYACÁ             SOGAMOSO   \n",
              "2                       PAUNA  - AUT       BOYACÁ                PAUNA   \n",
              "3                  SANTA MARIA - AUT       BOYACÁ          SANTA MARÍA   \n",
              "4                     SOGAMOSO - AUT       BOYACÁ             SOGAMOSO   \n",
              "...                              ...          ...                  ...   \n",
              "13730165       AEROPUERTO A LLERAS C       BOYACÁ             SOGAMOSO   \n",
              "13730166                PM LA LAGUNA       BOYACÁ           GUACAMAYAS   \n",
              "13730167             LABRANZA GRANDE       BOYACÁ       LABRANZAGRANDE   \n",
              "13730168            PUENTE LA RAMADA       BOYACÁ              CHISCAS   \n",
              "13730169       AEROPUERTO A LLERAS C       BOYACÁ             SOGAMOSO   \n",
              "\n",
              "         ZonaHidrografica      Latitud       Longitud  \n",
              "0         MEDIO MAGDALENA  5.647027778   -74.07130556  \n",
              "1                SOGAMOSO  5.753333333   -72.91115278  \n",
              "2         MEDIO MAGDALENA  5.657130556   -73.96032778  \n",
              "3                    META      4.84125   -73.25669444  \n",
              "4                SOGAMOSO  5.753333333   -72.91115278  \n",
              "...                   ...          ...            ...  \n",
              "13730165         SOGAMOSO  5.676944444   -72.96791667  \n",
              "13730166         SOGAMOSO  6.447166667  -72.497694444  \n",
              "13730167             META  5.566916667   -72.58355556  \n",
              "13730168         SOGAMOSO       6.5607       -72.5012  \n",
              "13730169         SOGAMOSO  5.676944444   -72.96791667  \n",
              "\n",
              "[13730170 rows x 10 columns]"
            ]
          },
          "execution_count": 2,
          "metadata": {},
          "output_type": "execute_result"
        }
      ],
      "source": [
        "df_2 = pd.read_parquet(f'../CleanDatasets/rain_boyaca.parquet')\n",
        "df_2"
      ]
    },
    {
      "cell_type": "code",
      "execution_count": 3,
      "metadata": {},
      "outputs": [
        {
          "name": "stdout",
          "output_type": "stream",
          "text": [
            "<class 'pandas.core.frame.DataFrame'>\n",
            "RangeIndex: 13730170 entries, 0 to 13730169\n",
            "Data columns (total 10 columns):\n",
            " #   Column            Dtype         \n",
            "---  ------            -----         \n",
            " 0   CodigoEstacion    category      \n",
            " 1   CodigoSensor      category      \n",
            " 2   FechaObservacion  datetime64[ns]\n",
            " 3   ValorObservado    float32       \n",
            " 4   NombreEstacion    category      \n",
            " 5   Departamento      category      \n",
            " 6   Municipio         category      \n",
            " 7   ZonaHidrografica  category      \n",
            " 8   Latitud           category      \n",
            " 9   Longitud          category      \n",
            "dtypes: category(8), datetime64[ns](1), float32(1)\n",
            "memory usage: 261.9 MB\n"
          ]
        }
      ],
      "source": [
        "df_2.info()"
      ]
    },
    {
      "cell_type": "code",
      "execution_count": 4,
      "metadata": {},
      "outputs": [
        {
          "data": {
            "text/html": [
              "<div>\n",
              "<style scoped>\n",
              "    .dataframe tbody tr th:only-of-type {\n",
              "        vertical-align: middle;\n",
              "    }\n",
              "\n",
              "    .dataframe tbody tr th {\n",
              "        vertical-align: top;\n",
              "    }\n",
              "\n",
              "    .dataframe thead th {\n",
              "        text-align: right;\n",
              "    }\n",
              "</style>\n",
              "<table border=\"1\" class=\"dataframe\">\n",
              "  <thead>\n",
              "    <tr style=\"text-align: right;\">\n",
              "      <th></th>\n",
              "      <th>Year</th>\n",
              "      <th>ValorObservado</th>\n",
              "    </tr>\n",
              "  </thead>\n",
              "  <tbody>\n",
              "    <tr>\n",
              "      <th>0</th>\n",
              "      <td>2005</td>\n",
              "      <td>2339.300049</td>\n",
              "    </tr>\n",
              "    <tr>\n",
              "      <th>1</th>\n",
              "      <td>2006</td>\n",
              "      <td>2464.699951</td>\n",
              "    </tr>\n",
              "    <tr>\n",
              "      <th>2</th>\n",
              "      <td>2007</td>\n",
              "      <td>7516.899902</td>\n",
              "    </tr>\n",
              "    <tr>\n",
              "      <th>3</th>\n",
              "      <td>2008</td>\n",
              "      <td>4902.600098</td>\n",
              "    </tr>\n",
              "    <tr>\n",
              "      <th>4</th>\n",
              "      <td>2009</td>\n",
              "      <td>3027.100098</td>\n",
              "    </tr>\n",
              "    <tr>\n",
              "      <th>5</th>\n",
              "      <td>2010</td>\n",
              "      <td>6817.899902</td>\n",
              "    </tr>\n",
              "    <tr>\n",
              "      <th>6</th>\n",
              "      <td>2011</td>\n",
              "      <td>6794.899902</td>\n",
              "    </tr>\n",
              "    <tr>\n",
              "      <th>7</th>\n",
              "      <td>2012</td>\n",
              "      <td>4585.799805</td>\n",
              "    </tr>\n",
              "    <tr>\n",
              "      <th>8</th>\n",
              "      <td>2013</td>\n",
              "      <td>4849.600098</td>\n",
              "    </tr>\n",
              "    <tr>\n",
              "      <th>9</th>\n",
              "      <td>2014</td>\n",
              "      <td>3081.699951</td>\n",
              "    </tr>\n",
              "    <tr>\n",
              "      <th>10</th>\n",
              "      <td>2015</td>\n",
              "      <td>3661.000000</td>\n",
              "    </tr>\n",
              "    <tr>\n",
              "      <th>11</th>\n",
              "      <td>2016</td>\n",
              "      <td>10093.700195</td>\n",
              "    </tr>\n",
              "    <tr>\n",
              "      <th>12</th>\n",
              "      <td>2017</td>\n",
              "      <td>31183.029297</td>\n",
              "    </tr>\n",
              "    <tr>\n",
              "      <th>13</th>\n",
              "      <td>2018</td>\n",
              "      <td>67270.960938</td>\n",
              "    </tr>\n",
              "    <tr>\n",
              "      <th>14</th>\n",
              "      <td>2019</td>\n",
              "      <td>56619.851562</td>\n",
              "    </tr>\n",
              "    <tr>\n",
              "      <th>15</th>\n",
              "      <td>2020</td>\n",
              "      <td>98838.578125</td>\n",
              "    </tr>\n",
              "    <tr>\n",
              "      <th>16</th>\n",
              "      <td>2021</td>\n",
              "      <td>52908.968750</td>\n",
              "    </tr>\n",
              "    <tr>\n",
              "      <th>17</th>\n",
              "      <td>2022</td>\n",
              "      <td>28976.787109</td>\n",
              "    </tr>\n",
              "    <tr>\n",
              "      <th>18</th>\n",
              "      <td>2023</td>\n",
              "      <td>32726.011719</td>\n",
              "    </tr>\n",
              "    <tr>\n",
              "      <th>19</th>\n",
              "      <td>2024</td>\n",
              "      <td>20816.482422</td>\n",
              "    </tr>\n",
              "  </tbody>\n",
              "</table>\n",
              "</div>"
            ],
            "text/plain": [
              "    Year  ValorObservado\n",
              "0   2005     2339.300049\n",
              "1   2006     2464.699951\n",
              "2   2007     7516.899902\n",
              "3   2008     4902.600098\n",
              "4   2009     3027.100098\n",
              "5   2010     6817.899902\n",
              "6   2011     6794.899902\n",
              "7   2012     4585.799805\n",
              "8   2013     4849.600098\n",
              "9   2014     3081.699951\n",
              "10  2015     3661.000000\n",
              "11  2016    10093.700195\n",
              "12  2017    31183.029297\n",
              "13  2018    67270.960938\n",
              "14  2019    56619.851562\n",
              "15  2020    98838.578125\n",
              "16  2021    52908.968750\n",
              "17  2022    28976.787109\n",
              "18  2023    32726.011719\n",
              "19  2024    20816.482422"
            ]
          },
          "execution_count": 4,
          "metadata": {},
          "output_type": "execute_result"
        }
      ],
      "source": [
        "df_2['Year'] = df_2['FechaObservacion'].dt.year\n",
        "df_2['Month'] = df_2['FechaObservacion'].dt.month\n",
        "year_total = (\n",
        "    df_2\n",
        "    .groupby([\"Year\"])[\"ValorObservado\"]\n",
        "    .sum()\n",
        "    .reset_index()\n",
        ")\n",
        "year_total"
      ]
    },
    {
      "cell_type": "code",
      "execution_count": 5,
      "metadata": {},
      "outputs": [
        {
          "data": {
            "application/vnd.plotly.v1+json": {
              "config": {
                "plotlyServerURL": "https://plot.ly"
              },
              "data": [
                {
                  "legendgroup": "1",
                  "mode": "lines+markers",
                  "name": "Observado",
                  "type": "scatter",
                  "x": [
                    2005,
                    2006,
                    2007,
                    2008,
                    2009,
                    2010,
                    2011,
                    2012,
                    2013,
                    2014,
                    2015,
                    2016,
                    2017,
                    2018,
                    2019,
                    2020,
                    2021,
                    2022,
                    2023,
                    2024
                  ],
                  "y": [
                    2339.300048828125,
                    2464.699951171875,
                    7516.89990234375,
                    4902.60009765625,
                    3027.10009765625,
                    6817.89990234375,
                    6794.89990234375,
                    4585.7998046875,
                    4849.60009765625,
                    3081.699951171875,
                    3661,
                    10093.7001953125,
                    31183.029296875,
                    67270.9609375,
                    56619.8515625,
                    98838.578125,
                    52908.96875,
                    28976.787109375,
                    32726.01171875,
                    20816.482421875
                  ]
                }
              ],
              "layout": {
                "annotations": [
                  {
                    "font": {
                      "size": 16
                    },
                    "showarrow": false,
                    "text": "Año",
                    "x": 0.5,
                    "xanchor": "center",
                    "xref": "paper",
                    "y": 1,
                    "yanchor": "bottom",
                    "yref": "paper"
                  }
                ],
                "template": {
                  "data": {
                    "bar": [
                      {
                        "error_x": {
                          "color": "#2a3f5f"
                        },
                        "error_y": {
                          "color": "#2a3f5f"
                        },
                        "marker": {
                          "line": {
                            "color": "#E5ECF6",
                            "width": 0.5
                          },
                          "pattern": {
                            "fillmode": "overlay",
                            "size": 10,
                            "solidity": 0.2
                          }
                        },
                        "type": "bar"
                      }
                    ],
                    "barpolar": [
                      {
                        "marker": {
                          "line": {
                            "color": "#E5ECF6",
                            "width": 0.5
                          },
                          "pattern": {
                            "fillmode": "overlay",
                            "size": 10,
                            "solidity": 0.2
                          }
                        },
                        "type": "barpolar"
                      }
                    ],
                    "carpet": [
                      {
                        "aaxis": {
                          "endlinecolor": "#2a3f5f",
                          "gridcolor": "white",
                          "linecolor": "white",
                          "minorgridcolor": "white",
                          "startlinecolor": "#2a3f5f"
                        },
                        "baxis": {
                          "endlinecolor": "#2a3f5f",
                          "gridcolor": "white",
                          "linecolor": "white",
                          "minorgridcolor": "white",
                          "startlinecolor": "#2a3f5f"
                        },
                        "type": "carpet"
                      }
                    ],
                    "choropleth": [
                      {
                        "colorbar": {
                          "outlinewidth": 0,
                          "ticks": ""
                        },
                        "type": "choropleth"
                      }
                    ],
                    "contour": [
                      {
                        "colorbar": {
                          "outlinewidth": 0,
                          "ticks": ""
                        },
                        "colorscale": [
                          [
                            0,
                            "#0d0887"
                          ],
                          [
                            0.1111111111111111,
                            "#46039f"
                          ],
                          [
                            0.2222222222222222,
                            "#7201a8"
                          ],
                          [
                            0.3333333333333333,
                            "#9c179e"
                          ],
                          [
                            0.4444444444444444,
                            "#bd3786"
                          ],
                          [
                            0.5555555555555556,
                            "#d8576b"
                          ],
                          [
                            0.6666666666666666,
                            "#ed7953"
                          ],
                          [
                            0.7777777777777778,
                            "#fb9f3a"
                          ],
                          [
                            0.8888888888888888,
                            "#fdca26"
                          ],
                          [
                            1,
                            "#f0f921"
                          ]
                        ],
                        "type": "contour"
                      }
                    ],
                    "contourcarpet": [
                      {
                        "colorbar": {
                          "outlinewidth": 0,
                          "ticks": ""
                        },
                        "type": "contourcarpet"
                      }
                    ],
                    "heatmap": [
                      {
                        "colorbar": {
                          "outlinewidth": 0,
                          "ticks": ""
                        },
                        "colorscale": [
                          [
                            0,
                            "#0d0887"
                          ],
                          [
                            0.1111111111111111,
                            "#46039f"
                          ],
                          [
                            0.2222222222222222,
                            "#7201a8"
                          ],
                          [
                            0.3333333333333333,
                            "#9c179e"
                          ],
                          [
                            0.4444444444444444,
                            "#bd3786"
                          ],
                          [
                            0.5555555555555556,
                            "#d8576b"
                          ],
                          [
                            0.6666666666666666,
                            "#ed7953"
                          ],
                          [
                            0.7777777777777778,
                            "#fb9f3a"
                          ],
                          [
                            0.8888888888888888,
                            "#fdca26"
                          ],
                          [
                            1,
                            "#f0f921"
                          ]
                        ],
                        "type": "heatmap"
                      }
                    ],
                    "heatmapgl": [
                      {
                        "colorbar": {
                          "outlinewidth": 0,
                          "ticks": ""
                        },
                        "colorscale": [
                          [
                            0,
                            "#0d0887"
                          ],
                          [
                            0.1111111111111111,
                            "#46039f"
                          ],
                          [
                            0.2222222222222222,
                            "#7201a8"
                          ],
                          [
                            0.3333333333333333,
                            "#9c179e"
                          ],
                          [
                            0.4444444444444444,
                            "#bd3786"
                          ],
                          [
                            0.5555555555555556,
                            "#d8576b"
                          ],
                          [
                            0.6666666666666666,
                            "#ed7953"
                          ],
                          [
                            0.7777777777777778,
                            "#fb9f3a"
                          ],
                          [
                            0.8888888888888888,
                            "#fdca26"
                          ],
                          [
                            1,
                            "#f0f921"
                          ]
                        ],
                        "type": "heatmapgl"
                      }
                    ],
                    "histogram": [
                      {
                        "marker": {
                          "pattern": {
                            "fillmode": "overlay",
                            "size": 10,
                            "solidity": 0.2
                          }
                        },
                        "type": "histogram"
                      }
                    ],
                    "histogram2d": [
                      {
                        "colorbar": {
                          "outlinewidth": 0,
                          "ticks": ""
                        },
                        "colorscale": [
                          [
                            0,
                            "#0d0887"
                          ],
                          [
                            0.1111111111111111,
                            "#46039f"
                          ],
                          [
                            0.2222222222222222,
                            "#7201a8"
                          ],
                          [
                            0.3333333333333333,
                            "#9c179e"
                          ],
                          [
                            0.4444444444444444,
                            "#bd3786"
                          ],
                          [
                            0.5555555555555556,
                            "#d8576b"
                          ],
                          [
                            0.6666666666666666,
                            "#ed7953"
                          ],
                          [
                            0.7777777777777778,
                            "#fb9f3a"
                          ],
                          [
                            0.8888888888888888,
                            "#fdca26"
                          ],
                          [
                            1,
                            "#f0f921"
                          ]
                        ],
                        "type": "histogram2d"
                      }
                    ],
                    "histogram2dcontour": [
                      {
                        "colorbar": {
                          "outlinewidth": 0,
                          "ticks": ""
                        },
                        "colorscale": [
                          [
                            0,
                            "#0d0887"
                          ],
                          [
                            0.1111111111111111,
                            "#46039f"
                          ],
                          [
                            0.2222222222222222,
                            "#7201a8"
                          ],
                          [
                            0.3333333333333333,
                            "#9c179e"
                          ],
                          [
                            0.4444444444444444,
                            "#bd3786"
                          ],
                          [
                            0.5555555555555556,
                            "#d8576b"
                          ],
                          [
                            0.6666666666666666,
                            "#ed7953"
                          ],
                          [
                            0.7777777777777778,
                            "#fb9f3a"
                          ],
                          [
                            0.8888888888888888,
                            "#fdca26"
                          ],
                          [
                            1,
                            "#f0f921"
                          ]
                        ],
                        "type": "histogram2dcontour"
                      }
                    ],
                    "mesh3d": [
                      {
                        "colorbar": {
                          "outlinewidth": 0,
                          "ticks": ""
                        },
                        "type": "mesh3d"
                      }
                    ],
                    "parcoords": [
                      {
                        "line": {
                          "colorbar": {
                            "outlinewidth": 0,
                            "ticks": ""
                          }
                        },
                        "type": "parcoords"
                      }
                    ],
                    "pie": [
                      {
                        "automargin": true,
                        "type": "pie"
                      }
                    ],
                    "scatter": [
                      {
                        "fillpattern": {
                          "fillmode": "overlay",
                          "size": 10,
                          "solidity": 0.2
                        },
                        "type": "scatter"
                      }
                    ],
                    "scatter3d": [
                      {
                        "line": {
                          "colorbar": {
                            "outlinewidth": 0,
                            "ticks": ""
                          }
                        },
                        "marker": {
                          "colorbar": {
                            "outlinewidth": 0,
                            "ticks": ""
                          }
                        },
                        "type": "scatter3d"
                      }
                    ],
                    "scattercarpet": [
                      {
                        "marker": {
                          "colorbar": {
                            "outlinewidth": 0,
                            "ticks": ""
                          }
                        },
                        "type": "scattercarpet"
                      }
                    ],
                    "scattergeo": [
                      {
                        "marker": {
                          "colorbar": {
                            "outlinewidth": 0,
                            "ticks": ""
                          }
                        },
                        "type": "scattergeo"
                      }
                    ],
                    "scattergl": [
                      {
                        "marker": {
                          "colorbar": {
                            "outlinewidth": 0,
                            "ticks": ""
                          }
                        },
                        "type": "scattergl"
                      }
                    ],
                    "scattermapbox": [
                      {
                        "marker": {
                          "colorbar": {
                            "outlinewidth": 0,
                            "ticks": ""
                          }
                        },
                        "type": "scattermapbox"
                      }
                    ],
                    "scatterpolar": [
                      {
                        "marker": {
                          "colorbar": {
                            "outlinewidth": 0,
                            "ticks": ""
                          }
                        },
                        "type": "scatterpolar"
                      }
                    ],
                    "scatterpolargl": [
                      {
                        "marker": {
                          "colorbar": {
                            "outlinewidth": 0,
                            "ticks": ""
                          }
                        },
                        "type": "scatterpolargl"
                      }
                    ],
                    "scatterternary": [
                      {
                        "marker": {
                          "colorbar": {
                            "outlinewidth": 0,
                            "ticks": ""
                          }
                        },
                        "type": "scatterternary"
                      }
                    ],
                    "surface": [
                      {
                        "colorbar": {
                          "outlinewidth": 0,
                          "ticks": ""
                        },
                        "colorscale": [
                          [
                            0,
                            "#0d0887"
                          ],
                          [
                            0.1111111111111111,
                            "#46039f"
                          ],
                          [
                            0.2222222222222222,
                            "#7201a8"
                          ],
                          [
                            0.3333333333333333,
                            "#9c179e"
                          ],
                          [
                            0.4444444444444444,
                            "#bd3786"
                          ],
                          [
                            0.5555555555555556,
                            "#d8576b"
                          ],
                          [
                            0.6666666666666666,
                            "#ed7953"
                          ],
                          [
                            0.7777777777777778,
                            "#fb9f3a"
                          ],
                          [
                            0.8888888888888888,
                            "#fdca26"
                          ],
                          [
                            1,
                            "#f0f921"
                          ]
                        ],
                        "type": "surface"
                      }
                    ],
                    "table": [
                      {
                        "cells": {
                          "fill": {
                            "color": "#EBF0F8"
                          },
                          "line": {
                            "color": "white"
                          }
                        },
                        "header": {
                          "fill": {
                            "color": "#C8D4E3"
                          },
                          "line": {
                            "color": "white"
                          }
                        },
                        "type": "table"
                      }
                    ]
                  },
                  "layout": {
                    "annotationdefaults": {
                      "arrowcolor": "#2a3f5f",
                      "arrowhead": 0,
                      "arrowwidth": 1
                    },
                    "autotypenumbers": "strict",
                    "coloraxis": {
                      "colorbar": {
                        "outlinewidth": 0,
                        "ticks": ""
                      }
                    },
                    "colorscale": {
                      "diverging": [
                        [
                          0,
                          "#8e0152"
                        ],
                        [
                          0.1,
                          "#c51b7d"
                        ],
                        [
                          0.2,
                          "#de77ae"
                        ],
                        [
                          0.3,
                          "#f1b6da"
                        ],
                        [
                          0.4,
                          "#fde0ef"
                        ],
                        [
                          0.5,
                          "#f7f7f7"
                        ],
                        [
                          0.6,
                          "#e6f5d0"
                        ],
                        [
                          0.7,
                          "#b8e186"
                        ],
                        [
                          0.8,
                          "#7fbc41"
                        ],
                        [
                          0.9,
                          "#4d9221"
                        ],
                        [
                          1,
                          "#276419"
                        ]
                      ],
                      "sequential": [
                        [
                          0,
                          "#0d0887"
                        ],
                        [
                          0.1111111111111111,
                          "#46039f"
                        ],
                        [
                          0.2222222222222222,
                          "#7201a8"
                        ],
                        [
                          0.3333333333333333,
                          "#9c179e"
                        ],
                        [
                          0.4444444444444444,
                          "#bd3786"
                        ],
                        [
                          0.5555555555555556,
                          "#d8576b"
                        ],
                        [
                          0.6666666666666666,
                          "#ed7953"
                        ],
                        [
                          0.7777777777777778,
                          "#fb9f3a"
                        ],
                        [
                          0.8888888888888888,
                          "#fdca26"
                        ],
                        [
                          1,
                          "#f0f921"
                        ]
                      ],
                      "sequentialminus": [
                        [
                          0,
                          "#0d0887"
                        ],
                        [
                          0.1111111111111111,
                          "#46039f"
                        ],
                        [
                          0.2222222222222222,
                          "#7201a8"
                        ],
                        [
                          0.3333333333333333,
                          "#9c179e"
                        ],
                        [
                          0.4444444444444444,
                          "#bd3786"
                        ],
                        [
                          0.5555555555555556,
                          "#d8576b"
                        ],
                        [
                          0.6666666666666666,
                          "#ed7953"
                        ],
                        [
                          0.7777777777777778,
                          "#fb9f3a"
                        ],
                        [
                          0.8888888888888888,
                          "#fdca26"
                        ],
                        [
                          1,
                          "#f0f921"
                        ]
                      ]
                    },
                    "colorway": [
                      "#636efa",
                      "#EF553B",
                      "#00cc96",
                      "#ab63fa",
                      "#FFA15A",
                      "#19d3f3",
                      "#FF6692",
                      "#B6E880",
                      "#FF97FF",
                      "#FECB52"
                    ],
                    "font": {
                      "color": "#2a3f5f"
                    },
                    "geo": {
                      "bgcolor": "white",
                      "lakecolor": "white",
                      "landcolor": "#E5ECF6",
                      "showlakes": true,
                      "showland": true,
                      "subunitcolor": "white"
                    },
                    "hoverlabel": {
                      "align": "left"
                    },
                    "hovermode": "closest",
                    "mapbox": {
                      "style": "light"
                    },
                    "paper_bgcolor": "white",
                    "plot_bgcolor": "#E5ECF6",
                    "polar": {
                      "angularaxis": {
                        "gridcolor": "white",
                        "linecolor": "white",
                        "ticks": ""
                      },
                      "bgcolor": "#E5ECF6",
                      "radialaxis": {
                        "gridcolor": "white",
                        "linecolor": "white",
                        "ticks": ""
                      }
                    },
                    "scene": {
                      "xaxis": {
                        "backgroundcolor": "#E5ECF6",
                        "gridcolor": "white",
                        "gridwidth": 2,
                        "linecolor": "white",
                        "showbackground": true,
                        "ticks": "",
                        "zerolinecolor": "white"
                      },
                      "yaxis": {
                        "backgroundcolor": "#E5ECF6",
                        "gridcolor": "white",
                        "gridwidth": 2,
                        "linecolor": "white",
                        "showbackground": true,
                        "ticks": "",
                        "zerolinecolor": "white"
                      },
                      "zaxis": {
                        "backgroundcolor": "#E5ECF6",
                        "gridcolor": "white",
                        "gridwidth": 2,
                        "linecolor": "white",
                        "showbackground": true,
                        "ticks": "",
                        "zerolinecolor": "white"
                      }
                    },
                    "shapedefaults": {
                      "line": {
                        "color": "#2a3f5f"
                      }
                    },
                    "ternary": {
                      "aaxis": {
                        "gridcolor": "white",
                        "linecolor": "white",
                        "ticks": ""
                      },
                      "baxis": {
                        "gridcolor": "white",
                        "linecolor": "white",
                        "ticks": ""
                      },
                      "bgcolor": "#E5ECF6",
                      "caxis": {
                        "gridcolor": "white",
                        "linecolor": "white",
                        "ticks": ""
                      }
                    },
                    "title": {
                      "x": 0.05
                    },
                    "xaxis": {
                      "automargin": true,
                      "gridcolor": "white",
                      "linecolor": "white",
                      "ticks": "",
                      "title": {
                        "standoff": 15
                      },
                      "zerolinecolor": "white",
                      "zerolinewidth": 2
                    },
                    "yaxis": {
                      "automargin": true,
                      "gridcolor": "white",
                      "linecolor": "white",
                      "ticks": "",
                      "title": {
                        "standoff": 15
                      },
                      "zerolinecolor": "white",
                      "zerolinewidth": 2
                    }
                  }
                },
                "xaxis": {
                  "anchor": "y",
                  "domain": [
                    0,
                    1
                  ]
                },
                "yaxis": {
                  "anchor": "x",
                  "domain": [
                    0,
                    1
                  ]
                }
              }
            }
          },
          "metadata": {},
          "output_type": "display_data"
        }
      ],
      "source": [
        "fig = make_subplots(rows=1, cols=1\n",
        "                    #  , row_heights =[0.7, 0.3]\n",
        "                    # , shared_xaxes = True\n",
        "                    ,subplot_titles = ['Año'])\n",
        "\n",
        "fig.add_trace(\n",
        "    go.Scatter(x=year_total[\"Year\"], y = year_total[\"ValorObservado\"]\n",
        "               , mode='lines+markers' # selcciona una combinación entre líneas y puntos\n",
        "               , name = \"Observado\"\n",
        "               ,legendgroup = '1'\n",
        "               ),\n",
        ")\n",
        "###### Si sale error, toca instalar nbformat"
      ]
    },
    {
      "cell_type": "markdown",
      "metadata": {},
      "source": [
        "Los archivos en formato parquet pueden ser consultados en la carpeta compartida de google drive: https://drive.google.com/drive/folders/1h9_VFIFKbZ8tiavxZM9Nm9koIxJxtCWf?usp=sharing\n",
        "\n",
        "Se puede acceder a la carpeta compartida desde local instalando la versión de escritorio y buscando la ruta de los archivos."
      ]
    },
    {
      "cell_type": "code",
      "execution_count": 21,
      "metadata": {},
      "outputs": [
        {
          "name": "stdout",
          "output_type": "stream",
          "text": [
            "Primeros 23\n",
            "['rain_amazonas.parquet', 'rain_antioquia.parquet', 'rain_arauca.parquet', 'rain_atlantico1.parquet', 'rain_atlantico2.parquet', 'rain_bogota1.parquet', 'rain_bogota2.parquet', 'rain_bogota3.parquet', 'rain_bolivar1.parquet', 'rain_bolivar2.parquet', 'rain_boyaca.parquet', 'rain_caldas.parquet', 'rain_caqueta2.parquet', 'rain_caqueta1.parquet', 'rain_casanare.parquet', 'rain_cauca.parquet', 'rain_cesar.parquet', 'rain_choco.parquet', 'rain_choco1.parquet', 'rain_cordoba1.parquet', 'rain_cordoba2.parquet', 'rain_cundinamarca.parquet', 'rain_guainia.parquet']\n",
            "Últimos 23\n",
            "['rain_guaviare.parquet', 'rain_guajira.parquet', 'rain_huila.parquet', 'rain_magdalena.parquet', 'rain_meta.parquet', 'rain_narino.parquet', 'rain_narino1.parquet', 'rain_nill.parquet', 'rain_norte_de_santander.parquet', 'rain_putumayo.parquet', 'rain_quindio.parquet', 'rain_risaralda.parquet', 'rain_sanandres1.parquet', 'rain_sanandres2.parquet', 'rain_sanandres4.parquet', 'rain_sanandres3.parquet', 'rain_santander.parquet', 'rain_sucre.parquet', 'rain_tolima.parquet', 'rain_valle_del_cauca.parquet', 'rain_vaupes.parquet', 'rain_vaupes1.parquet', 'rain_vichada.parquet']\n"
          ]
        }
      ],
      "source": [
        "namesFiles = os.listdir(r'G:\\Mi unidad\\Bootcamp\\Proyecto_Bootcamp\\Data\\CleanDatasets')\n",
        "print('Primeros 23')\n",
        "print(namesFiles[0:23])\n",
        "print('Últimos 23')\n",
        "print(namesFiles[23:-1])"
      ]
    },
    {
      "cell_type": "markdown",
      "metadata": {},
      "source": [
        "CleanDatasets contiene los archivos parquet sobre precipitaciones\n",
        "\n",
        "CleanDatasets2 contiene los archivos parquet sobre temperatura, presión, catálogo de estaciones.\n",
        "\n",
        "Configuramos rutas para trabajar en local."
      ]
    },
    {
      "cell_type": "code",
      "execution_count": 13,
      "metadata": {},
      "outputs": [],
      "source": [
        "path = r'G:\\Mi unidad\\Bootcamp\\Proyecto_Bootcamp\\Data'                      "
      ]
    },
    {
      "cell_type": "code",
      "execution_count": 3,
      "metadata": {},
      "outputs": [],
      "source": [
        "path = r'C:\\Users\\Josue Florez\\Documents\\Maria Angelica\\Proyectos\\Proyecto_bootcamp\\Data'"
      ]
    },
    {
      "cell_type": "markdown",
      "metadata": {},
      "source": [
        "## 23 primeros archivos de precipitación"
      ]
    },
    {
      "cell_type": "markdown",
      "metadata": {},
      "source": []
    },
    {
      "cell_type": "markdown",
      "metadata": {},
      "source": [
        "## 23 últimos archivos de precipitación"
      ]
    },
    {
      "cell_type": "markdown",
      "metadata": {},
      "source": [
        "Lista de archivos:"
      ]
    },
    {
      "cell_type": "code",
      "execution_count": 41,
      "metadata": {},
      "outputs": [
        {
          "name": "stdout",
          "output_type": "stream",
          "text": [
            "['rain_guaviare.parquet', 'rain_guajira.parquet', 'rain_huila.parquet', 'rain_magdalena.parquet', 'rain_meta.parquet', 'rain_narino.parquet', 'rain_narino1.parquet', 'rain_nill.parquet', 'rain_norte_de_santander.parquet', 'rain_putumayo.parquet', 'rain_quindio.parquet', 'rain_risaralda.parquet', 'rain_sanandres1.parquet', 'rain_sanandres2.parquet', 'rain_sanandres4.parquet', 'rain_sanandres3.parquet', 'rain_santander.parquet', 'rain_sucre.parquet', 'rain_tolima.parquet', 'rain_valle_del_cauca.parquet', 'rain_vaupes.parquet', 'rain_vaupes1.parquet', 'rain_vichada.parquet']\n"
          ]
        }
      ],
      "source": [
        "namesFiles = os.listdir(path+r'\\CleanDatasets')[23:-1]\n",
        "print(namesFiles)"
      ]
    },
    {
      "cell_type": "markdown",
      "metadata": {},
      "source": [
        "### Dimensionalidad de los dataset"
      ]
    },
    {
      "cell_type": "code",
      "execution_count": 77,
      "metadata": {},
      "outputs": [
        {
          "data": {
            "text/html": [
              "<div>\n",
              "<style scoped>\n",
              "    .dataframe tbody tr th:only-of-type {\n",
              "        vertical-align: middle;\n",
              "    }\n",
              "\n",
              "    .dataframe tbody tr th {\n",
              "        vertical-align: top;\n",
              "    }\n",
              "\n",
              "    .dataframe thead th {\n",
              "        text-align: right;\n",
              "    }\n",
              "</style>\n",
              "<table border=\"1\" class=\"dataframe\">\n",
              "  <thead>\n",
              "    <tr style=\"text-align: right;\">\n",
              "      <th></th>\n",
              "      <th>File</th>\n",
              "      <th>Rows</th>\n",
              "      <th>Columns</th>\n",
              "      <th>Size</th>\n",
              "      <th>Nulls</th>\n",
              "    </tr>\n",
              "  </thead>\n",
              "  <tbody>\n",
              "    <tr>\n",
              "      <th>0</th>\n",
              "      <td>rain_guaviare.parquet</td>\n",
              "      <td>29100</td>\n",
              "      <td>10</td>\n",
              "      <td>291000</td>\n",
              "      <td>0</td>\n",
              "    </tr>\n",
              "    <tr>\n",
              "      <th>1</th>\n",
              "      <td>rain_guajira.parquet</td>\n",
              "      <td>4448321</td>\n",
              "      <td>10</td>\n",
              "      <td>44483210</td>\n",
              "      <td>0</td>\n",
              "    </tr>\n",
              "    <tr>\n",
              "      <th>2</th>\n",
              "      <td>rain_huila.parquet</td>\n",
              "      <td>10676628</td>\n",
              "      <td>10</td>\n",
              "      <td>106766280</td>\n",
              "      <td>0</td>\n",
              "    </tr>\n",
              "    <tr>\n",
              "      <th>3</th>\n",
              "      <td>rain_magdalena.parquet</td>\n",
              "      <td>5150365</td>\n",
              "      <td>10</td>\n",
              "      <td>51503650</td>\n",
              "      <td>0</td>\n",
              "    </tr>\n",
              "    <tr>\n",
              "      <th>4</th>\n",
              "      <td>rain_meta.parquet</td>\n",
              "      <td>2470476</td>\n",
              "      <td>10</td>\n",
              "      <td>24704760</td>\n",
              "      <td>0</td>\n",
              "    </tr>\n",
              "    <tr>\n",
              "      <th>5</th>\n",
              "      <td>rain_narino.parquet</td>\n",
              "      <td>469965</td>\n",
              "      <td>10</td>\n",
              "      <td>4699650</td>\n",
              "      <td>0</td>\n",
              "    </tr>\n",
              "    <tr>\n",
              "      <th>6</th>\n",
              "      <td>rain_narino1.parquet</td>\n",
              "      <td>5432162</td>\n",
              "      <td>10</td>\n",
              "      <td>54321620</td>\n",
              "      <td>0</td>\n",
              "    </tr>\n",
              "    <tr>\n",
              "      <th>7</th>\n",
              "      <td>rain_nill.parquet</td>\n",
              "      <td>334763</td>\n",
              "      <td>10</td>\n",
              "      <td>3347630</td>\n",
              "      <td>0</td>\n",
              "    </tr>\n",
              "    <tr>\n",
              "      <th>8</th>\n",
              "      <td>rain_norte_de_santander.parquet</td>\n",
              "      <td>8764156</td>\n",
              "      <td>10</td>\n",
              "      <td>87641560</td>\n",
              "      <td>0</td>\n",
              "    </tr>\n",
              "    <tr>\n",
              "      <th>9</th>\n",
              "      <td>rain_putumayo.parquet</td>\n",
              "      <td>854162</td>\n",
              "      <td>10</td>\n",
              "      <td>8541620</td>\n",
              "      <td>0</td>\n",
              "    </tr>\n",
              "    <tr>\n",
              "      <th>10</th>\n",
              "      <td>rain_quindio.parquet</td>\n",
              "      <td>3638112</td>\n",
              "      <td>10</td>\n",
              "      <td>36381120</td>\n",
              "      <td>0</td>\n",
              "    </tr>\n",
              "    <tr>\n",
              "      <th>11</th>\n",
              "      <td>rain_risaralda.parquet</td>\n",
              "      <td>5098643</td>\n",
              "      <td>10</td>\n",
              "      <td>50986430</td>\n",
              "      <td>0</td>\n",
              "    </tr>\n",
              "    <tr>\n",
              "      <th>12</th>\n",
              "      <td>rain_sanandres1.parquet</td>\n",
              "      <td>812917</td>\n",
              "      <td>10</td>\n",
              "      <td>8129170</td>\n",
              "      <td>0</td>\n",
              "    </tr>\n",
              "    <tr>\n",
              "      <th>13</th>\n",
              "      <td>rain_sanandres2.parquet</td>\n",
              "      <td>325509</td>\n",
              "      <td>10</td>\n",
              "      <td>3255090</td>\n",
              "      <td>0</td>\n",
              "    </tr>\n",
              "    <tr>\n",
              "      <th>14</th>\n",
              "      <td>rain_sanandres4.parquet</td>\n",
              "      <td>68333</td>\n",
              "      <td>10</td>\n",
              "      <td>683330</td>\n",
              "      <td>0</td>\n",
              "    </tr>\n",
              "    <tr>\n",
              "      <th>15</th>\n",
              "      <td>rain_sanandres3.parquet</td>\n",
              "      <td>166771</td>\n",
              "      <td>10</td>\n",
              "      <td>1667710</td>\n",
              "      <td>0</td>\n",
              "    </tr>\n",
              "    <tr>\n",
              "      <th>16</th>\n",
              "      <td>rain_santander.parquet</td>\n",
              "      <td>9858363</td>\n",
              "      <td>10</td>\n",
              "      <td>98583630</td>\n",
              "      <td>0</td>\n",
              "    </tr>\n",
              "    <tr>\n",
              "      <th>17</th>\n",
              "      <td>rain_sucre.parquet</td>\n",
              "      <td>2072527</td>\n",
              "      <td>10</td>\n",
              "      <td>20725270</td>\n",
              "      <td>0</td>\n",
              "    </tr>\n",
              "    <tr>\n",
              "      <th>18</th>\n",
              "      <td>rain_tolima.parquet</td>\n",
              "      <td>14540103</td>\n",
              "      <td>10</td>\n",
              "      <td>145401030</td>\n",
              "      <td>0</td>\n",
              "    </tr>\n",
              "    <tr>\n",
              "      <th>19</th>\n",
              "      <td>rain_valle_del_cauca.parquet</td>\n",
              "      <td>8175161</td>\n",
              "      <td>10</td>\n",
              "      <td>81751610</td>\n",
              "      <td>0</td>\n",
              "    </tr>\n",
              "    <tr>\n",
              "      <th>20</th>\n",
              "      <td>rain_vaupes.parquet</td>\n",
              "      <td>9152</td>\n",
              "      <td>10</td>\n",
              "      <td>91520</td>\n",
              "      <td>0</td>\n",
              "    </tr>\n",
              "    <tr>\n",
              "      <th>21</th>\n",
              "      <td>rain_vaupes1.parquet</td>\n",
              "      <td>203957</td>\n",
              "      <td>10</td>\n",
              "      <td>2039570</td>\n",
              "      <td>0</td>\n",
              "    </tr>\n",
              "    <tr>\n",
              "      <th>22</th>\n",
              "      <td>rain_vichada.parquet</td>\n",
              "      <td>195915</td>\n",
              "      <td>10</td>\n",
              "      <td>1959150</td>\n",
              "      <td>0</td>\n",
              "    </tr>\n",
              "  </tbody>\n",
              "</table>\n",
              "</div>"
            ],
            "text/plain": [
              "                               File      Rows Columns       Size Nulls\n",
              "0             rain_guaviare.parquet     29100      10     291000     0\n",
              "1              rain_guajira.parquet   4448321      10   44483210     0\n",
              "2                rain_huila.parquet  10676628      10  106766280     0\n",
              "3            rain_magdalena.parquet   5150365      10   51503650     0\n",
              "4                 rain_meta.parquet   2470476      10   24704760     0\n",
              "5               rain_narino.parquet    469965      10    4699650     0\n",
              "6              rain_narino1.parquet   5432162      10   54321620     0\n",
              "7                 rain_nill.parquet    334763      10    3347630     0\n",
              "8   rain_norte_de_santander.parquet   8764156      10   87641560     0\n",
              "9             rain_putumayo.parquet    854162      10    8541620     0\n",
              "10             rain_quindio.parquet   3638112      10   36381120     0\n",
              "11           rain_risaralda.parquet   5098643      10   50986430     0\n",
              "12          rain_sanandres1.parquet    812917      10    8129170     0\n",
              "13          rain_sanandres2.parquet    325509      10    3255090     0\n",
              "14          rain_sanandres4.parquet     68333      10     683330     0\n",
              "15          rain_sanandres3.parquet    166771      10    1667710     0\n",
              "16           rain_santander.parquet   9858363      10   98583630     0\n",
              "17               rain_sucre.parquet   2072527      10   20725270     0\n",
              "18              rain_tolima.parquet  14540103      10  145401030     0\n",
              "19     rain_valle_del_cauca.parquet   8175161      10   81751610     0\n",
              "20              rain_vaupes.parquet      9152      10      91520     0\n",
              "21             rain_vaupes1.parquet    203957      10    2039570     0\n",
              "22             rain_vichada.parquet    195915      10    1959150     0"
            ]
          },
          "execution_count": 77,
          "metadata": {},
          "output_type": "execute_result"
        }
      ],
      "source": [
        "dim = pd.DataFrame(columns=['File','Rows','Columns','Size','Nulls'])\n",
        "\n",
        "for i in namesFiles:\n",
        "    path_file = path + '\\\\CleanDatasets\\\\' + i\n",
        "    df_dept2 = pd.read_parquet(\n",
        "                                path_file\n",
        "                            )\n",
        "    row = pd.DataFrame({'File':[i],'Rows':[df_dept2.shape[0]],'Columns':[df_dept2.shape[1]],'Size':[df_dept2.size],'Nulls':[df_dept2.size-df_dept2.count().sum()]})\n",
        "    dim = pd.concat([dim,row], ignore_index=True)\n",
        "\n",
        "dim"
      ]
    },
    {
      "cell_type": "markdown",
      "metadata": {},
      "source": [
        "Tipos de datos"
      ]
    },
    {
      "cell_type": "code",
      "execution_count": 72,
      "metadata": {},
      "outputs": [
        {
          "data": {
            "text/plain": [
              "{'CodigoEstacion': CategoricalDtype(categories=['0035260050', '3526500201'], ordered=False, categories_dtype=object),\n",
              " 'CodigoSensor': CategoricalDtype(categories=['0240'], ordered=False, categories_dtype=object),\n",
              " 'FechaObservacion': dtype('<M8[ns]'),\n",
              " 'ValorObservado': dtype('float32'),\n",
              " 'NombreEstacion': CategoricalDtype(categories=['LA PRIMAVERA', 'VUELTA MALA'], ordered=False, categories_dtype=object),\n",
              " 'Departamento': CategoricalDtype(categories=['VICHADA'], ordered=False, categories_dtype=object),\n",
              " 'Municipio': CategoricalDtype(categories=['LA PRIMAVERA'], ordered=False, categories_dtype=object),\n",
              " 'ZonaHidrografica': CategoricalDtype(categories=['META', 'ORINOCO'], ordered=False, categories_dtype=object),\n",
              " 'Latitud': CategoricalDtype(categories=['5.48088889', '5.561', '5.56136111', '5.480888889',\n",
              "                   '5.561361111'],\n",
              " , ordered=False, categories_dtype=object),\n",
              " 'Longitud': CategoricalDtype(categories=['-70.281', '-70.42130556', '-70.28063889', '-70.421305556'], ordered=False, categories_dtype=object)}"
            ]
          },
          "execution_count": 72,
          "metadata": {},
          "output_type": "execute_result"
        }
      ],
      "source": [
        "for i in namesFiles:\n",
        "    path_file = path + '\\\\CleanDatasets\\\\' + i\n",
        "    df_dept2 = pd.read_parquet(\n",
        "                                path_file\n",
        "                            )\n",
        "    columns = df_dept2.dtypes.to_dict()\n",
        "    row = pd.DataFrame(columns, index=)\n",
        "    dim = pd.concat([dim,row], ignore_index=True)\n",
        "\n",
        "types"
      ]
    },
    {
      "cell_type": "code",
      "execution_count": 81,
      "metadata": {},
      "outputs": [
        {
          "data": {
            "text/plain": [
              "{'CodigoEstacion': CategoricalDtype(categories=['0035260050', '3526500201'], ordered=False, categories_dtype=object),\n",
              " 'CodigoSensor': CategoricalDtype(categories=['0240'], ordered=False, categories_dtype=object),\n",
              " 'FechaObservacion': dtype('<M8[ns]'),\n",
              " 'ValorObservado': dtype('float32'),\n",
              " 'NombreEstacion': CategoricalDtype(categories=['LA PRIMAVERA', 'VUELTA MALA'], ordered=False, categories_dtype=object),\n",
              " 'Departamento': CategoricalDtype(categories=['VICHADA'], ordered=False, categories_dtype=object),\n",
              " 'Municipio': CategoricalDtype(categories=['LA PRIMAVERA'], ordered=False, categories_dtype=object),\n",
              " 'ZonaHidrografica': CategoricalDtype(categories=['META', 'ORINOCO'], ordered=False, categories_dtype=object),\n",
              " 'Latitud': CategoricalDtype(categories=['5.48088889', '5.561', '5.56136111', '5.480888889',\n",
              "                   '5.561361111'],\n",
              " , ordered=False, categories_dtype=object),\n",
              " 'Longitud': CategoricalDtype(categories=['-70.281', '-70.42130556', '-70.28063889', '-70.421305556'], ordered=False, categories_dtype=object)}"
            ]
          },
          "execution_count": 81,
          "metadata": {},
          "output_type": "execute_result"
        }
      ],
      "source": [
        "df_dept2.dtypes.to_dict()"
      ]
    }
  ],
  "metadata": {
    "colab": {
      "include_colab_link": true,
      "provenance": []
    },
    "kernelspec": {
      "display_name": "base",
      "language": "python",
      "name": "python3"
    },
    "language_info": {
      "codemirror_mode": {
        "name": "ipython",
        "version": 3
      },
      "file_extension": ".py",
      "mimetype": "text/x-python",
      "name": "python",
      "nbconvert_exporter": "python",
      "pygments_lexer": "ipython3",
      "version": "3.12.4"
    }
  },
  "nbformat": 4,
  "nbformat_minor": 0
}
