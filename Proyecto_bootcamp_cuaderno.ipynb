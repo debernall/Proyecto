{
  "cells": [
    {
      "cell_type": "markdown",
      "metadata": {
        "colab_type": "text",
        "id": "view-in-github"
      },
      "source": [
        "<a href=\"https://colab.research.google.com/github/debernall/Proyecto/blob/main/Proyecto_bootcamp_cuaderno.ipynb\" target=\"_parent\"><img src=\"https://colab.research.google.com/assets/colab-badge.svg\" alt=\"Open In Colab\"/></a>"
      ]
    },
    {
      "cell_type": "markdown",
      "metadata": {},
      "source": [
        "### Introducción"
      ]
    },
    {
      "cell_type": "markdown",
      "metadata": {
        "id": "DY1m9lao8YgX"
      },
      "source": [
        "# Proyecto Lluvia"
      ]
    },
    {
      "cell_type": "markdown",
      "metadata": {},
      "source": []
    },
    {
      "cell_type": "markdown",
      "metadata": {
        "notebookRunGroups": {
          "groupValue": "1"
        }
      },
      "source": [
        "## Limpieza de archivos - conversión a parquet"
      ]
    },
    {
      "cell_type": "code",
      "execution_count": 1,
      "metadata": {
        "id": "W-RRQrHv8Ygd",
        "notebookRunGroups": {
          "groupValue": "2"
        },
        "outputId": "1ae74537-53c6-4a15-bf1a-402f6897f26a"
      },
      "outputs": [],
      "source": [
        "import numpy as np\n",
        "import matplotlib.pyplot as plt\n",
        "import pandas as pd"
      ]
    },
    {
      "cell_type": "markdown",
      "metadata": {},
      "source": [
        "*Sistema de archivos*\n",
        "\n",
        "    ./\n",
        "    \n",
        "    ./Proyecto/\n",
        "        ./Proyecto/Proyecto_bootcamp_cuaderno.ipynb\n",
        "\n",
        "    ./Datasets/\n",
        "        ./Datasets/...... .csv\n",
        "    \n",
        "    ./CleanDatasets/\n",
        "        ./CleanDatasets/.....  .parquet\n"
      ]
    },
    {
      "cell_type": "markdown",
      "metadata": {},
      "source": [
        "### Primera exploración"
      ]
    },
    {
      "cell_type": "markdown",
      "metadata": {},
      "source": [
        "Se importa el primer documento previo a la limpieza. Se inicia con el archivo de menor tamaño."
      ]
    },
    {
      "cell_type": "code",
      "execution_count": 28,
      "metadata": {
        "notebookRunGroups": {
          "groupValue": "2"
        }
      },
      "outputs": [
        {
          "data": {
            "text/html": [
              "<div>\n",
              "<style scoped>\n",
              "    .dataframe tbody tr th:only-of-type {\n",
              "        vertical-align: middle;\n",
              "    }\n",
              "\n",
              "    .dataframe tbody tr th {\n",
              "        vertical-align: top;\n",
              "    }\n",
              "\n",
              "    .dataframe thead th {\n",
              "        text-align: right;\n",
              "    }\n",
              "</style>\n",
              "<table border=\"1\" class=\"dataframe\">\n",
              "  <thead>\n",
              "    <tr style=\"text-align: right;\">\n",
              "      <th></th>\n",
              "      <th>CodigoEstacion</th>\n",
              "      <th>CodigoSensor</th>\n",
              "      <th>FechaObservacion</th>\n",
              "      <th>ValorObservado</th>\n",
              "      <th>NombreEstacion</th>\n",
              "      <th>Departamento</th>\n",
              "      <th>Municipio</th>\n",
              "      <th>ZonaHidrografica</th>\n",
              "      <th>Latitud</th>\n",
              "      <th>Longitud</th>\n",
              "      <th>DescripcionSensor</th>\n",
              "      <th>UnidadMedida</th>\n",
              "    </tr>\n",
              "  </thead>\n",
              "  <tbody>\n",
              "    <tr>\n",
              "      <th>0</th>\n",
              "      <td>42077020</td>\n",
              "      <td>240</td>\n",
              "      <td>11/01/2023 07:30:00 PM</td>\n",
              "      <td>0.2</td>\n",
              "      <td>MITU</td>\n",
              "      <td>VAUPES</td>\n",
              "      <td>MITÚ</td>\n",
              "      <td>VAUPES</td>\n",
              "      <td>1.26</td>\n",
              "      <td>-70.24</td>\n",
              "      <td>PRECIPITACIÓN</td>\n",
              "      <td>mm</td>\n",
              "    </tr>\n",
              "    <tr>\n",
              "      <th>1</th>\n",
              "      <td>42077020</td>\n",
              "      <td>240</td>\n",
              "      <td>11/01/2023 11:10:00 PM</td>\n",
              "      <td>0.0</td>\n",
              "      <td>MITU</td>\n",
              "      <td>VAUPES</td>\n",
              "      <td>MITÚ</td>\n",
              "      <td>VAUPES</td>\n",
              "      <td>1.26</td>\n",
              "      <td>-70.24</td>\n",
              "      <td>PRECIPITACIÓN</td>\n",
              "      <td>mm</td>\n",
              "    </tr>\n",
              "    <tr>\n",
              "      <th>2</th>\n",
              "      <td>42077020</td>\n",
              "      <td>240</td>\n",
              "      <td>11/01/2023 03:10:00 PM</td>\n",
              "      <td>0.0</td>\n",
              "      <td>MITU</td>\n",
              "      <td>VAUPES</td>\n",
              "      <td>MITÚ</td>\n",
              "      <td>VAUPES</td>\n",
              "      <td>1.26</td>\n",
              "      <td>-70.24</td>\n",
              "      <td>PRECIPITACIÓN</td>\n",
              "      <td>mm</td>\n",
              "    </tr>\n",
              "    <tr>\n",
              "      <th>3</th>\n",
              "      <td>42077020</td>\n",
              "      <td>240</td>\n",
              "      <td>11/01/2023 09:30:00 PM</td>\n",
              "      <td>0.0</td>\n",
              "      <td>MITU</td>\n",
              "      <td>VAUPES</td>\n",
              "      <td>MITÚ</td>\n",
              "      <td>VAUPES</td>\n",
              "      <td>1.26</td>\n",
              "      <td>-70.24</td>\n",
              "      <td>PRECIPITACIÓN</td>\n",
              "      <td>mm</td>\n",
              "    </tr>\n",
              "    <tr>\n",
              "      <th>4</th>\n",
              "      <td>42077020</td>\n",
              "      <td>240</td>\n",
              "      <td>11/01/2023 05:40:00 PM</td>\n",
              "      <td>0.0</td>\n",
              "      <td>MITU</td>\n",
              "      <td>VAUPES</td>\n",
              "      <td>MITÚ</td>\n",
              "      <td>VAUPES</td>\n",
              "      <td>1.26</td>\n",
              "      <td>-70.24</td>\n",
              "      <td>PRECIPITACIÓN</td>\n",
              "      <td>mm</td>\n",
              "    </tr>\n",
              "    <tr>\n",
              "      <th>...</th>\n",
              "      <td>...</td>\n",
              "      <td>...</td>\n",
              "      <td>...</td>\n",
              "      <td>...</td>\n",
              "      <td>...</td>\n",
              "      <td>...</td>\n",
              "      <td>...</td>\n",
              "      <td>...</td>\n",
              "      <td>...</td>\n",
              "      <td>...</td>\n",
              "      <td>...</td>\n",
              "      <td>...</td>\n",
              "    </tr>\n",
              "    <tr>\n",
              "      <th>9147</th>\n",
              "      <td>42077020</td>\n",
              "      <td>240</td>\n",
              "      <td>06/22/2024 02:20:00 AM</td>\n",
              "      <td>0.0</td>\n",
              "      <td>MITU</td>\n",
              "      <td>VAUPES</td>\n",
              "      <td>MITÚ</td>\n",
              "      <td>VAUPES</td>\n",
              "      <td>1.26</td>\n",
              "      <td>-70.24</td>\n",
              "      <td>PRECIPITACIÓN</td>\n",
              "      <td>mm</td>\n",
              "    </tr>\n",
              "    <tr>\n",
              "      <th>9148</th>\n",
              "      <td>42077020</td>\n",
              "      <td>240</td>\n",
              "      <td>06/22/2024 01:30:00 AM</td>\n",
              "      <td>0.0</td>\n",
              "      <td>MITU</td>\n",
              "      <td>VAUPES</td>\n",
              "      <td>MITÚ</td>\n",
              "      <td>VAUPES</td>\n",
              "      <td>1.26</td>\n",
              "      <td>-70.24</td>\n",
              "      <td>PRECIPITACIÓN</td>\n",
              "      <td>mm</td>\n",
              "    </tr>\n",
              "    <tr>\n",
              "      <th>9149</th>\n",
              "      <td>42077020</td>\n",
              "      <td>240</td>\n",
              "      <td>06/22/2024 01:40:00 AM</td>\n",
              "      <td>0.0</td>\n",
              "      <td>MITU</td>\n",
              "      <td>VAUPES</td>\n",
              "      <td>MITÚ</td>\n",
              "      <td>VAUPES</td>\n",
              "      <td>1.26</td>\n",
              "      <td>-70.24</td>\n",
              "      <td>PRECIPITACIÓN</td>\n",
              "      <td>mm</td>\n",
              "    </tr>\n",
              "    <tr>\n",
              "      <th>9150</th>\n",
              "      <td>42077020</td>\n",
              "      <td>240</td>\n",
              "      <td>06/22/2024 01:20:00 AM</td>\n",
              "      <td>0.0</td>\n",
              "      <td>MITU</td>\n",
              "      <td>VAUPES</td>\n",
              "      <td>MITÚ</td>\n",
              "      <td>VAUPES</td>\n",
              "      <td>1.26</td>\n",
              "      <td>-70.24</td>\n",
              "      <td>PRECIPITACIÓN</td>\n",
              "      <td>mm</td>\n",
              "    </tr>\n",
              "    <tr>\n",
              "      <th>9151</th>\n",
              "      <td>42077020</td>\n",
              "      <td>240</td>\n",
              "      <td>06/22/2024 02:00:00 AM</td>\n",
              "      <td>0.0</td>\n",
              "      <td>MITU</td>\n",
              "      <td>VAUPES</td>\n",
              "      <td>MITÚ</td>\n",
              "      <td>VAUPES</td>\n",
              "      <td>1.26</td>\n",
              "      <td>-70.24</td>\n",
              "      <td>PRECIPITACIÓN</td>\n",
              "      <td>mm</td>\n",
              "    </tr>\n",
              "  </tbody>\n",
              "</table>\n",
              "<p>9152 rows × 12 columns</p>\n",
              "</div>"
            ],
            "text/plain": [
              "      CodigoEstacion  CodigoSensor        FechaObservacion  ValorObservado  \\\n",
              "0           42077020           240  11/01/2023 07:30:00 PM             0.2   \n",
              "1           42077020           240  11/01/2023 11:10:00 PM             0.0   \n",
              "2           42077020           240  11/01/2023 03:10:00 PM             0.0   \n",
              "3           42077020           240  11/01/2023 09:30:00 PM             0.0   \n",
              "4           42077020           240  11/01/2023 05:40:00 PM             0.0   \n",
              "...              ...           ...                     ...             ...   \n",
              "9147        42077020           240  06/22/2024 02:20:00 AM             0.0   \n",
              "9148        42077020           240  06/22/2024 01:30:00 AM             0.0   \n",
              "9149        42077020           240  06/22/2024 01:40:00 AM             0.0   \n",
              "9150        42077020           240  06/22/2024 01:20:00 AM             0.0   \n",
              "9151        42077020           240  06/22/2024 02:00:00 AM             0.0   \n",
              "\n",
              "     NombreEstacion Departamento Municipio ZonaHidrografica  Latitud  \\\n",
              "0              MITU       VAUPES      MITÚ           VAUPES     1.26   \n",
              "1              MITU       VAUPES      MITÚ           VAUPES     1.26   \n",
              "2              MITU       VAUPES      MITÚ           VAUPES     1.26   \n",
              "3              MITU       VAUPES      MITÚ           VAUPES     1.26   \n",
              "4              MITU       VAUPES      MITÚ           VAUPES     1.26   \n",
              "...             ...          ...       ...              ...      ...   \n",
              "9147           MITU       VAUPES      MITÚ           VAUPES     1.26   \n",
              "9148           MITU       VAUPES      MITÚ           VAUPES     1.26   \n",
              "9149           MITU       VAUPES      MITÚ           VAUPES     1.26   \n",
              "9150           MITU       VAUPES      MITÚ           VAUPES     1.26   \n",
              "9151           MITU       VAUPES      MITÚ           VAUPES     1.26   \n",
              "\n",
              "      Longitud DescripcionSensor UnidadMedida  \n",
              "0       -70.24     PRECIPITACIÓN           mm  \n",
              "1       -70.24     PRECIPITACIÓN           mm  \n",
              "2       -70.24     PRECIPITACIÓN           mm  \n",
              "3       -70.24     PRECIPITACIÓN           mm  \n",
              "4       -70.24     PRECIPITACIÓN           mm  \n",
              "...        ...               ...          ...  \n",
              "9147    -70.24     PRECIPITACIÓN           mm  \n",
              "9148    -70.24     PRECIPITACIÓN           mm  \n",
              "9149    -70.24     PRECIPITACIÓN           mm  \n",
              "9150    -70.24     PRECIPITACIÓN           mm  \n",
              "9151    -70.24     PRECIPITACIÓN           mm  \n",
              "\n",
              "[9152 rows x 12 columns]"
            ]
          },
          "execution_count": 28,
          "metadata": {},
          "output_type": "execute_result"
        }
      ],
      "source": [
        "df = pd.read_csv('../Datasets/Precipitaci_n_20241016(vaupes).csv',\n",
        "                 sep=',',\n",
        "                 #nrows=10\n",
        "                 )\n",
        "df"
      ]
    },
    {
      "cell_type": "markdown",
      "metadata": {},
      "source": [
        "En la siguiente celda se imprime un pequeño resumen. Es importante resaltar que no hay datos nulos y la necesidad de cambiar el formato de cada columna por uno mas adecuado que reduzca el tamaño del dataframe."
      ]
    },
    {
      "cell_type": "code",
      "execution_count": 29,
      "metadata": {},
      "outputs": [
        {
          "name": "stdout",
          "output_type": "stream",
          "text": [
            "<class 'pandas.core.frame.DataFrame'>\n",
            "RangeIndex: 9152 entries, 0 to 9151\n",
            "Data columns (total 12 columns):\n",
            " #   Column             Non-Null Count  Dtype  \n",
            "---  ------             --------------  -----  \n",
            " 0   CodigoEstacion     9152 non-null   int64  \n",
            " 1   CodigoSensor       9152 non-null   int64  \n",
            " 2   FechaObservacion   9152 non-null   object \n",
            " 3   ValorObservado     9152 non-null   float64\n",
            " 4   NombreEstacion     9152 non-null   object \n",
            " 5   Departamento       9152 non-null   object \n",
            " 6   Municipio          9152 non-null   object \n",
            " 7   ZonaHidrografica   9152 non-null   object \n",
            " 8   Latitud            9152 non-null   float64\n",
            " 9   Longitud           9152 non-null   float64\n",
            " 10  DescripcionSensor  9152 non-null   object \n",
            " 11  UnidadMedida       9152 non-null   object \n",
            "dtypes: float64(3), int64(2), object(7)\n",
            "memory usage: 858.1+ KB\n"
          ]
        }
      ],
      "source": [
        "size_0=df.memory_usage(deep=True).sum()\n",
        "df.info()"
      ]
    },
    {
      "cell_type": "markdown",
      "metadata": {},
      "source": [
        "### Vaupes"
      ]
    },
    {
      "cell_type": "markdown",
      "metadata": {},
      "source": [
        "Se importa nuevamente el archivo csv, seleccionando las columnas relevantes y eligiendo un formato adeacuado para cada columna."
      ]
    },
    {
      "cell_type": "code",
      "execution_count": 30,
      "metadata": {},
      "outputs": [
        {
          "data": {
            "text/html": [
              "<div>\n",
              "<style scoped>\n",
              "    .dataframe tbody tr th:only-of-type {\n",
              "        vertical-align: middle;\n",
              "    }\n",
              "\n",
              "    .dataframe tbody tr th {\n",
              "        vertical-align: top;\n",
              "    }\n",
              "\n",
              "    .dataframe thead th {\n",
              "        text-align: right;\n",
              "    }\n",
              "</style>\n",
              "<table border=\"1\" class=\"dataframe\">\n",
              "  <thead>\n",
              "    <tr style=\"text-align: right;\">\n",
              "      <th></th>\n",
              "      <th>CodigoEstacion</th>\n",
              "      <th>CodigoSensor</th>\n",
              "      <th>FechaObservacion</th>\n",
              "      <th>ValorObservado</th>\n",
              "      <th>NombreEstacion</th>\n",
              "      <th>Departamento</th>\n",
              "      <th>Municipio</th>\n",
              "      <th>ZonaHidrografica</th>\n",
              "      <th>Latitud</th>\n",
              "      <th>Longitud</th>\n",
              "    </tr>\n",
              "  </thead>\n",
              "  <tbody>\n",
              "    <tr>\n",
              "      <th>0</th>\n",
              "      <td>0042077020</td>\n",
              "      <td>0240</td>\n",
              "      <td>11/01/2023 07:30:00 PM</td>\n",
              "      <td>0.2</td>\n",
              "      <td>MITU</td>\n",
              "      <td>VAUPES</td>\n",
              "      <td>MITÚ</td>\n",
              "      <td>VAUPES</td>\n",
              "      <td>1.26</td>\n",
              "      <td>-70.24</td>\n",
              "    </tr>\n",
              "    <tr>\n",
              "      <th>1</th>\n",
              "      <td>0042077020</td>\n",
              "      <td>0240</td>\n",
              "      <td>11/01/2023 11:10:00 PM</td>\n",
              "      <td>0.0</td>\n",
              "      <td>MITU</td>\n",
              "      <td>VAUPES</td>\n",
              "      <td>MITÚ</td>\n",
              "      <td>VAUPES</td>\n",
              "      <td>1.26</td>\n",
              "      <td>-70.24</td>\n",
              "    </tr>\n",
              "    <tr>\n",
              "      <th>2</th>\n",
              "      <td>0042077020</td>\n",
              "      <td>0240</td>\n",
              "      <td>11/01/2023 03:10:00 PM</td>\n",
              "      <td>0.0</td>\n",
              "      <td>MITU</td>\n",
              "      <td>VAUPES</td>\n",
              "      <td>MITÚ</td>\n",
              "      <td>VAUPES</td>\n",
              "      <td>1.26</td>\n",
              "      <td>-70.24</td>\n",
              "    </tr>\n",
              "    <tr>\n",
              "      <th>3</th>\n",
              "      <td>0042077020</td>\n",
              "      <td>0240</td>\n",
              "      <td>11/01/2023 09:30:00 PM</td>\n",
              "      <td>0.0</td>\n",
              "      <td>MITU</td>\n",
              "      <td>VAUPES</td>\n",
              "      <td>MITÚ</td>\n",
              "      <td>VAUPES</td>\n",
              "      <td>1.26</td>\n",
              "      <td>-70.24</td>\n",
              "    </tr>\n",
              "    <tr>\n",
              "      <th>4</th>\n",
              "      <td>0042077020</td>\n",
              "      <td>0240</td>\n",
              "      <td>11/01/2023 05:40:00 PM</td>\n",
              "      <td>0.0</td>\n",
              "      <td>MITU</td>\n",
              "      <td>VAUPES</td>\n",
              "      <td>MITÚ</td>\n",
              "      <td>VAUPES</td>\n",
              "      <td>1.26</td>\n",
              "      <td>-70.24</td>\n",
              "    </tr>\n",
              "    <tr>\n",
              "      <th>...</th>\n",
              "      <td>...</td>\n",
              "      <td>...</td>\n",
              "      <td>...</td>\n",
              "      <td>...</td>\n",
              "      <td>...</td>\n",
              "      <td>...</td>\n",
              "      <td>...</td>\n",
              "      <td>...</td>\n",
              "      <td>...</td>\n",
              "      <td>...</td>\n",
              "    </tr>\n",
              "    <tr>\n",
              "      <th>9147</th>\n",
              "      <td>0042077020</td>\n",
              "      <td>0240</td>\n",
              "      <td>06/22/2024 02:20:00 AM</td>\n",
              "      <td>0.0</td>\n",
              "      <td>MITU</td>\n",
              "      <td>VAUPES</td>\n",
              "      <td>MITÚ</td>\n",
              "      <td>VAUPES</td>\n",
              "      <td>1.26</td>\n",
              "      <td>-70.24</td>\n",
              "    </tr>\n",
              "    <tr>\n",
              "      <th>9148</th>\n",
              "      <td>0042077020</td>\n",
              "      <td>0240</td>\n",
              "      <td>06/22/2024 01:30:00 AM</td>\n",
              "      <td>0.0</td>\n",
              "      <td>MITU</td>\n",
              "      <td>VAUPES</td>\n",
              "      <td>MITÚ</td>\n",
              "      <td>VAUPES</td>\n",
              "      <td>1.26</td>\n",
              "      <td>-70.24</td>\n",
              "    </tr>\n",
              "    <tr>\n",
              "      <th>9149</th>\n",
              "      <td>0042077020</td>\n",
              "      <td>0240</td>\n",
              "      <td>06/22/2024 01:40:00 AM</td>\n",
              "      <td>0.0</td>\n",
              "      <td>MITU</td>\n",
              "      <td>VAUPES</td>\n",
              "      <td>MITÚ</td>\n",
              "      <td>VAUPES</td>\n",
              "      <td>1.26</td>\n",
              "      <td>-70.24</td>\n",
              "    </tr>\n",
              "    <tr>\n",
              "      <th>9150</th>\n",
              "      <td>0042077020</td>\n",
              "      <td>0240</td>\n",
              "      <td>06/22/2024 01:20:00 AM</td>\n",
              "      <td>0.0</td>\n",
              "      <td>MITU</td>\n",
              "      <td>VAUPES</td>\n",
              "      <td>MITÚ</td>\n",
              "      <td>VAUPES</td>\n",
              "      <td>1.26</td>\n",
              "      <td>-70.24</td>\n",
              "    </tr>\n",
              "    <tr>\n",
              "      <th>9151</th>\n",
              "      <td>0042077020</td>\n",
              "      <td>0240</td>\n",
              "      <td>06/22/2024 02:00:00 AM</td>\n",
              "      <td>0.0</td>\n",
              "      <td>MITU</td>\n",
              "      <td>VAUPES</td>\n",
              "      <td>MITÚ</td>\n",
              "      <td>VAUPES</td>\n",
              "      <td>1.26</td>\n",
              "      <td>-70.24</td>\n",
              "    </tr>\n",
              "  </tbody>\n",
              "</table>\n",
              "<p>9152 rows × 10 columns</p>\n",
              "</div>"
            ],
            "text/plain": [
              "     CodigoEstacion CodigoSensor        FechaObservacion  ValorObservado  \\\n",
              "0        0042077020         0240  11/01/2023 07:30:00 PM             0.2   \n",
              "1        0042077020         0240  11/01/2023 11:10:00 PM             0.0   \n",
              "2        0042077020         0240  11/01/2023 03:10:00 PM             0.0   \n",
              "3        0042077020         0240  11/01/2023 09:30:00 PM             0.0   \n",
              "4        0042077020         0240  11/01/2023 05:40:00 PM             0.0   \n",
              "...             ...          ...                     ...             ...   \n",
              "9147     0042077020         0240  06/22/2024 02:20:00 AM             0.0   \n",
              "9148     0042077020         0240  06/22/2024 01:30:00 AM             0.0   \n",
              "9149     0042077020         0240  06/22/2024 01:40:00 AM             0.0   \n",
              "9150     0042077020         0240  06/22/2024 01:20:00 AM             0.0   \n",
              "9151     0042077020         0240  06/22/2024 02:00:00 AM             0.0   \n",
              "\n",
              "     NombreEstacion Departamento Municipio ZonaHidrografica Latitud Longitud  \n",
              "0              MITU       VAUPES      MITÚ           VAUPES    1.26   -70.24  \n",
              "1              MITU       VAUPES      MITÚ           VAUPES    1.26   -70.24  \n",
              "2              MITU       VAUPES      MITÚ           VAUPES    1.26   -70.24  \n",
              "3              MITU       VAUPES      MITÚ           VAUPES    1.26   -70.24  \n",
              "4              MITU       VAUPES      MITÚ           VAUPES    1.26   -70.24  \n",
              "...             ...          ...       ...              ...     ...      ...  \n",
              "9147           MITU       VAUPES      MITÚ           VAUPES    1.26   -70.24  \n",
              "9148           MITU       VAUPES      MITÚ           VAUPES    1.26   -70.24  \n",
              "9149           MITU       VAUPES      MITÚ           VAUPES    1.26   -70.24  \n",
              "9150           MITU       VAUPES      MITÚ           VAUPES    1.26   -70.24  \n",
              "9151           MITU       VAUPES      MITÚ           VAUPES    1.26   -70.24  \n",
              "\n",
              "[9152 rows x 10 columns]"
            ]
          },
          "execution_count": 30,
          "metadata": {},
          "output_type": "execute_result"
        }
      ],
      "source": [
        "df = pd.read_csv('../Datasets/Precipitaci_n_20241016(vaupes).csv',\n",
        "                 sep=',',\n",
        "                 usecols= [0,1,2,3,4,5,6,7,8,9],\n",
        "                 dtype={0:'category',1:'category',2:'str',3:'float32',4:'category',5:'category',6:'category',7:'category',8:'category',9:'category'}\n",
        "                 )\n",
        "df"
      ]
    },
    {
      "cell_type": "code",
      "execution_count": 31,
      "metadata": {},
      "outputs": [
        {
          "name": "stdout",
          "output_type": "stream",
          "text": [
            "<class 'pandas.core.frame.DataFrame'>\n",
            "RangeIndex: 9152 entries, 0 to 9151\n",
            "Data columns (total 10 columns):\n",
            " #   Column            Non-Null Count  Dtype   \n",
            "---  ------            --------------  -----   \n",
            " 0   CodigoEstacion    9152 non-null   category\n",
            " 1   CodigoSensor      9152 non-null   category\n",
            " 2   FechaObservacion  9152 non-null   object  \n",
            " 3   ValorObservado    9152 non-null   float32 \n",
            " 4   NombreEstacion    9152 non-null   category\n",
            " 5   Departamento      9152 non-null   category\n",
            " 6   Municipio         9152 non-null   category\n",
            " 7   ZonaHidrografica  9152 non-null   category\n",
            " 8   Latitud           9152 non-null   category\n",
            " 9   Longitud          9152 non-null   category\n",
            "dtypes: category(8), float32(1), object(1)\n",
            "memory usage: 178.9+ KB\n"
          ]
        }
      ],
      "source": [
        "df.info()"
      ]
    },
    {
      "cell_type": "markdown",
      "metadata": {},
      "source": [
        "Se muestra una comparación entre el tamaño del dataframe tras el cambio de formato a las columnas"
      ]
    },
    {
      "cell_type": "code",
      "execution_count": 32,
      "metadata": {},
      "outputs": [
        {
          "name": "stdout",
          "output_type": "stream",
          "text": [
            "0.1759772734217371\n"
          ]
        }
      ],
      "source": [
        "size_f=df.memory_usage(deep=True).sum()\n",
        "print(size_f/size_0)"
      ]
    },
    {
      "cell_type": "markdown",
      "metadata": {},
      "source": [
        "**Formato de fecha**"
      ]
    },
    {
      "cell_type": "code",
      "execution_count": 33,
      "metadata": {},
      "outputs": [],
      "source": [
        "df['FechaObservacion'] = pd.to_datetime(df['FechaObservacion'], format='%m/%d/%Y %H:%M:%S %p')"
      ]
    },
    {
      "cell_type": "code",
      "execution_count": 34,
      "metadata": {},
      "outputs": [
        {
          "name": "stdout",
          "output_type": "stream",
          "text": [
            "<class 'pandas.core.frame.DataFrame'>\n",
            "RangeIndex: 9152 entries, 0 to 9151\n",
            "Data columns (total 10 columns):\n",
            " #   Column            Non-Null Count  Dtype         \n",
            "---  ------            --------------  -----         \n",
            " 0   CodigoEstacion    9152 non-null   category      \n",
            " 1   CodigoSensor      9152 non-null   category      \n",
            " 2   FechaObservacion  9152 non-null   datetime64[ns]\n",
            " 3   ValorObservado    9152 non-null   float32       \n",
            " 4   NombreEstacion    9152 non-null   category      \n",
            " 5   Departamento      9152 non-null   category      \n",
            " 6   Municipio         9152 non-null   category      \n",
            " 7   ZonaHidrografica  9152 non-null   category      \n",
            " 8   Latitud           9152 non-null   category      \n",
            " 9   Longitud          9152 non-null   category      \n",
            "dtypes: category(8), datetime64[ns](1), float32(1)\n",
            "memory usage: 178.9 KB\n"
          ]
        }
      ],
      "source": [
        "df.info()"
      ]
    },
    {
      "cell_type": "code",
      "execution_count": 35,
      "metadata": {},
      "outputs": [],
      "source": [
        "df.to_parquet('../CleanDatasets/rain_vaupes.parquet')"
      ]
    },
    {
      "cell_type": "code",
      "execution_count": 5,
      "metadata": {},
      "outputs": [
        {
          "name": "stdout",
          "output_type": "stream",
          "text": [
            "['amazonas', 'antioquia', 'arauca', 'atlantico1', 'atlantico2', 'bogota1', 'bogota2', 'bogota3', 'bolivar1', 'bolivar2', 'boyaca', 'caldas', 'caqueta1', 'caqueta2', 'casanare', 'cauca', 'cesar', 'choco', 'choco1', 'cordoba1', 'cordoba2', 'cundinamarca', 'guainia', 'guajira', 'guaviare', 'huila', 'magdalena', 'meta', 'narino', 'narino1', 'nill', 'norte_de_santander', 'putumayo', 'quindio', 'risaralda', 'sanandres1', 'sanandres2', 'sanandres3', 'sanandres4', 'santander', 'sucre', 'tolima', 'valle_del_cauca', 'vaupes', 'vaupes1', 'vichada']\n"
          ]
        }
      ],
      "source": [
        "import re\n",
        "import os\n",
        "namesFiles = os.listdir('../Datasets')\n",
        "namesFiles = [re.findall(r'\\((\\w*)\\)',x)[0] for x in namesFiles]\n",
        "print(namesFiles)"
      ]
    },
    {
      "cell_type": "markdown",
      "metadata": {},
      "source": [
        "### Caquetá"
      ]
    },
    {
      "cell_type": "markdown",
      "metadata": {},
      "source": [
        "Tener en cuenta que la información sobre caquetá está almacenada en dos archivos"
      ]
    },
    {
      "cell_type": "markdown",
      "metadata": {},
      "source": [
        "#### Caquetá 2"
      ]
    },
    {
      "cell_type": "code",
      "execution_count": 4,
      "metadata": {},
      "outputs": [
        {
          "ename": "NameError",
          "evalue": "name 'namesFiles' is not defined",
          "output_type": "error",
          "traceback": [
            "\u001b[1;31m---------------------------------------------------------------------------\u001b[0m",
            "\u001b[1;31mNameError\u001b[0m                                 Traceback (most recent call last)",
            "Cell \u001b[1;32mIn[4], line 1\u001b[0m\n\u001b[1;32m----> 1\u001b[0m nameFile \u001b[38;5;241m=\u001b[39m \u001b[38;5;124m'\u001b[39m\u001b[38;5;124m../Datasets/Precipitaci_n_20241016(\u001b[39m\u001b[38;5;124m'\u001b[39m\u001b[38;5;241m+\u001b[39m \u001b[43mnamesFiles\u001b[49m[\u001b[38;5;241m13\u001b[39m] \u001b[38;5;241m+\u001b[39m\u001b[38;5;124m'\u001b[39m\u001b[38;5;124m).csv\u001b[39m\u001b[38;5;124m'\u001b[39m\n\u001b[0;32m      2\u001b[0m nameFile\n",
            "\u001b[1;31mNameError\u001b[0m: name 'namesFiles' is not defined"
          ]
        }
      ],
      "source": [
        "nameFile = '../Datasets/Precipitaci_n_20241016('+ namesFiles[13] +').csv'\n",
        "nameFile"
      ]
    },
    {
      "cell_type": "code",
      "execution_count": 38,
      "metadata": {},
      "outputs": [
        {
          "data": {
            "text/html": [
              "<div>\n",
              "<style scoped>\n",
              "    .dataframe tbody tr th:only-of-type {\n",
              "        vertical-align: middle;\n",
              "    }\n",
              "\n",
              "    .dataframe tbody tr th {\n",
              "        vertical-align: top;\n",
              "    }\n",
              "\n",
              "    .dataframe thead th {\n",
              "        text-align: right;\n",
              "    }\n",
              "</style>\n",
              "<table border=\"1\" class=\"dataframe\">\n",
              "  <thead>\n",
              "    <tr style=\"text-align: right;\">\n",
              "      <th></th>\n",
              "      <th>CodigoEstacion</th>\n",
              "      <th>CodigoSensor</th>\n",
              "      <th>FechaObservacion</th>\n",
              "      <th>ValorObservado</th>\n",
              "      <th>NombreEstacion</th>\n",
              "      <th>Departamento</th>\n",
              "      <th>Municipio</th>\n",
              "      <th>ZonaHidrografica</th>\n",
              "      <th>Latitud</th>\n",
              "      <th>Longitud</th>\n",
              "    </tr>\n",
              "  </thead>\n",
              "  <tbody>\n",
              "    <tr>\n",
              "      <th>0</th>\n",
              "      <td>0044055010</td>\n",
              "      <td>0240</td>\n",
              "      <td>2023-09-13 01:50:00</td>\n",
              "      <td>0.0</td>\n",
              "      <td>TRES ESQUINAS</td>\n",
              "      <td>CAQUETÁ</td>\n",
              "      <td>SOLANO</td>\n",
              "      <td>CAQUETÁ</td>\n",
              "      <td>0.7375</td>\n",
              "      <td>-75.23611111</td>\n",
              "    </tr>\n",
              "    <tr>\n",
              "      <th>1</th>\n",
              "      <td>0044035501</td>\n",
              "      <td>0240</td>\n",
              "      <td>2023-09-18 06:30:00</td>\n",
              "      <td>0.0</td>\n",
              "      <td>PAUJIL</td>\n",
              "      <td>CAQUETÁ</td>\n",
              "      <td>EL PAUJIL</td>\n",
              "      <td>CAQUETÁ</td>\n",
              "      <td>1.57381944</td>\n",
              "      <td>-75.3402</td>\n",
              "    </tr>\n",
              "    <tr>\n",
              "      <th>2</th>\n",
              "      <td>0044035501</td>\n",
              "      <td>0240</td>\n",
              "      <td>2023-09-19 07:50:00</td>\n",
              "      <td>0.0</td>\n",
              "      <td>PAUJIL</td>\n",
              "      <td>CAQUETÁ</td>\n",
              "      <td>EL PAUJIL</td>\n",
              "      <td>CAQUETÁ</td>\n",
              "      <td>1.57381944</td>\n",
              "      <td>-75.3402</td>\n",
              "    </tr>\n",
              "    <tr>\n",
              "      <th>3</th>\n",
              "      <td>0044035501</td>\n",
              "      <td>0240</td>\n",
              "      <td>2023-09-19 07:30:00</td>\n",
              "      <td>0.0</td>\n",
              "      <td>PAUJIL</td>\n",
              "      <td>CAQUETÁ</td>\n",
              "      <td>EL PAUJIL</td>\n",
              "      <td>CAQUETÁ</td>\n",
              "      <td>1.57381944</td>\n",
              "      <td>-75.3402</td>\n",
              "    </tr>\n",
              "    <tr>\n",
              "      <th>4</th>\n",
              "      <td>0044035501</td>\n",
              "      <td>0240</td>\n",
              "      <td>2023-09-18 09:20:00</td>\n",
              "      <td>0.0</td>\n",
              "      <td>PAUJIL</td>\n",
              "      <td>CAQUETÁ</td>\n",
              "      <td>EL PAUJIL</td>\n",
              "      <td>CAQUETÁ</td>\n",
              "      <td>1.57381944</td>\n",
              "      <td>-75.3402</td>\n",
              "    </tr>\n",
              "    <tr>\n",
              "      <th>...</th>\n",
              "      <td>...</td>\n",
              "      <td>...</td>\n",
              "      <td>...</td>\n",
              "      <td>...</td>\n",
              "      <td>...</td>\n",
              "      <td>...</td>\n",
              "      <td>...</td>\n",
              "      <td>...</td>\n",
              "      <td>...</td>\n",
              "      <td>...</td>\n",
              "    </tr>\n",
              "    <tr>\n",
              "      <th>14541</th>\n",
              "      <td>0044055010</td>\n",
              "      <td>0240</td>\n",
              "      <td>2024-06-12 02:30:00</td>\n",
              "      <td>0.0</td>\n",
              "      <td>TRES ESQUINAS</td>\n",
              "      <td>CAQUETÁ</td>\n",
              "      <td>SOLANO</td>\n",
              "      <td>CAQUETÁ</td>\n",
              "      <td>0.7375</td>\n",
              "      <td>-75.23611111</td>\n",
              "    </tr>\n",
              "    <tr>\n",
              "      <th>14542</th>\n",
              "      <td>0044055010</td>\n",
              "      <td>0240</td>\n",
              "      <td>2024-06-12 06:30:00</td>\n",
              "      <td>0.0</td>\n",
              "      <td>TRES ESQUINAS</td>\n",
              "      <td>CAQUETÁ</td>\n",
              "      <td>SOLANO</td>\n",
              "      <td>CAQUETÁ</td>\n",
              "      <td>0.7375</td>\n",
              "      <td>-75.23611111</td>\n",
              "    </tr>\n",
              "    <tr>\n",
              "      <th>14543</th>\n",
              "      <td>0044055010</td>\n",
              "      <td>0240</td>\n",
              "      <td>2024-06-12 12:50:00</td>\n",
              "      <td>0.0</td>\n",
              "      <td>TRES ESQUINAS</td>\n",
              "      <td>CAQUETÁ</td>\n",
              "      <td>SOLANO</td>\n",
              "      <td>CAQUETÁ</td>\n",
              "      <td>0.7375</td>\n",
              "      <td>-75.23611111</td>\n",
              "    </tr>\n",
              "    <tr>\n",
              "      <th>14544</th>\n",
              "      <td>0044055010</td>\n",
              "      <td>0240</td>\n",
              "      <td>2024-06-12 02:10:00</td>\n",
              "      <td>0.0</td>\n",
              "      <td>TRES ESQUINAS</td>\n",
              "      <td>CAQUETÁ</td>\n",
              "      <td>SOLANO</td>\n",
              "      <td>CAQUETÁ</td>\n",
              "      <td>0.7375</td>\n",
              "      <td>-75.23611111</td>\n",
              "    </tr>\n",
              "    <tr>\n",
              "      <th>14545</th>\n",
              "      <td>0044055010</td>\n",
              "      <td>0240</td>\n",
              "      <td>2024-06-12 07:40:00</td>\n",
              "      <td>0.0</td>\n",
              "      <td>TRES ESQUINAS</td>\n",
              "      <td>CAQUETÁ</td>\n",
              "      <td>SOLANO</td>\n",
              "      <td>CAQUETÁ</td>\n",
              "      <td>0.7375</td>\n",
              "      <td>-75.23611111</td>\n",
              "    </tr>\n",
              "  </tbody>\n",
              "</table>\n",
              "<p>14546 rows × 10 columns</p>\n",
              "</div>"
            ],
            "text/plain": [
              "      CodigoEstacion CodigoSensor    FechaObservacion  ValorObservado  \\\n",
              "0         0044055010         0240 2023-09-13 01:50:00             0.0   \n",
              "1         0044035501         0240 2023-09-18 06:30:00             0.0   \n",
              "2         0044035501         0240 2023-09-19 07:50:00             0.0   \n",
              "3         0044035501         0240 2023-09-19 07:30:00             0.0   \n",
              "4         0044035501         0240 2023-09-18 09:20:00             0.0   \n",
              "...              ...          ...                 ...             ...   \n",
              "14541     0044055010         0240 2024-06-12 02:30:00             0.0   \n",
              "14542     0044055010         0240 2024-06-12 06:30:00             0.0   \n",
              "14543     0044055010         0240 2024-06-12 12:50:00             0.0   \n",
              "14544     0044055010         0240 2024-06-12 02:10:00             0.0   \n",
              "14545     0044055010         0240 2024-06-12 07:40:00             0.0   \n",
              "\n",
              "      NombreEstacion Departamento  Municipio ZonaHidrografica     Latitud  \\\n",
              "0      TRES ESQUINAS      CAQUETÁ     SOLANO          CAQUETÁ      0.7375   \n",
              "1             PAUJIL      CAQUETÁ  EL PAUJIL          CAQUETÁ  1.57381944   \n",
              "2             PAUJIL      CAQUETÁ  EL PAUJIL          CAQUETÁ  1.57381944   \n",
              "3             PAUJIL      CAQUETÁ  EL PAUJIL          CAQUETÁ  1.57381944   \n",
              "4             PAUJIL      CAQUETÁ  EL PAUJIL          CAQUETÁ  1.57381944   \n",
              "...              ...          ...        ...              ...         ...   \n",
              "14541  TRES ESQUINAS      CAQUETÁ     SOLANO          CAQUETÁ      0.7375   \n",
              "14542  TRES ESQUINAS      CAQUETÁ     SOLANO          CAQUETÁ      0.7375   \n",
              "14543  TRES ESQUINAS      CAQUETÁ     SOLANO          CAQUETÁ      0.7375   \n",
              "14544  TRES ESQUINAS      CAQUETÁ     SOLANO          CAQUETÁ      0.7375   \n",
              "14545  TRES ESQUINAS      CAQUETÁ     SOLANO          CAQUETÁ      0.7375   \n",
              "\n",
              "           Longitud  \n",
              "0      -75.23611111  \n",
              "1          -75.3402  \n",
              "2          -75.3402  \n",
              "3          -75.3402  \n",
              "4          -75.3402  \n",
              "...             ...  \n",
              "14541  -75.23611111  \n",
              "14542  -75.23611111  \n",
              "14543  -75.23611111  \n",
              "14544  -75.23611111  \n",
              "14545  -75.23611111  \n",
              "\n",
              "[14546 rows x 10 columns]"
            ]
          },
          "execution_count": 38,
          "metadata": {},
          "output_type": "execute_result"
        }
      ],
      "source": [
        "df_caqueta2 = pd.read_csv(nameFile,\n",
        "                 sep=',',\n",
        "                 usecols= [0,1,2,3,4,5,6,7,8,9],\n",
        "                 dtype={0:'category',1:'category',2:'str',3:'float32',4:'category',5:'category',6:'category',7:'category',8:'category',9:'category'}\n",
        "                 )\n",
        "df_caqueta2['FechaObservacion'] = pd.to_datetime(df_caqueta2['FechaObservacion'], format='%m/%d/%Y %H:%M:%S %p')\n",
        "df_caqueta2"
      ]
    },
    {
      "cell_type": "markdown",
      "metadata": {},
      "source": [
        "La siguiente celda imprimirá la cantidad de valores de nulos"
      ]
    },
    {
      "cell_type": "code",
      "execution_count": 39,
      "metadata": {},
      "outputs": [
        {
          "name": "stdout",
          "output_type": "stream",
          "text": [
            "0\n"
          ]
        }
      ],
      "source": [
        "nulls = df_caqueta2.count(axis=1).sum()\n",
        "size = df_caqueta2.shape[0]*df_caqueta2.shape[1]\n",
        "print(size-nulls)"
      ]
    },
    {
      "cell_type": "markdown",
      "metadata": {},
      "source": [
        "De nuevo se observa que el archivo tiene un tamaño menor y que los diferentes formatos son aplicados correctamente a cada columna"
      ]
    },
    {
      "cell_type": "code",
      "execution_count": 40,
      "metadata": {},
      "outputs": [
        {
          "name": "stdout",
          "output_type": "stream",
          "text": [
            "<class 'pandas.core.frame.DataFrame'>\n",
            "RangeIndex: 14546 entries, 0 to 14545\n",
            "Data columns (total 10 columns):\n",
            " #   Column            Non-Null Count  Dtype         \n",
            "---  ------            --------------  -----         \n",
            " 0   CodigoEstacion    14546 non-null  category      \n",
            " 1   CodigoSensor      14546 non-null  category      \n",
            " 2   FechaObservacion  14546 non-null  datetime64[ns]\n",
            " 3   ValorObservado    14546 non-null  float32       \n",
            " 4   NombreEstacion    14546 non-null  category      \n",
            " 5   Departamento      14546 non-null  category      \n",
            " 6   Municipio         14546 non-null  category      \n",
            " 7   ZonaHidrografica  14546 non-null  category      \n",
            " 8   Latitud           14546 non-null  category      \n",
            " 9   Longitud          14546 non-null  category      \n",
            "dtypes: category(8), datetime64[ns](1), float32(1)\n",
            "memory usage: 285.1 KB\n"
          ]
        }
      ],
      "source": [
        "df_caqueta2.info()\n",
        "#df_caqueta2.describe()"
      ]
    },
    {
      "cell_type": "markdown",
      "metadata": {},
      "source": [
        "### Todos los departamentos"
      ]
    },
    {
      "cell_type": "code",
      "execution_count": 7,
      "metadata": {},
      "outputs": [
        {
          "name": "stdout",
          "output_type": "stream",
          "text": [
            "['amazonas', 'antioquia', 'arauca', 'atlantico1', 'atlantico2', 'bogota1', 'bogota2', 'bogota3', 'bolivar1', 'bolivar2', 'boyaca', 'caldas', 'caqueta1', 'caqueta2', 'casanare', 'cauca', 'cesar', 'choco', 'choco1', 'cordoba1', 'cordoba2', 'cundinamarca', 'guainia', 'guajira', 'guaviare', 'huila', 'magdalena', 'meta', 'narino', 'narino1', 'nill', 'norte_de_santander', 'putumayo', 'quindio', 'risaralda', 'sanandres1', 'sanandres2', 'sanandres3', 'sanandres4', 'santander', 'sucre', 'tolima', 'valle_del_cauca', 'vaupes', 'vaupes1', 'vichada']\n",
            "46\n"
          ]
        }
      ],
      "source": [
        "print(namesFiles)\n",
        "print(len(namesFiles))"
      ]
    },
    {
      "cell_type": "code",
      "execution_count": null,
      "metadata": {},
      "outputs": [],
      "source": []
    },
    {
      "cell_type": "code",
      "execution_count": 42,
      "metadata": {},
      "outputs": [],
      "source": [
        "for name in namesFiles[:]:\n",
        "    nameFile = '../Datasets/Precipitaci_n_20241016('+ name +').csv'\n",
        "    df_dept = pd.read_csv(nameFile,\n",
        "                 sep=',',\n",
        "                 usecols= [0,1,2,3,4,5,6,7,8,9],\n",
        "                 dtype={0:'category',1:'category',2:'str',3:'float32',4:'category',5:'category',6:'category',7:'category',8:'category',9:'category'}\n",
        "                 )\n",
        "    df_dept['FechaObservacion'] = pd.to_datetime(df_dept['FechaObservacion'], format='%m/%d/%Y %H:%M:%S %p')\n",
        "    nulls = df_dept.count(axis=1).sum()\n",
        "    size = df_dept.shape[0]*df_dept.shape[1]\n",
        "    if nulls-size != 0:\n",
        "        print(f'{nulls-size} nulls in {name}, parquet file can not created')\n",
        "    else:\n",
        "        df_dept.to_parquet(f'../CleanDatasets/rain_{name}.parquet')\n"
      ]
    },
    {
      "cell_type": "code",
      "execution_count": 2,
      "metadata": {},
      "outputs": [
        {
          "data": {
            "text/html": [
              "<div>\n",
              "<style scoped>\n",
              "    .dataframe tbody tr th:only-of-type {\n",
              "        vertical-align: middle;\n",
              "    }\n",
              "\n",
              "    .dataframe tbody tr th {\n",
              "        vertical-align: top;\n",
              "    }\n",
              "\n",
              "    .dataframe thead th {\n",
              "        text-align: right;\n",
              "    }\n",
              "</style>\n",
              "<table border=\"1\" class=\"dataframe\">\n",
              "  <thead>\n",
              "    <tr style=\"text-align: right;\">\n",
              "      <th></th>\n",
              "      <th>CodigoEstacion</th>\n",
              "      <th>CodigoSensor</th>\n",
              "      <th>FechaObservacion</th>\n",
              "      <th>ValorObservado</th>\n",
              "      <th>NombreEstacion</th>\n",
              "      <th>Departamento</th>\n",
              "      <th>Municipio</th>\n",
              "      <th>ZonaHidrografica</th>\n",
              "      <th>Latitud</th>\n",
              "      <th>Longitud</th>\n",
              "    </tr>\n",
              "  </thead>\n",
              "  <tbody>\n",
              "    <tr>\n",
              "      <th>0</th>\n",
              "      <td>0023125160</td>\n",
              "      <td>0240</td>\n",
              "      <td>2009-10-07 02:10:00</td>\n",
              "      <td>0.1</td>\n",
              "      <td>SAN PABLO DE BORBUR  - AUT</td>\n",
              "      <td>BOYACÁ</td>\n",
              "      <td>SAN PABLO DE BORBUR</td>\n",
              "      <td>MEDIO MAGDALENA</td>\n",
              "      <td>5.647027778</td>\n",
              "      <td>-74.07130556</td>\n",
              "    </tr>\n",
              "    <tr>\n",
              "      <th>1</th>\n",
              "      <td>0024035410</td>\n",
              "      <td>0240</td>\n",
              "      <td>2012-12-17 03:10:00</td>\n",
              "      <td>0.0</td>\n",
              "      <td>SOGAMOSO - AUT</td>\n",
              "      <td>BOYACÁ</td>\n",
              "      <td>SOGAMOSO</td>\n",
              "      <td>SOGAMOSO</td>\n",
              "      <td>5.753333333</td>\n",
              "      <td>-72.91115278</td>\n",
              "    </tr>\n",
              "    <tr>\n",
              "      <th>2</th>\n",
              "      <td>0023125501</td>\n",
              "      <td>0240</td>\n",
              "      <td>2019-03-21 07:10:00</td>\n",
              "      <td>0.0</td>\n",
              "      <td>PAUNA  - AUT</td>\n",
              "      <td>BOYACÁ</td>\n",
              "      <td>PAUNA</td>\n",
              "      <td>MEDIO MAGDALENA</td>\n",
              "      <td>5.657130556</td>\n",
              "      <td>-73.96032778</td>\n",
              "    </tr>\n",
              "    <tr>\n",
              "      <th>3</th>\n",
              "      <td>0035085070</td>\n",
              "      <td>0240</td>\n",
              "      <td>2018-07-28 02:30:00</td>\n",
              "      <td>0.0</td>\n",
              "      <td>SANTA MARIA - AUT</td>\n",
              "      <td>BOYACÁ</td>\n",
              "      <td>SANTA MARÍA</td>\n",
              "      <td>META</td>\n",
              "      <td>4.84125</td>\n",
              "      <td>-73.25669444</td>\n",
              "    </tr>\n",
              "    <tr>\n",
              "      <th>4</th>\n",
              "      <td>0024035410</td>\n",
              "      <td>0240</td>\n",
              "      <td>2018-01-20 05:37:00</td>\n",
              "      <td>0.0</td>\n",
              "      <td>SOGAMOSO - AUT</td>\n",
              "      <td>BOYACÁ</td>\n",
              "      <td>SOGAMOSO</td>\n",
              "      <td>SOGAMOSO</td>\n",
              "      <td>5.753333333</td>\n",
              "      <td>-72.91115278</td>\n",
              "    </tr>\n",
              "    <tr>\n",
              "      <th>...</th>\n",
              "      <td>...</td>\n",
              "      <td>...</td>\n",
              "      <td>...</td>\n",
              "      <td>...</td>\n",
              "      <td>...</td>\n",
              "      <td>...</td>\n",
              "      <td>...</td>\n",
              "      <td>...</td>\n",
              "      <td>...</td>\n",
              "      <td>...</td>\n",
              "    </tr>\n",
              "    <tr>\n",
              "      <th>13730165</th>\n",
              "      <td>0024035340</td>\n",
              "      <td>0257</td>\n",
              "      <td>2024-10-15 12:52:00</td>\n",
              "      <td>0.0</td>\n",
              "      <td>AEROPUERTO A LLERAS C</td>\n",
              "      <td>BOYACÁ</td>\n",
              "      <td>SOGAMOSO</td>\n",
              "      <td>SOGAMOSO</td>\n",
              "      <td>5.676944444</td>\n",
              "      <td>-72.96791667</td>\n",
              "    </tr>\n",
              "    <tr>\n",
              "      <th>13730166</th>\n",
              "      <td>2403000117</td>\n",
              "      <td>0257</td>\n",
              "      <td>2024-10-15 09:44:00</td>\n",
              "      <td>0.0</td>\n",
              "      <td>PM LA LAGUNA</td>\n",
              "      <td>BOYACÁ</td>\n",
              "      <td>GUACAMAYAS</td>\n",
              "      <td>SOGAMOSO</td>\n",
              "      <td>6.447166667</td>\n",
              "      <td>-72.497694444</td>\n",
              "    </tr>\n",
              "    <tr>\n",
              "      <th>13730167</th>\n",
              "      <td>0035217090</td>\n",
              "      <td>0240</td>\n",
              "      <td>2024-10-15 02:40:00</td>\n",
              "      <td>0.0</td>\n",
              "      <td>LABRANZA GRANDE</td>\n",
              "      <td>BOYACÁ</td>\n",
              "      <td>LABRANZAGRANDE</td>\n",
              "      <td>META</td>\n",
              "      <td>5.566916667</td>\n",
              "      <td>-72.58355556</td>\n",
              "    </tr>\n",
              "    <tr>\n",
              "      <th>13730168</th>\n",
              "      <td>2403700149</td>\n",
              "      <td>0240</td>\n",
              "      <td>2024-10-15 03:40:00</td>\n",
              "      <td>0.0</td>\n",
              "      <td>PUENTE LA RAMADA</td>\n",
              "      <td>BOYACÁ</td>\n",
              "      <td>CHISCAS</td>\n",
              "      <td>SOGAMOSO</td>\n",
              "      <td>6.5607</td>\n",
              "      <td>-72.5012</td>\n",
              "    </tr>\n",
              "    <tr>\n",
              "      <th>13730169</th>\n",
              "      <td>0024035340</td>\n",
              "      <td>0257</td>\n",
              "      <td>2024-10-15 09:36:00</td>\n",
              "      <td>0.0</td>\n",
              "      <td>AEROPUERTO A LLERAS C</td>\n",
              "      <td>BOYACÁ</td>\n",
              "      <td>SOGAMOSO</td>\n",
              "      <td>SOGAMOSO</td>\n",
              "      <td>5.676944444</td>\n",
              "      <td>-72.96791667</td>\n",
              "    </tr>\n",
              "  </tbody>\n",
              "</table>\n",
              "<p>13730170 rows × 10 columns</p>\n",
              "</div>"
            ],
            "text/plain": [
              "         CodigoEstacion CodigoSensor    FechaObservacion  ValorObservado  \\\n",
              "0            0023125160         0240 2009-10-07 02:10:00             0.1   \n",
              "1            0024035410         0240 2012-12-17 03:10:00             0.0   \n",
              "2            0023125501         0240 2019-03-21 07:10:00             0.0   \n",
              "3            0035085070         0240 2018-07-28 02:30:00             0.0   \n",
              "4            0024035410         0240 2018-01-20 05:37:00             0.0   \n",
              "...                 ...          ...                 ...             ...   \n",
              "13730165     0024035340         0257 2024-10-15 12:52:00             0.0   \n",
              "13730166     2403000117         0257 2024-10-15 09:44:00             0.0   \n",
              "13730167     0035217090         0240 2024-10-15 02:40:00             0.0   \n",
              "13730168     2403700149         0240 2024-10-15 03:40:00             0.0   \n",
              "13730169     0024035340         0257 2024-10-15 09:36:00             0.0   \n",
              "\n",
              "                      NombreEstacion Departamento            Municipio  \\\n",
              "0         SAN PABLO DE BORBUR  - AUT       BOYACÁ  SAN PABLO DE BORBUR   \n",
              "1                     SOGAMOSO - AUT       BOYACÁ             SOGAMOSO   \n",
              "2                       PAUNA  - AUT       BOYACÁ                PAUNA   \n",
              "3                  SANTA MARIA - AUT       BOYACÁ          SANTA MARÍA   \n",
              "4                     SOGAMOSO - AUT       BOYACÁ             SOGAMOSO   \n",
              "...                              ...          ...                  ...   \n",
              "13730165       AEROPUERTO A LLERAS C       BOYACÁ             SOGAMOSO   \n",
              "13730166                PM LA LAGUNA       BOYACÁ           GUACAMAYAS   \n",
              "13730167             LABRANZA GRANDE       BOYACÁ       LABRANZAGRANDE   \n",
              "13730168            PUENTE LA RAMADA       BOYACÁ              CHISCAS   \n",
              "13730169       AEROPUERTO A LLERAS C       BOYACÁ             SOGAMOSO   \n",
              "\n",
              "         ZonaHidrografica      Latitud       Longitud  \n",
              "0         MEDIO MAGDALENA  5.647027778   -74.07130556  \n",
              "1                SOGAMOSO  5.753333333   -72.91115278  \n",
              "2         MEDIO MAGDALENA  5.657130556   -73.96032778  \n",
              "3                    META      4.84125   -73.25669444  \n",
              "4                SOGAMOSO  5.753333333   -72.91115278  \n",
              "...                   ...          ...            ...  \n",
              "13730165         SOGAMOSO  5.676944444   -72.96791667  \n",
              "13730166         SOGAMOSO  6.447166667  -72.497694444  \n",
              "13730167             META  5.566916667   -72.58355556  \n",
              "13730168         SOGAMOSO       6.5607       -72.5012  \n",
              "13730169         SOGAMOSO  5.676944444   -72.96791667  \n",
              "\n",
              "[13730170 rows x 10 columns]"
            ]
          },
          "execution_count": 2,
          "metadata": {},
          "output_type": "execute_result"
        }
      ],
      "source": [
        "df_2 = pd.read_parquet(f'../CleanDatasets/rain_boyaca.parquet')\n",
        "df_2"
      ]
    },
    {
      "cell_type": "code",
      "execution_count": 24,
      "metadata": {},
      "outputs": [
        {
          "name": "stdout",
          "output_type": "stream",
          "text": [
            "<class 'pandas.core.frame.DataFrame'>\n",
            "RangeIndex: 13730170 entries, 0 to 13730169\n",
            "Data columns (total 12 columns):\n",
            " #   Column            Dtype         \n",
            "---  ------            -----         \n",
            " 0   CodigoEstacion    category      \n",
            " 1   CodigoSensor      category      \n",
            " 2   FechaObservacion  datetime64[ns]\n",
            " 3   ValorObservado    float32       \n",
            " 4   NombreEstacion    category      \n",
            " 5   Departamento      category      \n",
            " 6   Municipio         category      \n",
            " 7   ZonaHidrografica  category      \n",
            " 8   Latitud           category      \n",
            " 9   Longitud          category      \n",
            " 10  mean              object        \n",
            " 11  Year              datetime64[ns]\n",
            "dtypes: category(8), datetime64[ns](2), float32(1), object(1)\n",
            "memory usage: 471.4+ MB\n"
          ]
        }
      ],
      "source": [
        "df_2.info()"
      ]
    },
    {
      "cell_type": "code",
      "execution_count": 3,
      "metadata": {},
      "outputs": [
        {
          "data": {
            "text/html": [
              "<div>\n",
              "<style scoped>\n",
              "    .dataframe tbody tr th:only-of-type {\n",
              "        vertical-align: middle;\n",
              "    }\n",
              "\n",
              "    .dataframe tbody tr th {\n",
              "        vertical-align: top;\n",
              "    }\n",
              "\n",
              "    .dataframe thead th {\n",
              "        text-align: right;\n",
              "    }\n",
              "</style>\n",
              "<table border=\"1\" class=\"dataframe\">\n",
              "  <thead>\n",
              "    <tr style=\"text-align: right;\">\n",
              "      <th></th>\n",
              "      <th>Year</th>\n",
              "      <th>ValorObservado</th>\n",
              "    </tr>\n",
              "  </thead>\n",
              "  <tbody>\n",
              "    <tr>\n",
              "      <th>0</th>\n",
              "      <td>2005</td>\n",
              "      <td>2339.300049</td>\n",
              "    </tr>\n",
              "    <tr>\n",
              "      <th>1</th>\n",
              "      <td>2006</td>\n",
              "      <td>2464.699951</td>\n",
              "    </tr>\n",
              "    <tr>\n",
              "      <th>2</th>\n",
              "      <td>2007</td>\n",
              "      <td>7516.899902</td>\n",
              "    </tr>\n",
              "    <tr>\n",
              "      <th>3</th>\n",
              "      <td>2008</td>\n",
              "      <td>4902.600098</td>\n",
              "    </tr>\n",
              "    <tr>\n",
              "      <th>4</th>\n",
              "      <td>2009</td>\n",
              "      <td>3027.100098</td>\n",
              "    </tr>\n",
              "    <tr>\n",
              "      <th>5</th>\n",
              "      <td>2010</td>\n",
              "      <td>6817.899902</td>\n",
              "    </tr>\n",
              "    <tr>\n",
              "      <th>6</th>\n",
              "      <td>2011</td>\n",
              "      <td>6794.899902</td>\n",
              "    </tr>\n",
              "    <tr>\n",
              "      <th>7</th>\n",
              "      <td>2012</td>\n",
              "      <td>4585.799805</td>\n",
              "    </tr>\n",
              "    <tr>\n",
              "      <th>8</th>\n",
              "      <td>2013</td>\n",
              "      <td>4849.600098</td>\n",
              "    </tr>\n",
              "    <tr>\n",
              "      <th>9</th>\n",
              "      <td>2014</td>\n",
              "      <td>3081.699951</td>\n",
              "    </tr>\n",
              "    <tr>\n",
              "      <th>10</th>\n",
              "      <td>2015</td>\n",
              "      <td>3661.000000</td>\n",
              "    </tr>\n",
              "    <tr>\n",
              "      <th>11</th>\n",
              "      <td>2016</td>\n",
              "      <td>10093.700195</td>\n",
              "    </tr>\n",
              "    <tr>\n",
              "      <th>12</th>\n",
              "      <td>2017</td>\n",
              "      <td>31183.029297</td>\n",
              "    </tr>\n",
              "    <tr>\n",
              "      <th>13</th>\n",
              "      <td>2018</td>\n",
              "      <td>67270.960938</td>\n",
              "    </tr>\n",
              "    <tr>\n",
              "      <th>14</th>\n",
              "      <td>2019</td>\n",
              "      <td>56619.851562</td>\n",
              "    </tr>\n",
              "    <tr>\n",
              "      <th>15</th>\n",
              "      <td>2020</td>\n",
              "      <td>98838.578125</td>\n",
              "    </tr>\n",
              "    <tr>\n",
              "      <th>16</th>\n",
              "      <td>2021</td>\n",
              "      <td>52908.968750</td>\n",
              "    </tr>\n",
              "    <tr>\n",
              "      <th>17</th>\n",
              "      <td>2022</td>\n",
              "      <td>28976.787109</td>\n",
              "    </tr>\n",
              "    <tr>\n",
              "      <th>18</th>\n",
              "      <td>2023</td>\n",
              "      <td>32726.011719</td>\n",
              "    </tr>\n",
              "    <tr>\n",
              "      <th>19</th>\n",
              "      <td>2024</td>\n",
              "      <td>20816.482422</td>\n",
              "    </tr>\n",
              "  </tbody>\n",
              "</table>\n",
              "</div>"
            ],
            "text/plain": [
              "    Year  ValorObservado\n",
              "0   2005     2339.300049\n",
              "1   2006     2464.699951\n",
              "2   2007     7516.899902\n",
              "3   2008     4902.600098\n",
              "4   2009     3027.100098\n",
              "5   2010     6817.899902\n",
              "6   2011     6794.899902\n",
              "7   2012     4585.799805\n",
              "8   2013     4849.600098\n",
              "9   2014     3081.699951\n",
              "10  2015     3661.000000\n",
              "11  2016    10093.700195\n",
              "12  2017    31183.029297\n",
              "13  2018    67270.960938\n",
              "14  2019    56619.851562\n",
              "15  2020    98838.578125\n",
              "16  2021    52908.968750\n",
              "17  2022    28976.787109\n",
              "18  2023    32726.011719\n",
              "19  2024    20816.482422"
            ]
          },
          "execution_count": 3,
          "metadata": {},
          "output_type": "execute_result"
        }
      ],
      "source": [
        "df_2['Year'] = df_2['FechaObservacion'].dt.year\n",
        "df_2['Month'] = df_2['FechaObservacion'].dt.month\n",
        "year_total = (\n",
        "    df_2\n",
        "    .groupby([\"Year\"])[\"ValorObservado\"]\n",
        "    .sum()\n",
        "    .reset_index()\n",
        ")\n",
        "year_total\n",
        "\n"
      ]
    },
    {
      "cell_type": "code",
      "execution_count": 6,
      "metadata": {},
      "outputs": [
        {
          "ename": "ValueError",
          "evalue": "Mime type rendering requires nbformat>=4.2.0 but it is not installed",
          "output_type": "error",
          "traceback": [
            "\u001b[1;31m---------------------------------------------------------------------------\u001b[0m",
            "\u001b[1;31mValueError\u001b[0m                                Traceback (most recent call last)",
            "File \u001b[1;32mc:\\Users\\danie\\Documents\\Anaconda\\envs\\EnvBootcamp\\Lib\\site-packages\\IPython\\core\\formatters.py:925\u001b[0m, in \u001b[0;36mIPythonDisplayFormatter.__call__\u001b[1;34m(self, obj)\u001b[0m\n\u001b[0;32m    923\u001b[0m method \u001b[38;5;241m=\u001b[39m get_real_method(obj, \u001b[38;5;28mself\u001b[39m\u001b[38;5;241m.\u001b[39mprint_method)\n\u001b[0;32m    924\u001b[0m \u001b[38;5;28;01mif\u001b[39;00m method \u001b[38;5;129;01mis\u001b[39;00m \u001b[38;5;129;01mnot\u001b[39;00m \u001b[38;5;28;01mNone\u001b[39;00m:\n\u001b[1;32m--> 925\u001b[0m     \u001b[43mmethod\u001b[49m\u001b[43m(\u001b[49m\u001b[43m)\u001b[49m\n\u001b[0;32m    926\u001b[0m     \u001b[38;5;28;01mreturn\u001b[39;00m \u001b[38;5;28;01mTrue\u001b[39;00m\n",
            "File \u001b[1;32mc:\\Users\\danie\\Documents\\Anaconda\\envs\\EnvBootcamp\\Lib\\site-packages\\plotly\\basedatatypes.py:832\u001b[0m, in \u001b[0;36mBaseFigure._ipython_display_\u001b[1;34m(self)\u001b[0m\n\u001b[0;32m    829\u001b[0m \u001b[38;5;28;01mimport\u001b[39;00m \u001b[38;5;21;01mplotly\u001b[39;00m\u001b[38;5;21;01m.\u001b[39;00m\u001b[38;5;21;01mio\u001b[39;00m \u001b[38;5;28;01mas\u001b[39;00m \u001b[38;5;21;01mpio\u001b[39;00m\n\u001b[0;32m    831\u001b[0m \u001b[38;5;28;01mif\u001b[39;00m pio\u001b[38;5;241m.\u001b[39mrenderers\u001b[38;5;241m.\u001b[39mrender_on_display \u001b[38;5;129;01mand\u001b[39;00m pio\u001b[38;5;241m.\u001b[39mrenderers\u001b[38;5;241m.\u001b[39mdefault:\n\u001b[1;32m--> 832\u001b[0m     \u001b[43mpio\u001b[49m\u001b[38;5;241;43m.\u001b[39;49m\u001b[43mshow\u001b[49m\u001b[43m(\u001b[49m\u001b[38;5;28;43mself\u001b[39;49m\u001b[43m)\u001b[49m\n\u001b[0;32m    833\u001b[0m \u001b[38;5;28;01melse\u001b[39;00m:\n\u001b[0;32m    834\u001b[0m     \u001b[38;5;28mprint\u001b[39m(\u001b[38;5;28mrepr\u001b[39m(\u001b[38;5;28mself\u001b[39m))\n",
            "File \u001b[1;32mc:\\Users\\danie\\Documents\\Anaconda\\envs\\EnvBootcamp\\Lib\\site-packages\\plotly\\io\\_renderers.py:394\u001b[0m, in \u001b[0;36mshow\u001b[1;34m(fig, renderer, validate, **kwargs)\u001b[0m\n\u001b[0;32m    389\u001b[0m         \u001b[38;5;28;01mraise\u001b[39;00m \u001b[38;5;167;01mValueError\u001b[39;00m(\n\u001b[0;32m    390\u001b[0m             \u001b[38;5;124m\"\u001b[39m\u001b[38;5;124mMime type rendering requires ipython but it is not installed\u001b[39m\u001b[38;5;124m\"\u001b[39m\n\u001b[0;32m    391\u001b[0m         )\n\u001b[0;32m    393\u001b[0m     \u001b[38;5;28;01mif\u001b[39;00m \u001b[38;5;129;01mnot\u001b[39;00m nbformat \u001b[38;5;129;01mor\u001b[39;00m Version(nbformat\u001b[38;5;241m.\u001b[39m__version__) \u001b[38;5;241m<\u001b[39m Version(\u001b[38;5;124m\"\u001b[39m\u001b[38;5;124m4.2.0\u001b[39m\u001b[38;5;124m\"\u001b[39m):\n\u001b[1;32m--> 394\u001b[0m         \u001b[38;5;28;01mraise\u001b[39;00m \u001b[38;5;167;01mValueError\u001b[39;00m(\n\u001b[0;32m    395\u001b[0m             \u001b[38;5;124m\"\u001b[39m\u001b[38;5;124mMime type rendering requires nbformat>=4.2.0 but it is not installed\u001b[39m\u001b[38;5;124m\"\u001b[39m\n\u001b[0;32m    396\u001b[0m         )\n\u001b[0;32m    398\u001b[0m     ipython_display\u001b[38;5;241m.\u001b[39mdisplay(bundle, raw\u001b[38;5;241m=\u001b[39m\u001b[38;5;28;01mTrue\u001b[39;00m)\n\u001b[0;32m    400\u001b[0m \u001b[38;5;66;03m# external renderers\u001b[39;00m\n",
            "\u001b[1;31mValueError\u001b[0m: Mime type rendering requires nbformat>=4.2.0 but it is not installed"
          ]
        },
        {
          "data": {
            "application/vnd.plotly.v1+json": {
              "config": {
                "plotlyServerURL": "https://plot.ly"
              },
              "data": [
                {
                  "legendgroup": "1",
                  "mode": "lines+markers",
                  "name": "Observado",
                  "type": "scatter",
                  "x": [
                    2005,
                    2006,
                    2007,
                    2008,
                    2009,
                    2010,
                    2011,
                    2012,
                    2013,
                    2014,
                    2015,
                    2016,
                    2017,
                    2018,
                    2019,
                    2020,
                    2021,
                    2022,
                    2023,
                    2024
                  ],
                  "y": [
                    2339.300048828125,
                    2464.699951171875,
                    7516.89990234375,
                    4902.60009765625,
                    3027.10009765625,
                    6817.89990234375,
                    6794.89990234375,
                    4585.7998046875,
                    4849.60009765625,
                    3081.699951171875,
                    3661,
                    10093.7001953125,
                    31183.029296875,
                    67270.9609375,
                    56619.8515625,
                    98838.578125,
                    52908.96875,
                    28976.787109375,
                    32726.01171875,
                    20816.482421875
                  ]
                }
              ],
              "layout": {
                "annotations": [
                  {
                    "font": {
                      "size": 16
                    },
                    "showarrow": false,
                    "text": "Año",
                    "x": 0.5,
                    "xanchor": "center",
                    "xref": "paper",
                    "y": 1,
                    "yanchor": "bottom",
                    "yref": "paper"
                  }
                ],
                "template": {
                  "data": {
                    "bar": [
                      {
                        "error_x": {
                          "color": "#2a3f5f"
                        },
                        "error_y": {
                          "color": "#2a3f5f"
                        },
                        "marker": {
                          "line": {
                            "color": "#E5ECF6",
                            "width": 0.5
                          },
                          "pattern": {
                            "fillmode": "overlay",
                            "size": 10,
                            "solidity": 0.2
                          }
                        },
                        "type": "bar"
                      }
                    ],
                    "barpolar": [
                      {
                        "marker": {
                          "line": {
                            "color": "#E5ECF6",
                            "width": 0.5
                          },
                          "pattern": {
                            "fillmode": "overlay",
                            "size": 10,
                            "solidity": 0.2
                          }
                        },
                        "type": "barpolar"
                      }
                    ],
                    "carpet": [
                      {
                        "aaxis": {
                          "endlinecolor": "#2a3f5f",
                          "gridcolor": "white",
                          "linecolor": "white",
                          "minorgridcolor": "white",
                          "startlinecolor": "#2a3f5f"
                        },
                        "baxis": {
                          "endlinecolor": "#2a3f5f",
                          "gridcolor": "white",
                          "linecolor": "white",
                          "minorgridcolor": "white",
                          "startlinecolor": "#2a3f5f"
                        },
                        "type": "carpet"
                      }
                    ],
                    "choropleth": [
                      {
                        "colorbar": {
                          "outlinewidth": 0,
                          "ticks": ""
                        },
                        "type": "choropleth"
                      }
                    ],
                    "contour": [
                      {
                        "colorbar": {
                          "outlinewidth": 0,
                          "ticks": ""
                        },
                        "colorscale": [
                          [
                            0,
                            "#0d0887"
                          ],
                          [
                            0.1111111111111111,
                            "#46039f"
                          ],
                          [
                            0.2222222222222222,
                            "#7201a8"
                          ],
                          [
                            0.3333333333333333,
                            "#9c179e"
                          ],
                          [
                            0.4444444444444444,
                            "#bd3786"
                          ],
                          [
                            0.5555555555555556,
                            "#d8576b"
                          ],
                          [
                            0.6666666666666666,
                            "#ed7953"
                          ],
                          [
                            0.7777777777777778,
                            "#fb9f3a"
                          ],
                          [
                            0.8888888888888888,
                            "#fdca26"
                          ],
                          [
                            1,
                            "#f0f921"
                          ]
                        ],
                        "type": "contour"
                      }
                    ],
                    "contourcarpet": [
                      {
                        "colorbar": {
                          "outlinewidth": 0,
                          "ticks": ""
                        },
                        "type": "contourcarpet"
                      }
                    ],
                    "heatmap": [
                      {
                        "colorbar": {
                          "outlinewidth": 0,
                          "ticks": ""
                        },
                        "colorscale": [
                          [
                            0,
                            "#0d0887"
                          ],
                          [
                            0.1111111111111111,
                            "#46039f"
                          ],
                          [
                            0.2222222222222222,
                            "#7201a8"
                          ],
                          [
                            0.3333333333333333,
                            "#9c179e"
                          ],
                          [
                            0.4444444444444444,
                            "#bd3786"
                          ],
                          [
                            0.5555555555555556,
                            "#d8576b"
                          ],
                          [
                            0.6666666666666666,
                            "#ed7953"
                          ],
                          [
                            0.7777777777777778,
                            "#fb9f3a"
                          ],
                          [
                            0.8888888888888888,
                            "#fdca26"
                          ],
                          [
                            1,
                            "#f0f921"
                          ]
                        ],
                        "type": "heatmap"
                      }
                    ],
                    "heatmapgl": [
                      {
                        "colorbar": {
                          "outlinewidth": 0,
                          "ticks": ""
                        },
                        "colorscale": [
                          [
                            0,
                            "#0d0887"
                          ],
                          [
                            0.1111111111111111,
                            "#46039f"
                          ],
                          [
                            0.2222222222222222,
                            "#7201a8"
                          ],
                          [
                            0.3333333333333333,
                            "#9c179e"
                          ],
                          [
                            0.4444444444444444,
                            "#bd3786"
                          ],
                          [
                            0.5555555555555556,
                            "#d8576b"
                          ],
                          [
                            0.6666666666666666,
                            "#ed7953"
                          ],
                          [
                            0.7777777777777778,
                            "#fb9f3a"
                          ],
                          [
                            0.8888888888888888,
                            "#fdca26"
                          ],
                          [
                            1,
                            "#f0f921"
                          ]
                        ],
                        "type": "heatmapgl"
                      }
                    ],
                    "histogram": [
                      {
                        "marker": {
                          "pattern": {
                            "fillmode": "overlay",
                            "size": 10,
                            "solidity": 0.2
                          }
                        },
                        "type": "histogram"
                      }
                    ],
                    "histogram2d": [
                      {
                        "colorbar": {
                          "outlinewidth": 0,
                          "ticks": ""
                        },
                        "colorscale": [
                          [
                            0,
                            "#0d0887"
                          ],
                          [
                            0.1111111111111111,
                            "#46039f"
                          ],
                          [
                            0.2222222222222222,
                            "#7201a8"
                          ],
                          [
                            0.3333333333333333,
                            "#9c179e"
                          ],
                          [
                            0.4444444444444444,
                            "#bd3786"
                          ],
                          [
                            0.5555555555555556,
                            "#d8576b"
                          ],
                          [
                            0.6666666666666666,
                            "#ed7953"
                          ],
                          [
                            0.7777777777777778,
                            "#fb9f3a"
                          ],
                          [
                            0.8888888888888888,
                            "#fdca26"
                          ],
                          [
                            1,
                            "#f0f921"
                          ]
                        ],
                        "type": "histogram2d"
                      }
                    ],
                    "histogram2dcontour": [
                      {
                        "colorbar": {
                          "outlinewidth": 0,
                          "ticks": ""
                        },
                        "colorscale": [
                          [
                            0,
                            "#0d0887"
                          ],
                          [
                            0.1111111111111111,
                            "#46039f"
                          ],
                          [
                            0.2222222222222222,
                            "#7201a8"
                          ],
                          [
                            0.3333333333333333,
                            "#9c179e"
                          ],
                          [
                            0.4444444444444444,
                            "#bd3786"
                          ],
                          [
                            0.5555555555555556,
                            "#d8576b"
                          ],
                          [
                            0.6666666666666666,
                            "#ed7953"
                          ],
                          [
                            0.7777777777777778,
                            "#fb9f3a"
                          ],
                          [
                            0.8888888888888888,
                            "#fdca26"
                          ],
                          [
                            1,
                            "#f0f921"
                          ]
                        ],
                        "type": "histogram2dcontour"
                      }
                    ],
                    "mesh3d": [
                      {
                        "colorbar": {
                          "outlinewidth": 0,
                          "ticks": ""
                        },
                        "type": "mesh3d"
                      }
                    ],
                    "parcoords": [
                      {
                        "line": {
                          "colorbar": {
                            "outlinewidth": 0,
                            "ticks": ""
                          }
                        },
                        "type": "parcoords"
                      }
                    ],
                    "pie": [
                      {
                        "automargin": true,
                        "type": "pie"
                      }
                    ],
                    "scatter": [
                      {
                        "fillpattern": {
                          "fillmode": "overlay",
                          "size": 10,
                          "solidity": 0.2
                        },
                        "type": "scatter"
                      }
                    ],
                    "scatter3d": [
                      {
                        "line": {
                          "colorbar": {
                            "outlinewidth": 0,
                            "ticks": ""
                          }
                        },
                        "marker": {
                          "colorbar": {
                            "outlinewidth": 0,
                            "ticks": ""
                          }
                        },
                        "type": "scatter3d"
                      }
                    ],
                    "scattercarpet": [
                      {
                        "marker": {
                          "colorbar": {
                            "outlinewidth": 0,
                            "ticks": ""
                          }
                        },
                        "type": "scattercarpet"
                      }
                    ],
                    "scattergeo": [
                      {
                        "marker": {
                          "colorbar": {
                            "outlinewidth": 0,
                            "ticks": ""
                          }
                        },
                        "type": "scattergeo"
                      }
                    ],
                    "scattergl": [
                      {
                        "marker": {
                          "colorbar": {
                            "outlinewidth": 0,
                            "ticks": ""
                          }
                        },
                        "type": "scattergl"
                      }
                    ],
                    "scattermapbox": [
                      {
                        "marker": {
                          "colorbar": {
                            "outlinewidth": 0,
                            "ticks": ""
                          }
                        },
                        "type": "scattermapbox"
                      }
                    ],
                    "scatterpolar": [
                      {
                        "marker": {
                          "colorbar": {
                            "outlinewidth": 0,
                            "ticks": ""
                          }
                        },
                        "type": "scatterpolar"
                      }
                    ],
                    "scatterpolargl": [
                      {
                        "marker": {
                          "colorbar": {
                            "outlinewidth": 0,
                            "ticks": ""
                          }
                        },
                        "type": "scatterpolargl"
                      }
                    ],
                    "scatterternary": [
                      {
                        "marker": {
                          "colorbar": {
                            "outlinewidth": 0,
                            "ticks": ""
                          }
                        },
                        "type": "scatterternary"
                      }
                    ],
                    "surface": [
                      {
                        "colorbar": {
                          "outlinewidth": 0,
                          "ticks": ""
                        },
                        "colorscale": [
                          [
                            0,
                            "#0d0887"
                          ],
                          [
                            0.1111111111111111,
                            "#46039f"
                          ],
                          [
                            0.2222222222222222,
                            "#7201a8"
                          ],
                          [
                            0.3333333333333333,
                            "#9c179e"
                          ],
                          [
                            0.4444444444444444,
                            "#bd3786"
                          ],
                          [
                            0.5555555555555556,
                            "#d8576b"
                          ],
                          [
                            0.6666666666666666,
                            "#ed7953"
                          ],
                          [
                            0.7777777777777778,
                            "#fb9f3a"
                          ],
                          [
                            0.8888888888888888,
                            "#fdca26"
                          ],
                          [
                            1,
                            "#f0f921"
                          ]
                        ],
                        "type": "surface"
                      }
                    ],
                    "table": [
                      {
                        "cells": {
                          "fill": {
                            "color": "#EBF0F8"
                          },
                          "line": {
                            "color": "white"
                          }
                        },
                        "header": {
                          "fill": {
                            "color": "#C8D4E3"
                          },
                          "line": {
                            "color": "white"
                          }
                        },
                        "type": "table"
                      }
                    ]
                  },
                  "layout": {
                    "annotationdefaults": {
                      "arrowcolor": "#2a3f5f",
                      "arrowhead": 0,
                      "arrowwidth": 1
                    },
                    "autotypenumbers": "strict",
                    "coloraxis": {
                      "colorbar": {
                        "outlinewidth": 0,
                        "ticks": ""
                      }
                    },
                    "colorscale": {
                      "diverging": [
                        [
                          0,
                          "#8e0152"
                        ],
                        [
                          0.1,
                          "#c51b7d"
                        ],
                        [
                          0.2,
                          "#de77ae"
                        ],
                        [
                          0.3,
                          "#f1b6da"
                        ],
                        [
                          0.4,
                          "#fde0ef"
                        ],
                        [
                          0.5,
                          "#f7f7f7"
                        ],
                        [
                          0.6,
                          "#e6f5d0"
                        ],
                        [
                          0.7,
                          "#b8e186"
                        ],
                        [
                          0.8,
                          "#7fbc41"
                        ],
                        [
                          0.9,
                          "#4d9221"
                        ],
                        [
                          1,
                          "#276419"
                        ]
                      ],
                      "sequential": [
                        [
                          0,
                          "#0d0887"
                        ],
                        [
                          0.1111111111111111,
                          "#46039f"
                        ],
                        [
                          0.2222222222222222,
                          "#7201a8"
                        ],
                        [
                          0.3333333333333333,
                          "#9c179e"
                        ],
                        [
                          0.4444444444444444,
                          "#bd3786"
                        ],
                        [
                          0.5555555555555556,
                          "#d8576b"
                        ],
                        [
                          0.6666666666666666,
                          "#ed7953"
                        ],
                        [
                          0.7777777777777778,
                          "#fb9f3a"
                        ],
                        [
                          0.8888888888888888,
                          "#fdca26"
                        ],
                        [
                          1,
                          "#f0f921"
                        ]
                      ],
                      "sequentialminus": [
                        [
                          0,
                          "#0d0887"
                        ],
                        [
                          0.1111111111111111,
                          "#46039f"
                        ],
                        [
                          0.2222222222222222,
                          "#7201a8"
                        ],
                        [
                          0.3333333333333333,
                          "#9c179e"
                        ],
                        [
                          0.4444444444444444,
                          "#bd3786"
                        ],
                        [
                          0.5555555555555556,
                          "#d8576b"
                        ],
                        [
                          0.6666666666666666,
                          "#ed7953"
                        ],
                        [
                          0.7777777777777778,
                          "#fb9f3a"
                        ],
                        [
                          0.8888888888888888,
                          "#fdca26"
                        ],
                        [
                          1,
                          "#f0f921"
                        ]
                      ]
                    },
                    "colorway": [
                      "#636efa",
                      "#EF553B",
                      "#00cc96",
                      "#ab63fa",
                      "#FFA15A",
                      "#19d3f3",
                      "#FF6692",
                      "#B6E880",
                      "#FF97FF",
                      "#FECB52"
                    ],
                    "font": {
                      "color": "#2a3f5f"
                    },
                    "geo": {
                      "bgcolor": "white",
                      "lakecolor": "white",
                      "landcolor": "#E5ECF6",
                      "showlakes": true,
                      "showland": true,
                      "subunitcolor": "white"
                    },
                    "hoverlabel": {
                      "align": "left"
                    },
                    "hovermode": "closest",
                    "mapbox": {
                      "style": "light"
                    },
                    "paper_bgcolor": "white",
                    "plot_bgcolor": "#E5ECF6",
                    "polar": {
                      "angularaxis": {
                        "gridcolor": "white",
                        "linecolor": "white",
                        "ticks": ""
                      },
                      "bgcolor": "#E5ECF6",
                      "radialaxis": {
                        "gridcolor": "white",
                        "linecolor": "white",
                        "ticks": ""
                      }
                    },
                    "scene": {
                      "xaxis": {
                        "backgroundcolor": "#E5ECF6",
                        "gridcolor": "white",
                        "gridwidth": 2,
                        "linecolor": "white",
                        "showbackground": true,
                        "ticks": "",
                        "zerolinecolor": "white"
                      },
                      "yaxis": {
                        "backgroundcolor": "#E5ECF6",
                        "gridcolor": "white",
                        "gridwidth": 2,
                        "linecolor": "white",
                        "showbackground": true,
                        "ticks": "",
                        "zerolinecolor": "white"
                      },
                      "zaxis": {
                        "backgroundcolor": "#E5ECF6",
                        "gridcolor": "white",
                        "gridwidth": 2,
                        "linecolor": "white",
                        "showbackground": true,
                        "ticks": "",
                        "zerolinecolor": "white"
                      }
                    },
                    "shapedefaults": {
                      "line": {
                        "color": "#2a3f5f"
                      }
                    },
                    "ternary": {
                      "aaxis": {
                        "gridcolor": "white",
                        "linecolor": "white",
                        "ticks": ""
                      },
                      "baxis": {
                        "gridcolor": "white",
                        "linecolor": "white",
                        "ticks": ""
                      },
                      "bgcolor": "#E5ECF6",
                      "caxis": {
                        "gridcolor": "white",
                        "linecolor": "white",
                        "ticks": ""
                      }
                    },
                    "title": {
                      "x": 0.05
                    },
                    "xaxis": {
                      "automargin": true,
                      "gridcolor": "white",
                      "linecolor": "white",
                      "ticks": "",
                      "title": {
                        "standoff": 15
                      },
                      "zerolinecolor": "white",
                      "zerolinewidth": 2
                    },
                    "yaxis": {
                      "automargin": true,
                      "gridcolor": "white",
                      "linecolor": "white",
                      "ticks": "",
                      "title": {
                        "standoff": 15
                      },
                      "zerolinecolor": "white",
                      "zerolinewidth": 2
                    }
                  }
                },
                "xaxis": {
                  "anchor": "y",
                  "domain": [
                    0,
                    1
                  ]
                },
                "yaxis": {
                  "anchor": "x",
                  "domain": [
                    0,
                    1
                  ]
                }
              }
            },
            "text/html": [
              "<div>                        <script type=\"text/javascript\">window.PlotlyConfig = {MathJaxConfig: 'local'};</script>\n",
              "        <script charset=\"utf-8\" src=\"https://cdn.plot.ly/plotly-2.35.2.min.js\"></script>                <div id=\"24bc0699-e880-41db-a2da-42706ef8d164\" class=\"plotly-graph-div\" style=\"height:100%; width:100%;\"></div>            <script type=\"text/javascript\">                                    window.PLOTLYENV=window.PLOTLYENV || {};                                    if (document.getElementById(\"24bc0699-e880-41db-a2da-42706ef8d164\")) {                    Plotly.newPlot(                        \"24bc0699-e880-41db-a2da-42706ef8d164\",                        [{\"legendgroup\":\"1\",\"mode\":\"lines+markers\",\"name\":\"Observado\",\"x\":[2005,2006,2007,2008,2009,2010,2011,2012,2013,2014,2015,2016,2017,2018,2019,2020,2021,2022,2023,2024],\"y\":[2339.300048828125,2464.699951171875,7516.89990234375,4902.60009765625,3027.10009765625,6817.89990234375,6794.89990234375,4585.7998046875,4849.60009765625,3081.699951171875,3661.0,10093.7001953125,31183.029296875,67270.9609375,56619.8515625,98838.578125,52908.96875,28976.787109375,32726.01171875,20816.482421875],\"type\":\"scatter\"}],                        {\"template\":{\"data\":{\"histogram2dcontour\":[{\"type\":\"histogram2dcontour\",\"colorbar\":{\"outlinewidth\":0,\"ticks\":\"\"},\"colorscale\":[[0.0,\"#0d0887\"],[0.1111111111111111,\"#46039f\"],[0.2222222222222222,\"#7201a8\"],[0.3333333333333333,\"#9c179e\"],[0.4444444444444444,\"#bd3786\"],[0.5555555555555556,\"#d8576b\"],[0.6666666666666666,\"#ed7953\"],[0.7777777777777778,\"#fb9f3a\"],[0.8888888888888888,\"#fdca26\"],[1.0,\"#f0f921\"]]}],\"choropleth\":[{\"type\":\"choropleth\",\"colorbar\":{\"outlinewidth\":0,\"ticks\":\"\"}}],\"histogram2d\":[{\"type\":\"histogram2d\",\"colorbar\":{\"outlinewidth\":0,\"ticks\":\"\"},\"colorscale\":[[0.0,\"#0d0887\"],[0.1111111111111111,\"#46039f\"],[0.2222222222222222,\"#7201a8\"],[0.3333333333333333,\"#9c179e\"],[0.4444444444444444,\"#bd3786\"],[0.5555555555555556,\"#d8576b\"],[0.6666666666666666,\"#ed7953\"],[0.7777777777777778,\"#fb9f3a\"],[0.8888888888888888,\"#fdca26\"],[1.0,\"#f0f921\"]]}],\"heatmap\":[{\"type\":\"heatmap\",\"colorbar\":{\"outlinewidth\":0,\"ticks\":\"\"},\"colorscale\":[[0.0,\"#0d0887\"],[0.1111111111111111,\"#46039f\"],[0.2222222222222222,\"#7201a8\"],[0.3333333333333333,\"#9c179e\"],[0.4444444444444444,\"#bd3786\"],[0.5555555555555556,\"#d8576b\"],[0.6666666666666666,\"#ed7953\"],[0.7777777777777778,\"#fb9f3a\"],[0.8888888888888888,\"#fdca26\"],[1.0,\"#f0f921\"]]}],\"heatmapgl\":[{\"type\":\"heatmapgl\",\"colorbar\":{\"outlinewidth\":0,\"ticks\":\"\"},\"colorscale\":[[0.0,\"#0d0887\"],[0.1111111111111111,\"#46039f\"],[0.2222222222222222,\"#7201a8\"],[0.3333333333333333,\"#9c179e\"],[0.4444444444444444,\"#bd3786\"],[0.5555555555555556,\"#d8576b\"],[0.6666666666666666,\"#ed7953\"],[0.7777777777777778,\"#fb9f3a\"],[0.8888888888888888,\"#fdca26\"],[1.0,\"#f0f921\"]]}],\"contourcarpet\":[{\"type\":\"contourcarpet\",\"colorbar\":{\"outlinewidth\":0,\"ticks\":\"\"}}],\"contour\":[{\"type\":\"contour\",\"colorbar\":{\"outlinewidth\":0,\"ticks\":\"\"},\"colorscale\":[[0.0,\"#0d0887\"],[0.1111111111111111,\"#46039f\"],[0.2222222222222222,\"#7201a8\"],[0.3333333333333333,\"#9c179e\"],[0.4444444444444444,\"#bd3786\"],[0.5555555555555556,\"#d8576b\"],[0.6666666666666666,\"#ed7953\"],[0.7777777777777778,\"#fb9f3a\"],[0.8888888888888888,\"#fdca26\"],[1.0,\"#f0f921\"]]}],\"surface\":[{\"type\":\"surface\",\"colorbar\":{\"outlinewidth\":0,\"ticks\":\"\"},\"colorscale\":[[0.0,\"#0d0887\"],[0.1111111111111111,\"#46039f\"],[0.2222222222222222,\"#7201a8\"],[0.3333333333333333,\"#9c179e\"],[0.4444444444444444,\"#bd3786\"],[0.5555555555555556,\"#d8576b\"],[0.6666666666666666,\"#ed7953\"],[0.7777777777777778,\"#fb9f3a\"],[0.8888888888888888,\"#fdca26\"],[1.0,\"#f0f921\"]]}],\"mesh3d\":[{\"type\":\"mesh3d\",\"colorbar\":{\"outlinewidth\":0,\"ticks\":\"\"}}],\"scatter\":[{\"fillpattern\":{\"fillmode\":\"overlay\",\"size\":10,\"solidity\":0.2},\"type\":\"scatter\"}],\"parcoords\":[{\"type\":\"parcoords\",\"line\":{\"colorbar\":{\"outlinewidth\":0,\"ticks\":\"\"}}}],\"scatterpolargl\":[{\"type\":\"scatterpolargl\",\"marker\":{\"colorbar\":{\"outlinewidth\":0,\"ticks\":\"\"}}}],\"bar\":[{\"error_x\":{\"color\":\"#2a3f5f\"},\"error_y\":{\"color\":\"#2a3f5f\"},\"marker\":{\"line\":{\"color\":\"#E5ECF6\",\"width\":0.5},\"pattern\":{\"fillmode\":\"overlay\",\"size\":10,\"solidity\":0.2}},\"type\":\"bar\"}],\"scattergeo\":[{\"type\":\"scattergeo\",\"marker\":{\"colorbar\":{\"outlinewidth\":0,\"ticks\":\"\"}}}],\"scatterpolar\":[{\"type\":\"scatterpolar\",\"marker\":{\"colorbar\":{\"outlinewidth\":0,\"ticks\":\"\"}}}],\"histogram\":[{\"marker\":{\"pattern\":{\"fillmode\":\"overlay\",\"size\":10,\"solidity\":0.2}},\"type\":\"histogram\"}],\"scattergl\":[{\"type\":\"scattergl\",\"marker\":{\"colorbar\":{\"outlinewidth\":0,\"ticks\":\"\"}}}],\"scatter3d\":[{\"type\":\"scatter3d\",\"line\":{\"colorbar\":{\"outlinewidth\":0,\"ticks\":\"\"}},\"marker\":{\"colorbar\":{\"outlinewidth\":0,\"ticks\":\"\"}}}],\"scattermapbox\":[{\"type\":\"scattermapbox\",\"marker\":{\"colorbar\":{\"outlinewidth\":0,\"ticks\":\"\"}}}],\"scatterternary\":[{\"type\":\"scatterternary\",\"marker\":{\"colorbar\":{\"outlinewidth\":0,\"ticks\":\"\"}}}],\"scattercarpet\":[{\"type\":\"scattercarpet\",\"marker\":{\"colorbar\":{\"outlinewidth\":0,\"ticks\":\"\"}}}],\"carpet\":[{\"aaxis\":{\"endlinecolor\":\"#2a3f5f\",\"gridcolor\":\"white\",\"linecolor\":\"white\",\"minorgridcolor\":\"white\",\"startlinecolor\":\"#2a3f5f\"},\"baxis\":{\"endlinecolor\":\"#2a3f5f\",\"gridcolor\":\"white\",\"linecolor\":\"white\",\"minorgridcolor\":\"white\",\"startlinecolor\":\"#2a3f5f\"},\"type\":\"carpet\"}],\"table\":[{\"cells\":{\"fill\":{\"color\":\"#EBF0F8\"},\"line\":{\"color\":\"white\"}},\"header\":{\"fill\":{\"color\":\"#C8D4E3\"},\"line\":{\"color\":\"white\"}},\"type\":\"table\"}],\"barpolar\":[{\"marker\":{\"line\":{\"color\":\"#E5ECF6\",\"width\":0.5},\"pattern\":{\"fillmode\":\"overlay\",\"size\":10,\"solidity\":0.2}},\"type\":\"barpolar\"}],\"pie\":[{\"automargin\":true,\"type\":\"pie\"}]},\"layout\":{\"autotypenumbers\":\"strict\",\"colorway\":[\"#636efa\",\"#EF553B\",\"#00cc96\",\"#ab63fa\",\"#FFA15A\",\"#19d3f3\",\"#FF6692\",\"#B6E880\",\"#FF97FF\",\"#FECB52\"],\"font\":{\"color\":\"#2a3f5f\"},\"hovermode\":\"closest\",\"hoverlabel\":{\"align\":\"left\"},\"paper_bgcolor\":\"white\",\"plot_bgcolor\":\"#E5ECF6\",\"polar\":{\"bgcolor\":\"#E5ECF6\",\"angularaxis\":{\"gridcolor\":\"white\",\"linecolor\":\"white\",\"ticks\":\"\"},\"radialaxis\":{\"gridcolor\":\"white\",\"linecolor\":\"white\",\"ticks\":\"\"}},\"ternary\":{\"bgcolor\":\"#E5ECF6\",\"aaxis\":{\"gridcolor\":\"white\",\"linecolor\":\"white\",\"ticks\":\"\"},\"baxis\":{\"gridcolor\":\"white\",\"linecolor\":\"white\",\"ticks\":\"\"},\"caxis\":{\"gridcolor\":\"white\",\"linecolor\":\"white\",\"ticks\":\"\"}},\"coloraxis\":{\"colorbar\":{\"outlinewidth\":0,\"ticks\":\"\"}},\"colorscale\":{\"sequential\":[[0.0,\"#0d0887\"],[0.1111111111111111,\"#46039f\"],[0.2222222222222222,\"#7201a8\"],[0.3333333333333333,\"#9c179e\"],[0.4444444444444444,\"#bd3786\"],[0.5555555555555556,\"#d8576b\"],[0.6666666666666666,\"#ed7953\"],[0.7777777777777778,\"#fb9f3a\"],[0.8888888888888888,\"#fdca26\"],[1.0,\"#f0f921\"]],\"sequentialminus\":[[0.0,\"#0d0887\"],[0.1111111111111111,\"#46039f\"],[0.2222222222222222,\"#7201a8\"],[0.3333333333333333,\"#9c179e\"],[0.4444444444444444,\"#bd3786\"],[0.5555555555555556,\"#d8576b\"],[0.6666666666666666,\"#ed7953\"],[0.7777777777777778,\"#fb9f3a\"],[0.8888888888888888,\"#fdca26\"],[1.0,\"#f0f921\"]],\"diverging\":[[0,\"#8e0152\"],[0.1,\"#c51b7d\"],[0.2,\"#de77ae\"],[0.3,\"#f1b6da\"],[0.4,\"#fde0ef\"],[0.5,\"#f7f7f7\"],[0.6,\"#e6f5d0\"],[0.7,\"#b8e186\"],[0.8,\"#7fbc41\"],[0.9,\"#4d9221\"],[1,\"#276419\"]]},\"xaxis\":{\"gridcolor\":\"white\",\"linecolor\":\"white\",\"ticks\":\"\",\"title\":{\"standoff\":15},\"zerolinecolor\":\"white\",\"automargin\":true,\"zerolinewidth\":2},\"yaxis\":{\"gridcolor\":\"white\",\"linecolor\":\"white\",\"ticks\":\"\",\"title\":{\"standoff\":15},\"zerolinecolor\":\"white\",\"automargin\":true,\"zerolinewidth\":2},\"scene\":{\"xaxis\":{\"backgroundcolor\":\"#E5ECF6\",\"gridcolor\":\"white\",\"linecolor\":\"white\",\"showbackground\":true,\"ticks\":\"\",\"zerolinecolor\":\"white\",\"gridwidth\":2},\"yaxis\":{\"backgroundcolor\":\"#E5ECF6\",\"gridcolor\":\"white\",\"linecolor\":\"white\",\"showbackground\":true,\"ticks\":\"\",\"zerolinecolor\":\"white\",\"gridwidth\":2},\"zaxis\":{\"backgroundcolor\":\"#E5ECF6\",\"gridcolor\":\"white\",\"linecolor\":\"white\",\"showbackground\":true,\"ticks\":\"\",\"zerolinecolor\":\"white\",\"gridwidth\":2}},\"shapedefaults\":{\"line\":{\"color\":\"#2a3f5f\"}},\"annotationdefaults\":{\"arrowcolor\":\"#2a3f5f\",\"arrowhead\":0,\"arrowwidth\":1},\"geo\":{\"bgcolor\":\"white\",\"landcolor\":\"#E5ECF6\",\"subunitcolor\":\"white\",\"showland\":true,\"showlakes\":true,\"lakecolor\":\"white\"},\"title\":{\"x\":0.05},\"mapbox\":{\"style\":\"light\"}}},\"xaxis\":{\"anchor\":\"y\",\"domain\":[0.0,1.0]},\"yaxis\":{\"anchor\":\"x\",\"domain\":[0.0,1.0]},\"annotations\":[{\"font\":{\"size\":16},\"showarrow\":false,\"text\":\"A\\u00f1o\",\"x\":0.5,\"xanchor\":\"center\",\"xref\":\"paper\",\"y\":1.0,\"yanchor\":\"bottom\",\"yref\":\"paper\"}]},                        {\"responsive\": true}                    )                };                            </script>        </div>"
            ],
            "text/plain": [
              "Figure({\n",
              "    'data': [{'legendgroup': '1',\n",
              "              'mode': 'lines+markers',\n",
              "              'name': 'Observado',\n",
              "              'type': 'scatter',\n",
              "              'x': array([2005, 2006, 2007, 2008, 2009, 2010, 2011, 2012, 2013, 2014, 2015, 2016,\n",
              "                          2017, 2018, 2019, 2020, 2021, 2022, 2023, 2024]),\n",
              "              'y': array([ 2339.3  ,  2464.7  ,  7516.9  ,  4902.6  ,  3027.1  ,  6817.9  ,\n",
              "                           6794.9  ,  4585.8  ,  4849.6  ,  3081.7  ,  3661.   , 10093.7  ,\n",
              "                          31183.03 , 67270.96 , 56619.85 , 98838.58 , 52908.97 , 28976.787,\n",
              "                          32726.012, 20816.482], dtype=float32)}],\n",
              "    'layout': {'annotations': [{'font': {'size': 16},\n",
              "                                'showarrow': False,\n",
              "                                'text': 'Año',\n",
              "                                'x': 0.5,\n",
              "                                'xanchor': 'center',\n",
              "                                'xref': 'paper',\n",
              "                                'y': 1.0,\n",
              "                                'yanchor': 'bottom',\n",
              "                                'yref': 'paper'}],\n",
              "               'template': '...',\n",
              "               'xaxis': {'anchor': 'y', 'domain': [0.0, 1.0]},\n",
              "               'yaxis': {'anchor': 'x', 'domain': [0.0, 1.0]}}\n",
              "})"
            ]
          },
          "execution_count": 6,
          "metadata": {},
          "output_type": "execute_result"
        }
      ],
      "source": [
        "import plotly.express as pex\n",
        "from plotly.subplots import make_subplots\n",
        "import plotly.graph_objects as go\n",
        "\n",
        "fig = make_subplots(rows=1, cols=1\n",
        "                    #  , row_heights =[0.7, 0.3]\n",
        "                    # , shared_xaxes = True\n",
        "                    ,subplot_titles = ['Año'])\n",
        "\n",
        "fig.add_trace(\n",
        "    go.Scatter(x=year_total[\"Year\"], y = year_total[\"ValorObservado\"]\n",
        "               , mode='lines+markers' # selcciona una combinación entre líneas y puntos\n",
        "               , name = \"Observado\"\n",
        "               ,legendgroup = '1'\n",
        "               ),\n",
        ")"
      ]
    },
    {
      "cell_type": "markdown",
      "metadata": {},
      "source": [
        "## Consolidación de archivos"
      ]
    },
    {
      "cell_type": "markdown",
      "metadata": {},
      "source": [
        "Se requiere un conjunto de datos que contiene la información de las estaciones de monitoreo.\n",
        "\n",
        "### Limpieza *DATOS ESTACIONES IDEAM*"
      ]
    },
    {
      "cell_type": "code",
      "execution_count": null,
      "metadata": {},
      "outputs": [],
      "source": []
    },
    {
      "cell_type": "markdown",
      "metadata": {},
      "source": [
        "# Análisis exploratorio de datos"
      ]
    },
    {
      "cell_type": "markdown",
      "metadata": {},
      "source": [
        "## 23 primeros archivos de precipitación"
      ]
    },
    {
      "cell_type": "markdown",
      "metadata": {},
      "source": []
    },
    {
      "cell_type": "markdown",
      "metadata": {},
      "source": [
        "## 23 últimos archivos de precipitación"
      ]
    },
    {
      "cell_type": "markdown",
      "metadata": {},
      "source": []
    },
    {
      "cell_type": "markdown",
      "metadata": {},
      "source": []
    }
  ],
  "metadata": {
    "colab": {
      "include_colab_link": true,
      "provenance": []
    },
    "kernelspec": {
      "display_name": "Python 3",
      "language": "python",
      "name": "python3"
    },
    "language_info": {
      "codemirror_mode": {
        "name": "ipython",
        "version": 3
      },
      "file_extension": ".py",
      "mimetype": "text/x-python",
      "name": "python",
      "nbconvert_exporter": "python",
      "pygments_lexer": "ipython3",
      "version": "3.12.7"
    }
  },
  "nbformat": 4,
  "nbformat_minor": 0
}
