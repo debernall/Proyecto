{
  "cells": [
    {
      "cell_type": "markdown",
      "metadata": {
        "colab_type": "text",
        "id": "view-in-github"
      },
      "source": [
        "<a href=\"https://colab.research.google.com/github/debernall/Proyecto/blob/main/Proyecto_bootcamp_cuaderno.ipynb\" target=\"_parent\"><img src=\"https://colab.research.google.com/assets/colab-badge.svg\" alt=\"Open In Colab\"/></a>"
      ]
    },
    {
      "cell_type": "markdown",
      "metadata": {},
      "source": [
        "### Introducción"
      ]
    },
    {
      "cell_type": "markdown",
      "metadata": {
        "id": "DY1m9lao8YgX"
      },
      "source": [
        "# Proyecto Lluvia"
      ]
    },
    {
      "cell_type": "markdown",
      "metadata": {},
      "source": []
    },
    {
      "cell_type": "code",
      "execution_count": 2,
      "metadata": {
        "id": "W-RRQrHv8Ygd",
        "notebookRunGroups": {
          "groupValue": "2"
        },
        "outputId": "1ae74537-53c6-4a15-bf1a-402f6897f26a"
      },
      "outputs": [],
      "source": [
        "import numpy as np\n",
        "import matplotlib.pyplot as plt\n",
        "import seaborn as sns\n",
        "import pandas as pd\n",
        "import re\n",
        "import os"
      ]
    },
    {
      "cell_type": "code",
      "execution_count": 3,
      "metadata": {},
      "outputs": [],
      "source": [
        "import plotly.express as pex\n",
        "from plotly.subplots import make_subplots\n",
        "import plotly.graph_objects as go"
      ]
    },
    {
      "cell_type": "markdown",
      "metadata": {},
      "source": [
        "*Sistema de archivos*\n",
        "\n",
        "    ./\n",
        "    \n",
        "    ./Proyecto/\n",
        "        ./Proyecto/Proyecto_bootcamp_cuaderno.ipynb\n",
        "\n",
        "    ./Datasets/\n",
        "        ./Datasets/...... .csv\n",
        "    \n",
        "    ./CleanDatasets/\n",
        "        ./CleanDatasets/.....  .parquet\n"
      ]
    },
    {
      "cell_type": "markdown",
      "metadata": {
        "notebookRunGroups": {
          "groupValue": "1"
        }
      },
      "source": [
        "# Limpieza de archivos precipitaciones - conversión a parquet"
      ]
    },
    {
      "cell_type": "markdown",
      "metadata": {},
      "source": [
        "### Primera exploración"
      ]
    },
    {
      "cell_type": "markdown",
      "metadata": {},
      "source": [
        "Se importa el primer documento previo a la limpieza. Se inicia con el archivo de menor tamaño. Todos los datos corresponden a precipitación y tienen la misma unidad de medida."
      ]
    },
    {
      "cell_type": "code",
      "execution_count": null,
      "metadata": {
        "notebookRunGroups": {
          "groupValue": "2"
        }
      },
      "outputs": [],
      "source": [
        "df = pd.read_csv('../Datasets/Precipitaci_n_20241016(vaupes).csv',\n",
        "                 sep=',',\n",
        "                 #nrows=10\n",
        "                 )\n",
        "df"
      ]
    },
    {
      "cell_type": "markdown",
      "metadata": {},
      "source": [
        "En la siguiente celda se imprime un pequeño resumen. Es importante resaltar que no hay datos nulos y la necesidad de cambiar el formato de cada columna por uno mas adecuado que reduzca el tamaño del dataframe."
      ]
    },
    {
      "cell_type": "code",
      "execution_count": null,
      "metadata": {},
      "outputs": [],
      "source": [
        "size_0=df.memory_usage(deep=True).sum()\n",
        "df.info()"
      ]
    },
    {
      "cell_type": "markdown",
      "metadata": {},
      "source": [
        "### Vaupes"
      ]
    },
    {
      "cell_type": "markdown",
      "metadata": {},
      "source": [
        "Se importa nuevamente el archivo csv, seleccionando las columnas relevantes y eligiendo un formato adeacuado para cada columna."
      ]
    },
    {
      "cell_type": "code",
      "execution_count": null,
      "metadata": {},
      "outputs": [],
      "source": [
        "df = pd.read_csv('../Datasets/Precipitaci_n_20241016(vaupes).csv',\n",
        "                 sep=',',\n",
        "                 usecols= [0,1,2,3,4,5,6,7,8,9],\n",
        "                 dtype={0:'category',1:'category',2:'str',3:'float32',4:'category',5:'category',6:'category',7:'category',8:'category',9:'category'}\n",
        "                 )\n",
        "df"
      ]
    },
    {
      "cell_type": "code",
      "execution_count": null,
      "metadata": {},
      "outputs": [],
      "source": [
        "df.info()"
      ]
    },
    {
      "cell_type": "markdown",
      "metadata": {},
      "source": [
        "Se muestra una comparación entre el tamaño del dataframe tras el cambio de formato a las columnas"
      ]
    },
    {
      "cell_type": "code",
      "execution_count": null,
      "metadata": {},
      "outputs": [],
      "source": [
        "size_f=df.memory_usage(deep=True).sum()\n",
        "print(size_f/size_0)"
      ]
    },
    {
      "cell_type": "markdown",
      "metadata": {},
      "source": [
        "**Formato de fecha**"
      ]
    },
    {
      "cell_type": "code",
      "execution_count": 33,
      "metadata": {},
      "outputs": [],
      "source": [
        "df['FechaObservacion'] = pd.to_datetime(df['FechaObservacion'], format='%m/%d/%Y %H:%M:%S %p')"
      ]
    },
    {
      "cell_type": "code",
      "execution_count": null,
      "metadata": {},
      "outputs": [],
      "source": [
        "df.info()"
      ]
    },
    {
      "cell_type": "code",
      "execution_count": 35,
      "metadata": {},
      "outputs": [],
      "source": [
        "df.to_parquet('../CleanDatasets/rain_vaupes.parquet')"
      ]
    },
    {
      "cell_type": "code",
      "execution_count": null,
      "metadata": {},
      "outputs": [],
      "source": [
        "namesFiles = os.listdir('../Datasets')\n",
        "namesFiles = [re.findall(r'\\((\\w*)\\)',x)[0] for x in namesFiles]\n",
        "print(namesFiles)"
      ]
    },
    {
      "cell_type": "markdown",
      "metadata": {},
      "source": [
        "### Caquetá"
      ]
    },
    {
      "cell_type": "markdown",
      "metadata": {},
      "source": [
        "Tener en cuenta que la información sobre caquetá está almacenada en dos archivos"
      ]
    },
    {
      "cell_type": "markdown",
      "metadata": {},
      "source": [
        "#### Caquetá 2"
      ]
    },
    {
      "cell_type": "code",
      "execution_count": null,
      "metadata": {},
      "outputs": [],
      "source": [
        "nameFile = '../Datasets/Precipitaci_n_20241016('+ namesFiles[13] +').csv'\n",
        "nameFile"
      ]
    },
    {
      "cell_type": "code",
      "execution_count": null,
      "metadata": {},
      "outputs": [],
      "source": [
        "df_caqueta2 = pd.read_csv(nameFile,\n",
        "                 sep=',',\n",
        "                 usecols= [0,1,2,3,4,5,6,7,8,9],\n",
        "                 dtype={0:'category',1:'category',2:'str',3:'float32',4:'category',5:'category',6:'category',7:'category',8:'category',9:'category'}\n",
        "                 )\n",
        "df_caqueta2['FechaObservacion'] = pd.to_datetime(df_caqueta2['FechaObservacion'], format='%m/%d/%Y %H:%M:%S %p')\n",
        "df_caqueta2"
      ]
    },
    {
      "cell_type": "markdown",
      "metadata": {},
      "source": [
        "La siguiente celda imprimirá la cantidad de valores de nulos"
      ]
    },
    {
      "cell_type": "code",
      "execution_count": null,
      "metadata": {},
      "outputs": [],
      "source": [
        "nulls = df_caqueta2.count(axis=1).sum()\n",
        "size = df_caqueta2.shape[0]*df_caqueta2.shape[1]\n",
        "print(size-nulls)"
      ]
    },
    {
      "cell_type": "markdown",
      "metadata": {},
      "source": [
        "De nuevo se observa que el archivo tiene un tamaño menor y que los diferentes formatos son aplicados correctamente a cada columna"
      ]
    },
    {
      "cell_type": "code",
      "execution_count": null,
      "metadata": {},
      "outputs": [],
      "source": [
        "df_caqueta2.info()\n",
        "#df_caqueta2.describe()"
      ]
    },
    {
      "cell_type": "markdown",
      "metadata": {},
      "source": [
        "### Todos los departamentos"
      ]
    },
    {
      "cell_type": "code",
      "execution_count": null,
      "metadata": {},
      "outputs": [],
      "source": [
        "print(namesFiles)\n",
        "print(len(namesFiles))"
      ]
    },
    {
      "cell_type": "code",
      "execution_count": 42,
      "metadata": {},
      "outputs": [],
      "source": [
        "for name in namesFiles[:]:\n",
        "    nameFile = '../Datasets/Precipitaci_n_20241016('+ name +').csv'\n",
        "    df_dept = pd.read_csv(nameFile,\n",
        "                 sep=',',\n",
        "                 usecols= [0,1,2,3,4,5,6,7,8,9],\n",
        "                 dtype={0:'category',1:'category',2:'str',3:'float32',4:'category',5:'category',6:'category',7:'category',8:'category',9:'category'}\n",
        "                 )\n",
        "    df_dept['FechaObservacion'] = pd.to_datetime(df_dept['FechaObservacion'], format='%m/%d/%Y %H:%M:%S %p')\n",
        "    nulls = df_dept.count(axis=1).sum()\n",
        "    size = df_dept.shape[0]*df_dept.shape[1]\n",
        "    if nulls-size != 0:\n",
        "        print(f'{nulls-size} nulls in {name}, parquet file can not created')\n",
        "    else:\n",
        "        df_dept.to_parquet(f'../CleanDatasets/rain_{name}.parquet')\n"
      ]
    },
    {
      "cell_type": "markdown",
      "metadata": {},
      "source": [
        "# Consolidación de archivos"
      ]
    },
    {
      "cell_type": "markdown",
      "metadata": {},
      "source": [
        "Se requiere un conjunto de datos que contiene la información de las estaciones de monitoreo.\n",
        "\n",
        "A continuación se listan los archivos de la segunda carpeta que contiene los datasets:\n",
        "\n",
        "    - Catálogo nacional de estaciones (Contine el listado de las estaciones)\n",
        "    - Datos de estaciones IDEAM y terceros (Contiene mediciones de diversas estaciones propias y externas al IDEAM)\n",
        "    - Datos hidrometeorológicos (Mediciones de temperatura)\n",
        "    - Presión atmosférica  "
      ]
    },
    {
      "cell_type": "code",
      "execution_count": null,
      "metadata": {},
      "outputs": [],
      "source": [
        "namesFiles2 = os.listdir('../Datasets2')\n",
        "namesFiles2 = [x for x in namesFiles2]\n",
        "print(namesFiles2)"
      ]
    },
    {
      "cell_type": "markdown",
      "metadata": {},
      "source": [
        "### Limpieza *DATOS ESTACIONES IDEAM*"
      ]
    },
    {
      "cell_type": "markdown",
      "metadata": {},
      "source": [
        "La ruta de acceso al archivo de Datos estaciones IDEAM es f'../Datasets2/{namesFiles2[1]}'"
      ]
    },
    {
      "cell_type": "code",
      "execution_count": null,
      "metadata": {},
      "outputs": [],
      "source": [
        "df_estaciones = pd.read_csv(f'../Datasets2/{namesFiles2[1]}',\n",
        "                            sep=',',\n",
        "                            nrows=3\n",
        ")\n",
        "df_estaciones"
      ]
    },
    {
      "cell_type": "code",
      "execution_count": null,
      "metadata": {},
      "outputs": [],
      "source": [
        "df_estaciones = pd.read_csv(f'../Datasets2/{namesFiles2[1]}',\n",
        "                            sep=',',\n",
        "                            dtype={0:'category',1:'category',2:'str',3:'float32',4:'category',5:'category',6:'category',7:'category',8:'category',9:'category',10:'category',11:'category',12:'category'}\n",
        "                            #nrows=3\n",
        ")\n",
        "df_estaciones.info()"
      ]
    },
    {
      "cell_type": "markdown",
      "metadata": {},
      "source": [
        "Se evidencia que no hay valores nulos. Hacemos una conversión a formato de fecha y almacenamos el archivo en formato .parquet"
      ]
    },
    {
      "cell_type": "code",
      "execution_count": null,
      "metadata": {},
      "outputs": [],
      "source": [
        "df_estaciones['FechaObservacion'] = pd.to_datetime(df_estaciones['FechaObservacion'], format='%m/%d/%Y %H:%M:%S %p')\n",
        "df_estaciones.info()"
      ]
    },
    {
      "cell_type": "code",
      "execution_count": 24,
      "metadata": {},
      "outputs": [],
      "source": [
        "df_estaciones.to_parquet('../CleanDatasets2/estaciones.parquet')"
      ]
    },
    {
      "cell_type": "markdown",
      "metadata": {},
      "source": [
        "### Limpieza *DATOS PRESIÓN ATMOSFÉRICA*"
      ]
    },
    {
      "cell_type": "code",
      "execution_count": null,
      "metadata": {},
      "outputs": [],
      "source": [
        "namesFiles2"
      ]
    },
    {
      "cell_type": "markdown",
      "metadata": {},
      "source": [
        "La ruta de acceso a los datos de presión atmosférica es: f '../Datasets2/{namesFiles2[-1]}']"
      ]
    },
    {
      "cell_type": "code",
      "execution_count": null,
      "metadata": {},
      "outputs": [],
      "source": [
        "df_presion = pd.read_csv(\n",
        "                        f'../Datasets2/{namesFiles2[-1]}',\n",
        "                        sep=',',\n",
        "                        nrows=3\n",
        ")\n",
        "df_presion"
      ]
    },
    {
      "cell_type": "code",
      "execution_count": null,
      "metadata": {},
      "outputs": [],
      "source": [
        "df_presion = pd.read_csv(\n",
        "                        f'../Datasets2/{namesFiles2[-1]}',\n",
        "                        sep=',',\n",
        "                        dtype={0:'category',1:'category',2:'str',3:'float32',4:'category',5:'category',6:'category',7:'category',8:'category',9:'category',10:'category',11:'category'}\n",
        ")\n",
        "df_presion.info()"
      ]
    },
    {
      "cell_type": "code",
      "execution_count": null,
      "metadata": {},
      "outputs": [],
      "source": [
        "df_presion['FechaObservacion'] = pd.to_datetime(df_presion['FechaObservacion'],format='%m/%d/%Y %H:%M:%S %p')\n",
        "df_presion"
      ]
    },
    {
      "cell_type": "code",
      "execution_count": null,
      "metadata": {},
      "outputs": [],
      "source": [
        "df_presion.count()"
      ]
    },
    {
      "cell_type": "markdown",
      "metadata": {},
      "source": [
        "Se observa con la función .count() que el tamaño de valores no nulos es igual al índice del rango del dataframe encontrado en la celda anterior."
      ]
    },
    {
      "cell_type": "code",
      "execution_count": 33,
      "metadata": {},
      "outputs": [],
      "source": [
        "df_presion.to_parquet('../CleanDatasets2/presion.parquet')"
      ]
    },
    {
      "cell_type": "markdown",
      "metadata": {},
      "source": [
        "### Limpieza *DATOS TEMPERATURA*"
      ]
    },
    {
      "cell_type": "markdown",
      "metadata": {},
      "source": [
        "Los datos de temperatura se distribuyen en 5 archivos csv distintos, todos con las mismas columnas. La ruta de acceso a los archivos es \n",
        "\n",
        "- '../Datasets2/Datos_Hidrometeorol_gicos_Crudos_-_Red_de_Estaciones_IDEAM___Temperatura_20241017(*)' Donde * es un valor entre 0 y 4"
      ]
    },
    {
      "cell_type": "code",
      "execution_count": null,
      "metadata": {},
      "outputs": [],
      "source": [
        "namesFiles2[2:-1]"
      ]
    },
    {
      "cell_type": "code",
      "execution_count": null,
      "metadata": {},
      "outputs": [],
      "source": [
        "df_temp = pd.read_csv(\n",
        "                        f'../Datasets2/{namesFiles2[2]}',\n",
        "                        sep=',',\n",
        "                        nrows=3\n",
        ")\n",
        "df_temp"
      ]
    },
    {
      "cell_type": "code",
      "execution_count": null,
      "metadata": {},
      "outputs": [],
      "source": [
        "df_temp = pd.read_csv(\n",
        "                        f'../Datasets2/{namesFiles2[2]}',\n",
        "                        sep=',',\n",
        "                        dtype= {0:'category',1:'category',2:'str',3:'float32',4:'category',5:'category',6:'category',7:'category',8:'category',9:'category',10:'category',11:'category'}         \n",
        "                    )\n",
        "df_temp"
      ]
    },
    {
      "cell_type": "code",
      "execution_count": null,
      "metadata": {},
      "outputs": [],
      "source": [
        "df_temp.info()"
      ]
    },
    {
      "cell_type": "code",
      "execution_count": null,
      "metadata": {},
      "outputs": [],
      "source": [
        "df_temp['FechaObservacion'] = pd.to_datetime(df_temp['FechaObservacion'], format='%m/%d/%Y %H:%M:%S %p')\n",
        "df_temp.info()"
      ]
    },
    {
      "cell_type": "code",
      "execution_count": 51,
      "metadata": {},
      "outputs": [],
      "source": [
        "df_temp.to_parquet('../CleanDatasets2/Temp_0.parquet')"
      ]
    },
    {
      "cell_type": "code",
      "execution_count": 8,
      "metadata": {},
      "outputs": [],
      "source": [
        "index_temp = 1\n",
        "for i in namesFiles2[3:-1]:\n",
        "    df_temp = pd.read_csv(\n",
        "                        f'../Datasets2/{i}',\n",
        "                        sep=',',\n",
        "                        dtype= {0:'category',1:'category',2:'str',3:'float32',4:'category',5:'category',6:'category',7:'category',8:'category',9:'category',10:'category',11:'category'}         \n",
        "                    )\n",
        "    df_temp['FechaObservacion'] = pd.to_datetime(df_temp['FechaObservacion'], format='%m/%d/%Y %H:%M:%S %p')\n",
        "    df_temp.to_parquet(f'../CleanDatasets2/Temp_{str(index_temp)}.parquet')\n",
        "    index_temp += 1"
      ]
    },
    {
      "cell_type": "markdown",
      "metadata": {},
      "source": [
        "# Análisis exploratorio de datos"
      ]
    },
    {
      "cell_type": "code",
      "execution_count": null,
      "metadata": {},
      "outputs": [],
      "source": [
        "df_2 = pd.read_parquet(f'../CleanDatasets/rain_boyaca.parquet')\n",
        "df_2"
      ]
    },
    {
      "cell_type": "code",
      "execution_count": null,
      "metadata": {},
      "outputs": [],
      "source": [
        "df_2.info()"
      ]
    },
    {
      "cell_type": "code",
      "execution_count": null,
      "metadata": {},
      "outputs": [],
      "source": [
        "df_2['Year'] = df_2['FechaObservacion'].dt.year\n",
        "df_2['Month'] = df_2['FechaObservacion'].dt.month\n",
        "year_total = (\n",
        "    df_2\n",
        "    .groupby([\"Year\"])[\"ValorObservado\"]\n",
        "    .sum()\n",
        "    .reset_index()\n",
        ")\n",
        "year_total"
      ]
    },
    {
      "cell_type": "code",
      "execution_count": null,
      "metadata": {},
      "outputs": [],
      "source": [
        "fig = make_subplots(rows=1, cols=1\n",
        "                    #  , row_heights =[0.7, 0.3]\n",
        "                    # , shared_xaxes = True\n",
        "                    ,subplot_titles = ['Año'])\n",
        "\n",
        "fig.add_trace(\n",
        "    go.Scatter(x=year_total[\"Year\"], y = year_total[\"ValorObservado\"]\n",
        "               , mode='lines+markers' # selcciona una combinación entre líneas y puntos\n",
        "               , name = \"Observado\"\n",
        "               ,legendgroup = '1'\n",
        "               ),\n",
        ")\n",
        "###### Si sale error, toca instalar nbformat"
      ]
    },
    {
      "cell_type": "markdown",
      "metadata": {},
      "source": [
        "Los archivos en formato parquet pueden ser consultados en la carpeta compartida de google drive: https://drive.google.com/drive/folders/1h9_VFIFKbZ8tiavxZM9Nm9koIxJxtCWf?usp=sharing\n",
        "\n",
        "Se puede acceder a la carpeta compartida desde local instalando la versión de escritorio y buscando la ruta de los archivos."
      ]
    },
    {
      "cell_type": "code",
      "execution_count": null,
      "metadata": {},
      "outputs": [],
      "source": [
        "namesFiles = os.listdir(r'G:\\Mi unidad\\Bootcamp\\Proyecto_Bootcamp\\Data\\CleanDatasets')\n",
        "print('Primeros 23')\n",
        "print(namesFiles[0:23])\n",
        "print('Últimos 23')\n",
        "print(namesFiles[23:-1])"
      ]
    },
    {
      "cell_type": "markdown",
      "metadata": {},
      "source": [
        "CleanDatasets contiene los archivos parquet sobre precipitaciones\n",
        "\n",
        "CleanDatasets2 contiene los archivos parquet sobre temperatura, presión, catálogo de estaciones.\n",
        "\n",
        "Configuramos rutas para trabajar en local."
      ]
    },
    {
      "cell_type": "code",
      "execution_count": 13,
      "metadata": {},
      "outputs": [],
      "source": [
        "path = r'G:\\Mi unidad\\Bootcamp\\Proyecto_Bootcamp\\Data'                      "
      ]
    },
    {
      "cell_type": "code",
      "execution_count": 4,
      "metadata": {},
      "outputs": [],
      "source": [
        "path = r'C:\\Users\\Josue Florez\\Documents\\Maria Angelica\\Proyectos\\Proyecto_bootcamp\\Data'"
      ]
    },
    {
      "cell_type": "markdown",
      "metadata": {},
      "source": [
        "## 23 primeros archivos de precipitación"
      ]
    },
    {
      "cell_type": "markdown",
      "metadata": {},
      "source": []
    },
    {
      "cell_type": "code",
      "execution_count": 5,
      "metadata": {},
      "outputs": [
        {
          "name": "stdout",
          "output_type": "stream",
          "text": [
            "Archivo: estaciones.parquet - Filas: 202642, Columnas: 13\n",
            "Archivo: rain_amazonas.parquet - Filas: 706717, Columnas: 10\n",
            "Archivo: rain_antioquia.parquet - Filas: 14178669, Columnas: 10\n",
            "Archivo: rain_arauca.parquet - Filas: 794950, Columnas: 10\n",
            "Archivo: rain_atlantico1.parquet - Filas: 1371211, Columnas: 10\n",
            "Archivo: rain_atlantico2.parquet - Filas: 1156367, Columnas: 10\n",
            "Archivo: rain_bogota1.parquet - Filas: 1779933, Columnas: 10\n",
            "Archivo: rain_bogota2.parquet - Filas: 19408968, Columnas: 10\n",
            "Archivo: rain_bogota3.parquet - Filas: 3180034, Columnas: 10\n",
            "Archivo: rain_bolivar1.parquet - Filas: 1917368, Columnas: 10\n",
            "Archivo: rain_bolivar2.parquet - Filas: 1498134, Columnas: 10\n",
            "Archivo: rain_boyaca.parquet - Filas: 13730170, Columnas: 10\n",
            "Archivo: rain_caldas.parquet - Filas: 9882585, Columnas: 10\n",
            "Archivo: rain_caqueta1.parquet - Filas: 1312815, Columnas: 10\n",
            "Archivo: rain_caqueta2.parquet - Filas: 14546, Columnas: 10\n",
            "Archivo: rain_casanare.parquet - Filas: 2615277, Columnas: 10\n",
            "Archivo: rain_cauca.parquet - Filas: 5192223, Columnas: 10\n",
            "Archivo: rain_cesar.parquet - Filas: 3206827, Columnas: 10\n",
            "Archivo: rain_choco.parquet - Filas: 2259395, Columnas: 10\n",
            "Archivo: rain_choco1.parquet - Filas: 3524108, Columnas: 10\n",
            "Archivo: rain_cordoba1.parquet - Filas: 3015580, Columnas: 10\n",
            "Archivo: rain_cordoba2.parquet - Filas: 2550273, Columnas: 10\n",
            "Archivo: rain_cundinamarca.parquet - Filas: 22413265, Columnas: 10\n",
            "Archivo: rain_guainia.parquet - Filas: 276176, Columnas: 10\n"
          ]
        }
      ],
      "source": [
        "folder_path = path\n",
        "\n",
        "files = [f for f in os.listdir(folder_path)]\n",
        "\n",
        "for file in files:\n",
        "    file_path = os.path.join(folder_path, file)\n",
        "    \n",
        "    \n",
        "    df = pd.read_parquet(file_path)\n",
        "    rows, cols = df.shape\n",
        "    \n",
        "    print(f\"Archivo: {file} - Filas: {rows}, Columnas: {cols}\")\n"
      ]
    },
    {
      "cell_type": "code",
      "execution_count": 7,
      "metadata": {},
      "outputs": [
        {
          "name": "stdout",
          "output_type": "stream",
          "text": [
            "Archivo: estaciones.parquet - Filas: 202642, Columnas: 13\n",
            "Tipos de las columnas:\n",
            "CodigoEstacion             category\n",
            "CodigoSensor               category\n",
            "FechaObservacion     datetime64[ns]\n",
            "ValorObservado              float32\n",
            "NombreEstacion             category\n",
            "Departamento               category\n",
            "Municipio                  category\n",
            "ZonaHidrografica           category\n",
            "Latitud                    category\n",
            "Longitud                   category\n",
            "DescripcionSensor          category\n",
            "UnidadMedida               category\n",
            "Entidad                    category\n",
            "dtype: object\n",
            "\n",
            "\n",
            "Archivo: rain_amazonas.parquet - Filas: 706717, Columnas: 10\n",
            "Tipos de las columnas:\n",
            "CodigoEstacion            category\n",
            "CodigoSensor              category\n",
            "FechaObservacion    datetime64[ns]\n",
            "ValorObservado             float32\n",
            "NombreEstacion            category\n",
            "Departamento              category\n",
            "Municipio                 category\n",
            "ZonaHidrografica          category\n",
            "Latitud                   category\n",
            "Longitud                  category\n",
            "dtype: object\n",
            "\n",
            "\n",
            "Archivo: rain_antioquia.parquet - Filas: 14178669, Columnas: 10\n",
            "Tipos de las columnas:\n",
            "CodigoEstacion            category\n",
            "CodigoSensor              category\n",
            "FechaObservacion    datetime64[ns]\n",
            "ValorObservado             float32\n",
            "NombreEstacion            category\n",
            "Departamento              category\n",
            "Municipio                 category\n",
            "ZonaHidrografica          category\n",
            "Latitud                   category\n",
            "Longitud                  category\n",
            "dtype: object\n",
            "\n",
            "\n",
            "Archivo: rain_arauca.parquet - Filas: 794950, Columnas: 10\n",
            "Tipos de las columnas:\n",
            "CodigoEstacion            category\n",
            "CodigoSensor              category\n",
            "FechaObservacion    datetime64[ns]\n",
            "ValorObservado             float32\n",
            "NombreEstacion            category\n",
            "Departamento              category\n",
            "Municipio                 category\n",
            "ZonaHidrografica          category\n",
            "Latitud                   category\n",
            "Longitud                  category\n",
            "dtype: object\n",
            "\n",
            "\n",
            "Archivo: rain_atlantico1.parquet - Filas: 1371211, Columnas: 10\n",
            "Tipos de las columnas:\n",
            "CodigoEstacion            category\n",
            "CodigoSensor              category\n",
            "FechaObservacion    datetime64[ns]\n",
            "ValorObservado             float32\n",
            "NombreEstacion            category\n",
            "Departamento              category\n",
            "Municipio                 category\n",
            "ZonaHidrografica          category\n",
            "Latitud                   category\n",
            "Longitud                  category\n",
            "dtype: object\n",
            "\n",
            "\n",
            "Archivo: rain_atlantico2.parquet - Filas: 1156367, Columnas: 10\n",
            "Tipos de las columnas:\n",
            "CodigoEstacion            category\n",
            "CodigoSensor              category\n",
            "FechaObservacion    datetime64[ns]\n",
            "ValorObservado             float32\n",
            "NombreEstacion            category\n",
            "Departamento              category\n",
            "Municipio                 category\n",
            "ZonaHidrografica          category\n",
            "Latitud                   category\n",
            "Longitud                  category\n",
            "dtype: object\n",
            "\n",
            "\n",
            "Archivo: rain_bogota1.parquet - Filas: 1779933, Columnas: 10\n",
            "Tipos de las columnas:\n",
            "CodigoEstacion            category\n",
            "CodigoSensor              category\n",
            "FechaObservacion    datetime64[ns]\n",
            "ValorObservado             float32\n",
            "NombreEstacion            category\n",
            "Departamento              category\n",
            "Municipio                 category\n",
            "ZonaHidrografica          category\n",
            "Latitud                   category\n",
            "Longitud                  category\n",
            "dtype: object\n",
            "\n",
            "\n",
            "Archivo: rain_bogota2.parquet - Filas: 19408968, Columnas: 10\n",
            "Tipos de las columnas:\n",
            "CodigoEstacion            category\n",
            "CodigoSensor              category\n",
            "FechaObservacion    datetime64[ns]\n",
            "ValorObservado             float32\n",
            "NombreEstacion            category\n",
            "Departamento              category\n",
            "Municipio                 category\n",
            "ZonaHidrografica          category\n",
            "Latitud                   category\n",
            "Longitud                  category\n",
            "dtype: object\n",
            "\n",
            "\n",
            "Archivo: rain_bogota3.parquet - Filas: 3180034, Columnas: 10\n",
            "Tipos de las columnas:\n",
            "CodigoEstacion            category\n",
            "CodigoSensor              category\n",
            "FechaObservacion    datetime64[ns]\n",
            "ValorObservado             float32\n",
            "NombreEstacion            category\n",
            "Departamento              category\n",
            "Municipio                 category\n",
            "ZonaHidrografica          category\n",
            "Latitud                   category\n",
            "Longitud                  category\n",
            "dtype: object\n",
            "\n",
            "\n",
            "Archivo: rain_bolivar1.parquet - Filas: 1917368, Columnas: 10\n",
            "Tipos de las columnas:\n",
            "CodigoEstacion            category\n",
            "CodigoSensor              category\n",
            "FechaObservacion    datetime64[ns]\n",
            "ValorObservado             float32\n",
            "NombreEstacion            category\n",
            "Departamento              category\n",
            "Municipio                 category\n",
            "ZonaHidrografica          category\n",
            "Latitud                   category\n",
            "Longitud                  category\n",
            "dtype: object\n",
            "\n",
            "\n",
            "Archivo: rain_bolivar2.parquet - Filas: 1498134, Columnas: 10\n",
            "Tipos de las columnas:\n",
            "CodigoEstacion            category\n",
            "CodigoSensor              category\n",
            "FechaObservacion    datetime64[ns]\n",
            "ValorObservado             float32\n",
            "NombreEstacion            category\n",
            "Departamento              category\n",
            "Municipio                 category\n",
            "ZonaHidrografica          category\n",
            "Latitud                   category\n",
            "Longitud                  category\n",
            "dtype: object\n",
            "\n",
            "\n",
            "Archivo: rain_boyaca.parquet - Filas: 13730170, Columnas: 10\n",
            "Tipos de las columnas:\n",
            "CodigoEstacion            category\n",
            "CodigoSensor              category\n",
            "FechaObservacion    datetime64[ns]\n",
            "ValorObservado             float32\n",
            "NombreEstacion            category\n",
            "Departamento              category\n",
            "Municipio                 category\n",
            "ZonaHidrografica          category\n",
            "Latitud                   category\n",
            "Longitud                  category\n",
            "dtype: object\n",
            "\n",
            "\n",
            "Archivo: rain_caldas.parquet - Filas: 9882585, Columnas: 10\n",
            "Tipos de las columnas:\n",
            "CodigoEstacion            category\n",
            "CodigoSensor              category\n",
            "FechaObservacion    datetime64[ns]\n",
            "ValorObservado             float32\n",
            "NombreEstacion            category\n",
            "Departamento              category\n",
            "Municipio                 category\n",
            "ZonaHidrografica          category\n",
            "Latitud                   category\n",
            "Longitud                  category\n",
            "dtype: object\n",
            "\n",
            "\n",
            "Archivo: rain_caqueta1.parquet - Filas: 1312815, Columnas: 10\n",
            "Tipos de las columnas:\n",
            "CodigoEstacion            category\n",
            "CodigoSensor              category\n",
            "FechaObservacion    datetime64[ns]\n",
            "ValorObservado             float32\n",
            "NombreEstacion            category\n",
            "Departamento              category\n",
            "Municipio                 category\n",
            "ZonaHidrografica          category\n",
            "Latitud                   category\n",
            "Longitud                  category\n",
            "dtype: object\n",
            "\n",
            "\n",
            "Archivo: rain_caqueta2.parquet - Filas: 14546, Columnas: 10\n",
            "Tipos de las columnas:\n",
            "CodigoEstacion            category\n",
            "CodigoSensor              category\n",
            "FechaObservacion    datetime64[ns]\n",
            "ValorObservado             float32\n",
            "NombreEstacion            category\n",
            "Departamento              category\n",
            "Municipio                 category\n",
            "ZonaHidrografica          category\n",
            "Latitud                   category\n",
            "Longitud                  category\n",
            "dtype: object\n",
            "\n",
            "\n",
            "Archivo: rain_casanare.parquet - Filas: 2615277, Columnas: 10\n",
            "Tipos de las columnas:\n",
            "CodigoEstacion            category\n",
            "CodigoSensor              category\n",
            "FechaObservacion    datetime64[ns]\n",
            "ValorObservado             float32\n",
            "NombreEstacion            category\n",
            "Departamento              category\n",
            "Municipio                 category\n",
            "ZonaHidrografica          category\n",
            "Latitud                   category\n",
            "Longitud                  category\n",
            "dtype: object\n",
            "\n",
            "\n",
            "Archivo: rain_cauca.parquet - Filas: 5192223, Columnas: 10\n",
            "Tipos de las columnas:\n",
            "CodigoEstacion            category\n",
            "CodigoSensor              category\n",
            "FechaObservacion    datetime64[ns]\n",
            "ValorObservado             float32\n",
            "NombreEstacion            category\n",
            "Departamento              category\n",
            "Municipio                 category\n",
            "ZonaHidrografica          category\n",
            "Latitud                   category\n",
            "Longitud                  category\n",
            "dtype: object\n",
            "\n",
            "\n",
            "Archivo: rain_cesar.parquet - Filas: 3206827, Columnas: 10\n",
            "Tipos de las columnas:\n",
            "CodigoEstacion            category\n",
            "CodigoSensor              category\n",
            "FechaObservacion    datetime64[ns]\n",
            "ValorObservado             float32\n",
            "NombreEstacion            category\n",
            "Departamento              category\n",
            "Municipio                 category\n",
            "ZonaHidrografica          category\n",
            "Latitud                   category\n",
            "Longitud                  category\n",
            "dtype: object\n",
            "\n",
            "\n",
            "Archivo: rain_choco.parquet - Filas: 2259395, Columnas: 10\n",
            "Tipos de las columnas:\n",
            "CodigoEstacion            category\n",
            "CodigoSensor              category\n",
            "FechaObservacion    datetime64[ns]\n",
            "ValorObservado             float32\n",
            "NombreEstacion            category\n",
            "Departamento              category\n",
            "Municipio                 category\n",
            "ZonaHidrografica          category\n",
            "Latitud                   category\n",
            "Longitud                  category\n",
            "dtype: object\n",
            "\n",
            "\n",
            "Archivo: rain_choco1.parquet - Filas: 3524108, Columnas: 10\n",
            "Tipos de las columnas:\n",
            "CodigoEstacion            category\n",
            "CodigoSensor              category\n",
            "FechaObservacion    datetime64[ns]\n",
            "ValorObservado             float32\n",
            "NombreEstacion            category\n",
            "Departamento              category\n",
            "Municipio                 category\n",
            "ZonaHidrografica          category\n",
            "Latitud                   category\n",
            "Longitud                  category\n",
            "dtype: object\n",
            "\n",
            "\n",
            "Archivo: rain_cordoba1.parquet - Filas: 3015580, Columnas: 10\n",
            "Tipos de las columnas:\n",
            "CodigoEstacion            category\n",
            "CodigoSensor              category\n",
            "FechaObservacion    datetime64[ns]\n",
            "ValorObservado             float32\n",
            "NombreEstacion            category\n",
            "Departamento              category\n",
            "Municipio                 category\n",
            "ZonaHidrografica          category\n",
            "Latitud                   category\n",
            "Longitud                  category\n",
            "dtype: object\n",
            "\n",
            "\n",
            "Archivo: rain_cordoba2.parquet - Filas: 2550273, Columnas: 10\n",
            "Tipos de las columnas:\n",
            "CodigoEstacion            category\n",
            "CodigoSensor              category\n",
            "FechaObservacion    datetime64[ns]\n",
            "ValorObservado             float32\n",
            "NombreEstacion            category\n",
            "Departamento              category\n",
            "Municipio                 category\n",
            "ZonaHidrografica          category\n",
            "Latitud                   category\n",
            "Longitud                  category\n",
            "dtype: object\n",
            "\n",
            "\n",
            "Archivo: rain_cundinamarca.parquet - Filas: 22413265, Columnas: 10\n",
            "Tipos de las columnas:\n",
            "CodigoEstacion            category\n",
            "CodigoSensor              category\n",
            "FechaObservacion    datetime64[ns]\n",
            "ValorObservado             float32\n",
            "NombreEstacion            category\n",
            "Departamento              category\n",
            "Municipio                 category\n",
            "ZonaHidrografica          category\n",
            "Latitud                   category\n",
            "Longitud                  category\n",
            "dtype: object\n",
            "\n",
            "\n",
            "Archivo: rain_guainia.parquet - Filas: 276176, Columnas: 10\n",
            "Tipos de las columnas:\n",
            "CodigoEstacion            category\n",
            "CodigoSensor              category\n",
            "FechaObservacion    datetime64[ns]\n",
            "ValorObservado             float32\n",
            "NombreEstacion            category\n",
            "Departamento              category\n",
            "Municipio                 category\n",
            "ZonaHidrografica          category\n",
            "Latitud                   category\n",
            "Longitud                  category\n",
            "dtype: object\n",
            "\n",
            "\n"
          ]
        }
      ],
      "source": [
        "for file in files:\n",
        "    file_path = os.path.join(folder_path, file)\n",
        "    \n",
        "    df = pd.read_parquet(file_path)\n",
        "    \n",
        "    rows, cols = df.shape\n",
        "    \n",
        "    column_types = df.dtypes  \n",
        "    \n",
        "    print(f\"Archivo: {file} - Filas: {rows}, Columnas: {cols}\")\n",
        "    print(\"Tipos de las columnas:\")\n",
        "    print(column_types)\n",
        "    print(\"\\n\")"
      ]
    },
    {
      "cell_type": "code",
      "execution_count": null,
      "metadata": {},
      "outputs": [],
      "source": [
        "\n",
        "fecha_columna = 'FechaObservacion' \n",
        "\n",
        "for file in files:\n",
        "    file_path = os.path.join(folder_path, file)\n",
        "\n",
        "    df = pd.read_parquet(file_path)\n",
        "    \n",
        "    rows, cols = df.shape\n",
        "    \n",
        "    if fecha_columna in df.columns:\n",
        "       \n",
        "        df[fecha_columna] = pd.to_datetime(df[fecha_columna], errors='coerce')\n",
        "\n",
        "       \n",
        "        fecha_minima = df[fecha_columna].min()\n",
        "        fecha_maxima = df[fecha_columna].max()\n",
        "        \n",
        "        print(f\"Archivo: {file} - Filas: {rows}, Columnas: {cols}\")\n",
        "        print(f\"Fecha mínima: {fecha_minima}\")\n",
        "        print(f\"Fecha máxima: {fecha_maxima}\\n\")\n",
        "    else:\n",
        "        print(f\"Archivo: {file} - No se encontró la columna '{fecha_columna}'\\n\")\n"
      ]
    },
    {
      "cell_type": "code",
      "execution_count": 32,
      "metadata": {},
      "outputs": [],
      "source": [
        "dataframes = {}\n",
        "\n",
        "for file in files:\n",
        "    file_path = os.path.join(folder_path, file)\n",
        "    \n",
        "    df = pd.read_parquet(file_path)\n",
        "    \n",
        "    nombre_ciudad = file.split('_')[0]  # Extraer el nombre de la ciudad del nombre del archivo\n",
        "    dataframes[nombre_ciudad] = df"
      ]
    },
    {
      "cell_type": "code",
      "execution_count": 37,
      "metadata": {},
      "outputs": [],
      "source": [
        "dataframes={}"
      ]
    },
    {
      "cell_type": "code",
      "execution_count": 35,
      "metadata": {},
      "outputs": [
        {
          "name": "stderr",
          "output_type": "stream",
          "text": [
            "C:\\Users\\Josue Florez\\AppData\\Local\\Temp\\ipykernel_10844\\949150212.py:14: FutureWarning: The default of observed=False is deprecated and will be changed to True in a future version of pandas. Pass observed=False to retain current behavior or observed=True to adopt the future default and silence this warning.\n",
            "  df_grouped = df.groupby(['Year', 'Month','Departamento'])['ValorObservado'].agg(['sum', 'mean']).reset_index()\n",
            "C:\\Users\\Josue Florez\\AppData\\Local\\Temp\\ipykernel_10844\\949150212.py:14: FutureWarning: The default of observed=False is deprecated and will be changed to True in a future version of pandas. Pass observed=False to retain current behavior or observed=True to adopt the future default and silence this warning.\n",
            "  df_grouped = df.groupby(['Year', 'Month','Departamento'])['ValorObservado'].agg(['sum', 'mean']).reset_index()\n",
            "C:\\Users\\Josue Florez\\AppData\\Local\\Temp\\ipykernel_10844\\949150212.py:14: FutureWarning: The default of observed=False is deprecated and will be changed to True in a future version of pandas. Pass observed=False to retain current behavior or observed=True to adopt the future default and silence this warning.\n",
            "  df_grouped = df.groupby(['Year', 'Month','Departamento'])['ValorObservado'].agg(['sum', 'mean']).reset_index()\n",
            "C:\\Users\\Josue Florez\\AppData\\Local\\Temp\\ipykernel_10844\\949150212.py:14: FutureWarning: The default of observed=False is deprecated and will be changed to True in a future version of pandas. Pass observed=False to retain current behavior or observed=True to adopt the future default and silence this warning.\n",
            "  df_grouped = df.groupby(['Year', 'Month','Departamento'])['ValorObservado'].agg(['sum', 'mean']).reset_index()\n",
            "C:\\Users\\Josue Florez\\AppData\\Local\\Temp\\ipykernel_10844\\949150212.py:14: FutureWarning: The default of observed=False is deprecated and will be changed to True in a future version of pandas. Pass observed=False to retain current behavior or observed=True to adopt the future default and silence this warning.\n",
            "  df_grouped = df.groupby(['Year', 'Month','Departamento'])['ValorObservado'].agg(['sum', 'mean']).reset_index()\n",
            "C:\\Users\\Josue Florez\\AppData\\Local\\Temp\\ipykernel_10844\\949150212.py:14: FutureWarning: The default of observed=False is deprecated and will be changed to True in a future version of pandas. Pass observed=False to retain current behavior or observed=True to adopt the future default and silence this warning.\n",
            "  df_grouped = df.groupby(['Year', 'Month','Departamento'])['ValorObservado'].agg(['sum', 'mean']).reset_index()\n",
            "C:\\Users\\Josue Florez\\AppData\\Local\\Temp\\ipykernel_10844\\949150212.py:14: FutureWarning: The default of observed=False is deprecated and will be changed to True in a future version of pandas. Pass observed=False to retain current behavior or observed=True to adopt the future default and silence this warning.\n",
            "  df_grouped = df.groupby(['Year', 'Month','Departamento'])['ValorObservado'].agg(['sum', 'mean']).reset_index()\n",
            "C:\\Users\\Josue Florez\\AppData\\Local\\Temp\\ipykernel_10844\\949150212.py:14: FutureWarning: The default of observed=False is deprecated and will be changed to True in a future version of pandas. Pass observed=False to retain current behavior or observed=True to adopt the future default and silence this warning.\n",
            "  df_grouped = df.groupby(['Year', 'Month','Departamento'])['ValorObservado'].agg(['sum', 'mean']).reset_index()\n",
            "C:\\Users\\Josue Florez\\AppData\\Local\\Temp\\ipykernel_10844\\949150212.py:14: FutureWarning: The default of observed=False is deprecated and will be changed to True in a future version of pandas. Pass observed=False to retain current behavior or observed=True to adopt the future default and silence this warning.\n",
            "  df_grouped = df.groupby(['Year', 'Month','Departamento'])['ValorObservado'].agg(['sum', 'mean']).reset_index()\n",
            "C:\\Users\\Josue Florez\\AppData\\Local\\Temp\\ipykernel_10844\\949150212.py:14: FutureWarning: The default of observed=False is deprecated and will be changed to True in a future version of pandas. Pass observed=False to retain current behavior or observed=True to adopt the future default and silence this warning.\n",
            "  df_grouped = df.groupby(['Year', 'Month','Departamento'])['ValorObservado'].agg(['sum', 'mean']).reset_index()\n",
            "C:\\Users\\Josue Florez\\AppData\\Local\\Temp\\ipykernel_10844\\949150212.py:14: FutureWarning: The default of observed=False is deprecated and will be changed to True in a future version of pandas. Pass observed=False to retain current behavior or observed=True to adopt the future default and silence this warning.\n",
            "  df_grouped = df.groupby(['Year', 'Month','Departamento'])['ValorObservado'].agg(['sum', 'mean']).reset_index()\n",
            "C:\\Users\\Josue Florez\\AppData\\Local\\Temp\\ipykernel_10844\\949150212.py:14: FutureWarning: The default of observed=False is deprecated and will be changed to True in a future version of pandas. Pass observed=False to retain current behavior or observed=True to adopt the future default and silence this warning.\n",
            "  df_grouped = df.groupby(['Year', 'Month','Departamento'])['ValorObservado'].agg(['sum', 'mean']).reset_index()\n",
            "C:\\Users\\Josue Florez\\AppData\\Local\\Temp\\ipykernel_10844\\949150212.py:14: FutureWarning: The default of observed=False is deprecated and will be changed to True in a future version of pandas. Pass observed=False to retain current behavior or observed=True to adopt the future default and silence this warning.\n",
            "  df_grouped = df.groupby(['Year', 'Month','Departamento'])['ValorObservado'].agg(['sum', 'mean']).reset_index()\n",
            "C:\\Users\\Josue Florez\\AppData\\Local\\Temp\\ipykernel_10844\\949150212.py:14: FutureWarning: The default of observed=False is deprecated and will be changed to True in a future version of pandas. Pass observed=False to retain current behavior or observed=True to adopt the future default and silence this warning.\n",
            "  df_grouped = df.groupby(['Year', 'Month','Departamento'])['ValorObservado'].agg(['sum', 'mean']).reset_index()\n",
            "C:\\Users\\Josue Florez\\AppData\\Local\\Temp\\ipykernel_10844\\949150212.py:14: FutureWarning: The default of observed=False is deprecated and will be changed to True in a future version of pandas. Pass observed=False to retain current behavior or observed=True to adopt the future default and silence this warning.\n",
            "  df_grouped = df.groupby(['Year', 'Month','Departamento'])['ValorObservado'].agg(['sum', 'mean']).reset_index()\n",
            "C:\\Users\\Josue Florez\\AppData\\Local\\Temp\\ipykernel_10844\\949150212.py:14: FutureWarning: The default of observed=False is deprecated and will be changed to True in a future version of pandas. Pass observed=False to retain current behavior or observed=True to adopt the future default and silence this warning.\n",
            "  df_grouped = df.groupby(['Year', 'Month','Departamento'])['ValorObservado'].agg(['sum', 'mean']).reset_index()\n",
            "C:\\Users\\Josue Florez\\AppData\\Local\\Temp\\ipykernel_10844\\949150212.py:14: FutureWarning: The default of observed=False is deprecated and will be changed to True in a future version of pandas. Pass observed=False to retain current behavior or observed=True to adopt the future default and silence this warning.\n",
            "  df_grouped = df.groupby(['Year', 'Month','Departamento'])['ValorObservado'].agg(['sum', 'mean']).reset_index()\n",
            "C:\\Users\\Josue Florez\\AppData\\Local\\Temp\\ipykernel_10844\\949150212.py:14: FutureWarning: The default of observed=False is deprecated and will be changed to True in a future version of pandas. Pass observed=False to retain current behavior or observed=True to adopt the future default and silence this warning.\n",
            "  df_grouped = df.groupby(['Year', 'Month','Departamento'])['ValorObservado'].agg(['sum', 'mean']).reset_index()\n",
            "C:\\Users\\Josue Florez\\AppData\\Local\\Temp\\ipykernel_10844\\949150212.py:14: FutureWarning: The default of observed=False is deprecated and will be changed to True in a future version of pandas. Pass observed=False to retain current behavior or observed=True to adopt the future default and silence this warning.\n",
            "  df_grouped = df.groupby(['Year', 'Month','Departamento'])['ValorObservado'].agg(['sum', 'mean']).reset_index()\n",
            "C:\\Users\\Josue Florez\\AppData\\Local\\Temp\\ipykernel_10844\\949150212.py:14: FutureWarning: The default of observed=False is deprecated and will be changed to True in a future version of pandas. Pass observed=False to retain current behavior or observed=True to adopt the future default and silence this warning.\n",
            "  df_grouped = df.groupby(['Year', 'Month','Departamento'])['ValorObservado'].agg(['sum', 'mean']).reset_index()\n",
            "C:\\Users\\Josue Florez\\AppData\\Local\\Temp\\ipykernel_10844\\949150212.py:14: FutureWarning: The default of observed=False is deprecated and will be changed to True in a future version of pandas. Pass observed=False to retain current behavior or observed=True to adopt the future default and silence this warning.\n",
            "  df_grouped = df.groupby(['Year', 'Month','Departamento'])['ValorObservado'].agg(['sum', 'mean']).reset_index()\n",
            "C:\\Users\\Josue Florez\\AppData\\Local\\Temp\\ipykernel_10844\\949150212.py:14: FutureWarning: The default of observed=False is deprecated and will be changed to True in a future version of pandas. Pass observed=False to retain current behavior or observed=True to adopt the future default and silence this warning.\n",
            "  df_grouped = df.groupby(['Year', 'Month','Departamento'])['ValorObservado'].agg(['sum', 'mean']).reset_index()\n",
            "C:\\Users\\Josue Florez\\AppData\\Local\\Temp\\ipykernel_10844\\949150212.py:14: FutureWarning: The default of observed=False is deprecated and will be changed to True in a future version of pandas. Pass observed=False to retain current behavior or observed=True to adopt the future default and silence this warning.\n",
            "  df_grouped = df.groupby(['Year', 'Month','Departamento'])['ValorObservado'].agg(['sum', 'mean']).reset_index()\n",
            "C:\\Users\\Josue Florez\\AppData\\Local\\Temp\\ipykernel_10844\\949150212.py:14: FutureWarning: The default of observed=False is deprecated and will be changed to True in a future version of pandas. Pass observed=False to retain current behavior or observed=True to adopt the future default and silence this warning.\n",
            "  df_grouped = df.groupby(['Year', 'Month','Departamento'])['ValorObservado'].agg(['sum', 'mean']).reset_index()\n"
          ]
        }
      ],
      "source": [
        "resultados_agrupados = {}\n",
        "for file in files:\n",
        "    file_path = os.path.join(folder_path, file)\n",
        "    \n",
        "    df = pd.read_parquet(file_path)\n",
        "    \n",
        "    df['FechaObservacion'] = pd.to_datetime(df['FechaObservacion'], errors='coerce')\n",
        "    \n",
        "    \n",
        "    df['Year'] = df['FechaObservacion'].dt.year\n",
        "    df['Month'] = df['FechaObservacion'].dt.month\n",
        "    \n",
        "    \n",
        "    df_grouped = df.groupby(['Year', 'Month','Departamento'])['ValorObservado'].agg(['sum', 'mean']).reset_index()\n",
        "    \n",
        "    df_grouped.columns = ['Año', 'Mes', 'Departamento','Valor Total', 'Valor Promedio']\n",
        "    \n",
        "    # Guardar los resultados en el diccionario\n",
        "    resultados_agrupados[nombre_ciudad] = df_grouped"
      ]
    },
    {
      "cell_type": "code",
      "execution_count": 39,
      "metadata": {},
      "outputs": [
        {
          "data": {
            "text/html": [
              "<div>\n",
              "<style scoped>\n",
              "    .dataframe tbody tr th:only-of-type {\n",
              "        vertical-align: middle;\n",
              "    }\n",
              "\n",
              "    .dataframe tbody tr th {\n",
              "        vertical-align: top;\n",
              "    }\n",
              "\n",
              "    .dataframe thead th {\n",
              "        text-align: right;\n",
              "    }\n",
              "</style>\n",
              "<table border=\"1\" class=\"dataframe\">\n",
              "  <thead>\n",
              "    <tr style=\"text-align: right;\">\n",
              "      <th></th>\n",
              "      <th>Año</th>\n",
              "      <th>Mes</th>\n",
              "      <th>Departamento</th>\n",
              "      <th>Valor Total</th>\n",
              "      <th>Valor Promedio</th>\n",
              "    </tr>\n",
              "  </thead>\n",
              "  <tbody>\n",
              "    <tr>\n",
              "      <th>0</th>\n",
              "      <td>2017</td>\n",
              "      <td>1</td>\n",
              "      <td>GUAINÍA</td>\n",
              "      <td>0.000000</td>\n",
              "      <td>NaN</td>\n",
              "    </tr>\n",
              "    <tr>\n",
              "      <th>1</th>\n",
              "      <td>2017</td>\n",
              "      <td>2</td>\n",
              "      <td>GUAINÍA</td>\n",
              "      <td>13.400001</td>\n",
              "      <td>0.003826</td>\n",
              "    </tr>\n",
              "    <tr>\n",
              "      <th>2</th>\n",
              "      <td>2017</td>\n",
              "      <td>3</td>\n",
              "      <td>GUAINÍA</td>\n",
              "      <td>104.099998</td>\n",
              "      <td>0.029717</td>\n",
              "    </tr>\n",
              "    <tr>\n",
              "      <th>3</th>\n",
              "      <td>2017</td>\n",
              "      <td>4</td>\n",
              "      <td>GUAINÍA</td>\n",
              "      <td>0.000000</td>\n",
              "      <td>NaN</td>\n",
              "    </tr>\n",
              "    <tr>\n",
              "      <th>4</th>\n",
              "      <td>2017</td>\n",
              "      <td>5</td>\n",
              "      <td>GUAINÍA</td>\n",
              "      <td>0.000000</td>\n",
              "      <td>NaN</td>\n",
              "    </tr>\n",
              "    <tr>\n",
              "      <th>...</th>\n",
              "      <td>...</td>\n",
              "      <td>...</td>\n",
              "      <td>...</td>\n",
              "      <td>...</td>\n",
              "      <td>...</td>\n",
              "    </tr>\n",
              "    <tr>\n",
              "      <th>91</th>\n",
              "      <td>2024</td>\n",
              "      <td>8</td>\n",
              "      <td>GUAINÍA</td>\n",
              "      <td>261.600006</td>\n",
              "      <td>0.058906</td>\n",
              "    </tr>\n",
              "    <tr>\n",
              "      <th>92</th>\n",
              "      <td>2024</td>\n",
              "      <td>9</td>\n",
              "      <td>GUAINÍA</td>\n",
              "      <td>263.100006</td>\n",
              "      <td>0.062287</td>\n",
              "    </tr>\n",
              "    <tr>\n",
              "      <th>93</th>\n",
              "      <td>2024</td>\n",
              "      <td>10</td>\n",
              "      <td>GUAINÍA</td>\n",
              "      <td>68.199997</td>\n",
              "      <td>0.016757</td>\n",
              "    </tr>\n",
              "    <tr>\n",
              "      <th>94</th>\n",
              "      <td>2024</td>\n",
              "      <td>11</td>\n",
              "      <td>GUAINÍA</td>\n",
              "      <td>0.000000</td>\n",
              "      <td>NaN</td>\n",
              "    </tr>\n",
              "    <tr>\n",
              "      <th>95</th>\n",
              "      <td>2024</td>\n",
              "      <td>12</td>\n",
              "      <td>GUAINÍA</td>\n",
              "      <td>0.000000</td>\n",
              "      <td>NaN</td>\n",
              "    </tr>\n",
              "  </tbody>\n",
              "</table>\n",
              "<p>96 rows × 5 columns</p>\n",
              "</div>"
            ],
            "text/plain": [
              "     Año  Mes Departamento  Valor Total  Valor Promedio\n",
              "0   2017    1      GUAINÍA     0.000000             NaN\n",
              "1   2017    2      GUAINÍA    13.400001        0.003826\n",
              "2   2017    3      GUAINÍA   104.099998        0.029717\n",
              "3   2017    4      GUAINÍA     0.000000             NaN\n",
              "4   2017    5      GUAINÍA     0.000000             NaN\n",
              "..   ...  ...          ...          ...             ...\n",
              "91  2024    8      GUAINÍA   261.600006        0.058906\n",
              "92  2024    9      GUAINÍA   263.100006        0.062287\n",
              "93  2024   10      GUAINÍA    68.199997        0.016757\n",
              "94  2024   11      GUAINÍA     0.000000             NaN\n",
              "95  2024   12      GUAINÍA     0.000000             NaN\n",
              "\n",
              "[96 rows x 5 columns]"
            ]
          },
          "execution_count": 39,
          "metadata": {},
          "output_type": "execute_result"
        }
      ],
      "source": [
        "# Llamar al DataFrame de Bogotá\n",
        "df_bogota =  resultados_agrupados[nombre_ciudad]\n",
        "df_bogota\n",
        "\n"
      ]
    },
    {
      "cell_type": "markdown",
      "metadata": {},
      "source": [
        "# EDA Bogota2"
      ]
    },
    {
      "cell_type": "code",
      "execution_count": 11,
      "metadata": {},
      "outputs": [],
      "source": [
        "file_bogota=path+r'\\rain_bogota2.parquet'\n",
        "df_bogota = pd.read_parquet(file_bogota)"
      ]
    },
    {
      "cell_type": "code",
      "execution_count": null,
      "metadata": {},
      "outputs": [],
      "source": [
        "df_bogota.describe()"
      ]
    },
    {
      "cell_type": "code",
      "execution_count": null,
      "metadata": {},
      "outputs": [],
      "source": [
        "df_bogota.describe(include=['category'])"
      ]
    },
    {
      "cell_type": "code",
      "execution_count": null,
      "metadata": {},
      "outputs": [],
      "source": [
        "\n",
        "print(df_bogota['Departamento'].value_counts())\n",
        "print(df_bogota['NombreEstacion'].value_counts())\n"
      ]
    },
    {
      "cell_type": "code",
      "execution_count": null,
      "metadata": {},
      "outputs": [],
      "source": [
        "df_bogota['Year'] = df_bogota['FechaObservacion'].dt.year\n",
        "df_bogota['Month'] = df_bogota['FechaObservacion'].dt.month\n",
        "year_total = (\n",
        "    df_bogota\n",
        "    .groupby([\"Year\"])[\"ValorObservado\"]\n",
        "    .sum()\n",
        "    .reset_index()\n",
        ")\n",
        "year_total"
      ]
    },
    {
      "cell_type": "code",
      "execution_count": null,
      "metadata": {},
      "outputs": [],
      "source": [
        "year_mean = (\n",
        "    df_bogota\n",
        "    .groupby([\"Year\"])[\"ValorObservado\"]\n",
        "    .mean()\n",
        "    .reset_index()\n",
        ")\n",
        "year_mean"
      ]
    },
    {
      "cell_type": "code",
      "execution_count": null,
      "metadata": {},
      "outputs": [],
      "source": [
        "fig = make_subplots(rows=1, cols=1\n",
        "                    #  , row_heights =[0.7, 0.3]\n",
        "                    # , shared_xaxes = True\n",
        "                    ,subplot_titles = ['Año'])\n",
        "fig.add_trace(\n",
        "    go.Scatter(x=year_total[\"Year\"], y = year_total[\"ValorObservado\"]\n",
        "               , mode='lines+markers' # selcciona una combinación entre líneas y puntos\n",
        "               , name = \"Observado\"\n",
        "               ,legendgroup = '1'\n",
        "               ),\n",
        ")"
      ]
    },
    {
      "cell_type": "code",
      "execution_count": null,
      "metadata": {},
      "outputs": [],
      "source": [
        "month_total = (\n",
        "    df_bogota\n",
        "    .groupby([\"Month\"])[\"ValorObservado\"]\n",
        "    .sum()\n",
        "    .reset_index()\n",
        ")\n",
        "month_total"
      ]
    },
    {
      "cell_type": "code",
      "execution_count": null,
      "metadata": {},
      "outputs": [],
      "source": [
        "fig = make_subplots(rows=1, cols=1\n",
        "                    #  , row_heights =[0.7, 0.3]\n",
        "                    # , shared_xaxes = True\n",
        "                    ,subplot_titles = ['Meses'])\n",
        "fig.add_trace(\n",
        "    go.Scatter(x=month_total[\"Month\"], y = month_total[\"ValorObservado\"]\n",
        "               , mode='lines+markers' # selcciona una combinación entre líneas y puntos\n",
        "               , name = \"Observado\"\n",
        "               ,legendgroup = '1'\n",
        "               ),\n",
        ")"
      ]
    },
    {
      "cell_type": "code",
      "execution_count": null,
      "metadata": {},
      "outputs": [],
      "source": [
        "df_bogota['Year'] = df_bogota['FechaObservacion'].dt.year\n",
        "df_bogota['Month'] = df_bogota['FechaObservacion'].dt.month\n",
        "df_grouped = df_bogota.groupby(['Year', 'Month'])['ValorObservado'].agg(['sum', 'mean']).reset_index()\n",
        "\n",
        "df_grouped.columns = ['Year', 'Month', 'Valor Total', 'Valor Promedio']\n",
        "\n",
        "df_grouped"
      ]
    },
    {
      "cell_type": "code",
      "execution_count": null,
      "metadata": {},
      "outputs": [],
      "source": [
        "df_grouped.max()"
      ]
    },
    {
      "cell_type": "code",
      "execution_count": null,
      "metadata": {},
      "outputs": [],
      "source": [
        "plt.figure(figsize=(12, 6))\n",
        "sns.lineplot(x='Month', y='Valor Total', data=df_grouped, marker='o')\n",
        "plt.title('Distribución del Valor Total Observado por Mes')\n",
        "plt.xlabel('Mes')\n",
        "plt.ylabel('Valor Total')\n",
        "plt.show()"
      ]
    },
    {
      "cell_type": "code",
      "execution_count": null,
      "metadata": {},
      "outputs": [],
      "source": [
        "plt.figure(figsize=(12, 6))\n",
        "sns.lineplot(x='Month', y='Valor Promedio', data=df_grouped, marker='o')\n",
        "plt.title('Distribución del Valor Promedio Observado por Mes')\n",
        "plt.xlabel('Mes')\n",
        "plt.ylabel('Valor Promedio')\n",
        "plt.show()"
      ]
    },
    {
      "cell_type": "code",
      "execution_count": null,
      "metadata": {},
      "outputs": [],
      "source": [
        "plt.figure(figsize=(12, 6))\n",
        "sns.barplot(x='Year', y='Valor Total', data=df_grouped, palette='Blues_d')\n",
        "plt.title('Distribución del Valor Total Observado por Año')\n",
        "plt.xlabel('Año')\n",
        "plt.ylabel('Valor Total')\n",
        "plt.show()"
      ]
    },
    {
      "cell_type": "code",
      "execution_count": null,
      "metadata": {},
      "outputs": [],
      "source": [
        "plt.figure(figsize=(12, 6))\n",
        "sns.barplot(x='Year', y='Valor Promedio', data=df_grouped)\n",
        "plt.title('Distribución del Valor Promedio Observado por Año')\n",
        "plt.xlabel('Año')\n",
        "plt.ylabel('Valor Promedio')\n",
        "plt.show()"
      ]
    },
    {
      "cell_type": "code",
      "execution_count": null,
      "metadata": {},
      "outputs": [],
      "source": [
        "df_pivot = df_grouped.pivot(index='Year', columns='Month', values='Valor Total')\n",
        "\n",
        "# Heatmap para visualizar el valor total observado por año y mes\n",
        "plt.figure(figsize=(12, 6))\n",
        "sns.heatmap(df_pivot, cmap='coolwarm',annot=True,fmt='.0f')\n",
        "plt.title('Distribución del Valor Total Observado por Año y Mes')\n",
        "plt.show()"
      ]
    },
    {
      "cell_type": "code",
      "execution_count": null,
      "metadata": {},
      "outputs": [],
      "source": [
        "df_grouped = df_bogota.groupby(['Year', 'Month','Latitud','Longitud'])['ValorObservado'].agg(['sum', 'mean']).reset_index()\n",
        "\n",
        "df_grouped.columns = ['Year', 'Month','Latitud','Longitud', 'Valor Total', 'Valor Promedio']\n",
        "\n",
        "df_grouped"
      ]
    },
    {
      "cell_type": "code",
      "execution_count": null,
      "metadata": {},
      "outputs": [],
      "source": [
        "plt.figure(figsize=(10, 6))\n",
        "sns.scatterplot(x='Latitud', y='Longitud', hue='Valor Total', data=df_grouped, palette='coolwarm')\n",
        "plt.title('Distribución geográfica de Valor Observado')\n",
        "plt.show"
      ]
    },
    {
      "cell_type": "code",
      "execution_count": null,
      "metadata": {},
      "outputs": [],
      "source": []
    },
    {
      "cell_type": "markdown",
      "metadata": {},
      "source": [
        "## 23 últimos archivos de precipitación"
      ]
    },
    {
      "cell_type": "markdown",
      "metadata": {},
      "source": [
        "Lista de archivos:"
      ]
    },
    {
      "cell_type": "code",
      "execution_count": null,
      "metadata": {},
      "outputs": [],
      "source": [
        "namesFiles = os.listdir(path+r'\\CleanDatasets')[23:-1]\n",
        "print(namesFiles)"
      ]
    },
    {
      "cell_type": "markdown",
      "metadata": {},
      "source": [
        "### Dimensionalidad de los dataset"
      ]
    },
    {
      "cell_type": "code",
      "execution_count": null,
      "metadata": {},
      "outputs": [],
      "source": [
        "dim = pd.DataFrame(columns=['File','Rows','Columns','Size','Nulls'])\n",
        "\n",
        "for i in namesFiles:\n",
        "    path_file = path + '\\\\CleanDatasets\\\\' + i\n",
        "    df_dept2 = pd.read_parquet(\n",
        "                                path_file\n",
        "                            )\n",
        "    row = pd.DataFrame({'File':[i],'Rows':[df_dept2.shape[0]],'Columns':[df_dept2.shape[1]],'Size':[df_dept2.size],'Nulls':[df_dept2.size-df_dept2.count().sum()]})\n",
        "    dim = pd.concat([dim,row], ignore_index=True)\n",
        "\n",
        "dim"
      ]
    },
    {
      "cell_type": "markdown",
      "metadata": {},
      "source": [
        "Tipos de datos"
      ]
    },
    {
      "cell_type": "code",
      "execution_count": null,
      "metadata": {},
      "outputs": [],
      "source": [
        "for i in namesFiles:\n",
        "    path_file = path + '\\\\CleanDatasets\\\\' + i\n",
        "    df_dept2 = pd.read_parquet(\n",
        "                                path_file\n",
        "                            )\n",
        "    columns = df_dept2.dtypes.to_dict()\n",
        "    row = pd.DataFrame(columns, index=)\n",
        "    dim = pd.concat([dim,row], ignore_index=True)\n",
        "\n",
        "types"
      ]
    },
    {
      "cell_type": "code",
      "execution_count": null,
      "metadata": {},
      "outputs": [],
      "source": [
        "df_dept2.dtypes.to_dict()"
      ]
    }
  ],
  "metadata": {
    "colab": {
      "include_colab_link": true,
      "provenance": []
    },
    "kernelspec": {
      "display_name": "base",
      "language": "python",
      "name": "python3"
    },
    "language_info": {
      "codemirror_mode": {
        "name": "ipython",
        "version": 3
      },
      "file_extension": ".py",
      "mimetype": "text/x-python",
      "name": "python",
      "nbconvert_exporter": "python",
      "pygments_lexer": "ipython3",
      "version": "3.12.4"
    }
  },
  "nbformat": 4,
  "nbformat_minor": 0
}
