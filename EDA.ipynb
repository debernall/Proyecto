{
 "cells": [
  {
   "cell_type": "markdown",
   "metadata": {},
   "source": [
    "# Análisis exploratorio de datos"
   ]
  },
  {
   "cell_type": "markdown",
   "metadata": {},
   "source": [
    "## Importación de librerías"
   ]
  },
  {
   "cell_type": "code",
   "execution_count": 10,
   "metadata": {},
   "outputs": [],
   "source": [
    "import numpy as np\n",
    "import matplotlib.pyplot as plt\n",
    "import seaborn as sns\n",
    "import pandas as pd\n",
    "import re\n",
    "import os\n",
    "import plotly.express as pex\n",
    "from plotly.subplots import make_subplots\n",
    "import plotly.graph_objects as go"
   ]
  },
  {
   "cell_type": "markdown",
   "metadata": {},
   "source": [
    "## Preliminar"
   ]
  },
  {
   "cell_type": "code",
   "execution_count": null,
   "metadata": {},
   "outputs": [],
   "source": [
    "\n",
    "path_file = r'C:\\Users\\danie\\OneDrive\\Documents\\Bootcamp_Proyecto\\stations.parquet' \n",
    "Sta = pd.read_parquet(path_file)\n",
    "Sta\n",
    "path_file = r'C:\\Users\\danie\\OneDrive\\Documents\\Bootcamp_Proyecto\\rain.parquet' \n",
    "Rain = pd.read_parquet(path_file)\n",
    "Rain = Rain.sort_values(['Sta','Date'])\n",
    "Rain\n"
   ]
  },
  {
   "cell_type": "code",
   "execution_count": 9,
   "metadata": {},
   "outputs": [],
   "source": [
    "#Obtener un df donde cada columna muestre la info de los deptos\n",
    "\n",
    "fecha_columna = 'FechaObservacion' "
   ]
  },
  {
   "cell_type": "code",
   "execution_count": null,
   "metadata": {},
   "outputs": [],
   "source": [
    "for file in files:\n",
    "    file_path = os.path.join(folder_path, file)\n",
    "\n",
    "    df = pd.read_parquet(file_path)\n",
    "    \n",
    "    rows, cols = df.shape\n",
    "    \n",
    "    if fecha_columna in df.columns:\n",
    "       \n",
    "        df[fecha_columna] = pd.to_datetime(df[fecha_columna], errors='coerce')\n",
    "\n",
    "       \n",
    "        fecha_minima = df[fecha_columna].min()\n",
    "        fecha_maxima = df[fecha_columna].max()\n",
    "        \n",
    "        print(f\"Archivo: {file} - Filas: {rows}, Columnas: {cols}\")\n",
    "        print(f\"Fecha mínima: {fecha_minima}\")\n",
    "        print(f\"Fecha máxima: {fecha_maxima}\\n\")\n",
    "    else:\n",
    "        print(f\"Archivo: {file} - No se encontró la columna '{fecha_columna}'\\n\")\n",
    "\n",
    "dataframes = {}\n"
   ]
  },
  {
   "cell_type": "code",
   "execution_count": null,
   "metadata": {},
   "outputs": [],
   "source": [
    "\n",
    "for file in files:\n",
    "    file_path = os.path.join(folder_path, file)\n",
    "    \n",
    "    df = pd.read_parquet(file_path)\n",
    "    \n",
    "    nombre_ciudad = file.split('_')[0]  # Extraer el nombre de la ciudad del nombre del archivo\n",
    "    dataframes[nombre_ciudad] = df\n",
    "dataframes={}\n"
   ]
  },
  {
   "cell_type": "code",
   "execution_count": null,
   "metadata": {},
   "outputs": [],
   "source": [
    "resultados_agrupados = {}\n",
    "for file in files:\n",
    "    file_path = os.path.join(folder_path, file)\n",
    "    \n",
    "    df = pd.read_parquet(file_path)\n",
    "    \n",
    "    df['FechaObservacion'] = pd.to_datetime(df['FechaObservacion'], errors='coerce')\n",
    "    \n",
    "    \n",
    "    df['Year'] = df['FechaObservacion'].dt.year\n",
    "    df['Month'] = df['FechaObservacion'].dt.month\n",
    "    \n",
    "    \n",
    "    df_grouped = df.groupby(['Year', 'Month','Departamento'], observed=False)['ValorObservado'].agg(['sum', 'mean']).reset_index()\n",
    "    \n",
    "    df_grouped.columns = ['Año', 'Mes', 'Departamento','Valor Total', 'Valor Promedio']\n",
    "    \n",
    "    # Guardar los resultados en el diccionario\n",
    "    resultados_agrupados[nombre_ciudad] = df_grouped\n"
   ]
  },
  {
   "cell_type": "code",
   "execution_count": null,
   "metadata": {},
   "outputs": [],
   "source": [
    "# Llamar al DataFrame de Bogotá\n",
    "df_bogota =  resultados_agrupados[nombre_ciudad]\n",
    "df_bogota"
   ]
  },
  {
   "cell_type": "code",
   "execution_count": null,
   "metadata": {},
   "outputs": [],
   "source": [
    "### 1\n",
    "\n",
    "df_part1 = pd.DataFrame()\n",
    "for i in namesFiles:\n",
    "    path_file = path + '\\\\' + i\n",
    "    df_dept2 = pd.read_parquet(\n",
    "                                path_file\n",
    "                            )\n",
    "    df_part2 = pd.concat([df_part2,df_dept2], ignore_index=True)\n",
    "    del df_dept2\n",
    "\n",
    "df_part1"
   ]
  },
  {
   "cell_type": "code",
   "execution_count": null,
   "metadata": {},
   "outputs": [],
   "source": [
    "### EDA Bogota2\n",
    "file_bogota=path+r'\\rain_bogota2.parquet'\n",
    "df_bogota = pd.read_parquet(file_bogota)\n",
    "df_bogota.describe()\n",
    "df_bogota.describe(include=['category'])\n",
    "\n",
    "print(df_bogota['Departamento'].value_counts())\n",
    "print(df_bogota['NombreEstacion'].value_counts())"
   ]
  },
  {
   "cell_type": "code",
   "execution_count": null,
   "metadata": {},
   "outputs": [],
   "source": [
    "\n",
    "df_bogota['Year'] = df_bogota['FechaObservacion'].dt.year\n",
    "df_bogota['Month'] = df_bogota['FechaObservacion'].dt.month"
   ]
  },
  {
   "cell_type": "code",
   "execution_count": null,
   "metadata": {},
   "outputs": [],
   "source": [
    "year_total = (\n",
    "    df_bogota\n",
    "    .groupby([\"Year\"])[\"ValorObservado\"]\n",
    "    .sum()\n",
    "    .reset_index()\n",
    ")\n",
    "year_total\n",
    "year_mean = (\n",
    "    df_bogota\n",
    "    .groupby([\"Year\"])[\"ValorObservado\"]\n",
    "    .mean()\n",
    "    .reset_index()\n",
    ")\n",
    "year_mean"
   ]
  },
  {
   "cell_type": "code",
   "execution_count": null,
   "metadata": {},
   "outputs": [],
   "source": [
    "fig = make_subplots(rows=1, cols=1\n",
    "                    #  , row_heights =[0.7, 0.3]\n",
    "                    # , shared_xaxes = True\n",
    "                    ,subplot_titles = ['Año'])\n",
    "fig.add_trace(\n",
    "    go.Scatter(x=year_total[\"Year\"], y = year_total[\"ValorObservado\"]\n",
    "               , mode='lines+markers' # selcciona una combinación entre líneas y puntos\n",
    "               , name = \"Observado\"\n",
    "               ,legendgroup = '1'\n",
    "               ),\n",
    ")"
   ]
  },
  {
   "cell_type": "code",
   "execution_count": null,
   "metadata": {},
   "outputs": [],
   "source": [
    "month_total = (\n",
    "    df_bogota\n",
    "    .groupby([\"Month\"])[\"ValorObservado\"]\n",
    "    .sum()\n",
    "    .reset_index()\n",
    ")\n",
    "month_total\n",
    "fig = make_subplots(rows=1, cols=1\n",
    "                    #  , row_heights =[0.7, 0.3]\n",
    "                    # , shared_xaxes = True\n",
    "                    ,subplot_titles = ['Meses'])\n",
    "fig.add_trace(\n",
    "    go.Scatter(x=month_total[\"Month\"], y = month_total[\"ValorObservado\"]\n",
    "               , mode='lines+markers' # selcciona una combinación entre líneas y puntos\n",
    "               , name = \"Observado\"\n",
    "               ,legendgroup = '1'\n",
    "               ),\n",
    ")\n"
   ]
  },
  {
   "cell_type": "code",
   "execution_count": null,
   "metadata": {},
   "outputs": [],
   "source": [
    "df_bogota['Year'] = df_bogota['FechaObservacion'].dt.year\n",
    "df_bogota['Month'] = df_bogota['FechaObservacion'].dt.month\n",
    "df_grouped = df_bogota.groupby(['Year', 'Month'])['ValorObservado'].agg(['sum', 'mean']).reset_index()\n",
    "\n",
    "df_grouped.columns = ['Year', 'Month', 'Valor Total', 'Valor Promedio']\n",
    "\n",
    "df_grouped\n",
    "df_grouped.max()\n"
   ]
  },
  {
   "cell_type": "code",
   "execution_count": null,
   "metadata": {},
   "outputs": [],
   "source": [
    "plt.figure(figsize=(12, 6))\n",
    "sns.lineplot(x='Month', y='Valor Total', data=df_grouped, marker='o')\n",
    "plt.title('Distribución del Valor Total Observado por Mes')\n",
    "plt.xlabel('Mes')\n",
    "plt.ylabel('Valor Total')\n",
    "plt.show()\n",
    "plt.figure(figsize=(12, 6))\n",
    "sns.lineplot(x='Month', y='Valor Promedio', data=df_grouped, marker='o')\n",
    "plt.title('Distribución del Valor Promedio Observado por Mes')\n",
    "plt.xlabel('Mes')\n",
    "plt.ylabel('Valor Promedio')\n",
    "plt.show()\n",
    "plt.figure(figsize=(12, 6))\n",
    "sns.barplot(x='Year', y='Valor Total', data=df_grouped, palette='Blues_d')\n",
    "plt.title('Distribución del Valor Total Observado por Año')\n",
    "plt.xlabel('Año')\n",
    "plt.ylabel('Valor Total')\n",
    "plt.show()\n",
    "plt.figure(figsize=(12, 6))\n",
    "sns.barplot(x='Year', y='Valor Promedio', data=df_grouped)\n",
    "plt.title('Distribución del Valor Promedio Observado por Año')\n",
    "plt.xlabel('Año')\n",
    "plt.ylabel('Valor Promedio')\n",
    "plt.show()\n"
   ]
  },
  {
   "cell_type": "code",
   "execution_count": null,
   "metadata": {},
   "outputs": [],
   "source": [
    "df_pivot = df_grouped.pivot(index='Year', columns='Month', values='Valor Total')\n"
   ]
  },
  {
   "cell_type": "code",
   "execution_count": null,
   "metadata": {},
   "outputs": [],
   "source": [
    "\n",
    "# Heatmap para visualizar el valor total observado por año y mes\n",
    "plt.figure(figsize=(12, 6))\n",
    "sns.heatmap(df_pivot, cmap='coolwarm',annot=True,fmt='.0f')\n",
    "plt.title('Distribución del Valor Total Observado por Año y Mes')\n",
    "plt.show()\n"
   ]
  },
  {
   "cell_type": "code",
   "execution_count": null,
   "metadata": {},
   "outputs": [],
   "source": [
    "df_grouped = df_bogota.groupby(['Year', 'Month','Latitud','Longitud'])['ValorObservado'].agg(['sum', 'mean']).reset_index()\n",
    "\n",
    "df_grouped.columns = ['Year', 'Month','Latitud','Longitud', 'Valor Total', 'Valor Promedio']\n",
    "\n",
    "df_grouped\n",
    "plt.figure(figsize=(10, 6))\n",
    "sns.scatterplot(x='Latitud', y='Longitud', hue='Valor Total', data=df_grouped, palette='coolwarm')\n",
    "plt.title('Distribución geográfica de Valor Observado')\n",
    "plt.show\n",
    "\n",
    "### 23 últimos\n",
    "\n",
    "Cantidad de estaciones\n",
    "X = Rain.loc[Rain['Sta']==0, 'Date'].values\n",
    "Y = Rain.loc[Rain['Sta']==0, 'Rain'].values\n",
    "\n",
    "plt.plot(X,Y)\n",
    "plt.show()"
   ]
  },
  {
   "cell_type": "markdown",
   "metadata": {},
   "source": [
    "## Exploratory Analysis"
   ]
  },
  {
   "cell_type": "code",
   "execution_count": null,
   "metadata": {},
   "outputs": [],
   "source": [
    "#path_file=r\"daniel...\\Data\\CleanDatasets3 - Merged\""
   ]
  },
  {
   "cell_type": "code",
   "execution_count": 20,
   "metadata": {},
   "outputs": [],
   "source": [
    "path_file=r\"C:\\Users\\Josue Florez\\Documents\\Maria Angelica\\Proyectos\\Proyecto_bootcamp\\Data\\CleanDatasets3 - Merged\\rain.parquet\""
   ]
  },
  {
   "cell_type": "code",
   "execution_count": 21,
   "metadata": {},
   "outputs": [],
   "source": [
    "df_rain=pd.read_parquet(path_file)"
   ]
  },
  {
   "cell_type": "code",
   "execution_count": 29,
   "metadata": {},
   "outputs": [
    {
     "data": {
      "text/plain": [
       "(199781152, 4)"
      ]
     },
     "execution_count": 29,
     "metadata": {},
     "output_type": "execute_result"
    }
   ],
   "source": [
    "df_rain.shape"
   ]
  }
 ],
 "metadata": {
  "kernelspec": {
   "display_name": "base",
   "language": "python",
   "name": "python3"
  },
  "language_info": {
   "codemirror_mode": {
    "name": "ipython",
    "version": 3
   },
   "file_extension": ".py",
   "mimetype": "text/x-python",
   "name": "python",
   "nbconvert_exporter": "python",
   "pygments_lexer": "ipython3",
   "version": "3.12.4"
  }
 },
 "nbformat": 4,
 "nbformat_minor": 2
}
