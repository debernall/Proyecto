{
 "cells": [
  {
   "cell_type": "markdown",
   "metadata": {},
   "source": [
    "# Análisis exploratorio de datos"
   ]
  },
  {
   "cell_type": "markdown",
   "metadata": {},
   "source": [
    "## Importación de librerías"
   ]
  },
  {
   "cell_type": "code",
   "execution_count": 10,
   "metadata": {},
   "outputs": [],
   "source": [
    "import numpy as np\n",
    "import matplotlib.pyplot as plt\n",
    "import seaborn as sns\n",
    "import pandas as pd\n",
    "import re\n",
    "import os\n",
    "import plotly.express as pex\n",
    "from plotly.subplots import make_subplots\n",
    "import plotly.graph_objects as go"
   ]
  },
  {
   "cell_type": "markdown",
   "metadata": {},
   "source": [
    "## Preliminar"
   ]
  },
  {
   "cell_type": "code",
   "execution_count": null,
   "metadata": {},
   "outputs": [],
   "source": [
    "\n",
    "path_file = r'C:\\Users\\danie\\OneDrive\\Documents\\Bootcamp_Proyecto\\stations.parquet' \n",
    "Sta = pd.read_parquet(path_file)\n",
    "Sta\n",
    "path_file = r'C:\\Users\\danie\\OneDrive\\Documents\\Bootcamp_Proyecto\\rain.parquet' \n",
    "Rain = pd.read_parquet(path_file)\n",
    "Rain = Rain.sort_values(['Sta','Date'])\n",
    "Rain\n"
   ]
  },
  {
   "cell_type": "code",
   "execution_count": 9,
   "metadata": {},
   "outputs": [],
   "source": [
    "#Obtener un df donde cada columna muestre la info de los deptos\n",
    "\n",
    "fecha_columna = 'FechaObservacion' "
   ]
  },
  {
   "cell_type": "code",
   "execution_count": null,
   "metadata": {},
   "outputs": [],
   "source": [
    "for file in files:\n",
    "    file_path = os.path.join(folder_path, file)\n",
    "\n",
    "    df = pd.read_parquet(file_path)\n",
    "    \n",
    "    rows, cols = df.shape\n",
    "    \n",
    "    if fecha_columna in df.columns:\n",
    "       \n",
    "        df[fecha_columna] = pd.to_datetime(df[fecha_columna], errors='coerce')\n",
    "\n",
    "       \n",
    "        fecha_minima = df[fecha_columna].min()\n",
    "        fecha_maxima = df[fecha_columna].max()\n",
    "        \n",
    "        print(f\"Archivo: {file} - Filas: {rows}, Columnas: {cols}\")\n",
    "        print(f\"Fecha mínima: {fecha_minima}\")\n",
    "        print(f\"Fecha máxima: {fecha_maxima}\\n\")\n",
    "    else:\n",
    "        print(f\"Archivo: {file} - No se encontró la columna '{fecha_columna}'\\n\")\n",
    "\n",
    "dataframes = {}\n"
   ]
  },
  {
   "cell_type": "code",
   "execution_count": null,
   "metadata": {},
   "outputs": [],
   "source": [
    "\n",
    "for file in files:\n",
    "    file_path = os.path.join(folder_path, file)\n",
    "    \n",
    "    df = pd.read_parquet(file_path)\n",
    "    \n",
    "    nombre_ciudad = file.split('_')[0]  # Extraer el nombre de la ciudad del nombre del archivo\n",
    "    dataframes[nombre_ciudad] = df\n",
    "dataframes={}\n"
   ]
  },
  {
   "cell_type": "code",
   "execution_count": null,
   "metadata": {},
   "outputs": [],
   "source": [
    "resultados_agrupados = {}\n",
    "for file in files:\n",
    "    file_path = os.path.join(folder_path, file)\n",
    "    \n",
    "    df = pd.read_parquet(file_path)\n",
    "    \n",
    "    df['FechaObservacion'] = pd.to_datetime(df['FechaObservacion'], errors='coerce')\n",
    "    \n",
    "    \n",
    "    df['Year'] = df['FechaObservacion'].dt.year\n",
    "    df['Month'] = df['FechaObservacion'].dt.month\n",
    "    \n",
    "    \n",
    "    df_grouped = df.groupby(['Year', 'Month','Departamento'], observed=False)['ValorObservado'].agg(['sum', 'mean']).reset_index()\n",
    "    \n",
    "    df_grouped.columns = ['Año', 'Mes', 'Departamento','Valor Total', 'Valor Promedio']\n",
    "    \n",
    "    # Guardar los resultados en el diccionario\n",
    "    resultados_agrupados[nombre_ciudad] = df_grouped\n"
   ]
  },
  {
   "cell_type": "code",
   "execution_count": null,
   "metadata": {},
   "outputs": [],
   "source": [
    "# Llamar al DataFrame de Bogotá\n",
    "df_bogota =  resultados_agrupados[nombre_ciudad]\n",
    "df_bogota"
   ]
  },
  {
   "cell_type": "code",
   "execution_count": null,
   "metadata": {},
   "outputs": [],
   "source": [
    "### 1\n",
    "\n",
    "df_part1 = pd.DataFrame()\n",
    "for i in namesFiles:\n",
    "    path_file = path + '\\\\' + i\n",
    "    df_dept2 = pd.read_parquet(\n",
    "                                path_file\n",
    "                            )\n",
    "    df_part2 = pd.concat([df_part2,df_dept2], ignore_index=True)\n",
    "    del df_dept2\n",
    "\n",
    "df_part1"
   ]
  },
  {
   "cell_type": "code",
   "execution_count": null,
   "metadata": {},
   "outputs": [],
   "source": [
    "### EDA Bogota2\n",
    "file_bogota=path+r'\\rain_bogota2.parquet'\n",
    "df_bogota = pd.read_parquet(file_bogota)\n",
    "df_bogota.describe()\n",
    "df_bogota.describe(include=['category'])\n",
    "\n",
    "print(df_bogota['Departamento'].value_counts())\n",
    "print(df_bogota['NombreEstacion'].value_counts())"
   ]
  },
  {
   "cell_type": "code",
   "execution_count": null,
   "metadata": {},
   "outputs": [],
   "source": [
    "\n",
    "df_bogota['Year'] = df_bogota['FechaObservacion'].dt.year\n",
    "df_bogota['Month'] = df_bogota['FechaObservacion'].dt.month"
   ]
  },
  {
   "cell_type": "code",
   "execution_count": null,
   "metadata": {},
   "outputs": [],
   "source": [
    "year_total = (\n",
    "    df_bogota\n",
    "    .groupby([\"Year\"])[\"ValorObservado\"]\n",
    "    .sum()\n",
    "    .reset_index()\n",
    ")\n",
    "year_total\n",
    "year_mean = (\n",
    "    df_bogota\n",
    "    .groupby([\"Year\"])[\"ValorObservado\"]\n",
    "    .mean()\n",
    "    .reset_index()\n",
    ")\n",
    "year_mean"
   ]
  },
  {
   "cell_type": "code",
   "execution_count": null,
   "metadata": {},
   "outputs": [],
   "source": [
    "fig = make_subplots(rows=1, cols=1\n",
    "                    #  , row_heights =[0.7, 0.3]\n",
    "                    # , shared_xaxes = True\n",
    "                    ,subplot_titles = ['Año'])\n",
    "fig.add_trace(\n",
    "    go.Scatter(x=year_total[\"Year\"], y = year_total[\"ValorObservado\"]\n",
    "               , mode='lines+markers' # selcciona una combinación entre líneas y puntos\n",
    "               , name = \"Observado\"\n",
    "               ,legendgroup = '1'\n",
    "               ),\n",
    ")"
   ]
  },
  {
   "cell_type": "code",
   "execution_count": null,
   "metadata": {},
   "outputs": [],
   "source": [
    "month_total = (\n",
    "    df_bogota\n",
    "    .groupby([\"Month\"])[\"ValorObservado\"]\n",
    "    .sum()\n",
    "    .reset_index()\n",
    ")\n",
    "month_total\n",
    "fig = make_subplots(rows=1, cols=1\n",
    "                    #  , row_heights =[0.7, 0.3]\n",
    "                    # , shared_xaxes = True\n",
    "                    ,subplot_titles = ['Meses'])\n",
    "fig.add_trace(\n",
    "    go.Scatter(x=month_total[\"Month\"], y = month_total[\"ValorObservado\"]\n",
    "               , mode='lines+markers' # selcciona una combinación entre líneas y puntos\n",
    "               , name = \"Observado\"\n",
    "               ,legendgroup = '1'\n",
    "               ),\n",
    ")\n"
   ]
  },
  {
   "cell_type": "code",
   "execution_count": null,
   "metadata": {},
   "outputs": [],
   "source": [
    "df_bogota['Year'] = df_bogota['FechaObservacion'].dt.year\n",
    "df_bogota['Month'] = df_bogota['FechaObservacion'].dt.month\n",
    "df_grouped = df_bogota.groupby(['Year', 'Month'])['ValorObservado'].agg(['sum', 'mean']).reset_index()\n",
    "\n",
    "df_grouped.columns = ['Year', 'Month', 'Valor Total', 'Valor Promedio']\n",
    "\n",
    "df_grouped\n",
    "df_grouped.max()\n"
   ]
  },
  {
   "cell_type": "code",
   "execution_count": null,
   "metadata": {},
   "outputs": [],
   "source": [
    "plt.figure(figsize=(12, 6))\n",
    "sns.lineplot(x='Month', y='Valor Total', data=df_grouped, marker='o')\n",
    "plt.title('Distribución del Valor Total Observado por Mes')\n",
    "plt.xlabel('Mes')\n",
    "plt.ylabel('Valor Total')\n",
    "plt.show()\n",
    "plt.figure(figsize=(12, 6))\n",
    "sns.lineplot(x='Month', y='Valor Promedio', data=df_grouped, marker='o')\n",
    "plt.title('Distribución del Valor Promedio Observado por Mes')\n",
    "plt.xlabel('Mes')\n",
    "plt.ylabel('Valor Promedio')\n",
    "plt.show()\n",
    "plt.figure(figsize=(12, 6))\n",
    "sns.barplot(x='Year', y='Valor Total', data=df_grouped, palette='Blues_d')\n",
    "plt.title('Distribución del Valor Total Observado por Año')\n",
    "plt.xlabel('Año')\n",
    "plt.ylabel('Valor Total')\n",
    "plt.show()\n",
    "plt.figure(figsize=(12, 6))\n",
    "sns.barplot(x='Year', y='Valor Promedio', data=df_grouped)\n",
    "plt.title('Distribución del Valor Promedio Observado por Año')\n",
    "plt.xlabel('Año')\n",
    "plt.ylabel('Valor Promedio')\n",
    "plt.show()\n"
   ]
  },
  {
   "cell_type": "code",
   "execution_count": null,
   "metadata": {},
   "outputs": [],
   "source": [
    "df_pivot = df_grouped.pivot(index='Year', columns='Month', values='Valor Total')\n"
   ]
  },
  {
   "cell_type": "code",
   "execution_count": null,
   "metadata": {},
   "outputs": [],
   "source": [
    "\n",
    "# Heatmap para visualizar el valor total observado por año y mes\n",
    "plt.figure(figsize=(12, 6))\n",
    "sns.heatmap(df_pivot, cmap='coolwarm',annot=True,fmt='.0f')\n",
    "plt.title('Distribución del Valor Total Observado por Año y Mes')\n",
    "plt.show()\n"
   ]
  },
  {
   "cell_type": "code",
   "execution_count": null,
   "metadata": {},
   "outputs": [],
   "source": [
    "df_grouped = df_bogota.groupby(['Year', 'Month','Latitud','Longitud'])['ValorObservado'].agg(['sum', 'mean']).reset_index()\n",
    "\n",
    "df_grouped.columns = ['Year', 'Month','Latitud','Longitud', 'Valor Total', 'Valor Promedio']\n",
    "\n",
    "df_grouped\n",
    "plt.figure(figsize=(10, 6))\n",
    "sns.scatterplot(x='Latitud', y='Longitud', hue='Valor Total', data=df_grouped, palette='coolwarm')\n",
    "plt.title('Distribución geográfica de Valor Observado')\n",
    "plt.show\n",
    "\n",
    "### 23 últimos\n",
    "\n",
    "Cantidad de estaciones\n",
    "X = Rain.loc[Rain['Sta']==0, 'Date'].values\n",
    "Y = Rain.loc[Rain['Sta']==0, 'Rain'].values\n",
    "\n",
    "plt.plot(X,Y)\n",
    "plt.show()"
   ]
  },
  {
   "cell_type": "markdown",
   "metadata": {},
   "source": [
    "## Exploratory Analysis"
   ]
  },
  {
   "cell_type": "code",
   "execution_count": null,
   "metadata": {},
   "outputs": [],
   "source": [
    "#path_file=r\"daniel...\\Data\\CleanDatasets3 - Merged\""
   ]
  },
  {
   "cell_type": "code",
   "execution_count": 56,
   "metadata": {},
   "outputs": [],
   "source": [
    "path_file=r\"C:\\Users\\Josue Florez\\Documents\\Maria Angelica\\Proyectos\\Proyecto_bootcamp\\Data\\CleanDatasets3 - Merged\\rain_version2.parquet\""
   ]
  },
  {
   "cell_type": "code",
   "execution_count": 57,
   "metadata": {},
   "outputs": [],
   "source": [
    "df_rain=pd.read_parquet(path_file)"
   ]
  },
  {
   "cell_type": "code",
   "execution_count": 58,
   "metadata": {},
   "outputs": [
    {
     "data": {
      "text/plain": [
       "(195086136, 5)"
      ]
     },
     "execution_count": 58,
     "metadata": {},
     "output_type": "execute_result"
    }
   ],
   "source": [
    "df_rain.shape"
   ]
  },
  {
   "cell_type": "code",
   "execution_count": 59,
   "metadata": {},
   "outputs": [
    {
     "data": {
      "text/html": [
       "<div>\n",
       "<style scoped>\n",
       "    .dataframe tbody tr th:only-of-type {\n",
       "        vertical-align: middle;\n",
       "    }\n",
       "\n",
       "    .dataframe tbody tr th {\n",
       "        vertical-align: top;\n",
       "    }\n",
       "\n",
       "    .dataframe thead th {\n",
       "        text-align: right;\n",
       "    }\n",
       "</style>\n",
       "<table border=\"1\" class=\"dataframe\">\n",
       "  <thead>\n",
       "    <tr style=\"text-align: right;\">\n",
       "      <th></th>\n",
       "      <th>Sta</th>\n",
       "      <th>CodSen</th>\n",
       "      <th>Date</th>\n",
       "      <th>Rain</th>\n",
       "      <th>Date_diff</th>\n",
       "    </tr>\n",
       "  </thead>\n",
       "  <tbody>\n",
       "    <tr>\n",
       "      <th>0</th>\n",
       "      <td>0</td>\n",
       "      <td>0</td>\n",
       "      <td>2018-05-04 12:00:00</td>\n",
       "      <td>0</td>\n",
       "      <td>NaT</td>\n",
       "    </tr>\n",
       "    <tr>\n",
       "      <th>1</th>\n",
       "      <td>0</td>\n",
       "      <td>0</td>\n",
       "      <td>2018-05-04 12:10:00</td>\n",
       "      <td>0</td>\n",
       "      <td>0 days 00:10:00</td>\n",
       "    </tr>\n",
       "    <tr>\n",
       "      <th>2</th>\n",
       "      <td>0</td>\n",
       "      <td>0</td>\n",
       "      <td>2018-05-04 12:20:00</td>\n",
       "      <td>0</td>\n",
       "      <td>0 days 00:10:00</td>\n",
       "    </tr>\n",
       "    <tr>\n",
       "      <th>3</th>\n",
       "      <td>0</td>\n",
       "      <td>0</td>\n",
       "      <td>2018-05-04 12:30:00</td>\n",
       "      <td>0</td>\n",
       "      <td>0 days 00:10:00</td>\n",
       "    </tr>\n",
       "    <tr>\n",
       "      <th>4</th>\n",
       "      <td>0</td>\n",
       "      <td>0</td>\n",
       "      <td>2018-05-04 12:40:00</td>\n",
       "      <td>0</td>\n",
       "      <td>0 days 00:10:00</td>\n",
       "    </tr>\n",
       "  </tbody>\n",
       "</table>\n",
       "</div>"
      ],
      "text/plain": [
       "   Sta  CodSen                Date  Rain       Date_diff\n",
       "0    0       0 2018-05-04 12:00:00     0             NaT\n",
       "1    0       0 2018-05-04 12:10:00     0 0 days 00:10:00\n",
       "2    0       0 2018-05-04 12:20:00     0 0 days 00:10:00\n",
       "3    0       0 2018-05-04 12:30:00     0 0 days 00:10:00\n",
       "4    0       0 2018-05-04 12:40:00     0 0 days 00:10:00"
      ]
     },
     "execution_count": 59,
     "metadata": {},
     "output_type": "execute_result"
    }
   ],
   "source": [
    "df_rain.head()"
   ]
  },
  {
   "cell_type": "code",
   "execution_count": 60,
   "metadata": {},
   "outputs": [
    {
     "name": "stdout",
     "output_type": "stream",
     "text": [
      "<class 'pandas.core.frame.DataFrame'>\n",
      "RangeIndex: 195086136 entries, 0 to 195086135\n",
      "Data columns (total 5 columns):\n",
      " #   Column     Dtype          \n",
      "---  ------     -----          \n",
      " 0   Sta        uint16         \n",
      " 1   CodSen     uint8          \n",
      " 2   Date       datetime64[ns] \n",
      " 3   Rain       uint16         \n",
      " 4   Date_diff  timedelta64[ns]\n",
      "dtypes: datetime64[ns](1), timedelta64[ns](1), uint16(2), uint8(1)\n",
      "memory usage: 3.8 GB\n"
     ]
    }
   ],
   "source": [
    "df_rain.info()"
   ]
  },
  {
   "cell_type": "code",
   "execution_count": 61,
   "metadata": {},
   "outputs": [
    {
     "data": {
      "text/plain": [
       "Sta            0\n",
       "CodSen         0\n",
       "Date           0\n",
       "Rain           0\n",
       "Date_diff    894\n",
       "dtype: int64"
      ]
     },
     "execution_count": 61,
     "metadata": {},
     "output_type": "execute_result"
    }
   ],
   "source": [
    "df_rain.isna().sum()"
   ]
  },
  {
   "cell_type": "code",
   "execution_count": 62,
   "metadata": {},
   "outputs": [
    {
     "data": {
      "text/plain": [
       "0"
      ]
     },
     "execution_count": 62,
     "metadata": {},
     "output_type": "execute_result"
    }
   ],
   "source": [
    "df_rain.duplicated().sum()\n"
   ]
  },
  {
   "cell_type": "code",
   "execution_count": 66,
   "metadata": {},
   "outputs": [
    {
     "data": {
      "text/html": [
       "<div>\n",
       "<style scoped>\n",
       "    .dataframe tbody tr th:only-of-type {\n",
       "        vertical-align: middle;\n",
       "    }\n",
       "\n",
       "    .dataframe tbody tr th {\n",
       "        vertical-align: top;\n",
       "    }\n",
       "\n",
       "    .dataframe thead th {\n",
       "        text-align: right;\n",
       "    }\n",
       "</style>\n",
       "<table border=\"1\" class=\"dataframe\">\n",
       "  <thead>\n",
       "    <tr style=\"text-align: right;\">\n",
       "      <th></th>\n",
       "      <th>Sta</th>\n",
       "      <th>CodSen</th>\n",
       "      <th>Date</th>\n",
       "      <th>Rain</th>\n",
       "      <th>Date_diff</th>\n",
       "    </tr>\n",
       "  </thead>\n",
       "  <tbody>\n",
       "    <tr>\n",
       "      <th>count</th>\n",
       "      <td>1.950861e+08</td>\n",
       "      <td>1.950861e+08</td>\n",
       "      <td>195086136</td>\n",
       "      <td>1.950861e+08</td>\n",
       "      <td>195085242</td>\n",
       "    </tr>\n",
       "    <tr>\n",
       "      <th>mean</th>\n",
       "      <td>3.841859e+02</td>\n",
       "      <td>2.106316e-02</td>\n",
       "      <td>2018-07-21 10:11:31.141516544</td>\n",
       "      <td>6.472265e+01</td>\n",
       "      <td>0 days 00:13:51.546570134</td>\n",
       "    </tr>\n",
       "    <tr>\n",
       "      <th>min</th>\n",
       "      <td>0.000000e+00</td>\n",
       "      <td>0.000000e+00</td>\n",
       "      <td>2003-01-20 15:20:00</td>\n",
       "      <td>0.000000e+00</td>\n",
       "      <td>0 days 00:00:00</td>\n",
       "    </tr>\n",
       "    <tr>\n",
       "      <th>25%</th>\n",
       "      <td>1.810000e+02</td>\n",
       "      <td>0.000000e+00</td>\n",
       "      <td>2017-03-09 20:30:00</td>\n",
       "      <td>0.000000e+00</td>\n",
       "      <td>0 days 00:05:00</td>\n",
       "    </tr>\n",
       "    <tr>\n",
       "      <th>50%</th>\n",
       "      <td>3.550000e+02</td>\n",
       "      <td>0.000000e+00</td>\n",
       "      <td>2019-06-21 04:40:00</td>\n",
       "      <td>0.000000e+00</td>\n",
       "      <td>0 days 00:10:00</td>\n",
       "    </tr>\n",
       "    <tr>\n",
       "      <th>75%</th>\n",
       "      <td>5.740000e+02</td>\n",
       "      <td>0.000000e+00</td>\n",
       "      <td>2021-05-20 02:00:00</td>\n",
       "      <td>0.000000e+00</td>\n",
       "      <td>0 days 00:10:00</td>\n",
       "    </tr>\n",
       "    <tr>\n",
       "      <th>max</th>\n",
       "      <td>8.930000e+02</td>\n",
       "      <td>1.000000e+00</td>\n",
       "      <td>2024-10-15 23:59:00</td>\n",
       "      <td>3.000000e+04</td>\n",
       "      <td>3550 days 12:40:00</td>\n",
       "    </tr>\n",
       "    <tr>\n",
       "      <th>std</th>\n",
       "      <td>2.465342e+02</td>\n",
       "      <td>1.435949e-01</td>\n",
       "      <td>NaN</td>\n",
       "      <td>9.046858e+02</td>\n",
       "      <td>1 days 10:00:22.529344626</td>\n",
       "    </tr>\n",
       "  </tbody>\n",
       "</table>\n",
       "</div>"
      ],
      "text/plain": [
       "                Sta        CodSen                           Date  \\\n",
       "count  1.950861e+08  1.950861e+08                      195086136   \n",
       "mean   3.841859e+02  2.106316e-02  2018-07-21 10:11:31.141516544   \n",
       "min    0.000000e+00  0.000000e+00            2003-01-20 15:20:00   \n",
       "25%    1.810000e+02  0.000000e+00            2017-03-09 20:30:00   \n",
       "50%    3.550000e+02  0.000000e+00            2019-06-21 04:40:00   \n",
       "75%    5.740000e+02  0.000000e+00            2021-05-20 02:00:00   \n",
       "max    8.930000e+02  1.000000e+00            2024-10-15 23:59:00   \n",
       "std    2.465342e+02  1.435949e-01                            NaN   \n",
       "\n",
       "               Rain                  Date_diff  \n",
       "count  1.950861e+08                  195085242  \n",
       "mean   6.472265e+01  0 days 00:13:51.546570134  \n",
       "min    0.000000e+00            0 days 00:00:00  \n",
       "25%    0.000000e+00            0 days 00:05:00  \n",
       "50%    0.000000e+00            0 days 00:10:00  \n",
       "75%    0.000000e+00            0 days 00:10:00  \n",
       "max    3.000000e+04         3550 days 12:40:00  \n",
       "std    9.046858e+02  1 days 10:00:22.529344626  "
      ]
     },
     "execution_count": 66,
     "metadata": {},
     "output_type": "execute_result"
    }
   ],
   "source": [
    "df_rain.describe()"
   ]
  },
  {
   "cell_type": "code",
   "execution_count": 68,
   "metadata": {},
   "outputs": [
    {
     "name": "stdout",
     "output_type": "stream",
     "text": [
      "Sta\n",
      "46     1615607\n",
      "868    1598383\n",
      "221     887155\n",
      "752     872017\n",
      "215     804195\n",
      "        ...   \n",
      "870         30\n",
      "493          8\n",
      "500          4\n",
      "254          4\n",
      "552          2\n",
      "Name: count, Length: 894, dtype: int64\n"
     ]
    }
   ],
   "source": [
    "frecuencia_Sta=df_rain[\"Sta\"].value_counts()\n",
    "print(frecuencia_Sta)"
   ]
  },
  {
   "cell_type": "code",
   "execution_count": 69,
   "metadata": {},
   "outputs": [
    {
     "name": "stdout",
     "output_type": "stream",
     "text": [
      "Rain\n",
      "0       185238493\n",
      "100       3481414\n",
      "200       1673949\n",
      "300        656582\n",
      "400        599037\n",
      "          ...    \n",
      "6641            1\n",
      "4427            1\n",
      "7423            1\n",
      "4227            1\n",
      "4483            1\n",
      "Name: count, Length: 8945, dtype: int64\n"
     ]
    }
   ],
   "source": [
    "frecuencia_rain=df_rain[\"Rain\"].value_counts()\n",
    "print(frecuencia_rain)"
   ]
  },
  {
   "cell_type": "code",
   "execution_count": 70,
   "metadata": {},
   "outputs": [
    {
     "name": "stdout",
     "output_type": "stream",
     "text": [
      "Date\n",
      "2019-09-02 10:00:00    587\n",
      "2019-09-02 11:00:00    587\n",
      "2019-08-30 13:00:00    586\n",
      "2019-09-03 13:00:00    585\n",
      "2019-09-02 12:00:00    585\n",
      "                      ... \n",
      "2011-09-16 22:11:00      1\n",
      "2011-09-16 22:01:00      1\n",
      "2011-09-16 21:51:00      1\n",
      "2011-09-16 21:41:00      1\n",
      "2021-03-02 17:51:00      1\n",
      "Name: count, Length: 4773511, dtype: int64\n"
     ]
    }
   ],
   "source": [
    "frecuencia_date=df_rain[\"Date\"].value_counts()\n",
    "print(frecuencia_date)"
   ]
  }
 ],
 "metadata": {
  "kernelspec": {
   "display_name": "base",
   "language": "python",
   "name": "python3"
  },
  "language_info": {
   "codemirror_mode": {
    "name": "ipython",
    "version": 3
   },
   "file_extension": ".py",
   "mimetype": "text/x-python",
   "name": "python",
   "nbconvert_exporter": "python",
   "pygments_lexer": "ipython3",
   "version": "3.12.4"
  }
 },
 "nbformat": 4,
 "nbformat_minor": 2
}
